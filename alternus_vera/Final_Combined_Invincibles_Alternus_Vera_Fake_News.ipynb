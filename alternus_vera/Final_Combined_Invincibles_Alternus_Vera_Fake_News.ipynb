{
  "nbformat": 4,
  "nbformat_minor": 0,
  "metadata": {
    "colab": {
      "name": "Final Combined Invincibles_Alternus_Vera_Fake_News.ipynb",
      "provenance": [],
      "collapsed_sections": [],
      "include_colab_link": true
    },
    "kernelspec": {
      "name": "python3",
      "display_name": "Python 3"
    },
    "accelerator": "TPU"
  },
  "cells": [
    {
      "cell_type": "markdown",
      "metadata": {
        "id": "view-in-github",
        "colab_type": "text"
      },
      "source": [
        "<a href=\"https://colab.research.google.com/github/mal258/machinelearning258/blob/master/alternus_vera/Final_Combined_Invincibles_Alternus_Vera_Fake_News.ipynb\" target=\"_parent\"><img src=\"https://colab.research.google.com/assets/colab-badge.svg\" alt=\"Open In Colab\"/></a>"
      ]
    },
    {
      "cell_type": "markdown",
      "metadata": {
        "id": "OC6gRb9ppt5u",
        "colab_type": "text"
      },
      "source": [
        "# Alternus Vera \n",
        "\n",
        "Course code : **CMPE-257** \n",
        "    \n",
        "Group name : **Invincibles**\n",
        "    \n",
        "Name: \n",
        "\n",
        "**Shailesha Prasad Maganahalli**<br>\n",
        "**Atul Shah**<br>\n",
        "**Srilalitha Veerubhotla**<br>\n",
        "**Shreyus Puthiyapurail**<br>\n",
        "\n",
        "\n",
        "-----\n",
        "\n",
        "GitHub URL:\n",
        "\n",
        "Notebook: https://github.com/mal258/machinelearning258/tree/master/alternus_vera\n",
        "\n",
        "Dataset:\n",
        "\n",
        "\n",
        " 1. Liar-Liar dataset <br>\n",
        " (https://drive.google.com/open?id=1y3yYF5HHPhH7SyaPwPU9H5HApJzevsFK)\n",
        " 2. Google News corpus word2vec <br>\n",
        "(https://s3.amazonaws.com/dl4j-distribution/GoogleNews-vectors-negative300.bin.gz)\n",
        " 3. Fake News dataset <br>(https://www.kaggle.com/manasvik/spam-check/data)\n",
        "\n",
        "\n",
        "### Liar Liar Pants on Fire Dataset Description \n",
        "- It has 3 files test, training and valid.\n",
        "- Each file has 14 columns\n",
        "    \n",
        "    Column 1: the ID of the statement ([ID].json).\n",
        "    \n",
        "    Column 2: the label.\n",
        "    \n",
        "    Column 3: the statement.\n",
        "    \n",
        "    Column 4: the subject(s).\n",
        "    \n",
        "    Column 5: the speaker.\n",
        "    \n",
        "    Column 6: the speaker's job title.\n",
        "    \n",
        "    Column 7: the state info.\n",
        "    \n",
        "    Column 8: the party affiliation.\n",
        "    \n",
        "    Column 9-13: the total credit history count, including the current statement.\n",
        "    \n",
        "    Column 14: the context (venue / location of the speech or statement).\n",
        "\n",
        "\n",
        "    \n",
        "\n",
        "### Process of our Approach \n",
        "- Load the Data\n",
        "- Distillation Process\n",
        "    - Data Cleaning and Text Preprocessing\n",
        "    - Visualization\n",
        "- **Feature 1 :** Social Credibility\n",
        "- **Feature 2 :** Credibility-and-Reliability\n",
        "- **Feature 3 :** Naive Realism\n",
        "- **Feature 4 :** Biases\n",
        "\n",
        "- Ranking and Importance\n",
        "- Merge all features and individual contributions\n",
        "- Form Polynomial Equation \n",
        "    \n",
        "\n",
        "### Feature Selection\n",
        "\n",
        "\n",
        "### Team Contributions:\n",
        "\n",
        "|Features  |  Member |\n",
        "|-----|-----|\n",
        "| Credibility-and-Reliability                         |  Shailesha Prasad Maganahalli |  \n",
        "| Biases                |  Atul Shah | \n",
        "| Social Credibility                   | Shreyus Puthiyapurail   |   \n",
        "| Naive Realism                             | Srilalitha Veerubhotla |\n",
        "\n",
        " \n",
        "#### Enrichment Dataset Details\n",
        "\n",
        "- SenticNet5 sensational words corpus\n",
        "- Google News 3million words corpus for spell check\n",
        "- Sensational Words Dictionary \n",
        "- PoliticalFact Fake news and Real News Content \n",
        "- Clickbait and non_clickbait datasets\n",
        "- Spam Dictionary \n",
        "\n",
        "#### Libraries Used \n",
        "\n",
        "- NLTK \n",
        "- Gensim \n",
        "- Numpy\n",
        "- Pandas\n",
        "- CSV\n",
        "- WordCloud\n",
        "- Seaborn\n",
        "- Scipy\n",
        "- Regualr Expression\n",
        "- Matplotlib\n",
        "- Sklearn \n",
        "\n",
        "\n",
        "#### What did we try and what worked? \n",
        "\n",
        "> We imported the following 3 datasets:\n",
        "> 1. Liar-Liar dataset <br>\n",
        " (https://drive.google.com/open?id=1y3yYF5HHPhH7SyaPwPU9H5HApJzevsFK)\n",
        ">2.For preprocessing and spellcheck, we used: Google News corpus word2vec <br>\n",
        "(https://s3.amazonaws.com/dl4j-distribution/GoogleNews-vectors-negative300.bin.gz)\n",
        "> 3. Fake News dataset <br>(https://www.kaggle.com/manasvik/spam-check/data)\n",
        "\n",
        ">We narrowed down to following features:\n",
        "\n",
        "- **Feature 1 :** Social Credibility \n",
        "- **Feature 2 :** Credibility and Realiability\n",
        "- **Feature 3 :** Naive Realism\n",
        "- **Feature 4 :** Biases\n",
        "\n",
        ">Basic NLTK preprocessing and Visualizations are completed.\n",
        "\n",
        "#### What did not work?\n",
        "\n",
        "> Google word2vec spellchecker timeout: (3 billion running words) to word vector model (3 million 300-dimension English word vectors).\n",
        "\n",
        "#### What alternatives did you try?\n",
        "\n",
        "> We tried to upgrade to GPU, and restart the kernel.\n",
        "> We also explored alternate corpus to do pre-processing.\n",
        "\n",
        "#### Pending items\n",
        "\n",
        "> Combined model\n",
        "\n"
      ]
    },
    {
      "cell_type": "code",
      "metadata": {
        "id": "WjkoezKd1C_C",
        "colab_type": "code",
        "outputId": "4159bb69-463d-4b74-fea4-0c3a0917b3de",
        "colab": {
          "base_uri": "https://localhost:8080/",
          "height": 321
        }
      },
      "source": [
        "import pandas as pd\n",
        "import numpy as np\n",
        "import csv\n",
        "import gensim\n",
        "import seaborn as sns\n",
        "import pandas as pd\n",
        "import numpy as np\n",
        "import nltk\n",
        "import re\n",
        "import nltk\n",
        "import matplotlib.pyplot as plt\n",
        "import requests\n",
        "import re\n",
        "import nltk\n",
        "import time\n",
        "import matplotlib.pyplot as plt\n",
        "import seaborn as sns\n",
        "import plotly.figure_factory as ff\n",
        "from plotly.offline import *\n",
        "import plotly\n",
        "import io\n",
        "from imblearn.over_sampling import SMOTE\n",
        "\n",
        "from sklearn.feature_extraction.text import TfidfVectorizer\n",
        "from sklearn.feature_extraction.text import CountVectorizer\n",
        "from sklearn.model_selection import train_test_split\n",
        "from sklearn.linear_model import LogisticRegression\n",
        "from sklearn.metrics import classification_report\n",
        "from sklearn.preprocessing import StandardScaler\n",
        "from nltk.stem.wordnet import WordNetLemmatizer\n",
        "from sklearn.model_selection import GridSearchCV\n",
        "from sklearn.metrics import confusion_matrix\n",
        "from nltk.stem.porter import PorterStemmer\n",
        "from sklearn import metrics\n",
        "from sklearn.metrics import roc_auc_score\n",
        "from sklearn.metrics import roc_curve\n",
        "from sklearn.pipeline import Pipeline\n",
        "from nltk.corpus import stopwords\n",
        "from string import punctuation\n",
        "from scipy import sparse\n",
        "from wordcloud import WordCloud, STOPWORDS\n",
        "from scipy import stats\n",
        "%matplotlib inline\n",
        "\n",
        "from sklearn.pipeline import Pipeline\n",
        "from sklearn.feature_extraction.text import TfidfTransformer\n",
        "from sklearn.svm import LinearSVC\n",
        "from sklearn.naive_bayes import GaussianNB\n",
        "from sklearn.naive_bayes import BernoulliNB\n",
        "from sklearn.naive_bayes import MultinomialNB\n",
        "from sklearn.ensemble import GradientBoostingClassifier\n",
        "from sklearn.tree import DecisionTreeClassifier\n",
        "from sklearn.neighbors import KNeighborsClassifier\n",
        "from xgboost import XGBClassifier\n",
        "from sklearn.linear_model import SGDClassifier\n",
        "from sklearn.ensemble import RandomForestClassifier\n",
        "\n",
        "\n",
        "nltk.download('stopwords')\n",
        "nltk.download('averaged_perceptron_tagger')"
      ],
      "execution_count": 1,
      "outputs": [
        {
          "output_type": "stream",
          "text": [
            "/usr/local/lib/python3.6/dist-packages/statsmodels/tools/_testing.py:19: FutureWarning: pandas.util.testing is deprecated. Use the functions in the public API at pandas.testing instead.\n",
            "  import pandas.util.testing as tm\n",
            "/usr/local/lib/python3.6/dist-packages/sklearn/externals/six.py:31: FutureWarning:\n",
            "\n",
            "The module is deprecated in version 0.21 and will be removed in version 0.23 since we've dropped support for Python 2.7. Please rely on the official version of six (https://pypi.org/project/six/).\n",
            "\n",
            "/usr/local/lib/python3.6/dist-packages/sklearn/utils/deprecation.py:144: FutureWarning:\n",
            "\n",
            "The sklearn.neighbors.base module is  deprecated in version 0.22 and will be removed in version 0.24. The corresponding classes / functions should instead be imported from sklearn.neighbors. Anything that cannot be imported from sklearn.neighbors is now part of the private API.\n",
            "\n"
          ],
          "name": "stderr"
        },
        {
          "output_type": "stream",
          "text": [
            "[nltk_data] Downloading package stopwords to /root/nltk_data...\n",
            "[nltk_data]   Unzipping corpora/stopwords.zip.\n",
            "[nltk_data] Downloading package averaged_perceptron_tagger to\n",
            "[nltk_data]     /root/nltk_data...\n",
            "[nltk_data]   Unzipping taggers/averaged_perceptron_tagger.zip.\n"
          ],
          "name": "stdout"
        },
        {
          "output_type": "execute_result",
          "data": {
            "text/plain": [
              "True"
            ]
          },
          "metadata": {
            "tags": []
          },
          "execution_count": 1
        }
      ]
    },
    {
      "cell_type": "code",
      "metadata": {
        "id": "r1hnwpYIiwjj",
        "colab_type": "code",
        "colab": {}
      },
      "source": [
        "from sklearn.metrics import accuracy_score\n",
        "from sklearn.metrics import f1_score, confusion_matrix\n",
        "\n"
      ],
      "execution_count": 0,
      "outputs": []
    },
    {
      "cell_type": "markdown",
      "metadata": {
        "id": "Kl-fegubsrPK",
        "colab_type": "text"
      },
      "source": [
        "# **DATA IMPORTING**"
      ]
    },
    {
      "cell_type": "code",
      "metadata": {
        "id": "YJTM4KYxaPB_",
        "colab_type": "code",
        "colab": {}
      },
      "source": [
        "# Kaggle Fake news dataset\n",
        "url=\"https://raw.githubusercontent.com/mal258/machinelearning258/master/datasets/politifact/fake.csv\"\n",
        "url1=\"https://raw.githubusercontent.com/mal258/machinelearning258/master/datasets/politifact/true.csv\"\n",
        "file=requests.get(url).content\n",
        "fake_news=pd.read_csv(io.StringIO(file.decode('utf-8')),sep=',')\n",
        "file1=requests.get(url1).content\n",
        "real_news=pd.read_csv(io.StringIO(file1.decode('utf-8')),sep=',')\n"
      ],
      "execution_count": 0,
      "outputs": []
    },
    {
      "cell_type": "code",
      "metadata": {
        "id": "aXXIFQPsOMs8",
        "colab_type": "code",
        "outputId": "180470a8-c411-4eab-e541-79e6bd9b03b4",
        "colab": {
          "base_uri": "https://localhost:8080/",
          "height": 52
        }
      },
      "source": [
        "print(fake_news.shape)\n",
        "print(real_news.shape)"
      ],
      "execution_count": 4,
      "outputs": [
        {
          "output_type": "stream",
          "text": [
            "(12999, 20)\n",
            "(0, 1)\n"
          ],
          "name": "stdout"
        }
      ]
    },
    {
      "cell_type": "code",
      "metadata": {
        "id": "BCd2jPVq1DD8",
        "colab_type": "code",
        "outputId": "26ad3634-9412-4878-c4f2-4408d9c06e15",
        "colab": {
          "base_uri": "https://localhost:8080/",
          "height": 312
        }
      },
      "source": [
        "# print the topics being addressed here\n",
        "fake_news['type'].value_counts().plot(kind=\"bar\")\n",
        "plt.show()"
      ],
      "execution_count": 5,
      "outputs": [
        {
          "output_type": "display_data",
          "data": {
            "image/png": "[encoded data removed]",
            "text/plain": [
              "<Figure size 432x288 with 1 Axes>"
            ]
          },
          "metadata": {
            "tags": [],
            "needs_background": "light"
          }
        }
      ]
    },
    {
      "cell_type": "code",
      "metadata": {
        "id": "aq5LU83S1DGU",
        "colab_type": "code",
        "outputId": "aebee552-5b9d-4bd5-9f0f-2e772509ecd4",
        "colab": {
          "base_uri": "https://localhost:8080/",
          "height": 764
        }
      },
      "source": [
        "print(fake_news.describe())\n",
        "fake_news.head()"
      ],
      "execution_count": 6,
      "outputs": [
        {
          "output_type": "stream",
          "text": [
            "       ord_in_thread   domain_rank  ...      comments        shares\n",
            "count   12999.000000   8776.000000  ...  12999.000000  12999.000000\n",
            "mean        0.891530  38092.996582  ...      0.038311     10.831833\n",
            "std         6.486822  26825.487454  ...      0.827335     79.798949\n",
            "min         0.000000    486.000000  ...      0.000000      0.000000\n",
            "25%         0.000000  17423.000000  ...      0.000000      0.000000\n",
            "50%         0.000000  34478.000000  ...      0.000000      0.000000\n",
            "75%         0.000000  60570.000000  ...      0.000000      0.000000\n",
            "max       100.000000  98679.000000  ...     65.000000    988.000000\n",
            "\n",
            "[8 rows x 8 columns]\n"
          ],
          "name": "stdout"
        },
        {
          "output_type": "execute_result",
          "data": {
            "text/html": [
              "<div>\n",
              "<style scoped>\n",
              "    .dataframe tbody tr th:only-of-type {\n",
              "        vertical-align: middle;\n",
              "    }\n",
              "\n",
              "    .dataframe tbody tr th {\n",
              "        vertical-align: top;\n",
              "    }\n",
              "\n",
              "    .dataframe thead th {\n",
              "        text-align: right;\n",
              "    }\n",
              "</style>\n",
              "<table border=\"1\" class=\"dataframe\">\n",
              "  <thead>\n",
              "    <tr style=\"text-align: right;\">\n",
              "      <th></th>\n",
              "      <th>uuid</th>\n",
              "      <th>ord_in_thread</th>\n",
              "      <th>author</th>\n",
              "      <th>published</th>\n",
              "      <th>title</th>\n",
              "      <th>text</th>\n",
              "      <th>language</th>\n",
              "      <th>crawled</th>\n",
              "      <th>site_url</th>\n",
              "      <th>country</th>\n",
              "      <th>domain_rank</th>\n",
              "      <th>thread_title</th>\n",
              "      <th>spam_score</th>\n",
              "      <th>main_img_url</th>\n",
              "      <th>replies_count</th>\n",
              "      <th>participants_count</th>\n",
              "      <th>likes</th>\n",
              "      <th>comments</th>\n",
              "      <th>shares</th>\n",
              "      <th>type</th>\n",
              "    </tr>\n",
              "  </thead>\n",
              "  <tbody>\n",
              "    <tr>\n",
              "      <th>0</th>\n",
              "      <td>6a175f46bcd24d39b3e962ad0f29936721db70db</td>\n",
              "      <td>0</td>\n",
              "      <td>Barracuda Brigade</td>\n",
              "      <td>2016-10-26T21:41:00.000+03:00</td>\n",
              "      <td>Muslims BUSTED: They Stole Millions In Gov’t B...</td>\n",
              "      <td>Print They should pay all the back all the mon...</td>\n",
              "      <td>english</td>\n",
              "      <td>2016-10-27T01:49:27.168+03:00</td>\n",
              "      <td>100percentfedup.com</td>\n",
              "      <td>US</td>\n",
              "      <td>25689.0</td>\n",
              "      <td>Muslims BUSTED: They Stole Millions In Gov’t B...</td>\n",
              "      <td>0.000</td>\n",
              "      <td>http://bb4sp.com/wp-content/uploads/2016/10/Fu...</td>\n",
              "      <td>0</td>\n",
              "      <td>1</td>\n",
              "      <td>0</td>\n",
              "      <td>0</td>\n",
              "      <td>0</td>\n",
              "      <td>bias</td>\n",
              "    </tr>\n",
              "    <tr>\n",
              "      <th>1</th>\n",
              "      <td>2bdc29d12605ef9cf3f09f9875040a7113be5d5b</td>\n",
              "      <td>0</td>\n",
              "      <td>reasoning with facts</td>\n",
              "      <td>2016-10-29T08:47:11.259+03:00</td>\n",
              "      <td>Re: Why Did Attorney General Loretta Lynch Ple...</td>\n",
              "      <td>Why Did Attorney General Loretta Lynch Plead T...</td>\n",
              "      <td>english</td>\n",
              "      <td>2016-10-29T08:47:11.259+03:00</td>\n",
              "      <td>100percentfedup.com</td>\n",
              "      <td>US</td>\n",
              "      <td>25689.0</td>\n",
              "      <td>Re: Why Did Attorney General Loretta Lynch Ple...</td>\n",
              "      <td>0.000</td>\n",
              "      <td>http://bb4sp.com/wp-content/uploads/2016/10/Fu...</td>\n",
              "      <td>0</td>\n",
              "      <td>1</td>\n",
              "      <td>0</td>\n",
              "      <td>0</td>\n",
              "      <td>0</td>\n",
              "      <td>bias</td>\n",
              "    </tr>\n",
              "    <tr>\n",
              "      <th>2</th>\n",
              "      <td>c70e149fdd53de5e61c29281100b9de0ed268bc3</td>\n",
              "      <td>0</td>\n",
              "      <td>Barracuda Brigade</td>\n",
              "      <td>2016-10-31T01:41:49.479+02:00</td>\n",
              "      <td>BREAKING: Weiner Cooperating With FBI On Hilla...</td>\n",
              "      <td>Red State : \\nFox News Sunday reported this mo...</td>\n",
              "      <td>english</td>\n",
              "      <td>2016-10-31T01:41:49.479+02:00</td>\n",
              "      <td>100percentfedup.com</td>\n",
              "      <td>US</td>\n",
              "      <td>25689.0</td>\n",
              "      <td>BREAKING: Weiner Cooperating With FBI On Hilla...</td>\n",
              "      <td>0.000</td>\n",
              "      <td>http://bb4sp.com/wp-content/uploads/2016/10/Fu...</td>\n",
              "      <td>0</td>\n",
              "      <td>1</td>\n",
              "      <td>0</td>\n",
              "      <td>0</td>\n",
              "      <td>0</td>\n",
              "      <td>bias</td>\n",
              "    </tr>\n",
              "    <tr>\n",
              "      <th>3</th>\n",
              "      <td>7cf7c15731ac2a116dd7f629bd57ea468ed70284</td>\n",
              "      <td>0</td>\n",
              "      <td>Fed Up</td>\n",
              "      <td>2016-11-01T05:22:00.000+02:00</td>\n",
              "      <td>PIN DROP SPEECH BY FATHER OF DAUGHTER Kidnappe...</td>\n",
              "      <td>Email Kayla Mueller was a prisoner and torture...</td>\n",
              "      <td>english</td>\n",
              "      <td>2016-11-01T15:46:26.304+02:00</td>\n",
              "      <td>100percentfedup.com</td>\n",
              "      <td>US</td>\n",
              "      <td>25689.0</td>\n",
              "      <td>PIN DROP SPEECH BY FATHER OF DAUGHTER Kidnappe...</td>\n",
              "      <td>0.068</td>\n",
              "      <td>http://100percentfedup.com/wp-content/uploads/...</td>\n",
              "      <td>0</td>\n",
              "      <td>0</td>\n",
              "      <td>0</td>\n",
              "      <td>0</td>\n",
              "      <td>0</td>\n",
              "      <td>bias</td>\n",
              "    </tr>\n",
              "    <tr>\n",
              "      <th>4</th>\n",
              "      <td>0206b54719c7e241ffe0ad4315b808290dbe6c0f</td>\n",
              "      <td>0</td>\n",
              "      <td>Fed Up</td>\n",
              "      <td>2016-11-01T21:56:00.000+02:00</td>\n",
              "      <td>FANTASTIC! TRUMP'S 7 POINT PLAN To Reform Heal...</td>\n",
              "      <td>Email HEALTHCARE REFORM TO MAKE AMERICA GREAT ...</td>\n",
              "      <td>english</td>\n",
              "      <td>2016-11-01T23:59:42.266+02:00</td>\n",
              "      <td>100percentfedup.com</td>\n",
              "      <td>US</td>\n",
              "      <td>25689.0</td>\n",
              "      <td>FANTASTIC! TRUMP'S 7 POINT PLAN To Reform Heal...</td>\n",
              "      <td>0.865</td>\n",
              "      <td>http://100percentfedup.com/wp-content/uploads/...</td>\n",
              "      <td>0</td>\n",
              "      <td>0</td>\n",
              "      <td>0</td>\n",
              "      <td>0</td>\n",
              "      <td>0</td>\n",
              "      <td>bias</td>\n",
              "    </tr>\n",
              "  </tbody>\n",
              "</table>\n",
              "</div>"
            ],
            "text/plain": [
              "                                       uuid  ord_in_thread  ... shares  type\n",
              "0  6a175f46bcd24d39b3e962ad0f29936721db70db              0  ...      0  bias\n",
              "1  2bdc29d12605ef9cf3f09f9875040a7113be5d5b              0  ...      0  bias\n",
              "2  c70e149fdd53de5e61c29281100b9de0ed268bc3              0  ...      0  bias\n",
              "3  7cf7c15731ac2a116dd7f629bd57ea468ed70284              0  ...      0  bias\n",
              "4  0206b54719c7e241ffe0ad4315b808290dbe6c0f              0  ...      0  bias\n",
              "\n",
              "[5 rows x 20 columns]"
            ]
          },
          "metadata": {
            "tags": []
          },
          "execution_count": 6
        }
      ]
    },
    {
      "cell_type": "markdown",
      "metadata": {
        "id": "mGar0agYskm4",
        "colab_type": "text"
      },
      "source": [
        "# **DATA PRE-PROCESSING**"
      ]
    },
    {
      "cell_type": "code",
      "metadata": {
        "id": "BEoYoaM11DIp",
        "colab_type": "code",
        "outputId": "4bce9c92-d773-46fd-eba1-74443a896558",
        "colab": {
          "base_uri": "https://localhost:8080/",
          "height": 179
        }
      },
      "source": [
        "column_names = list(fake_news.columns)\n",
        "print(column_names)\n",
        "for column in column_names:\n",
        "    if fake_news[column].count()<len(fake_news):\n",
        "        print(column,fake_news[column].count())     \n",
        "        \n",
        "fake_news.loc[fake_news['text'].isnull(),'text'] = ''\n",
        "fake_news.loc[fake_news['country'].isnull(),'country'] = 'US' \n",
        "fake_news.loc[fake_news['author'].isnull(),'author'] = fake_news.loc[fake_news['author'].isnull(),'country']\n",
        "fake_news.loc[fake_news['thread_title'].isnull(),'thread_title'] = ''\n",
        "fake_news.loc[fake_news['domain_rank'].isnull(),'domain_rank'] = np.nanmedian(np.array(fake_news['domain_rank'])) "
      ],
      "execution_count": 7,
      "outputs": [
        {
          "output_type": "stream",
          "text": [
            "['uuid', 'ord_in_thread', 'author', 'published', 'title', 'text', 'language', 'crawled', 'site_url', 'country', 'domain_rank', 'thread_title', 'spam_score', 'main_img_url', 'replies_count', 'participants_count', 'likes', 'comments', 'shares', 'type']\n",
            "author 10575\n",
            "title 12319\n",
            "text 12953\n",
            "country 12823\n",
            "domain_rank 8776\n",
            "thread_title 12987\n",
            "main_img_url 9356\n"
          ],
          "name": "stdout"
        }
      ]
    },
    {
      "cell_type": "code",
      "metadata": {
        "id": "cCVV5K0Dafuz",
        "colab_type": "code",
        "colab": {}
      },
      "source": [
        "pstem = PorterStemmer()\n",
        "stop = set(stopwords.words('english'))\n",
        "\n",
        "def stemmer(text):\n",
        "    wordlist = text.strip().split()\n",
        "    pstem = PorterStemmer()\n",
        "    j = '';\n",
        "    for word in wordlist:\n",
        "        try:\n",
        "            j = j+pstem.stem(word)+' '\n",
        "        except: \n",
        "            print(text)\n",
        "    return j\n",
        "\n",
        "fake_news['text_lower'] = fake_news['text'].map(lambda x: re.sub(r'[^a-z ]','',x.lower()))\n",
        "fake_news['text_lower'] = fake_news['text_lower'].map(lambda x: ' '.join([word for word in x.strip().split() if word not in stop ]))\n",
        "fake_news['text_lower'] = fake_news['text_lower'].map(lambda x: stemmer(x))\n",
        "fake_news['thread_lower'] = fake_news['thread_title'].map(lambda x: re.sub(r'[^a-z ]','',x.lower()))\n",
        "fake_news['thread_lower'] = fake_news['thread_lower'].map(lambda x: ' '.join([word for word in x.strip().split() if word not in stop ]))\n",
        "fake_news['thread_lower'] = fake_news['thread_lower'].map(lambda x: ' '.join([pstem.stem(word) for word in x.strip().split()]))\n",
        "fake_news['num_words'] = fake_news['text_lower'].map(lambda x: len(str(x).strip().split()))"
      ],
      "execution_count": 0,
      "outputs": []
    },
    {
      "cell_type": "markdown",
      "metadata": {
        "id": "im9D2YvFsc2m",
        "colab_type": "text"
      },
      "source": [
        "# **TF-IDF && COSINE SIMILARITY**"
      ]
    },
    {
      "cell_type": "code",
      "metadata": {
        "id": "BFXobhe71bPv",
        "colab_type": "code",
        "outputId": "b077f683-c836-40f5-93b6-d65019c315a2",
        "colab": {
          "base_uri": "https://localhost:8080/",
          "height": 177
        }
      },
      "source": [
        "def similarity(t1,t2):\n",
        "    t = [t1,t2]\n",
        "    tfidf_vectorizer = TfidfVectorizer()\n",
        "    try:\n",
        "        vectors = tfidf_vectorizer.fit_transform(t)\n",
        "        vectors = vectors.toarray()\n",
        "        sim = cosine_similarity(vectors[0].reshape(1,-1),vectors[1].reshape(1,-1))[0]\n",
        "    except:\n",
        "        sim = 0\n",
        "    return sim\n",
        "\n",
        "fake_news['similarity'] = [similarity(b['text_lower'],b['thread_lower']) for (a,b) in fake_news.iterrows()]\n",
        "fake_news['similarity'].describe() "
      ],
      "execution_count": 9,
      "outputs": [
        {
          "output_type": "execute_result",
          "data": {
            "text/plain": [
              "count    12999.0\n",
              "mean         0.0\n",
              "std          0.0\n",
              "min          0.0\n",
              "25%          0.0\n",
              "50%          0.0\n",
              "75%          0.0\n",
              "max          0.0\n",
              "Name: similarity, dtype: float64"
            ]
          },
          "metadata": {
            "tags": []
          },
          "execution_count": 9
        }
      ]
    },
    {
      "cell_type": "code",
      "metadata": {
        "id": "4jVwoHCz1eUk",
        "colab_type": "code",
        "outputId": "3d94044c-1b4d-441d-96d8-1799df8e6754",
        "colab": {
          "base_uri": "https://localhost:8080/",
          "height": 177
        }
      },
      "source": [
        "countries = list(fake_news['country'].unique())\n",
        "fake_news['country_number'] = fake_news['country'].map(lambda x: countries.index(x))\n",
        "fake_news['country_number'].describe()"
      ],
      "execution_count": 10,
      "outputs": [
        {
          "output_type": "execute_result",
          "data": {
            "text/plain": [
              "count    12999.000000\n",
              "mean         1.530348\n",
              "std          4.034031\n",
              "min          0.000000\n",
              "25%          0.000000\n",
              "50%          0.000000\n",
              "75%          0.000000\n",
              "max         23.000000\n",
              "Name: country_number, dtype: float64"
            ]
          },
          "metadata": {
            "tags": []
          },
          "execution_count": 10
        }
      ]
    },
    {
      "cell_type": "code",
      "metadata": {
        "id": "kbJnS9UT1g68",
        "colab_type": "code",
        "outputId": "17e80e60-8eb2-40ab-b0d8-8a30bc9d0aea",
        "colab": {
          "base_uri": "https://localhost:8080/",
          "height": 177
        }
      },
      "source": [
        "languages = list(fake_news['language'].unique())\n",
        "fake_news['language_number'] = fake_news['language'].map(lambda x: languages.index(x))\n",
        "fake_news['language_number'].describe()"
      ],
      "execution_count": 11,
      "outputs": [
        {
          "output_type": "execute_result",
          "data": {
            "text/plain": [
              "count    12999.000000\n",
              "mean         0.206170\n",
              "std          1.056325\n",
              "min          0.000000\n",
              "25%          0.000000\n",
              "50%          0.000000\n",
              "75%          0.000000\n",
              "max         15.000000\n",
              "Name: language_number, dtype: float64"
            ]
          },
          "metadata": {
            "tags": []
          },
          "execution_count": 11
        }
      ]
    },
    {
      "cell_type": "code",
      "metadata": {
        "id": "Yg-xj3V-2WiS",
        "colab_type": "code",
        "outputId": "f9bd7d47-5f80-4cf8-b6fc-7aaf76bc86c0",
        "colab": {
          "base_uri": "https://localhost:8080/",
          "height": 510
        }
      },
      "source": [
        "fake_news.head(3)"
      ],
      "execution_count": 12,
      "outputs": [
        {
          "output_type": "execute_result",
          "data": {
            "text/html": [
              "<div>\n",
              "<style scoped>\n",
              "    .dataframe tbody tr th:only-of-type {\n",
              "        vertical-align: middle;\n",
              "    }\n",
              "\n",
              "    .dataframe tbody tr th {\n",
              "        vertical-align: top;\n",
              "    }\n",
              "\n",
              "    .dataframe thead th {\n",
              "        text-align: right;\n",
              "    }\n",
              "</style>\n",
              "<table border=\"1\" class=\"dataframe\">\n",
              "  <thead>\n",
              "    <tr style=\"text-align: right;\">\n",
              "      <th></th>\n",
              "      <th>uuid</th>\n",
              "      <th>ord_in_thread</th>\n",
              "      <th>author</th>\n",
              "      <th>published</th>\n",
              "      <th>title</th>\n",
              "      <th>text</th>\n",
              "      <th>language</th>\n",
              "      <th>crawled</th>\n",
              "      <th>site_url</th>\n",
              "      <th>country</th>\n",
              "      <th>domain_rank</th>\n",
              "      <th>thread_title</th>\n",
              "      <th>spam_score</th>\n",
              "      <th>main_img_url</th>\n",
              "      <th>replies_count</th>\n",
              "      <th>participants_count</th>\n",
              "      <th>likes</th>\n",
              "      <th>comments</th>\n",
              "      <th>shares</th>\n",
              "      <th>type</th>\n",
              "      <th>text_lower</th>\n",
              "      <th>thread_lower</th>\n",
              "      <th>num_words</th>\n",
              "      <th>similarity</th>\n",
              "      <th>country_number</th>\n",
              "      <th>language_number</th>\n",
              "    </tr>\n",
              "  </thead>\n",
              "  <tbody>\n",
              "    <tr>\n",
              "      <th>0</th>\n",
              "      <td>6a175f46bcd24d39b3e962ad0f29936721db70db</td>\n",
              "      <td>0</td>\n",
              "      <td>Barracuda Brigade</td>\n",
              "      <td>2016-10-26T21:41:00.000+03:00</td>\n",
              "      <td>Muslims BUSTED: They Stole Millions In Gov’t B...</td>\n",
              "      <td>Print They should pay all the back all the mon...</td>\n",
              "      <td>english</td>\n",
              "      <td>2016-10-27T01:49:27.168+03:00</td>\n",
              "      <td>100percentfedup.com</td>\n",
              "      <td>US</td>\n",
              "      <td>25689.0</td>\n",
              "      <td>Muslims BUSTED: They Stole Millions In Gov’t B...</td>\n",
              "      <td>0.0</td>\n",
              "      <td>http://bb4sp.com/wp-content/uploads/2016/10/Fu...</td>\n",
              "      <td>0</td>\n",
              "      <td>1</td>\n",
              "      <td>0</td>\n",
              "      <td>0</td>\n",
              "      <td>0</td>\n",
              "      <td>bias</td>\n",
              "      <td>print pay back money plu interest entir famili...</td>\n",
              "      <td>muslim bust stole million govt benefit</td>\n",
              "      <td>46</td>\n",
              "      <td>0</td>\n",
              "      <td>0</td>\n",
              "      <td>0</td>\n",
              "    </tr>\n",
              "    <tr>\n",
              "      <th>1</th>\n",
              "      <td>2bdc29d12605ef9cf3f09f9875040a7113be5d5b</td>\n",
              "      <td>0</td>\n",
              "      <td>reasoning with facts</td>\n",
              "      <td>2016-10-29T08:47:11.259+03:00</td>\n",
              "      <td>Re: Why Did Attorney General Loretta Lynch Ple...</td>\n",
              "      <td>Why Did Attorney General Loretta Lynch Plead T...</td>\n",
              "      <td>english</td>\n",
              "      <td>2016-10-29T08:47:11.259+03:00</td>\n",
              "      <td>100percentfedup.com</td>\n",
              "      <td>US</td>\n",
              "      <td>25689.0</td>\n",
              "      <td>Re: Why Did Attorney General Loretta Lynch Ple...</td>\n",
              "      <td>0.0</td>\n",
              "      <td>http://bb4sp.com/wp-content/uploads/2016/10/Fu...</td>\n",
              "      <td>0</td>\n",
              "      <td>1</td>\n",
              "      <td>0</td>\n",
              "      <td>0</td>\n",
              "      <td>0</td>\n",
              "      <td>bias</td>\n",
              "      <td>attorney gener loretta lynch plead fifth barra...</td>\n",
              "      <td>attorney gener loretta lynch plead fifth</td>\n",
              "      <td>164</td>\n",
              "      <td>0</td>\n",
              "      <td>0</td>\n",
              "      <td>0</td>\n",
              "    </tr>\n",
              "    <tr>\n",
              "      <th>2</th>\n",
              "      <td>c70e149fdd53de5e61c29281100b9de0ed268bc3</td>\n",
              "      <td>0</td>\n",
              "      <td>Barracuda Brigade</td>\n",
              "      <td>2016-10-31T01:41:49.479+02:00</td>\n",
              "      <td>BREAKING: Weiner Cooperating With FBI On Hilla...</td>\n",
              "      <td>Red State : \\nFox News Sunday reported this mo...</td>\n",
              "      <td>english</td>\n",
              "      <td>2016-10-31T01:41:49.479+02:00</td>\n",
              "      <td>100percentfedup.com</td>\n",
              "      <td>US</td>\n",
              "      <td>25689.0</td>\n",
              "      <td>BREAKING: Weiner Cooperating With FBI On Hilla...</td>\n",
              "      <td>0.0</td>\n",
              "      <td>http://bb4sp.com/wp-content/uploads/2016/10/Fu...</td>\n",
              "      <td>0</td>\n",
              "      <td>1</td>\n",
              "      <td>0</td>\n",
              "      <td>0</td>\n",
              "      <td>0</td>\n",
              "      <td>bias</td>\n",
              "      <td>red state fox news sunday report morn anthoni ...</td>\n",
              "      <td>break weiner cooper fbi hillari email investig</td>\n",
              "      <td>130</td>\n",
              "      <td>0</td>\n",
              "      <td>0</td>\n",
              "      <td>0</td>\n",
              "    </tr>\n",
              "  </tbody>\n",
              "</table>\n",
              "</div>"
            ],
            "text/plain": [
              "                                       uuid  ...  language_number\n",
              "0  6a175f46bcd24d39b3e962ad0f29936721db70db  ...                0\n",
              "1  2bdc29d12605ef9cf3f09f9875040a7113be5d5b  ...                0\n",
              "2  c70e149fdd53de5e61c29281100b9de0ed268bc3  ...                0\n",
              "\n",
              "[3 rows x 26 columns]"
            ]
          },
          "metadata": {
            "tags": []
          },
          "execution_count": 12
        }
      ]
    },
    {
      "cell_type": "code",
      "metadata": {
        "id": "SttvkwXI1jPc",
        "colab_type": "code",
        "outputId": "3cc1c518-c083-4595-cb00-840e698a2ad4",
        "colab": {
          "base_uri": "https://localhost:8080/",
          "height": 164
        }
      },
      "source": [
        "fake_news['index'] = fake_news.index\n",
        "data = fake_news\n",
        "train_lda = data[['text_lower', 'index','thread_lower']]\n",
        "train_lda.head(4)"
      ],
      "execution_count": 13,
      "outputs": [
        {
          "output_type": "execute_result",
          "data": {
            "text/html": [
              "<div>\n",
              "<style scoped>\n",
              "    .dataframe tbody tr th:only-of-type {\n",
              "        vertical-align: middle;\n",
              "    }\n",
              "\n",
              "    .dataframe tbody tr th {\n",
              "        vertical-align: top;\n",
              "    }\n",
              "\n",
              "    .dataframe thead th {\n",
              "        text-align: right;\n",
              "    }\n",
              "</style>\n",
              "<table border=\"1\" class=\"dataframe\">\n",
              "  <thead>\n",
              "    <tr style=\"text-align: right;\">\n",
              "      <th></th>\n",
              "      <th>text_lower</th>\n",
              "      <th>index</th>\n",
              "      <th>thread_lower</th>\n",
              "    </tr>\n",
              "  </thead>\n",
              "  <tbody>\n",
              "    <tr>\n",
              "      <th>0</th>\n",
              "      <td>print pay back money plu interest entir famili...</td>\n",
              "      <td>0</td>\n",
              "      <td>muslim bust stole million govt benefit</td>\n",
              "    </tr>\n",
              "    <tr>\n",
              "      <th>1</th>\n",
              "      <td>attorney gener loretta lynch plead fifth barra...</td>\n",
              "      <td>1</td>\n",
              "      <td>attorney gener loretta lynch plead fifth</td>\n",
              "    </tr>\n",
              "    <tr>\n",
              "      <th>2</th>\n",
              "      <td>red state fox news sunday report morn anthoni ...</td>\n",
              "      <td>2</td>\n",
              "      <td>break weiner cooper fbi hillari email investig</td>\n",
              "    </tr>\n",
              "    <tr>\n",
              "      <th>3</th>\n",
              "      <td>email kayla mueller prison tortur isi chanc re...</td>\n",
              "      <td>3</td>\n",
              "      <td>pin drop speech father daughter kidnap kill is...</td>\n",
              "    </tr>\n",
              "  </tbody>\n",
              "</table>\n",
              "</div>"
            ],
            "text/plain": [
              "                                          text_lower  ...                                       thread_lower\n",
              "0  print pay back money plu interest entir famili...  ...             muslim bust stole million govt benefit\n",
              "1  attorney gener loretta lynch plead fifth barra...  ...           attorney gener loretta lynch plead fifth\n",
              "2  red state fox news sunday report morn anthoni ...  ...     break weiner cooper fbi hillari email investig\n",
              "3  email kayla mueller prison tortur isi chanc re...  ...  pin drop speech father daughter kidnap kill is...\n",
              "\n",
              "[4 rows x 3 columns]"
            ]
          },
          "metadata": {
            "tags": []
          },
          "execution_count": 13
        }
      ]
    },
    {
      "cell_type": "code",
      "metadata": {
        "id": "8aJT3_Jf2qap",
        "colab_type": "code",
        "outputId": "b356c397-76c1-4cad-f7d5-5437e4e78590",
        "colab": {
          "base_uri": "https://localhost:8080/",
          "height": 106
        }
      },
      "source": [
        "processed_docs = train_lda['text_lower'].map(lambda doc: doc.split(\" \"))\n",
        "processed_docs[:4]"
      ],
      "execution_count": 14,
      "outputs": [
        {
          "output_type": "execute_result",
          "data": {
            "text/plain": [
              "0    [print, pay, back, money, plu, interest, entir...\n",
              "1    [attorney, gener, loretta, lynch, plead, fifth...\n",
              "2    [red, state, fox, news, sunday, report, morn, ...\n",
              "3    [email, kayla, mueller, prison, tortur, isi, c...\n",
              "Name: text_lower, dtype: object"
            ]
          },
          "metadata": {
            "tags": []
          },
          "execution_count": 14
        }
      ]
    },
    {
      "cell_type": "markdown",
      "metadata": {
        "id": "ob-nSV7ysGwk",
        "colab_type": "text"
      },
      "source": [
        "## **LDA TOPIC MODELLING**"
      ]
    },
    {
      "cell_type": "code",
      "metadata": {
        "id": "lyeCSnQT20lZ",
        "colab_type": "code",
        "colab": {}
      },
      "source": [
        "def get_word_tokens(text):\n",
        "    result = []\n",
        "    for token in gensim.utils.simple_preprocess(text):\n",
        "        if len(token) > 3:\n",
        "            result.append(token)\n",
        "    return result\n",
        "tokenized_docs_local = fake_news['text_lower'].map(get_word_tokens)"
      ],
      "execution_count": 0,
      "outputs": []
    },
    {
      "cell_type": "code",
      "metadata": {
        "id": "8Ay2Qrxr2314",
        "colab_type": "code",
        "colab": {}
      },
      "source": [
        "def get_dictionary_print_words(dataframe,colname):\n",
        "    dictionary_gensim = gensim.corpora.Dictionary(processed_docs)\n",
        "    count = 0\n",
        "    print('######## DICTIONARY Words and occurences ########')\n",
        "    for k, v in dictionary_gensim.iteritems():\n",
        "        print(k, v)\n",
        "        count += 1\n",
        "        if count > 10:\n",
        "            break\n",
        "    dictionary_gensim.filter_extremes(no_below=15, no_above=0.5, keep_n=100000)\n",
        "    return dictionary_gensim, tokenized_docs_local"
      ],
      "execution_count": 0,
      "outputs": []
    },
    {
      "cell_type": "code",
      "metadata": {
        "id": "rG3Otpft3Enz",
        "colab_type": "code",
        "colab": {}
      },
      "source": [
        "\n",
        "def get_bow_corpus_print_sample(dataframe,colname):\n",
        "    dictionary_gensim, tokenized_docs_local = get_dictionary_print_words(dataframe, colname)\n",
        "    bow_corpus_local = [dictionary_gensim.doc2bow(doc) for doc in tokenized_docs_local]\n",
        "    bow_doc_local_0 = bow_corpus_local[0]\n",
        "    print('\\n ######## BOW VECTOR FIRST ITEM ########')\n",
        "    print(bow_doc_local_0)\n",
        "    print('\\n ######## PREVIEW BOW ########')\n",
        "    for i in range(len(bow_doc_local_0)):\n",
        "        print(\"Word {} (\\\"{}\\\") appears {} time.\".format(bow_doc_local_0[i][0], \n",
        "                                               dictionary_gensim[bow_doc_local_0[i][0]], bow_doc_local_0[i][1]))\n",
        "    return bow_corpus_local, dictionary_gensim"
      ],
      "execution_count": 0,
      "outputs": []
    },
    {
      "cell_type": "code",
      "metadata": {
        "id": "HJkLc_Bf3HMk",
        "colab_type": "code",
        "colab": {}
      },
      "source": [
        "def get_tfidf_corpus_print_sample(bow_corpus_local):\n",
        "    from gensim import corpora, models\n",
        "    tfidf = models.TfidfModel(bow_corpus_local)\n",
        "    tfidf_corpus_local = tfidf[bow_corpus_local]\n",
        "    print('\\n ######## TFIDF VECTOR FIRST ITEM ########')\n",
        "    \n",
        "    from pprint import pprint\n",
        "    for doc in tfidf_corpus_local:\n",
        "        pprint(doc)\n",
        "        break\n",
        "    return tfidf_corpus_local"
      ],
      "execution_count": 0,
      "outputs": []
    },
    {
      "cell_type": "code",
      "metadata": {
        "id": "zaKmQuRj3Jvm",
        "colab_type": "code",
        "colab": {}
      },
      "source": [
        "def get_lda_model_print_top_topics(bow_corpusforlda,numtopics,dictionaryforlda):\n",
        "    lda_model = gensim.models.LdaMulticore(bow_corpusforlda, num_topics=numtopics, id2word=dictionaryforlda, passes=2, workers=2)\n",
        "    lda_all_topics=lda_model.show_topics(num_topics=numtopics, num_words=10,formatted=False)\n",
        "    lda_topics_words = [(tp[0], [wd[0] for wd in tp[1]]) for tp in lda_all_topics]\n",
        "\n",
        "    #Below Code Prints Topics and Words\n",
        "    for topic,words in lda_topics_words:\n",
        "        print(str(topic)+ \"::\"+ str(words))\n",
        "    return lda_model"
      ],
      "execution_count": 0,
      "outputs": []
    },
    {
      "cell_type": "code",
      "metadata": {
        "id": "oX7yc3Q53Obp",
        "colab_type": "code",
        "colab": {}
      },
      "source": [
        "def get_lda_model_topics_topwords_print_top_topics(bow_corpusforlda,numtopics,dictionaryforlda):\n",
        "    lda_model = gensim.models.LdaMulticore(bow_corpusforlda, num_topics=numtopics, id2word=dictionaryforlda, passes=2, workers=2, random_state=1)\n",
        "    lda_all_topics=lda_model.show_topics(num_topics=numtopics, num_words=10,formatted=False)\n",
        "    lda_topics_words = [(tp[0], [wd[0] for wd in tp[1]]) for tp in lda_all_topics]\n",
        "\n",
        "    #Below Code Prints Topics and Words\n",
        "    for topic,words in lda_topics_words:\n",
        "        print(str(topic)+ \"::\"+ str(words))\n",
        "    return lda_model,lda_topics_words"
      ],
      "execution_count": 0,
      "outputs": []
    },
    {
      "cell_type": "code",
      "metadata": {
        "id": "DdY_qs_J3O8x",
        "colab_type": "code",
        "colab": {}
      },
      "source": [
        "def identify_topic_number_score_label_topwords(text,dictionary_local,lda_model_local,lda_topics_top_words_local):\n",
        "    bow_vector_local = dictionary_local.doc2bow(get_word_tokens(text))\n",
        "    topic_number_local, topic_score_local = sorted(\n",
        "        lda_model_local[bow_vector_local], key=lambda tup: -1*tup[1])[0]\n",
        "    #print (topic_number_local, topic_score_local)\n",
        "    return pd.Series([topic_number_local, topic_score_local,\" \".join(lda_topics_top_words_local[int(topic_number_local)][1])])"
      ],
      "execution_count": 0,
      "outputs": []
    },
    {
      "cell_type": "code",
      "metadata": {
        "id": "ZsYlvgen3Rav",
        "colab_type": "code",
        "colab": {}
      },
      "source": [
        "def update_lda_results_to_dataset(dataframe,topiccolnames,coltoapplylda,colnamedictionary,colnameldamodel, colnameldatopwords):\n",
        "    dataframe[topiccolnames] = dataframe.apply(\n",
        "    lambda row: identify_topic_number_score_label_topwords(\n",
        "        row[coltoapplylda],colnamedictionary,colnameldamodel,\n",
        "        colnameldatopwords), axis=1)\n",
        "    return dataframe"
      ],
      "execution_count": 0,
      "outputs": []
    },
    {
      "cell_type": "code",
      "metadata": {
        "id": "_1A6qRPy3rv9",
        "colab_type": "code",
        "outputId": "c035829a-4bda-4fab-89eb-8552f6095e22",
        "colab": {
          "base_uri": "https://localhost:8080/",
          "height": 979
        }
      },
      "source": [
        "bow_corpus_headline, dictionary_headline = get_bow_corpus_print_sample(fake_news,'text_lower')"
      ],
      "execution_count": 23,
      "outputs": [
        {
          "output_type": "stream",
          "text": [
            "######## DICTIONARY Words and occurences ########\n",
            "0 \n",
            "1 anoth\n",
            "2 asap\n",
            "3 back\n",
            "4 benefit\n",
            "5 bust\n",
            "6 came\n",
            "7 case\n",
            "8 commit\n",
            "9 control\n",
            "10 deport\n",
            "\n",
            " ######## BOW VECTOR FIRST ITEM ########\n",
            "[(0, 1), (1, 1), (2, 1), (3, 1), (4, 1), (5, 1), (6, 1), (7, 1), (8, 1), (9, 1), (10, 1), (11, 1), (12, 1), (13, 1), (14, 1), (16, 2), (17, 2), (18, 1), (19, 1), (20, 1), (21, 1), (22, 1), (23, 1), (24, 1), (25, 1), (28, 1), (29, 1), (30, 1), (31, 1), (32, 1), (33, 1), (34, 1), (35, 1), (36, 1), (39, 1), (40, 1)]\n",
            "\n",
            " ######## PREVIEW BOW ########\n",
            "Word 0 (\"anoth\") appears 1 time.\n",
            "Word 1 (\"asap\") appears 1 time.\n",
            "Word 2 (\"back\") appears 1 time.\n",
            "Word 3 (\"benefit\") appears 1 time.\n",
            "Word 4 (\"bust\") appears 1 time.\n",
            "Word 5 (\"came\") appears 1 time.\n",
            "Word 6 (\"case\") appears 1 time.\n",
            "Word 7 (\"commit\") appears 1 time.\n",
            "Word 8 (\"control\") appears 1 time.\n",
            "Word 9 (\"deport\") appears 1 time.\n",
            "Word 10 (\"entir\") appears 1 time.\n",
            "Word 11 (\"everyon\") appears 1 time.\n",
            "Word 12 (\"famili\") appears 1 time.\n",
            "Word 13 (\"four\") appears 1 time.\n",
            "Word 14 (\"fraud\") appears 1 time.\n",
            "Word 16 (\"govern\") appears 2 time.\n",
            "Word 17 (\"group\") appears 2 time.\n",
            "Word 18 (\"interest\") appears 1 time.\n",
            "Word 19 (\"like\") appears 1 time.\n",
            "Word 20 (\"million\") appears 1 time.\n",
            "Word 21 (\"money\") appears 1 time.\n",
            "Word 22 (\"month\") appears 1 time.\n",
            "Word 23 (\"muslim\") appears 1 time.\n",
            "Word 24 (\"need\") appears 1 time.\n",
            "Word 25 (\"numer\") appears 1 time.\n",
            "Word 28 (\"print\") appears 1 time.\n",
            "Word 29 (\"relat\") appears 1 time.\n",
            "Word 30 (\"report\") appears 1 time.\n",
            "Word 31 (\"scam\") appears 1 time.\n",
            "Word 32 (\"somali\") appears 1 time.\n",
            "Word 33 (\"steal\") appears 1 time.\n",
            "Word 34 (\"stole\") appears 1 time.\n",
            "Word 35 (\"take\") appears 1 time.\n",
            "Word 36 (\"taxpay\") appears 1 time.\n",
            "Word 39 (\"weve\") appears 1 time.\n",
            "Word 40 (\"year\") appears 1 time.\n"
          ],
          "name": "stdout"
        }
      ]
    },
    {
      "cell_type": "code",
      "metadata": {
        "id": "_GVQrWsN3ryu",
        "colab_type": "code",
        "outputId": "1c73f655-9c0f-4858-a050-e36fbc803e77",
        "colab": {
          "base_uri": "https://localhost:8080/",
          "height": 195
        }
      },
      "source": [
        "lda_model_headline, lda_headline_topic_words = get_lda_model_topics_topwords_print_top_topics(\n",
        "    bow_corpus_headline, 10 ,dictionary_headline)"
      ],
      "execution_count": 24,
      "outputs": [
        {
          "output_type": "stream",
          "text": [
            "0::['clinton', 'email', 'investig', 'state', 'report', 'hillari', 'comey', 'said', 'time', 'would']\n",
            "1::['clinton', 'trump', 'hillari', 'presid', 'email', 'would', 'campaign', 'state', 'elect', 'donald']\n",
            "2::['trump', 'vote', 'elect', 'peopl', 'state', 'clinton', 'democrat', 'american', 'hillari', 'said']\n",
            "3::['russia', 'state', 'syria', 'would', 'govern', 'presid', 'countri', 'russian', 'said', 'peopl']\n",
            "4::['govern', 'peopl', 'state', 'would', 'pipelin', 'said', 'american', 'like', 'year', 'time']\n",
            "5::['russian', 'para', 'email', 'state', 'russia', 'clinton', 'como', 'would', 'said', 'peopl']\n",
            "6::['like', 'american', 'state', 'make', 'trump', 'peopl', 'time', 'news', 'world', 'media']\n",
            "7::['state', 'obama', 'govern', 'would', 'peopl', 'year', 'presid', 'world', 'nation', 'american']\n",
            "8::['peopl', 'world', 'state', 'time', 'like', 'would', 'nation', 'year', 'govern', 'said']\n",
            "9::['peopl', 'time', 'like', 'year', 'also', 'mani', 'said', 'make', 'world', 'even']\n"
          ],
          "name": "stdout"
        }
      ]
    },
    {
      "cell_type": "code",
      "metadata": {
        "id": "TXjQ6rFE3r1T",
        "colab_type": "code",
        "outputId": "4b010284-2cc0-4103-af14-69300e6cc1de",
        "colab": {
          "base_uri": "https://localhost:8080/",
          "height": 692
        }
      },
      "source": [
        "tfidf_corpus_headline = get_tfidf_corpus_print_sample(bow_corpus_headline)"
      ],
      "execution_count": 25,
      "outputs": [
        {
          "output_type": "stream",
          "text": [
            "\n",
            " ######## TFIDF VECTOR FIRST ITEM ########\n",
            "[(0, 0.08275387447287372),\n",
            " (1, 0.34732052969890836),\n",
            " (2, 0.07326793123378836),\n",
            " (3, 0.146331237598883),\n",
            " (4, 0.25694326941888074),\n",
            " (5, 0.11662671651052897),\n",
            " (6, 0.09549975200972269),\n",
            " (7, 0.13631871057630102),\n",
            " (8, 0.10015156364799924),\n",
            " (9, 0.2379558140945087),\n",
            " (10, 0.11149877411061139),\n",
            " (11, 0.12770346764229712),\n",
            " (12, 0.11049626377938052),\n",
            " (13, 0.12894216192330096),\n",
            " (14, 0.16855163938296797),\n",
            " (16, 0.1459631358268953),\n",
            " (17, 0.18387168545296842),\n",
            " (18, 0.09728486080549911),\n",
            " (19, 0.04477612682794822),\n",
            " (20, 0.09446475108984374),\n",
            " (21, 0.11242309807054697),\n",
            " (22, 0.0991542140769561),\n",
            " (23, 0.1610887765005904),\n",
            " (24, 0.0722250290867347),\n",
            " (25, 0.172930134785294),\n",
            " (28, 0.15824510936044836),\n",
            " (29, 0.10483182972694496),\n",
            " (30, 0.06246753942894103),\n",
            " (31, 0.25567781643453247),\n",
            " (32, 0.354172583742926),\n",
            " (33, 0.1941392224492906),\n",
            " (34, 0.2811175996848103),\n",
            " (35, 0.06038995036960375),\n",
            " (36, 0.21971785906891358),\n",
            " (39, 0.157161265715028),\n",
            " (40, 0.05143193203145131)]\n"
          ],
          "name": "stdout"
        }
      ]
    },
    {
      "cell_type": "code",
      "metadata": {
        "id": "oRqzhcev3r3j",
        "colab_type": "code",
        "outputId": "25f21042-44cf-49cf-ec5b-0b41438e89b1",
        "colab": {
          "base_uri": "https://localhost:8080/",
          "height": 195
        }
      },
      "source": [
        "lda_tfidf_model_headline  = get_lda_model_print_top_topics(tfidf_corpus_headline,10,dictionary_headline)"
      ],
      "execution_count": 26,
      "outputs": [
        {
          "output_type": "stream",
          "text": [
            "0::['email', 'clinton', 'investig', 'comey', 'hillari', 'abedin', 'huma', 'server', 'weiner', 'reopen']\n",
            "1::['clinton', 'trump', 'hillari', 'email', 'peopl', 'obama', 'campaign', 'foundat', 'like', 'wikileak']\n",
            "2::['telegram', 'tomb', 'jesu', 'email', 'dotcom', 'irish', 'clinton', 'christ', 'chin', 'comm']\n",
            "3::['wearechang', 'facebook', 'sourc', 'voltair', 'convers', 'fingerprint', 'bitcoin', 'cannabi', 'moreno', 'proudli']\n",
            "4::['mosul', 'aleppo', 'syrian', 'iraqi', 'civilian', 'syria', 'terrorist', 'turkey', 'said', 'citi']\n",
            "5::['trump', 'vote', 'clinton', 'elect', 'russia', 'hillari', 'state', 'russian', 'peopl', 'presid']\n",
            "6::['pravdaru', 'sich', 'zika', 'nicht', 'dass', 'danney', 'wurd', 'einer', 'mosquito', 'auch']\n",
            "7::['para', 'como', 'estado', 'president', 'unido', 'todo', 'espaol', 'franai', 'sobr', 'esta']\n",
            "8::['pipelin', 'dakota', 'protest', 'rock', 'polic', 'stand', 'sioux', 'water', 'protector', 'sheriff']\n",
            "9::['kelli', 'gingrich', 'trump', 'megyn', 'liar', 'bullshit', 'earnest', 'newt', 'petra', 'period']\n"
          ],
          "name": "stdout"
        }
      ]
    },
    {
      "cell_type": "code",
      "metadata": {
        "id": "VPFxJ68p3r53",
        "colab_type": "code",
        "colab": {}
      },
      "source": [
        "semisupervised_topic_labels = ['topic0','topic1','topic2','topic3','topic4','topic5','topic6','topic7','topic8','topic9']"
      ],
      "execution_count": 0,
      "outputs": []
    },
    {
      "cell_type": "code",
      "metadata": {
        "id": "OrKFibor4GFt",
        "colab_type": "code",
        "outputId": "5544ff0e-1ff7-4f8c-d249-c201cac1318f",
        "colab": {
          "base_uri": "https://localhost:8080/",
          "height": 568
        }
      },
      "source": [
        "headlinetopiccolnames = ['topic_number','lda_score','topic_top_words']\n",
        "fake_newss = update_lda_results_to_dataset(\n",
        "    fake_news, headlinetopiccolnames,'text_lower', dictionary_headline, lda_model_headline, lda_headline_topic_words)\n",
        "fake_newss.head()"
      ],
      "execution_count": 28,
      "outputs": [
        {
          "output_type": "execute_result",
          "data": {
            "text/html": [
              "<div>\n",
              "<style scoped>\n",
              "    .dataframe tbody tr th:only-of-type {\n",
              "        vertical-align: middle;\n",
              "    }\n",
              "\n",
              "    .dataframe tbody tr th {\n",
              "        vertical-align: top;\n",
              "    }\n",
              "\n",
              "    .dataframe thead th {\n",
              "        text-align: right;\n",
              "    }\n",
              "</style>\n",
              "<table border=\"1\" class=\"dataframe\">\n",
              "  <thead>\n",
              "    <tr style=\"text-align: right;\">\n",
              "      <th></th>\n",
              "      <th>uuid</th>\n",
              "      <th>ord_in_thread</th>\n",
              "      <th>author</th>\n",
              "      <th>published</th>\n",
              "      <th>title</th>\n",
              "      <th>text</th>\n",
              "      <th>language</th>\n",
              "      <th>crawled</th>\n",
              "      <th>site_url</th>\n",
              "      <th>country</th>\n",
              "      <th>domain_rank</th>\n",
              "      <th>thread_title</th>\n",
              "      <th>spam_score</th>\n",
              "      <th>main_img_url</th>\n",
              "      <th>replies_count</th>\n",
              "      <th>participants_count</th>\n",
              "      <th>likes</th>\n",
              "      <th>comments</th>\n",
              "      <th>shares</th>\n",
              "      <th>type</th>\n",
              "      <th>text_lower</th>\n",
              "      <th>thread_lower</th>\n",
              "      <th>num_words</th>\n",
              "      <th>similarity</th>\n",
              "      <th>country_number</th>\n",
              "      <th>language_number</th>\n",
              "      <th>index</th>\n",
              "      <th>topic_number</th>\n",
              "      <th>lda_score</th>\n",
              "      <th>topic_top_words</th>\n",
              "    </tr>\n",
              "  </thead>\n",
              "  <tbody>\n",
              "    <tr>\n",
              "      <th>0</th>\n",
              "      <td>6a175f46bcd24d39b3e962ad0f29936721db70db</td>\n",
              "      <td>0</td>\n",
              "      <td>Barracuda Brigade</td>\n",
              "      <td>2016-10-26T21:41:00.000+03:00</td>\n",
              "      <td>Muslims BUSTED: They Stole Millions In Gov’t B...</td>\n",
              "      <td>Print They should pay all the back all the mon...</td>\n",
              "      <td>english</td>\n",
              "      <td>2016-10-27T01:49:27.168+03:00</td>\n",
              "      <td>100percentfedup.com</td>\n",
              "      <td>US</td>\n",
              "      <td>25689.0</td>\n",
              "      <td>Muslims BUSTED: They Stole Millions In Gov’t B...</td>\n",
              "      <td>0.000</td>\n",
              "      <td>http://bb4sp.com/wp-content/uploads/2016/10/Fu...</td>\n",
              "      <td>0</td>\n",
              "      <td>1</td>\n",
              "      <td>0</td>\n",
              "      <td>0</td>\n",
              "      <td>0</td>\n",
              "      <td>bias</td>\n",
              "      <td>print pay back money plu interest entir famili...</td>\n",
              "      <td>muslim bust stole million govt benefit</td>\n",
              "      <td>46</td>\n",
              "      <td>0</td>\n",
              "      <td>0</td>\n",
              "      <td>0</td>\n",
              "      <td>0</td>\n",
              "      <td>7</td>\n",
              "      <td>0.492957</td>\n",
              "      <td>state obama govern would peopl year presid wor...</td>\n",
              "    </tr>\n",
              "    <tr>\n",
              "      <th>1</th>\n",
              "      <td>2bdc29d12605ef9cf3f09f9875040a7113be5d5b</td>\n",
              "      <td>0</td>\n",
              "      <td>reasoning with facts</td>\n",
              "      <td>2016-10-29T08:47:11.259+03:00</td>\n",
              "      <td>Re: Why Did Attorney General Loretta Lynch Ple...</td>\n",
              "      <td>Why Did Attorney General Loretta Lynch Plead T...</td>\n",
              "      <td>english</td>\n",
              "      <td>2016-10-29T08:47:11.259+03:00</td>\n",
              "      <td>100percentfedup.com</td>\n",
              "      <td>US</td>\n",
              "      <td>25689.0</td>\n",
              "      <td>Re: Why Did Attorney General Loretta Lynch Ple...</td>\n",
              "      <td>0.000</td>\n",
              "      <td>http://bb4sp.com/wp-content/uploads/2016/10/Fu...</td>\n",
              "      <td>0</td>\n",
              "      <td>1</td>\n",
              "      <td>0</td>\n",
              "      <td>0</td>\n",
              "      <td>0</td>\n",
              "      <td>bias</td>\n",
              "      <td>attorney gener loretta lynch plead fifth barra...</td>\n",
              "      <td>attorney gener loretta lynch plead fifth</td>\n",
              "      <td>164</td>\n",
              "      <td>0</td>\n",
              "      <td>0</td>\n",
              "      <td>0</td>\n",
              "      <td>1</td>\n",
              "      <td>0</td>\n",
              "      <td>0.949275</td>\n",
              "      <td>clinton email investig state report hillari co...</td>\n",
              "    </tr>\n",
              "    <tr>\n",
              "      <th>2</th>\n",
              "      <td>c70e149fdd53de5e61c29281100b9de0ed268bc3</td>\n",
              "      <td>0</td>\n",
              "      <td>Barracuda Brigade</td>\n",
              "      <td>2016-10-31T01:41:49.479+02:00</td>\n",
              "      <td>BREAKING: Weiner Cooperating With FBI On Hilla...</td>\n",
              "      <td>Red State : \\nFox News Sunday reported this mo...</td>\n",
              "      <td>english</td>\n",
              "      <td>2016-10-31T01:41:49.479+02:00</td>\n",
              "      <td>100percentfedup.com</td>\n",
              "      <td>US</td>\n",
              "      <td>25689.0</td>\n",
              "      <td>BREAKING: Weiner Cooperating With FBI On Hilla...</td>\n",
              "      <td>0.000</td>\n",
              "      <td>http://bb4sp.com/wp-content/uploads/2016/10/Fu...</td>\n",
              "      <td>0</td>\n",
              "      <td>1</td>\n",
              "      <td>0</td>\n",
              "      <td>0</td>\n",
              "      <td>0</td>\n",
              "      <td>bias</td>\n",
              "      <td>red state fox news sunday report morn anthoni ...</td>\n",
              "      <td>break weiner cooper fbi hillari email investig</td>\n",
              "      <td>130</td>\n",
              "      <td>0</td>\n",
              "      <td>0</td>\n",
              "      <td>0</td>\n",
              "      <td>2</td>\n",
              "      <td>0</td>\n",
              "      <td>0.991962</td>\n",
              "      <td>clinton email investig state report hillari co...</td>\n",
              "    </tr>\n",
              "    <tr>\n",
              "      <th>3</th>\n",
              "      <td>7cf7c15731ac2a116dd7f629bd57ea468ed70284</td>\n",
              "      <td>0</td>\n",
              "      <td>Fed Up</td>\n",
              "      <td>2016-11-01T05:22:00.000+02:00</td>\n",
              "      <td>PIN DROP SPEECH BY FATHER OF DAUGHTER Kidnappe...</td>\n",
              "      <td>Email Kayla Mueller was a prisoner and torture...</td>\n",
              "      <td>english</td>\n",
              "      <td>2016-11-01T15:46:26.304+02:00</td>\n",
              "      <td>100percentfedup.com</td>\n",
              "      <td>US</td>\n",
              "      <td>25689.0</td>\n",
              "      <td>PIN DROP SPEECH BY FATHER OF DAUGHTER Kidnappe...</td>\n",
              "      <td>0.068</td>\n",
              "      <td>http://100percentfedup.com/wp-content/uploads/...</td>\n",
              "      <td>0</td>\n",
              "      <td>0</td>\n",
              "      <td>0</td>\n",
              "      <td>0</td>\n",
              "      <td>0</td>\n",
              "      <td>bias</td>\n",
              "      <td>email kayla mueller prison tortur isi chanc re...</td>\n",
              "      <td>pin drop speech father daughter kidnap kill is...</td>\n",
              "      <td>29</td>\n",
              "      <td>0</td>\n",
              "      <td>0</td>\n",
              "      <td>0</td>\n",
              "      <td>3</td>\n",
              "      <td>1</td>\n",
              "      <td>0.954989</td>\n",
              "      <td>clinton trump hillari presid email would campa...</td>\n",
              "    </tr>\n",
              "    <tr>\n",
              "      <th>4</th>\n",
              "      <td>0206b54719c7e241ffe0ad4315b808290dbe6c0f</td>\n",
              "      <td>0</td>\n",
              "      <td>Fed Up</td>\n",
              "      <td>2016-11-01T21:56:00.000+02:00</td>\n",
              "      <td>FANTASTIC! TRUMP'S 7 POINT PLAN To Reform Heal...</td>\n",
              "      <td>Email HEALTHCARE REFORM TO MAKE AMERICA GREAT ...</td>\n",
              "      <td>english</td>\n",
              "      <td>2016-11-01T23:59:42.266+02:00</td>\n",
              "      <td>100percentfedup.com</td>\n",
              "      <td>US</td>\n",
              "      <td>25689.0</td>\n",
              "      <td>FANTASTIC! TRUMP'S 7 POINT PLAN To Reform Heal...</td>\n",
              "      <td>0.865</td>\n",
              "      <td>http://100percentfedup.com/wp-content/uploads/...</td>\n",
              "      <td>0</td>\n",
              "      <td>0</td>\n",
              "      <td>0</td>\n",
              "      <td>0</td>\n",
              "      <td>0</td>\n",
              "      <td>bias</td>\n",
              "      <td>email healthcar reform make america great sinc...</td>\n",
              "      <td>fantast trump point plan reform healthcar begi...</td>\n",
              "      <td>196</td>\n",
              "      <td>0</td>\n",
              "      <td>0</td>\n",
              "      <td>0</td>\n",
              "      <td>4</td>\n",
              "      <td>2</td>\n",
              "      <td>0.525675</td>\n",
              "      <td>trump vote elect peopl state clinton democrat ...</td>\n",
              "    </tr>\n",
              "  </tbody>\n",
              "</table>\n",
              "</div>"
            ],
            "text/plain": [
              "                                       uuid  ...                                    topic_top_words\n",
              "0  6a175f46bcd24d39b3e962ad0f29936721db70db  ...  state obama govern would peopl year presid wor...\n",
              "1  2bdc29d12605ef9cf3f09f9875040a7113be5d5b  ...  clinton email investig state report hillari co...\n",
              "2  c70e149fdd53de5e61c29281100b9de0ed268bc3  ...  clinton email investig state report hillari co...\n",
              "3  7cf7c15731ac2a116dd7f629bd57ea468ed70284  ...  clinton trump hillari presid email would campa...\n",
              "4  0206b54719c7e241ffe0ad4315b808290dbe6c0f  ...  trump vote elect peopl state clinton democrat ...\n",
              "\n",
              "[5 rows x 30 columns]"
            ]
          },
          "metadata": {
            "tags": []
          },
          "execution_count": 28
        }
      ]
    },
    {
      "cell_type": "code",
      "metadata": {
        "id": "bcBredQK4S8m",
        "colab_type": "code",
        "outputId": "06c79ed5-5741-467a-e2e7-80b671415487",
        "colab": {
          "base_uri": "https://localhost:8080/",
          "height": 70
        }
      },
      "source": [
        "train_data, validate_data, test_data = np.split(fake_newss.sample(frac=1), [int(.6*len(fake_newss)), int(.8*len(fake_newss))])\n",
        "\n",
        "train_data = train_data.reset_index(drop=True)\n",
        "validate_data = validate_data.reset_index(drop=True)\n",
        "test_data = test_data.reset_index(drop=True)\n",
        "\n",
        "\n",
        "print(\"Size of training set: {}\".format(len(train_data)))\n",
        "print(\"Size of validation set: {}\".format(len(validate_data)))\n",
        "print(\"Size of testing set: {}\".format(len(test_data)))"
      ],
      "execution_count": 29,
      "outputs": [
        {
          "output_type": "stream",
          "text": [
            "Size of training set: 7799\n",
            "Size of validation set: 2600\n",
            "Size of testing set: 2600\n"
          ],
          "name": "stdout"
        }
      ]
    },
    {
      "cell_type": "code",
      "metadata": {
        "id": "Pc6qLvafRG98",
        "colab_type": "code",
        "outputId": "bb9476d4-0675-4ce3-fb2e-48b77e60ed0a",
        "colab": {
          "base_uri": "https://localhost:8080/",
          "height": 442
        }
      },
      "source": [
        "train_data.head(3)"
      ],
      "execution_count": 30,
      "outputs": [
        {
          "output_type": "execute_result",
          "data": {
            "text/html": [
              "<div>\n",
              "<style scoped>\n",
              "    .dataframe tbody tr th:only-of-type {\n",
              "        vertical-align: middle;\n",
              "    }\n",
              "\n",
              "    .dataframe tbody tr th {\n",
              "        vertical-align: top;\n",
              "    }\n",
              "\n",
              "    .dataframe thead th {\n",
              "        text-align: right;\n",
              "    }\n",
              "</style>\n",
              "<table border=\"1\" class=\"dataframe\">\n",
              "  <thead>\n",
              "    <tr style=\"text-align: right;\">\n",
              "      <th></th>\n",
              "      <th>uuid</th>\n",
              "      <th>ord_in_thread</th>\n",
              "      <th>author</th>\n",
              "      <th>published</th>\n",
              "      <th>title</th>\n",
              "      <th>text</th>\n",
              "      <th>language</th>\n",
              "      <th>crawled</th>\n",
              "      <th>site_url</th>\n",
              "      <th>country</th>\n",
              "      <th>domain_rank</th>\n",
              "      <th>thread_title</th>\n",
              "      <th>spam_score</th>\n",
              "      <th>main_img_url</th>\n",
              "      <th>replies_count</th>\n",
              "      <th>participants_count</th>\n",
              "      <th>likes</th>\n",
              "      <th>comments</th>\n",
              "      <th>shares</th>\n",
              "      <th>type</th>\n",
              "      <th>text_lower</th>\n",
              "      <th>thread_lower</th>\n",
              "      <th>num_words</th>\n",
              "      <th>similarity</th>\n",
              "      <th>country_number</th>\n",
              "      <th>language_number</th>\n",
              "      <th>index</th>\n",
              "      <th>topic_number</th>\n",
              "      <th>lda_score</th>\n",
              "      <th>topic_top_words</th>\n",
              "    </tr>\n",
              "  </thead>\n",
              "  <tbody>\n",
              "    <tr>\n",
              "      <th>0</th>\n",
              "      <td>0c38238ac82edb1f39f9fdf31d12613268e457f5</td>\n",
              "      <td>0</td>\n",
              "      <td>RT</td>\n",
              "      <td>2016-10-31T20:18:00.316+02:00</td>\n",
              "      <td>Poll: 50% of Russians fear US-Syria-Russia sta...</td>\n",
              "      <td>Videos Poll: 50% of Russians fear US-Syria-Rus...</td>\n",
              "      <td>english</td>\n",
              "      <td>2016-10-31T20:18:00.316+02:00</td>\n",
              "      <td>mintpressnews.com</td>\n",
              "      <td>US</td>\n",
              "      <td>68691.0</td>\n",
              "      <td>Poll: 50% of Russians fear US-Syria-Russia sta...</td>\n",
              "      <td>0.0</td>\n",
              "      <td>http://www.mintpressnews.com/wp-content/upload...</td>\n",
              "      <td>0</td>\n",
              "      <td>1</td>\n",
              "      <td>0</td>\n",
              "      <td>0</td>\n",
              "      <td>0</td>\n",
              "      <td>bs</td>\n",
              "      <td>video poll russian fear ussyriarussia standoff...</td>\n",
              "      <td>poll russian fear ussyriarussia standoff could...</td>\n",
              "      <td>292</td>\n",
              "      <td>0</td>\n",
              "      <td>0</td>\n",
              "      <td>0</td>\n",
              "      <td>6127</td>\n",
              "      <td>3</td>\n",
              "      <td>0.827813</td>\n",
              "      <td>russia state syria would govern presid countri...</td>\n",
              "    </tr>\n",
              "    <tr>\n",
              "      <th>1</th>\n",
              "      <td>913c88af98c09f0e91720f95eb8992a75657fb6b</td>\n",
              "      <td>0</td>\n",
              "      <td>Starkman</td>\n",
              "      <td>2016-11-05T04:47:04.854+02:00</td>\n",
              "      <td>Gaddafi’s Last Words While Begging For Mercy: ...</td>\n",
              "      <td>Almost six years have passed since the death o...</td>\n",
              "      <td>english</td>\n",
              "      <td>2016-11-05T04:47:04.854+02:00</td>\n",
              "      <td>topinfopost.com</td>\n",
              "      <td>US</td>\n",
              "      <td>34478.0</td>\n",
              "      <td>Gaddafi’s Last Words While Begging For Mercy: ...</td>\n",
              "      <td>0.0</td>\n",
              "      <td>NaN</td>\n",
              "      <td>0</td>\n",
              "      <td>1</td>\n",
              "      <td>0</td>\n",
              "      <td>0</td>\n",
              "      <td>0</td>\n",
              "      <td>bs</td>\n",
              "      <td>almost six year pass sinc death colonel muamma...</td>\n",
              "      <td>gaddafi last word beg merci</td>\n",
              "      <td>314</td>\n",
              "      <td>0</td>\n",
              "      <td>0</td>\n",
              "      <td>0</td>\n",
              "      <td>10807</td>\n",
              "      <td>3</td>\n",
              "      <td>0.487537</td>\n",
              "      <td>russia state syria would govern presid countri...</td>\n",
              "    </tr>\n",
              "    <tr>\n",
              "      <th>2</th>\n",
              "      <td>9b0623b5edcff16fe6931ac208b83124ab389bf2</td>\n",
              "      <td>0</td>\n",
              "      <td>US</td>\n",
              "      <td>2016-10-27T19:08:02.943+03:00</td>\n",
              "      <td>Putin: Russia is not going to attack anyone</td>\n",
              "      <td>Putin: Russia is not going to attack anyone   ...</td>\n",
              "      <td>english</td>\n",
              "      <td>2016-10-27T19:08:02.943+03:00</td>\n",
              "      <td>pravdareport.com</td>\n",
              "      <td>US</td>\n",
              "      <td>75353.0</td>\n",
              "      <td>Putin: Russia is not going to attack anyone</td>\n",
              "      <td>0.0</td>\n",
              "      <td>http://pravda-team.ru/eng/image/article/1/3/2/...</td>\n",
              "      <td>0</td>\n",
              "      <td>0</td>\n",
              "      <td>0</td>\n",
              "      <td>0</td>\n",
              "      <td>0</td>\n",
              "      <td>bs</td>\n",
              "      <td>putin russia go attack anyon pravdaru russia g...</td>\n",
              "      <td>putin russia go attack anyon</td>\n",
              "      <td>146</td>\n",
              "      <td>0</td>\n",
              "      <td>0</td>\n",
              "      <td>0</td>\n",
              "      <td>7394</td>\n",
              "      <td>3</td>\n",
              "      <td>0.993180</td>\n",
              "      <td>russia state syria would govern presid countri...</td>\n",
              "    </tr>\n",
              "  </tbody>\n",
              "</table>\n",
              "</div>"
            ],
            "text/plain": [
              "                                       uuid  ...                                    topic_top_words\n",
              "0  0c38238ac82edb1f39f9fdf31d12613268e457f5  ...  russia state syria would govern presid countri...\n",
              "1  913c88af98c09f0e91720f95eb8992a75657fb6b  ...  russia state syria would govern presid countri...\n",
              "2  9b0623b5edcff16fe6931ac208b83124ab389bf2  ...  russia state syria would govern presid countri...\n",
              "\n",
              "[3 rows x 30 columns]"
            ]
          },
          "metadata": {
            "tags": []
          },
          "execution_count": 30
        }
      ]
    },
    {
      "cell_type": "code",
      "metadata": {
        "id": "CfTU0sT-RlkV",
        "colab_type": "code",
        "colab": {}
      },
      "source": [
        "# train_data['type']=pd.factorize(train_data['type'])[0]"
      ],
      "execution_count": 0,
      "outputs": []
    },
    {
      "cell_type": "code",
      "metadata": {
        "id": "8vjAm0rYQaWb",
        "colab_type": "code",
        "colab": {}
      },
      "source": [
        "# smote = SMOTE(sampling_strategy='auto')\n",
        "# train_data = smote.fit_sample(train_data.drop(['type'],axis=1),train_data['type'])"
      ],
      "execution_count": 0,
      "outputs": []
    },
    {
      "cell_type": "code",
      "metadata": {
        "id": "k5CNHm3QVteR",
        "colab_type": "code",
        "outputId": "dfcc77ef-bac2-420c-f781-96dce8432d22",
        "colab": {
          "base_uri": "https://localhost:8080/",
          "height": 510
        }
      },
      "source": [
        "fake_newss.head(3)"
      ],
      "execution_count": 33,
      "outputs": [
        {
          "output_type": "execute_result",
          "data": {
            "text/html": [
              "<div>\n",
              "<style scoped>\n",
              "    .dataframe tbody tr th:only-of-type {\n",
              "        vertical-align: middle;\n",
              "    }\n",
              "\n",
              "    .dataframe tbody tr th {\n",
              "        vertical-align: top;\n",
              "    }\n",
              "\n",
              "    .dataframe thead th {\n",
              "        text-align: right;\n",
              "    }\n",
              "</style>\n",
              "<table border=\"1\" class=\"dataframe\">\n",
              "  <thead>\n",
              "    <tr style=\"text-align: right;\">\n",
              "      <th></th>\n",
              "      <th>uuid</th>\n",
              "      <th>ord_in_thread</th>\n",
              "      <th>author</th>\n",
              "      <th>published</th>\n",
              "      <th>title</th>\n",
              "      <th>text</th>\n",
              "      <th>language</th>\n",
              "      <th>crawled</th>\n",
              "      <th>site_url</th>\n",
              "      <th>country</th>\n",
              "      <th>domain_rank</th>\n",
              "      <th>thread_title</th>\n",
              "      <th>spam_score</th>\n",
              "      <th>main_img_url</th>\n",
              "      <th>replies_count</th>\n",
              "      <th>participants_count</th>\n",
              "      <th>likes</th>\n",
              "      <th>comments</th>\n",
              "      <th>shares</th>\n",
              "      <th>type</th>\n",
              "      <th>text_lower</th>\n",
              "      <th>thread_lower</th>\n",
              "      <th>num_words</th>\n",
              "      <th>similarity</th>\n",
              "      <th>country_number</th>\n",
              "      <th>language_number</th>\n",
              "      <th>index</th>\n",
              "      <th>topic_number</th>\n",
              "      <th>lda_score</th>\n",
              "      <th>topic_top_words</th>\n",
              "    </tr>\n",
              "  </thead>\n",
              "  <tbody>\n",
              "    <tr>\n",
              "      <th>0</th>\n",
              "      <td>6a175f46bcd24d39b3e962ad0f29936721db70db</td>\n",
              "      <td>0</td>\n",
              "      <td>Barracuda Brigade</td>\n",
              "      <td>2016-10-26T21:41:00.000+03:00</td>\n",
              "      <td>Muslims BUSTED: They Stole Millions In Gov’t B...</td>\n",
              "      <td>Print They should pay all the back all the mon...</td>\n",
              "      <td>english</td>\n",
              "      <td>2016-10-27T01:49:27.168+03:00</td>\n",
              "      <td>100percentfedup.com</td>\n",
              "      <td>US</td>\n",
              "      <td>25689.0</td>\n",
              "      <td>Muslims BUSTED: They Stole Millions In Gov’t B...</td>\n",
              "      <td>0.0</td>\n",
              "      <td>http://bb4sp.com/wp-content/uploads/2016/10/Fu...</td>\n",
              "      <td>0</td>\n",
              "      <td>1</td>\n",
              "      <td>0</td>\n",
              "      <td>0</td>\n",
              "      <td>0</td>\n",
              "      <td>bias</td>\n",
              "      <td>print pay back money plu interest entir famili...</td>\n",
              "      <td>muslim bust stole million govt benefit</td>\n",
              "      <td>46</td>\n",
              "      <td>0</td>\n",
              "      <td>0</td>\n",
              "      <td>0</td>\n",
              "      <td>0</td>\n",
              "      <td>7</td>\n",
              "      <td>0.492957</td>\n",
              "      <td>state obama govern would peopl year presid wor...</td>\n",
              "    </tr>\n",
              "    <tr>\n",
              "      <th>1</th>\n",
              "      <td>2bdc29d12605ef9cf3f09f9875040a7113be5d5b</td>\n",
              "      <td>0</td>\n",
              "      <td>reasoning with facts</td>\n",
              "      <td>2016-10-29T08:47:11.259+03:00</td>\n",
              "      <td>Re: Why Did Attorney General Loretta Lynch Ple...</td>\n",
              "      <td>Why Did Attorney General Loretta Lynch Plead T...</td>\n",
              "      <td>english</td>\n",
              "      <td>2016-10-29T08:47:11.259+03:00</td>\n",
              "      <td>100percentfedup.com</td>\n",
              "      <td>US</td>\n",
              "      <td>25689.0</td>\n",
              "      <td>Re: Why Did Attorney General Loretta Lynch Ple...</td>\n",
              "      <td>0.0</td>\n",
              "      <td>http://bb4sp.com/wp-content/uploads/2016/10/Fu...</td>\n",
              "      <td>0</td>\n",
              "      <td>1</td>\n",
              "      <td>0</td>\n",
              "      <td>0</td>\n",
              "      <td>0</td>\n",
              "      <td>bias</td>\n",
              "      <td>attorney gener loretta lynch plead fifth barra...</td>\n",
              "      <td>attorney gener loretta lynch plead fifth</td>\n",
              "      <td>164</td>\n",
              "      <td>0</td>\n",
              "      <td>0</td>\n",
              "      <td>0</td>\n",
              "      <td>1</td>\n",
              "      <td>0</td>\n",
              "      <td>0.949275</td>\n",
              "      <td>clinton email investig state report hillari co...</td>\n",
              "    </tr>\n",
              "    <tr>\n",
              "      <th>2</th>\n",
              "      <td>c70e149fdd53de5e61c29281100b9de0ed268bc3</td>\n",
              "      <td>0</td>\n",
              "      <td>Barracuda Brigade</td>\n",
              "      <td>2016-10-31T01:41:49.479+02:00</td>\n",
              "      <td>BREAKING: Weiner Cooperating With FBI On Hilla...</td>\n",
              "      <td>Red State : \\nFox News Sunday reported this mo...</td>\n",
              "      <td>english</td>\n",
              "      <td>2016-10-31T01:41:49.479+02:00</td>\n",
              "      <td>100percentfedup.com</td>\n",
              "      <td>US</td>\n",
              "      <td>25689.0</td>\n",
              "      <td>BREAKING: Weiner Cooperating With FBI On Hilla...</td>\n",
              "      <td>0.0</td>\n",
              "      <td>http://bb4sp.com/wp-content/uploads/2016/10/Fu...</td>\n",
              "      <td>0</td>\n",
              "      <td>1</td>\n",
              "      <td>0</td>\n",
              "      <td>0</td>\n",
              "      <td>0</td>\n",
              "      <td>bias</td>\n",
              "      <td>red state fox news sunday report morn anthoni ...</td>\n",
              "      <td>break weiner cooper fbi hillari email investig</td>\n",
              "      <td>130</td>\n",
              "      <td>0</td>\n",
              "      <td>0</td>\n",
              "      <td>0</td>\n",
              "      <td>2</td>\n",
              "      <td>0</td>\n",
              "      <td>0.991962</td>\n",
              "      <td>clinton email investig state report hillari co...</td>\n",
              "    </tr>\n",
              "  </tbody>\n",
              "</table>\n",
              "</div>"
            ],
            "text/plain": [
              "                                       uuid  ...                                    topic_top_words\n",
              "0  6a175f46bcd24d39b3e962ad0f29936721db70db  ...  state obama govern would peopl year presid wor...\n",
              "1  2bdc29d12605ef9cf3f09f9875040a7113be5d5b  ...  clinton email investig state report hillari co...\n",
              "2  c70e149fdd53de5e61c29281100b9de0ed268bc3  ...  clinton email investig state report hillari co...\n",
              "\n",
              "[3 rows x 30 columns]"
            ]
          },
          "metadata": {
            "tags": []
          },
          "execution_count": 33
        }
      ]
    },
    {
      "cell_type": "code",
      "metadata": {
        "id": "YyiJKholUKrW",
        "colab_type": "code",
        "colab": {}
      },
      "source": [
        "# x = fake_newss.drop(['type'],axis=1)\n",
        "# y=fake_news['type']\n",
        "# smote = SMOTE(sampling_strategy='auto')\n",
        "# x_train,y_train = smote.fit_sample(x_train,y_train)"
      ],
      "execution_count": 0,
      "outputs": []
    },
    {
      "cell_type": "code",
      "metadata": {
        "id": "C38OAjHfTr7f",
        "colab_type": "code",
        "outputId": "c86ace1a-5ae6-4f6e-ae55-f93e1929e178",
        "colab": {
          "base_uri": "https://localhost:8080/",
          "height": 362
        }
      },
      "source": [
        "fake_newss.head(2)"
      ],
      "execution_count": 35,
      "outputs": [
        {
          "output_type": "execute_result",
          "data": {
            "text/html": [
              "<div>\n",
              "<style scoped>\n",
              "    .dataframe tbody tr th:only-of-type {\n",
              "        vertical-align: middle;\n",
              "    }\n",
              "\n",
              "    .dataframe tbody tr th {\n",
              "        vertical-align: top;\n",
              "    }\n",
              "\n",
              "    .dataframe thead th {\n",
              "        text-align: right;\n",
              "    }\n",
              "</style>\n",
              "<table border=\"1\" class=\"dataframe\">\n",
              "  <thead>\n",
              "    <tr style=\"text-align: right;\">\n",
              "      <th></th>\n",
              "      <th>uuid</th>\n",
              "      <th>ord_in_thread</th>\n",
              "      <th>author</th>\n",
              "      <th>published</th>\n",
              "      <th>title</th>\n",
              "      <th>text</th>\n",
              "      <th>language</th>\n",
              "      <th>crawled</th>\n",
              "      <th>site_url</th>\n",
              "      <th>country</th>\n",
              "      <th>domain_rank</th>\n",
              "      <th>thread_title</th>\n",
              "      <th>spam_score</th>\n",
              "      <th>main_img_url</th>\n",
              "      <th>replies_count</th>\n",
              "      <th>participants_count</th>\n",
              "      <th>likes</th>\n",
              "      <th>comments</th>\n",
              "      <th>shares</th>\n",
              "      <th>type</th>\n",
              "      <th>text_lower</th>\n",
              "      <th>thread_lower</th>\n",
              "      <th>num_words</th>\n",
              "      <th>similarity</th>\n",
              "      <th>country_number</th>\n",
              "      <th>language_number</th>\n",
              "      <th>index</th>\n",
              "      <th>topic_number</th>\n",
              "      <th>lda_score</th>\n",
              "      <th>topic_top_words</th>\n",
              "    </tr>\n",
              "  </thead>\n",
              "  <tbody>\n",
              "    <tr>\n",
              "      <th>0</th>\n",
              "      <td>6a175f46bcd24d39b3e962ad0f29936721db70db</td>\n",
              "      <td>0</td>\n",
              "      <td>Barracuda Brigade</td>\n",
              "      <td>2016-10-26T21:41:00.000+03:00</td>\n",
              "      <td>Muslims BUSTED: They Stole Millions In Gov’t B...</td>\n",
              "      <td>Print They should pay all the back all the mon...</td>\n",
              "      <td>english</td>\n",
              "      <td>2016-10-27T01:49:27.168+03:00</td>\n",
              "      <td>100percentfedup.com</td>\n",
              "      <td>US</td>\n",
              "      <td>25689.0</td>\n",
              "      <td>Muslims BUSTED: They Stole Millions In Gov’t B...</td>\n",
              "      <td>0.0</td>\n",
              "      <td>http://bb4sp.com/wp-content/uploads/2016/10/Fu...</td>\n",
              "      <td>0</td>\n",
              "      <td>1</td>\n",
              "      <td>0</td>\n",
              "      <td>0</td>\n",
              "      <td>0</td>\n",
              "      <td>bias</td>\n",
              "      <td>print pay back money plu interest entir famili...</td>\n",
              "      <td>muslim bust stole million govt benefit</td>\n",
              "      <td>46</td>\n",
              "      <td>0</td>\n",
              "      <td>0</td>\n",
              "      <td>0</td>\n",
              "      <td>0</td>\n",
              "      <td>7</td>\n",
              "      <td>0.492957</td>\n",
              "      <td>state obama govern would peopl year presid wor...</td>\n",
              "    </tr>\n",
              "    <tr>\n",
              "      <th>1</th>\n",
              "      <td>2bdc29d12605ef9cf3f09f9875040a7113be5d5b</td>\n",
              "      <td>0</td>\n",
              "      <td>reasoning with facts</td>\n",
              "      <td>2016-10-29T08:47:11.259+03:00</td>\n",
              "      <td>Re: Why Did Attorney General Loretta Lynch Ple...</td>\n",
              "      <td>Why Did Attorney General Loretta Lynch Plead T...</td>\n",
              "      <td>english</td>\n",
              "      <td>2016-10-29T08:47:11.259+03:00</td>\n",
              "      <td>100percentfedup.com</td>\n",
              "      <td>US</td>\n",
              "      <td>25689.0</td>\n",
              "      <td>Re: Why Did Attorney General Loretta Lynch Ple...</td>\n",
              "      <td>0.0</td>\n",
              "      <td>http://bb4sp.com/wp-content/uploads/2016/10/Fu...</td>\n",
              "      <td>0</td>\n",
              "      <td>1</td>\n",
              "      <td>0</td>\n",
              "      <td>0</td>\n",
              "      <td>0</td>\n",
              "      <td>bias</td>\n",
              "      <td>attorney gener loretta lynch plead fifth barra...</td>\n",
              "      <td>attorney gener loretta lynch plead fifth</td>\n",
              "      <td>164</td>\n",
              "      <td>0</td>\n",
              "      <td>0</td>\n",
              "      <td>0</td>\n",
              "      <td>1</td>\n",
              "      <td>0</td>\n",
              "      <td>0.949275</td>\n",
              "      <td>clinton email investig state report hillari co...</td>\n",
              "    </tr>\n",
              "  </tbody>\n",
              "</table>\n",
              "</div>"
            ],
            "text/plain": [
              "                                       uuid  ...                                    topic_top_words\n",
              "0  6a175f46bcd24d39b3e962ad0f29936721db70db  ...  state obama govern would peopl year presid wor...\n",
              "1  2bdc29d12605ef9cf3f09f9875040a7113be5d5b  ...  clinton email investig state report hillari co...\n",
              "\n",
              "[2 rows x 30 columns]"
            ]
          },
          "metadata": {
            "tags": []
          },
          "execution_count": 35
        }
      ]
    },
    {
      "cell_type": "markdown",
      "metadata": {
        "id": "qh4swH_Tr_Y3",
        "colab_type": "text"
      },
      "source": [
        "## --------------------------------------------------------------------------------------------------------------------------------------------------------------"
      ]
    },
    {
      "cell_type": "markdown",
      "metadata": {
        "id": "G2a9lLCMpb5f",
        "colab_type": "text"
      },
      "source": [
        "## Social Credibility - Shreyus"
      ]
    },
    {
      "cell_type": "code",
      "metadata": {
        "id": "KQKrnvqYTmFb",
        "colab_type": "code",
        "colab": {}
      },
      "source": [
        "x = fake_newss[['likes','comments','shares','participants_count']]\n",
        "y=fake_news['type']"
      ],
      "execution_count": 0,
      "outputs": []
    },
    {
      "cell_type": "code",
      "metadata": {
        "id": "78kEFvHgsHMT",
        "colab_type": "code",
        "colab": {}
      },
      "source": [
        "y= pd.factorize(y)[0]"
      ],
      "execution_count": 0,
      "outputs": []
    },
    {
      "cell_type": "code",
      "metadata": {
        "id": "hCjVSnOIL7jP",
        "colab_type": "code",
        "outputId": "a6e7b819-d98e-4bd4-eaed-bf74fb30f3bd",
        "colab": {
          "base_uri": "https://localhost:8080/",
          "height": 281
        }
      },
      "source": [
        "# Boxplots for continuous attributes\n",
        "fig, axes = plt.subplots(nrows=1, ncols=4)\n",
        "axes[0].boxplot(x['likes'])\n",
        "axes[0].set_title('likes')\n",
        "axes[1].boxplot(x['comments'])\n",
        "axes[1].set_title('comments')\n",
        "axes[2].boxplot(x['participants_count'])\n",
        "axes[2].set_title('participants_count')\n",
        "axes[3].boxplot(x['shares'])\n",
        "axes[3].set_title('shares')\n",
        "\n",
        "fig.savefig(\"boxplots.png\")"
      ],
      "execution_count": 38,
      "outputs": [
        {
          "output_type": "display_data",
          "data": {
            "image/png": "[encoded data removed]",
            "text/plain": [
              "<Figure size 432x288 with 4 Axes>"
            ]
          },
          "metadata": {
            "tags": [],
            "needs_background": "light"
          }
        }
      ]
    },
    {
      "cell_type": "code",
      "metadata": {
        "id": "xCvyU_TLNpkD",
        "colab_type": "code",
        "colab": {}
      },
      "source": [
        "num=['likes','comments','shares','participants_count']"
      ],
      "execution_count": 0,
      "outputs": []
    },
    {
      "cell_type": "code",
      "metadata": {
        "id": "dKiA4VYEMfJi",
        "colab_type": "code",
        "outputId": "88842980-4252-4fb0-f758-cfb8b61fefdd",
        "colab": {
          "base_uri": "https://localhost:8080/",
          "height": 121
        }
      },
      "source": [
        "maxs=[]\n",
        "mins=[]\n",
        "stds=[]\n",
        "means=[]\n",
        "for x1 in range(len(num)):\n",
        "  maxs.append(x[num[x1]].max())\n",
        "  mins.append(x[num[x1]].min())\n",
        "  stds.append(x[num[x1]].std())\n",
        "  means.append(x[num[x1]].mean())\n",
        "cm = sns.light_palette(\"orange\", as_cmap=True)\n",
        "describe=pd.DataFrame({'columns':num,'max':maxs,'min':mins,'std':stds,'mean':means})\n",
        "describe.style.background_gradient(cmap=cm)"
      ],
      "execution_count": 40,
      "outputs": [
        {
          "output_type": "execute_result",
          "data": {
            "text/html": [
              "<style  type=\"text/css\" >\n",
              "    #T_e8dccde6_94cd_11ea_a0d4_0242ac1c0002row0_col1 {\n",
              "            background-color:  #ffa500;\n",
              "            color:  #000000;\n",
              "        }    #T_e8dccde6_94cd_11ea_a0d4_0242ac1c0002row0_col2 {\n",
              "            background-color:  #fff6e5;\n",
              "            color:  #000000;\n",
              "        }    #T_e8dccde6_94cd_11ea_a0d4_0242ac1c0002row0_col3 {\n",
              "            background-color:  #ffa500;\n",
              "            color:  #000000;\n",
              "        }    #T_e8dccde6_94cd_11ea_a0d4_0242ac1c0002row0_col4 {\n",
              "            background-color:  #ffa500;\n",
              "            color:  #000000;\n",
              "        }    #T_e8dccde6_94cd_11ea_a0d4_0242ac1c0002row1_col1 {\n",
              "            background-color:  #fff6e5;\n",
              "            color:  #000000;\n",
              "        }    #T_e8dccde6_94cd_11ea_a0d4_0242ac1c0002row1_col2 {\n",
              "            background-color:  #fff6e5;\n",
              "            color:  #000000;\n",
              "        }    #T_e8dccde6_94cd_11ea_a0d4_0242ac1c0002row1_col3 {\n",
              "            background-color:  #fff6e5;\n",
              "            color:  #000000;\n",
              "        }    #T_e8dccde6_94cd_11ea_a0d4_0242ac1c0002row1_col4 {\n",
              "            background-color:  #fff6e5;\n",
              "            color:  #000000;\n",
              "        }    #T_e8dccde6_94cd_11ea_a0d4_0242ac1c0002row2_col1 {\n",
              "            background-color:  #ffa500;\n",
              "            color:  #000000;\n",
              "        }    #T_e8dccde6_94cd_11ea_a0d4_0242ac1c0002row2_col2 {\n",
              "            background-color:  #fff6e5;\n",
              "            color:  #000000;\n",
              "        }    #T_e8dccde6_94cd_11ea_a0d4_0242ac1c0002row2_col3 {\n",
              "            background-color:  #ffa500;\n",
              "            color:  #000000;\n",
              "        }    #T_e8dccde6_94cd_11ea_a0d4_0242ac1c0002row2_col4 {\n",
              "            background-color:  #ffa500;\n",
              "            color:  #000000;\n",
              "        }    #T_e8dccde6_94cd_11ea_a0d4_0242ac1c0002row3_col1 {\n",
              "            background-color:  #ffe7ba;\n",
              "            color:  #000000;\n",
              "        }    #T_e8dccde6_94cd_11ea_a0d4_0242ac1c0002row3_col2 {\n",
              "            background-color:  #fff6e5;\n",
              "            color:  #000000;\n",
              "        }    #T_e8dccde6_94cd_11ea_a0d4_0242ac1c0002row3_col3 {\n",
              "            background-color:  #fff0d4;\n",
              "            color:  #000000;\n",
              "        }    #T_e8dccde6_94cd_11ea_a0d4_0242ac1c0002row3_col4 {\n",
              "            background-color:  #ffe9c2;\n",
              "            color:  #000000;\n",
              "        }</style><table id=\"T_e8dccde6_94cd_11ea_a0d4_0242ac1c0002\" ><thead>    <tr>        <th class=\"blank level0\" ></th>        <th class=\"col_heading level0 col0\" >columns</th>        <th class=\"col_heading level0 col1\" >max</th>        <th class=\"col_heading level0 col2\" >min</th>        <th class=\"col_heading level0 col3\" >std</th>        <th class=\"col_heading level0 col4\" >mean</th>    </tr></thead><tbody>\n",
              "                <tr>\n",
              "                        <th id=\"T_e8dccde6_94cd_11ea_a0d4_0242ac1c0002level0_row0\" class=\"row_heading level0 row0\" >0</th>\n",
              "                        <td id=\"T_e8dccde6_94cd_11ea_a0d4_0242ac1c0002row0_col0\" class=\"data row0 col0\" >likes</td>\n",
              "                        <td id=\"T_e8dccde6_94cd_11ea_a0d4_0242ac1c0002row0_col1\" class=\"data row0 col1\" >988</td>\n",
              "                        <td id=\"T_e8dccde6_94cd_11ea_a0d4_0242ac1c0002row0_col2\" class=\"data row0 col2\" >0</td>\n",
              "                        <td id=\"T_e8dccde6_94cd_11ea_a0d4_0242ac1c0002row0_col3\" class=\"data row0 col3\" >79.798949</td>\n",
              "                        <td id=\"T_e8dccde6_94cd_11ea_a0d4_0242ac1c0002row0_col4\" class=\"data row0 col4\" >10.831833</td>\n",
              "            </tr>\n",
              "            <tr>\n",
              "                        <th id=\"T_e8dccde6_94cd_11ea_a0d4_0242ac1c0002level0_row1\" class=\"row_heading level0 row1\" >1</th>\n",
              "                        <td id=\"T_e8dccde6_94cd_11ea_a0d4_0242ac1c0002row1_col0\" class=\"data row1 col0\" >comments</td>\n",
              "                        <td id=\"T_e8dccde6_94cd_11ea_a0d4_0242ac1c0002row1_col1\" class=\"data row1 col1\" >65</td>\n",
              "                        <td id=\"T_e8dccde6_94cd_11ea_a0d4_0242ac1c0002row1_col2\" class=\"data row1 col2\" >0</td>\n",
              "                        <td id=\"T_e8dccde6_94cd_11ea_a0d4_0242ac1c0002row1_col3\" class=\"data row1 col3\" >0.827335</td>\n",
              "                        <td id=\"T_e8dccde6_94cd_11ea_a0d4_0242ac1c0002row1_col4\" class=\"data row1 col4\" >0.038311</td>\n",
              "            </tr>\n",
              "            <tr>\n",
              "                        <th id=\"T_e8dccde6_94cd_11ea_a0d4_0242ac1c0002level0_row2\" class=\"row_heading level0 row2\" >2</th>\n",
              "                        <td id=\"T_e8dccde6_94cd_11ea_a0d4_0242ac1c0002row2_col0\" class=\"data row2 col0\" >shares</td>\n",
              "                        <td id=\"T_e8dccde6_94cd_11ea_a0d4_0242ac1c0002row2_col1\" class=\"data row2 col1\" >988</td>\n",
              "                        <td id=\"T_e8dccde6_94cd_11ea_a0d4_0242ac1c0002row2_col2\" class=\"data row2 col2\" >0</td>\n",
              "                        <td id=\"T_e8dccde6_94cd_11ea_a0d4_0242ac1c0002row2_col3\" class=\"data row2 col3\" >79.798949</td>\n",
              "                        <td id=\"T_e8dccde6_94cd_11ea_a0d4_0242ac1c0002row2_col4\" class=\"data row2 col4\" >10.831833</td>\n",
              "            </tr>\n",
              "            <tr>\n",
              "                        <th id=\"T_e8dccde6_94cd_11ea_a0d4_0242ac1c0002level0_row3\" class=\"row_heading level0 row3\" >3</th>\n",
              "                        <td id=\"T_e8dccde6_94cd_11ea_a0d4_0242ac1c0002row3_col0\" class=\"data row3 col0\" >participants_count</td>\n",
              "                        <td id=\"T_e8dccde6_94cd_11ea_a0d4_0242ac1c0002row3_col1\" class=\"data row3 col1\" >240</td>\n",
              "                        <td id=\"T_e8dccde6_94cd_11ea_a0d4_0242ac1c0002row3_col2\" class=\"data row3 col2\" >0</td>\n",
              "                        <td id=\"T_e8dccde6_94cd_11ea_a0d4_0242ac1c0002row3_col3\" class=\"data row3 col3\" >6.884239</td>\n",
              "                        <td id=\"T_e8dccde6_94cd_11ea_a0d4_0242ac1c0002row3_col4\" class=\"data row3 col4\" >1.727518</td>\n",
              "            </tr>\n",
              "    </tbody></table>"
            ],
            "text/plain": [
              "<pandas.io.formats.style.Styler at 0x7f0953d4b128>"
            ]
          },
          "metadata": {
            "tags": []
          },
          "execution_count": 40
        }
      ]
    },
    {
      "cell_type": "code",
      "metadata": {
        "id": "meZa-Okov2B5",
        "colab_type": "code",
        "outputId": "211cfc71-ab44-42da-d8ff-3a791071647c",
        "colab": {
          "base_uri": "https://localhost:8080/",
          "height": 764
        }
      },
      "source": [
        "# Data distribution plots by every feature by feature\n",
        "sns.pairplot(x[num])"
      ],
      "execution_count": 41,
      "outputs": [
        {
          "output_type": "execute_result",
          "data": {
            "text/plain": [
              "<seaborn.axisgrid.PairGrid at 0x7f095704a7b8>"
            ]
          },
          "metadata": {
            "tags": []
          },
          "execution_count": 41
        },
        {
          "output_type": "display_data",
          "data": {
            "image/png": "[encoded data removed]",
            "text/plain": [
              "<Figure size 720x720 with 20 Axes>"
            ]
          },
          "metadata": {
            "tags": [],
            "needs_background": "light"
          }
        }
      ]
    },
    {
      "cell_type": "code",
      "metadata": {
        "id": "hwylkarePKTq",
        "colab_type": "code",
        "outputId": "d1271394-0c6b-45df-faa2-786b73679507",
        "colab": {
          "base_uri": "https://localhost:8080/",
          "height": 542
        }
      },
      "source": [
        "# correlation plots for numerical features\n",
        "corr = x[num].corr()\n",
        "arr_corr = corr.values\n",
        "arr_corr = np.around(arr_corr, decimals=2)\n",
        "\n",
        "columns = corr.columns.values.tolist()\n",
        "\n",
        "fig = ff.create_annotated_heatmap(arr_corr, x=columns, y=columns, colorscale='Reds')\n",
        "\n",
        "fig.layout.title = 'Pearson Correlation <br> (What Determines Risk in Loans?)'\n",
        "fig.show()"
      ],
      "execution_count": 42,
      "outputs": [
        {
          "output_type": "display_data",
          "data": {
            "text/html": [
              "<html>\n",
              "<head><meta charset=\"utf-8\" /></head>\n",
              "<body>\n",
              "    <div>\n",
              "            <script src=\"https://cdnjs.cloudflare.com/ajax/libs/mathjax/2.7.5/MathJax.js?config=TeX-AMS-MML_SVG\"></script><script type=\"text/javascript\">if (window.MathJax) {MathJax.Hub.Config({SVG: {font: \"STIX-Web\"}});}</script>\n",
              "                <script type=\"text/javascript\">window.PlotlyConfig = {MathJaxConfig: 'local'};</script>\n",
              "        <script src=\"https://cdn.plot.ly/plotly-latest.min.js\"></script>    \n",
              "            <div id=\"d84c6075-353a-443a-b354-34c2416e8376\" class=\"plotly-graph-div\" style=\"height:525px; width:100%;\"></div>\n",
              "            <script type=\"text/javascript\">\n",
              "                \n",
              "                    window.PLOTLYENV=window.PLOTLYENV || {};\n",
              "                    \n",
              "                if (document.getElementById(\"d84c6075-353a-443a-b354-34c2416e8376\")) {\n",
              "                    Plotly.newPlot(\n",
              "                        'd84c6075-353a-443a-b354-34c2416e8376',\n",
              "                        [{\"colorscale\": [[0.0, \"rgb(255,245,240)\"], [0.125, \"rgb(254,224,210)\"], [0.25, \"rgb(252,187,161)\"], [0.375, \"rgb(252,146,114)\"], [0.5, \"rgb(251,106,74)\"], [0.625, \"rgb(239,59,44)\"], [0.75, \"rgb(203,24,29)\"], [0.875, \"rgb(165,15,21)\"], [1.0, \"rgb(103,0,13)\"]], \"reversescale\": false, \"showscale\": false, \"type\": \"heatmap\", \"x\": [\"likes\", \"comments\", \"shares\", \"participants_count\"], \"y\": [\"likes\", \"comments\", \"shares\", \"participants_count\"], \"z\": [[1.0, 0.16, 1.0, -0.02], [0.16, 1.0, 0.16, -0.01], [1.0, 0.16, 1.0, -0.02], [-0.02, -0.01, -0.02, 1.0]]}],\n",
              "                        {\"annotations\": [{\"font\": {\"color\": \"#FFFFFF\"}, \"showarrow\": false, \"text\": \"1.0\", \"x\": \"likes\", \"xref\": \"x\", \"y\": \"likes\", \"yref\": \"y\"}, {\"font\": {\"color\": \"#000000\"}, \"showarrow\": false, \"text\": \"0.16\", \"x\": \"comments\", \"xref\": \"x\", \"y\": \"likes\", \"yref\": \"y\"}, {\"font\": {\"color\": \"#FFFFFF\"}, \"showarrow\": false, \"text\": \"1.0\", \"x\": \"shares\", \"xref\": \"x\", \"y\": \"likes\", \"yref\": \"y\"}, {\"font\": {\"color\": \"#000000\"}, \"showarrow\": false, \"text\": \"-0.02\", \"x\": \"participants_count\", \"xref\": \"x\", \"y\": \"likes\", \"yref\": \"y\"}, {\"font\": {\"color\": \"#000000\"}, \"showarrow\": false, \"text\": \"0.16\", \"x\": \"likes\", \"xref\": \"x\", \"y\": \"comments\", \"yref\": \"y\"}, {\"font\": {\"color\": \"#FFFFFF\"}, \"showarrow\": false, \"text\": \"1.0\", \"x\": \"comments\", \"xref\": \"x\", \"y\": \"comments\", \"yref\": \"y\"}, {\"font\": {\"color\": \"#000000\"}, \"showarrow\": false, \"text\": \"0.16\", \"x\": \"shares\", \"xref\": \"x\", \"y\": \"comments\", \"yref\": \"y\"}, {\"font\": {\"color\": \"#000000\"}, \"showarrow\": false, \"text\": \"-0.01\", \"x\": \"participants_count\", \"xref\": \"x\", \"y\": \"comments\", \"yref\": \"y\"}, {\"font\": {\"color\": \"#FFFFFF\"}, \"showarrow\": false, \"text\": \"1.0\", \"x\": \"likes\", \"xref\": \"x\", \"y\": \"shares\", \"yref\": \"y\"}, {\"font\": {\"color\": \"#000000\"}, \"showarrow\": false, \"text\": \"0.16\", \"x\": \"comments\", \"xref\": \"x\", \"y\": \"shares\", \"yref\": \"y\"}, {\"font\": {\"color\": \"#FFFFFF\"}, \"showarrow\": false, \"text\": \"1.0\", \"x\": \"shares\", \"xref\": \"x\", \"y\": \"shares\", \"yref\": \"y\"}, {\"font\": {\"color\": \"#000000\"}, \"showarrow\": false, \"text\": \"-0.02\", \"x\": \"participants_count\", \"xref\": \"x\", \"y\": \"shares\", \"yref\": \"y\"}, {\"font\": {\"color\": \"#000000\"}, \"showarrow\": false, \"text\": \"-0.02\", \"x\": \"likes\", \"xref\": \"x\", \"y\": \"participants_count\", \"yref\": \"y\"}, {\"font\": {\"color\": \"#000000\"}, \"showarrow\": false, \"text\": \"-0.01\", \"x\": \"comments\", \"xref\": \"x\", \"y\": \"participants_count\", \"yref\": \"y\"}, {\"font\": {\"color\": \"#000000\"}, \"showarrow\": false, \"text\": \"-0.02\", \"x\": \"shares\", \"xref\": \"x\", \"y\": \"participants_count\", \"yref\": \"y\"}, {\"font\": {\"color\": \"#FFFFFF\"}, \"showarrow\": false, \"text\": \"1.0\", \"x\": \"participants_count\", \"xref\": \"x\", \"y\": \"participants_count\", \"yref\": \"y\"}], \"template\": {\"data\": {\"bar\": [{\"error_x\": {\"color\": \"#2a3f5f\"}, \"error_y\": {\"color\": \"#2a3f5f\"}, \"marker\": {\"line\": {\"color\": \"#E5ECF6\", \"width\": 0.5}}, \"type\": \"bar\"}], \"barpolar\": [{\"marker\": {\"line\": {\"color\": \"#E5ECF6\", \"width\": 0.5}}, \"type\": \"barpolar\"}], \"carpet\": [{\"aaxis\": {\"endlinecolor\": \"#2a3f5f\", \"gridcolor\": \"white\", \"linecolor\": \"white\", \"minorgridcolor\": \"white\", \"startlinecolor\": \"#2a3f5f\"}, \"baxis\": {\"endlinecolor\": \"#2a3f5f\", \"gridcolor\": \"white\", \"linecolor\": \"white\", \"minorgridcolor\": \"white\", \"startlinecolor\": \"#2a3f5f\"}, \"type\": \"carpet\"}], \"choropleth\": [{\"colorbar\": {\"outlinewidth\": 0, \"ticks\": \"\"}, \"type\": \"choropleth\"}], \"contour\": [{\"colorbar\": {\"outlinewidth\": 0, \"ticks\": \"\"}, \"colorscale\": [[0.0, \"#0d0887\"], [0.1111111111111111, \"#46039f\"], [0.2222222222222222, \"#7201a8\"], [0.3333333333333333, \"#9c179e\"], [0.4444444444444444, \"#bd3786\"], [0.5555555555555556, \"#d8576b\"], [0.6666666666666666, \"#ed7953\"], [0.7777777777777778, \"#fb9f3a\"], [0.8888888888888888, \"#fdca26\"], [1.0, \"#f0f921\"]], \"type\": \"contour\"}], \"contourcarpet\": [{\"colorbar\": {\"outlinewidth\": 0, \"ticks\": \"\"}, \"type\": \"contourcarpet\"}], \"heatmap\": [{\"colorbar\": {\"outlinewidth\": 0, \"ticks\": \"\"}, \"colorscale\": [[0.0, \"#0d0887\"], [0.1111111111111111, \"#46039f\"], [0.2222222222222222, \"#7201a8\"], [0.3333333333333333, \"#9c179e\"], [0.4444444444444444, \"#bd3786\"], [0.5555555555555556, \"#d8576b\"], [0.6666666666666666, \"#ed7953\"], [0.7777777777777778, \"#fb9f3a\"], [0.8888888888888888, \"#fdca26\"], [1.0, \"#f0f921\"]], \"type\": \"heatmap\"}], \"heatmapgl\": [{\"colorbar\": {\"outlinewidth\": 0, \"ticks\": \"\"}, \"colorscale\": [[0.0, \"#0d0887\"], [0.1111111111111111, \"#46039f\"], [0.2222222222222222, \"#7201a8\"], [0.3333333333333333, \"#9c179e\"], [0.4444444444444444, \"#bd3786\"], [0.5555555555555556, \"#d8576b\"], [0.6666666666666666, \"#ed7953\"], [0.7777777777777778, \"#fb9f3a\"], [0.8888888888888888, \"#fdca26\"], [1.0, \"#f0f921\"]], \"type\": \"heatmapgl\"}], \"histogram\": [{\"marker\": {\"colorbar\": {\"outlinewidth\": 0, \"ticks\": \"\"}}, \"type\": \"histogram\"}], \"histogram2d\": [{\"colorbar\": {\"outlinewidth\": 0, \"ticks\": \"\"}, \"colorscale\": [[0.0, \"#0d0887\"], [0.1111111111111111, \"#46039f\"], [0.2222222222222222, \"#7201a8\"], [0.3333333333333333, \"#9c179e\"], [0.4444444444444444, \"#bd3786\"], [0.5555555555555556, \"#d8576b\"], [0.6666666666666666, \"#ed7953\"], [0.7777777777777778, \"#fb9f3a\"], [0.8888888888888888, \"#fdca26\"], [1.0, \"#f0f921\"]], \"type\": \"histogram2d\"}], \"histogram2dcontour\": [{\"colorbar\": {\"outlinewidth\": 0, \"ticks\": \"\"}, \"colorscale\": [[0.0, \"#0d0887\"], [0.1111111111111111, \"#46039f\"], [0.2222222222222222, \"#7201a8\"], [0.3333333333333333, \"#9c179e\"], [0.4444444444444444, \"#bd3786\"], [0.5555555555555556, \"#d8576b\"], [0.6666666666666666, \"#ed7953\"], [0.7777777777777778, \"#fb9f3a\"], [0.8888888888888888, \"#fdca26\"], [1.0, \"#f0f921\"]], \"type\": \"histogram2dcontour\"}], \"mesh3d\": [{\"colorbar\": {\"outlinewidth\": 0, \"ticks\": \"\"}, \"type\": \"mesh3d\"}], \"parcoords\": [{\"line\": {\"colorbar\": {\"outlinewidth\": 0, \"ticks\": \"\"}}, \"type\": \"parcoords\"}], \"pie\": [{\"automargin\": true, \"type\": \"pie\"}], \"scatter\": [{\"marker\": {\"colorbar\": {\"outlinewidth\": 0, \"ticks\": \"\"}}, \"type\": \"scatter\"}], \"scatter3d\": [{\"line\": {\"colorbar\": {\"outlinewidth\": 0, \"ticks\": \"\"}}, \"marker\": {\"colorbar\": {\"outlinewidth\": 0, \"ticks\": \"\"}}, \"type\": \"scatter3d\"}], \"scattercarpet\": [{\"marker\": {\"colorbar\": {\"outlinewidth\": 0, \"ticks\": \"\"}}, \"type\": \"scattercarpet\"}], \"scattergeo\": [{\"marker\": {\"colorbar\": {\"outlinewidth\": 0, \"ticks\": \"\"}}, \"type\": \"scattergeo\"}], \"scattergl\": [{\"marker\": {\"colorbar\": {\"outlinewidth\": 0, \"ticks\": \"\"}}, \"type\": \"scattergl\"}], \"scattermapbox\": [{\"marker\": {\"colorbar\": {\"outlinewidth\": 0, \"ticks\": \"\"}}, \"type\": \"scattermapbox\"}], \"scatterpolar\": [{\"marker\": {\"colorbar\": {\"outlinewidth\": 0, \"ticks\": \"\"}}, \"type\": \"scatterpolar\"}], \"scatterpolargl\": [{\"marker\": {\"colorbar\": {\"outlinewidth\": 0, \"ticks\": \"\"}}, \"type\": \"scatterpolargl\"}], \"scatterternary\": [{\"marker\": {\"colorbar\": {\"outlinewidth\": 0, \"ticks\": \"\"}}, \"type\": \"scatterternary\"}], \"surface\": [{\"colorbar\": {\"outlinewidth\": 0, \"ticks\": \"\"}, \"colorscale\": [[0.0, \"#0d0887\"], [0.1111111111111111, \"#46039f\"], [0.2222222222222222, \"#7201a8\"], [0.3333333333333333, \"#9c179e\"], [0.4444444444444444, \"#bd3786\"], [0.5555555555555556, \"#d8576b\"], [0.6666666666666666, \"#ed7953\"], [0.7777777777777778, \"#fb9f3a\"], [0.8888888888888888, \"#fdca26\"], [1.0, \"#f0f921\"]], \"type\": \"surface\"}], \"table\": [{\"cells\": {\"fill\": {\"color\": \"#EBF0F8\"}, \"line\": {\"color\": \"white\"}}, \"header\": {\"fill\": {\"color\": \"#C8D4E3\"}, \"line\": {\"color\": \"white\"}}, \"type\": \"table\"}]}, \"layout\": {\"annotationdefaults\": {\"arrowcolor\": \"#2a3f5f\", \"arrowhead\": 0, \"arrowwidth\": 1}, \"coloraxis\": {\"colorbar\": {\"outlinewidth\": 0, \"ticks\": \"\"}}, \"colorscale\": {\"diverging\": [[0, \"#8e0152\"], [0.1, \"#c51b7d\"], [0.2, \"#de77ae\"], [0.3, \"#f1b6da\"], [0.4, \"#fde0ef\"], [0.5, \"#f7f7f7\"], [0.6, \"#e6f5d0\"], [0.7, \"#b8e186\"], [0.8, \"#7fbc41\"], [0.9, \"#4d9221\"], [1, \"#276419\"]], \"sequential\": [[0.0, \"#0d0887\"], [0.1111111111111111, \"#46039f\"], [0.2222222222222222, \"#7201a8\"], [0.3333333333333333, \"#9c179e\"], [0.4444444444444444, \"#bd3786\"], [0.5555555555555556, \"#d8576b\"], [0.6666666666666666, \"#ed7953\"], [0.7777777777777778, \"#fb9f3a\"], [0.8888888888888888, \"#fdca26\"], [1.0, \"#f0f921\"]], \"sequentialminus\": [[0.0, \"#0d0887\"], [0.1111111111111111, \"#46039f\"], [0.2222222222222222, \"#7201a8\"], [0.3333333333333333, \"#9c179e\"], [0.4444444444444444, \"#bd3786\"], [0.5555555555555556, \"#d8576b\"], [0.6666666666666666, \"#ed7953\"], [0.7777777777777778, \"#fb9f3a\"], [0.8888888888888888, \"#fdca26\"], [1.0, \"#f0f921\"]]}, \"colorway\": [\"#636efa\", \"#EF553B\", \"#00cc96\", \"#ab63fa\", \"#FFA15A\", \"#19d3f3\", \"#FF6692\", \"#B6E880\", \"#FF97FF\", \"#FECB52\"], \"font\": {\"color\": \"#2a3f5f\"}, \"geo\": {\"bgcolor\": \"white\", \"lakecolor\": \"white\", \"landcolor\": \"#E5ECF6\", \"showlakes\": true, \"showland\": true, \"subunitcolor\": \"white\"}, \"hoverlabel\": {\"align\": \"left\"}, \"hovermode\": \"closest\", \"mapbox\": {\"style\": \"light\"}, \"paper_bgcolor\": \"white\", \"plot_bgcolor\": \"#E5ECF6\", \"polar\": {\"angularaxis\": {\"gridcolor\": \"white\", \"linecolor\": \"white\", \"ticks\": \"\"}, \"bgcolor\": \"#E5ECF6\", \"radialaxis\": {\"gridcolor\": \"white\", \"linecolor\": \"white\", \"ticks\": \"\"}}, \"scene\": {\"xaxis\": {\"backgroundcolor\": \"#E5ECF6\", \"gridcolor\": \"white\", \"gridwidth\": 2, \"linecolor\": \"white\", \"showbackground\": true, \"ticks\": \"\", \"zerolinecolor\": \"white\"}, \"yaxis\": {\"backgroundcolor\": \"#E5ECF6\", \"gridcolor\": \"white\", \"gridwidth\": 2, \"linecolor\": \"white\", \"showbackground\": true, \"ticks\": \"\", \"zerolinecolor\": \"white\"}, \"zaxis\": {\"backgroundcolor\": \"#E5ECF6\", \"gridcolor\": \"white\", \"gridwidth\": 2, \"linecolor\": \"white\", \"showbackground\": true, \"ticks\": \"\", \"zerolinecolor\": \"white\"}}, \"shapedefaults\": {\"line\": {\"color\": \"#2a3f5f\"}}, \"ternary\": {\"aaxis\": {\"gridcolor\": \"white\", \"linecolor\": \"white\", \"ticks\": \"\"}, \"baxis\": {\"gridcolor\": \"white\", \"linecolor\": \"white\", \"ticks\": \"\"}, \"bgcolor\": \"#E5ECF6\", \"caxis\": {\"gridcolor\": \"white\", \"linecolor\": \"white\", \"ticks\": \"\"}}, \"title\": {\"x\": 0.05}, \"xaxis\": {\"automargin\": true, \"gridcolor\": \"white\", \"linecolor\": \"white\", \"ticks\": \"\", \"title\": {\"standoff\": 15}, \"zerolinecolor\": \"white\", \"zerolinewidth\": 2}, \"yaxis\": {\"automargin\": true, \"gridcolor\": \"white\", \"linecolor\": \"white\", \"ticks\": \"\", \"title\": {\"standoff\": 15}, \"zerolinecolor\": \"white\", \"zerolinewidth\": 2}}}, \"title\": {\"text\": \"Pearson Correlation <br> (What Determines Risk in Loans?)\"}, \"xaxis\": {\"dtick\": 1, \"gridcolor\": \"rgb(0, 0, 0)\", \"side\": \"top\", \"ticks\": \"\"}, \"yaxis\": {\"dtick\": 1, \"ticks\": \"\", \"ticksuffix\": \"  \"}},\n",
              "                        {\"responsive\": true}\n",
              "                    ).then(function(){\n",
              "                            \n",
              "var gd = document.getElementById('d84c6075-353a-443a-b354-34c2416e8376');\n",
              "var x = new MutationObserver(function (mutations, observer) {{\n",
              "        var display = window.getComputedStyle(gd).display;\n",
              "        if (!display || display === 'none') {{\n",
              "            console.log([gd, 'removed!']);\n",
              "            Plotly.purge(gd);\n",
              "            observer.disconnect();\n",
              "        }}\n",
              "}});\n",
              "\n",
              "// Listen for the removal of the full notebook cells\n",
              "var notebookContainer = gd.closest('#notebook-container');\n",
              "if (notebookContainer) {{\n",
              "    x.observe(notebookContainer, {childList: true});\n",
              "}}\n",
              "\n",
              "// Listen for the clearing of the current output cell\n",
              "var outputEl = gd.closest('.output');\n",
              "if (outputEl) {{\n",
              "    x.observe(outputEl, {childList: true});\n",
              "}}\n",
              "\n",
              "                        })\n",
              "                };\n",
              "                \n",
              "            </script>\n",
              "        </div>\n",
              "</body>\n",
              "</html>"
            ]
          },
          "metadata": {
            "tags": []
          }
        }
      ]
    },
    {
      "cell_type": "code",
      "metadata": {
        "id": "ozNj9X2hTmKo",
        "colab_type": "code",
        "colab": {}
      },
      "source": [
        "x_train_soc ,x_test_soc,y_train_soc,y_test_soc = train_test_split(x,y,test_size=0.3)"
      ],
      "execution_count": 0,
      "outputs": []
    },
    {
      "cell_type": "markdown",
      "metadata": {
        "id": "yYNFMJ5rtZdJ",
        "colab_type": "text"
      },
      "source": [
        "### SVM"
      ]
    },
    {
      "cell_type": "code",
      "metadata": {
        "colab_type": "code",
        "id": "rfHJJiwiYphu",
        "colab": {}
      },
      "source": [
        "from sklearn import svm\n",
        "def shr_linearsvmclf(X_train, y_train, X_test, y_test): \n",
        "    print(\"LinearSVC\")\n",
        "    lin_svc = svm.LinearSVC()\n",
        "    lin_svc.fit(X_train, y_train)\n",
        "\n",
        "    y_pred = lin_svc.predict(X_test)\n",
        "    \n",
        "    f1score = f1_score(y_test, y_pred.round(), zero_division=1,average='weighted')\n",
        "    accuracy = accuracy_score(y_test,y_pred.round())\n",
        "    #sai_svm=round(accuracy_score(y_test, y_hat.round())*100,2)\n",
        "\n",
        "    return ({'f1score':f1score,'ACCURACY':accuracy})"
      ],
      "execution_count": 0,
      "outputs": []
    },
    {
      "cell_type": "markdown",
      "metadata": {
        "id": "-QJUdHs7Y09C",
        "colab_type": "text"
      },
      "source": [
        "### NAIVE BAYES"
      ]
    },
    {
      "cell_type": "code",
      "metadata": {
        "colab_type": "code",
        "id": "Awu_vUQkYph0",
        "colab": {}
      },
      "source": [
        "# NAIVE BAYES CLASSIFIER\n",
        "def shr_naive_bayes(X_train, y_train, X_test, y_test):  \n",
        "    print(\"GaussianNB\")\n",
        "    naive = GaussianNB().fit(X_train, y_train)\n",
        "\n",
        "    y_pred = naive.predict(X_test)\n",
        "\n",
        "    f1score = f1_score(y_test, y_pred.round(), zero_division=1,average='weighted')\n",
        "    accuracy = accuracy_score(y_test,y_pred.round())\n",
        "    #sai_nb=round(accuracy_score(y_test, y_hat.round())*100,2)\n",
        "\n",
        "    return ({'f1score':f1score,'ACCURACY':accuracy})"
      ],
      "execution_count": 0,
      "outputs": []
    },
    {
      "cell_type": "markdown",
      "metadata": {
        "id": "9pD6uAX3ZCHb",
        "colab_type": "text"
      },
      "source": [
        "### RANDOM FOREST"
      ]
    },
    {
      "cell_type": "code",
      "metadata": {
        "colab_type": "code",
        "id": "51EeR94HYph3",
        "colab": {}
      },
      "source": [
        "# RANDOM FOREST CLASSIFIER\n",
        "from sklearn.ensemble import RandomForestRegressor\n",
        "\n",
        "rf = RandomForestRegressor()\n",
        "def shr_randomforest(X_train, y_train,X_test, y_test):\n",
        "    print(\"RandomForestClassifier\")\n",
        "    randomforest = RandomForestRegressor().fit(X_train, y_train)\n",
        "\n",
        "    y_pred = randomforest.predict(X_test)\n",
        "\n",
        "    f1score = f1_score(y_test, y_pred.round(), zero_division=1,average='weighted')\n",
        "    accuracy = accuracy_score(y_test,y_pred.round())\n",
        "    #sai_rf=round(accuracy_score(y_test, y_hat.round())*100,2)\n",
        "\n",
        "    return ({'f1score':f1score,'ACCURACY':accuracy})"
      ],
      "execution_count": 0,
      "outputs": []
    },
    {
      "cell_type": "markdown",
      "metadata": {
        "id": "7d6OiPuEZY1Q",
        "colab_type": "text"
      },
      "source": [
        "### XG BOOST"
      ]
    },
    {
      "cell_type": "code",
      "metadata": {
        "id": "aN52WAnMTmtm",
        "colab_type": "code",
        "colab": {}
      },
      "source": [
        "# XG BOOST CLASSIFIER\n",
        "from xgboost import XGBClassifier\n",
        "def shr_xgboost(X_train, y_train,X_test, y_test):\n",
        "\n",
        "  print(\"XG Boost algorithm\")\n",
        "  xg = XGBClassifier(random_state=2)\n",
        "  xg=xg.fit(X_train,y_train)\n",
        "\n",
        "  y_pred = xg.predict(X_test)\n",
        "\n",
        "  f1score = f1_score(y_test, y_pred.round(), zero_division=1,average='weighted')\n",
        "  accuracy = accuracy_score(y_test,y_pred.round())\n",
        "  #shreyus_xgb=round(accuracy_score(y_test, y_hat.round())*100,2)\n",
        "  return accuracy\n"
      ],
      "execution_count": 0,
      "outputs": []
    },
    {
      "cell_type": "code",
      "metadata": {
        "id": "pe5K610uvt1x",
        "colab_type": "code",
        "colab": {}
      },
      "source": [
        " # XG BOOST CLASSIFIER\n",
        "from xgboost import XGBClassifier\n",
        "def shr_social_credibility_score(sample):\n",
        "  x_sample = sample[['likes','comments','shares','participants_count']]\n",
        "  y_sample=sample['type']\n",
        "  print(\"XG Boost algorithm\")\n",
        "  xg = XGBClassifier(random_state=2)\n",
        "  xg=xg.fit(x_train_soc,y_train_soc)\n",
        "\n",
        "  y_pred = xg.predict(x_sample)\n",
        "\n",
        "  \n",
        "  accuracy = accuracy_score(y_sample,y_pred.round())\n",
        "  #shreyus_xgb=round(accuracy_score(y_test, y_hat.round())*100,2)\n",
        "  predicedProb = 1- xg.predict_proba(x_sample)[:,1]\n",
        "  return predicedProb"
      ],
      "execution_count": 0,
      "outputs": []
    },
    {
      "cell_type": "markdown",
      "metadata": {
        "id": "8xisNgb0ZcCg",
        "colab_type": "text"
      },
      "source": [
        "### KNN"
      ]
    },
    {
      "cell_type": "code",
      "metadata": {
        "id": "QIjwjYPITmoR",
        "colab_type": "code",
        "colab": {}
      },
      "source": [
        "from sklearn.neighbors import KNeighborsClassifier\n",
        "def shr_knn(X_train, y_train, X_test, y_test):  \n",
        "    print(\"KNeighborsClassifier\")\n",
        "    knn = KNeighborsClassifier(n_neighbors=3).fit(X_train, y_train)\n",
        "\n",
        "    y_pred = knn.predict(X_test)\n",
        "\n",
        "    f1score = f1_score(y_test, y_pred.round(), zero_division=1,average='weighted')\n",
        "    accuracy = accuracy_score(y_test,y_pred.round())\n",
        "    #shreyus_knn=round(accuracy_score(y_test, y_hat.round())*100,2)\n",
        "    return ({'f1score':f1score,'ACCURACY':accuracy})"
      ],
      "execution_count": 0,
      "outputs": []
    },
    {
      "cell_type": "code",
      "metadata": {
        "id": "1ZfzAPxeaEBg",
        "colab_type": "code",
        "outputId": "c62b6580-0e45-4e55-f2bd-5116da6c0454",
        "colab": {
          "base_uri": "https://localhost:8080/",
          "height": 124
        }
      },
      "source": [
        "shr_linearsvmclf(x_train_soc,y_train_soc,x_test_soc,y_test_soc)"
      ],
      "execution_count": 50,
      "outputs": [
        {
          "output_type": "stream",
          "text": [
            "LinearSVC\n"
          ],
          "name": "stdout"
        },
        {
          "output_type": "stream",
          "text": [
            "/usr/local/lib/python3.6/dist-packages/sklearn/svm/_base.py:947: ConvergenceWarning:\n",
            "\n",
            "Liblinear failed to converge, increase the number of iterations.\n",
            "\n"
          ],
          "name": "stderr"
        },
        {
          "output_type": "execute_result",
          "data": {
            "text/plain": [
              "{'ACCURACY': 0.8853846153846154, 'f1score': 0.8409618947196705}"
            ]
          },
          "metadata": {
            "tags": []
          },
          "execution_count": 50
        }
      ]
    },
    {
      "cell_type": "code",
      "metadata": {
        "id": "mXNzOvyCaEld",
        "colab_type": "code",
        "colab": {
          "base_uri": "https://localhost:8080/",
          "height": 52
        },
        "outputId": "88faf52b-8954-4c51-843a-56b0a447140e"
      },
      "source": [
        "shr_naive_bayes(x_train_soc,y_train_soc,x_test_soc,y_test_soc)"
      ],
      "execution_count": 51,
      "outputs": [
        {
          "output_type": "stream",
          "text": [
            "GaussianNB\n"
          ],
          "name": "stdout"
        },
        {
          "output_type": "execute_result",
          "data": {
            "text/plain": [
              "{'ACCURACY': 0.06282051282051282, 'f1score': 0.0674204857126117}"
            ]
          },
          "metadata": {
            "tags": []
          },
          "execution_count": 51
        }
      ]
    },
    {
      "cell_type": "code",
      "metadata": {
        "id": "O2m8R20TaEi4",
        "colab_type": "code",
        "colab": {
          "base_uri": "https://localhost:8080/",
          "height": 52
        },
        "outputId": "47c7ac9b-fa03-49fd-a3c2-c9e038d8128b"
      },
      "source": [
        "shr_randomforest(x_train_soc,y_train_soc,x_test_soc,y_test_soc)"
      ],
      "execution_count": 52,
      "outputs": [
        {
          "output_type": "stream",
          "text": [
            "RandomForestClassifier\n"
          ],
          "name": "stdout"
        },
        {
          "output_type": "execute_result",
          "data": {
            "text/plain": [
              "{'ACCURACY': 0.8753846153846154, 'f1score': 0.8422540444476878}"
            ]
          },
          "metadata": {
            "tags": []
          },
          "execution_count": 52
        }
      ]
    },
    {
      "cell_type": "code",
      "metadata": {
        "id": "ABXnTdgyaEgb",
        "colab_type": "code",
        "colab": {
          "base_uri": "https://localhost:8080/",
          "height": 52
        },
        "outputId": "93cae4e1-baa9-42fd-e46e-219056a07bd1"
      },
      "source": [
        "shr_xgboost(x_train_soc,y_train_soc,x_test_soc,y_test_soc)"
      ],
      "execution_count": 53,
      "outputs": [
        {
          "output_type": "stream",
          "text": [
            "XG Boost algorithm\n"
          ],
          "name": "stdout"
        },
        {
          "output_type": "execute_result",
          "data": {
            "text/plain": [
              "0.8902564102564102"
            ]
          },
          "metadata": {
            "tags": []
          },
          "execution_count": 53
        }
      ]
    },
    {
      "cell_type": "code",
      "metadata": {
        "id": "Dc0uxPaMaEdx",
        "colab_type": "code",
        "colab": {
          "base_uri": "https://localhost:8080/",
          "height": 52
        },
        "outputId": "e890b613-2986-4f0c-b43d-cf4d34eb17b7"
      },
      "source": [
        "shr_knn(x_train_soc,y_train_soc,x_test_soc,y_test_soc)"
      ],
      "execution_count": 54,
      "outputs": [
        {
          "output_type": "stream",
          "text": [
            "KNeighborsClassifier\n"
          ],
          "name": "stdout"
        },
        {
          "output_type": "execute_result",
          "data": {
            "text/plain": [
              "{'ACCURACY': 0.8848717948717949, 'f1score': 0.8471702474633481}"
            ]
          },
          "metadata": {
            "tags": []
          },
          "execution_count": 54
        }
      ]
    },
    {
      "cell_type": "markdown",
      "metadata": {
        "id": "y9UNUEMyr8Mt",
        "colab_type": "text"
      },
      "source": [
        "## --------------------------------------------------------------------------------------------------------------------------------------------------------------"
      ]
    },
    {
      "cell_type": "markdown",
      "metadata": {
        "id": "znm25ooWyj-j",
        "colab_type": "text"
      },
      "source": [
        "# CREDIBILITY AND REALIABILITY ------ SHAILESHA "
      ]
    },
    {
      "cell_type": "code",
      "metadata": {
        "id": "0EynR-acyx_9",
        "colab_type": "code",
        "colab": {
          "base_uri": "https://localhost:8080/",
          "height": 362
        },
        "outputId": "68062e98-88d3-40f1-87bb-2517a082b6cb"
      },
      "source": [
        "fake_newss.head(2)"
      ],
      "execution_count": 55,
      "outputs": [
        {
          "output_type": "execute_result",
          "data": {
            "text/html": [
              "<div>\n",
              "<style scoped>\n",
              "    .dataframe tbody tr th:only-of-type {\n",
              "        vertical-align: middle;\n",
              "    }\n",
              "\n",
              "    .dataframe tbody tr th {\n",
              "        vertical-align: top;\n",
              "    }\n",
              "\n",
              "    .dataframe thead th {\n",
              "        text-align: right;\n",
              "    }\n",
              "</style>\n",
              "<table border=\"1\" class=\"dataframe\">\n",
              "  <thead>\n",
              "    <tr style=\"text-align: right;\">\n",
              "      <th></th>\n",
              "      <th>uuid</th>\n",
              "      <th>ord_in_thread</th>\n",
              "      <th>author</th>\n",
              "      <th>published</th>\n",
              "      <th>title</th>\n",
              "      <th>text</th>\n",
              "      <th>language</th>\n",
              "      <th>crawled</th>\n",
              "      <th>site_url</th>\n",
              "      <th>country</th>\n",
              "      <th>domain_rank</th>\n",
              "      <th>thread_title</th>\n",
              "      <th>spam_score</th>\n",
              "      <th>main_img_url</th>\n",
              "      <th>replies_count</th>\n",
              "      <th>participants_count</th>\n",
              "      <th>likes</th>\n",
              "      <th>comments</th>\n",
              "      <th>shares</th>\n",
              "      <th>type</th>\n",
              "      <th>text_lower</th>\n",
              "      <th>thread_lower</th>\n",
              "      <th>num_words</th>\n",
              "      <th>similarity</th>\n",
              "      <th>country_number</th>\n",
              "      <th>language_number</th>\n",
              "      <th>index</th>\n",
              "      <th>topic_number</th>\n",
              "      <th>lda_score</th>\n",
              "      <th>topic_top_words</th>\n",
              "    </tr>\n",
              "  </thead>\n",
              "  <tbody>\n",
              "    <tr>\n",
              "      <th>0</th>\n",
              "      <td>6a175f46bcd24d39b3e962ad0f29936721db70db</td>\n",
              "      <td>0</td>\n",
              "      <td>Barracuda Brigade</td>\n",
              "      <td>2016-10-26T21:41:00.000+03:00</td>\n",
              "      <td>Muslims BUSTED: They Stole Millions In Gov’t B...</td>\n",
              "      <td>Print They should pay all the back all the mon...</td>\n",
              "      <td>english</td>\n",
              "      <td>2016-10-27T01:49:27.168+03:00</td>\n",
              "      <td>100percentfedup.com</td>\n",
              "      <td>US</td>\n",
              "      <td>25689.0</td>\n",
              "      <td>Muslims BUSTED: They Stole Millions In Gov’t B...</td>\n",
              "      <td>0.0</td>\n",
              "      <td>http://bb4sp.com/wp-content/uploads/2016/10/Fu...</td>\n",
              "      <td>0</td>\n",
              "      <td>1</td>\n",
              "      <td>0</td>\n",
              "      <td>0</td>\n",
              "      <td>0</td>\n",
              "      <td>bias</td>\n",
              "      <td>print pay back money plu interest entir famili...</td>\n",
              "      <td>muslim bust stole million govt benefit</td>\n",
              "      <td>46</td>\n",
              "      <td>0</td>\n",
              "      <td>0</td>\n",
              "      <td>0</td>\n",
              "      <td>0</td>\n",
              "      <td>7</td>\n",
              "      <td>0.492957</td>\n",
              "      <td>state obama govern would peopl year presid wor...</td>\n",
              "    </tr>\n",
              "    <tr>\n",
              "      <th>1</th>\n",
              "      <td>2bdc29d12605ef9cf3f09f9875040a7113be5d5b</td>\n",
              "      <td>0</td>\n",
              "      <td>reasoning with facts</td>\n",
              "      <td>2016-10-29T08:47:11.259+03:00</td>\n",
              "      <td>Re: Why Did Attorney General Loretta Lynch Ple...</td>\n",
              "      <td>Why Did Attorney General Loretta Lynch Plead T...</td>\n",
              "      <td>english</td>\n",
              "      <td>2016-10-29T08:47:11.259+03:00</td>\n",
              "      <td>100percentfedup.com</td>\n",
              "      <td>US</td>\n",
              "      <td>25689.0</td>\n",
              "      <td>Re: Why Did Attorney General Loretta Lynch Ple...</td>\n",
              "      <td>0.0</td>\n",
              "      <td>http://bb4sp.com/wp-content/uploads/2016/10/Fu...</td>\n",
              "      <td>0</td>\n",
              "      <td>1</td>\n",
              "      <td>0</td>\n",
              "      <td>0</td>\n",
              "      <td>0</td>\n",
              "      <td>bias</td>\n",
              "      <td>attorney gener loretta lynch plead fifth barra...</td>\n",
              "      <td>attorney gener loretta lynch plead fifth</td>\n",
              "      <td>164</td>\n",
              "      <td>0</td>\n",
              "      <td>0</td>\n",
              "      <td>0</td>\n",
              "      <td>1</td>\n",
              "      <td>0</td>\n",
              "      <td>0.949275</td>\n",
              "      <td>clinton email investig state report hillari co...</td>\n",
              "    </tr>\n",
              "  </tbody>\n",
              "</table>\n",
              "</div>"
            ],
            "text/plain": [
              "                                       uuid  ...                                    topic_top_words\n",
              "0  6a175f46bcd24d39b3e962ad0f29936721db70db  ...  state obama govern would peopl year presid wor...\n",
              "1  2bdc29d12605ef9cf3f09f9875040a7113be5d5b  ...  clinton email investig state report hillari co...\n",
              "\n",
              "[2 rows x 30 columns]"
            ]
          },
          "metadata": {
            "tags": []
          },
          "execution_count": 55
        }
      ]
    },
    {
      "cell_type": "code",
      "metadata": {
        "id": "aha7LjEWTmIO",
        "colab_type": "code",
        "colab": {}
      },
      "source": [
        "x = fake_newss[['domain_rank','replies_count','participants_count']]\n",
        "y=fake_news['type']"
      ],
      "execution_count": 0,
      "outputs": []
    },
    {
      "cell_type": "code",
      "metadata": {
        "colab_type": "code",
        "id": "7Ih5qhU1PusY",
        "colab": {
          "base_uri": "https://localhost:8080/",
          "height": 281
        },
        "outputId": "c280c667-afa3-49d1-e521-992fdd8b6fd6"
      },
      "source": [
        "# Boxplots for continuous attributes\n",
        "fig, axes = plt.subplots(nrows=1, ncols=3)\n",
        "axes[0].boxplot(x['domain_rank'])\n",
        "axes[0].set_title('domain_rank')\n",
        "axes[1].boxplot(x['replies_count'])\n",
        "axes[1].set_title('replies_count')\n",
        "axes[2].boxplot(x['participants_count'])\n",
        "axes[2].set_title('participants_count')\n",
        "\n",
        "\n",
        "fig.savefig(\"boxplots.png\")"
      ],
      "execution_count": 57,
      "outputs": [
        {
          "output_type": "display_data",
          "data": {
            "image/png": "[encoded data removed]",
            "text/plain": [
              "<Figure size 432x288 with 3 Axes>"
            ]
          },
          "metadata": {
            "tags": [],
            "needs_background": "light"
          }
        }
      ]
    },
    {
      "cell_type": "code",
      "metadata": {
        "colab_type": "code",
        "id": "pdoS8o25Pusc",
        "colab": {}
      },
      "source": [
        "num=['domain_rank','replies_count','participants_count']"
      ],
      "execution_count": 0,
      "outputs": []
    },
    {
      "cell_type": "code",
      "metadata": {
        "colab_type": "code",
        "id": "sDXGAqP3Pusf",
        "colab": {
          "base_uri": "https://localhost:8080/",
          "height": 100
        },
        "outputId": "c0873391-20d7-46bf-e96f-22002d10dac0"
      },
      "source": [
        "maxs=[]\n",
        "mins=[]\n",
        "stds=[]\n",
        "means=[]\n",
        "for x1 in range(len(num)):\n",
        "  maxs.append(x[num[x1]].max())\n",
        "  mins.append(x[num[x1]].min())\n",
        "  stds.append(x[num[x1]].std())\n",
        "  means.append(x[num[x1]].mean())\n",
        "cm = sns.light_palette(\"orange\", as_cmap=True)\n",
        "describe=pd.DataFrame({'columns':num,'max':maxs,'min':mins,'std':stds,'mean':means})\n",
        "describe.style.background_gradient(cmap=cm)"
      ],
      "execution_count": 59,
      "outputs": [
        {
          "output_type": "execute_result",
          "data": {
            "text/html": [
              "<style  type=\"text/css\" >\n",
              "    #T_efe6dd02_94cd_11ea_a0d4_0242ac1c0002row0_col1 {\n",
              "            background-color:  #ffa500;\n",
              "            color:  #000000;\n",
              "        }    #T_efe6dd02_94cd_11ea_a0d4_0242ac1c0002row0_col2 {\n",
              "            background-color:  #ffa500;\n",
              "            color:  #000000;\n",
              "        }    #T_efe6dd02_94cd_11ea_a0d4_0242ac1c0002row0_col3 {\n",
              "            background-color:  #ffa500;\n",
              "            color:  #000000;\n",
              "        }    #T_efe6dd02_94cd_11ea_a0d4_0242ac1c0002row0_col4 {\n",
              "            background-color:  #ffa500;\n",
              "            color:  #000000;\n",
              "        }    #T_efe6dd02_94cd_11ea_a0d4_0242ac1c0002row1_col1 {\n",
              "            background-color:  #fff6e5;\n",
              "            color:  #000000;\n",
              "        }    #T_efe6dd02_94cd_11ea_a0d4_0242ac1c0002row1_col2 {\n",
              "            background-color:  #fff6e5;\n",
              "            color:  #000000;\n",
              "        }    #T_efe6dd02_94cd_11ea_a0d4_0242ac1c0002row1_col3 {\n",
              "            background-color:  #fff6e5;\n",
              "            color:  #000000;\n",
              "        }    #T_efe6dd02_94cd_11ea_a0d4_0242ac1c0002row1_col4 {\n",
              "            background-color:  #fff6e5;\n",
              "            color:  #000000;\n",
              "        }    #T_efe6dd02_94cd_11ea_a0d4_0242ac1c0002row2_col1 {\n",
              "            background-color:  #fff6e5;\n",
              "            color:  #000000;\n",
              "        }    #T_efe6dd02_94cd_11ea_a0d4_0242ac1c0002row2_col2 {\n",
              "            background-color:  #fff6e5;\n",
              "            color:  #000000;\n",
              "        }    #T_efe6dd02_94cd_11ea_a0d4_0242ac1c0002row2_col3 {\n",
              "            background-color:  #fff6e5;\n",
              "            color:  #000000;\n",
              "        }    #T_efe6dd02_94cd_11ea_a0d4_0242ac1c0002row2_col4 {\n",
              "            background-color:  #fff6e5;\n",
              "            color:  #000000;\n",
              "        }</style><table id=\"T_efe6dd02_94cd_11ea_a0d4_0242ac1c0002\" ><thead>    <tr>        <th class=\"blank level0\" ></th>        <th class=\"col_heading level0 col0\" >columns</th>        <th class=\"col_heading level0 col1\" >max</th>        <th class=\"col_heading level0 col2\" >min</th>        <th class=\"col_heading level0 col3\" >std</th>        <th class=\"col_heading level0 col4\" >mean</th>    </tr></thead><tbody>\n",
              "                <tr>\n",
              "                        <th id=\"T_efe6dd02_94cd_11ea_a0d4_0242ac1c0002level0_row0\" class=\"row_heading level0 row0\" >0</th>\n",
              "                        <td id=\"T_efe6dd02_94cd_11ea_a0d4_0242ac1c0002row0_col0\" class=\"data row0 col0\" >domain_rank</td>\n",
              "                        <td id=\"T_efe6dd02_94cd_11ea_a0d4_0242ac1c0002row0_col1\" class=\"data row0 col1\" >98679.000000</td>\n",
              "                        <td id=\"T_efe6dd02_94cd_11ea_a0d4_0242ac1c0002row0_col2\" class=\"data row0 col2\" >486.000000</td>\n",
              "                        <td id=\"T_efe6dd02_94cd_11ea_a0d4_0242ac1c0002row0_col3\" class=\"data row0 col3\" >22106.012346</td>\n",
              "                        <td id=\"T_efe6dd02_94cd_11ea_a0d4_0242ac1c0002row0_col4\" class=\"data row0 col4\" >36918.588507</td>\n",
              "            </tr>\n",
              "            <tr>\n",
              "                        <th id=\"T_efe6dd02_94cd_11ea_a0d4_0242ac1c0002level0_row1\" class=\"row_heading level0 row1\" >1</th>\n",
              "                        <td id=\"T_efe6dd02_94cd_11ea_a0d4_0242ac1c0002row1_col0\" class=\"data row1 col0\" >replies_count</td>\n",
              "                        <td id=\"T_efe6dd02_94cd_11ea_a0d4_0242ac1c0002row1_col1\" class=\"data row1 col1\" >309.000000</td>\n",
              "                        <td id=\"T_efe6dd02_94cd_11ea_a0d4_0242ac1c0002row1_col2\" class=\"data row1 col2\" >0.000000</td>\n",
              "                        <td id=\"T_efe6dd02_94cd_11ea_a0d4_0242ac1c0002row1_col3\" class=\"data row1 col3\" >9.656838</td>\n",
              "                        <td id=\"T_efe6dd02_94cd_11ea_a0d4_0242ac1c0002row1_col4\" class=\"data row1 col4\" >1.383183</td>\n",
              "            </tr>\n",
              "            <tr>\n",
              "                        <th id=\"T_efe6dd02_94cd_11ea_a0d4_0242ac1c0002level0_row2\" class=\"row_heading level0 row2\" >2</th>\n",
              "                        <td id=\"T_efe6dd02_94cd_11ea_a0d4_0242ac1c0002row2_col0\" class=\"data row2 col0\" >participants_count</td>\n",
              "                        <td id=\"T_efe6dd02_94cd_11ea_a0d4_0242ac1c0002row2_col1\" class=\"data row2 col1\" >240.000000</td>\n",
              "                        <td id=\"T_efe6dd02_94cd_11ea_a0d4_0242ac1c0002row2_col2\" class=\"data row2 col2\" >0.000000</td>\n",
              "                        <td id=\"T_efe6dd02_94cd_11ea_a0d4_0242ac1c0002row2_col3\" class=\"data row2 col3\" >6.884239</td>\n",
              "                        <td id=\"T_efe6dd02_94cd_11ea_a0d4_0242ac1c0002row2_col4\" class=\"data row2 col4\" >1.727518</td>\n",
              "            </tr>\n",
              "    </tbody></table>"
            ],
            "text/plain": [
              "<pandas.io.formats.style.Styler at 0x7f0958027fd0>"
            ]
          },
          "metadata": {
            "tags": []
          },
          "execution_count": 59
        }
      ]
    },
    {
      "cell_type": "code",
      "metadata": {
        "colab_type": "code",
        "id": "RQxRpbPjPush",
        "colab": {
          "base_uri": "https://localhost:8080/",
          "height": 585
        },
        "outputId": "62864232-1d00-4118-c83b-25c2711c1f79"
      },
      "source": [
        "# Data distribution plots by every feature by feature\n",
        "sns.pairplot(x[num])"
      ],
      "execution_count": 60,
      "outputs": [
        {
          "output_type": "execute_result",
          "data": {
            "text/plain": [
              "<seaborn.axisgrid.PairGrid at 0x7f09581749e8>"
            ]
          },
          "metadata": {
            "tags": []
          },
          "execution_count": 60
        },
        {
          "output_type": "display_data",
          "data": {
            "image/png": "[encoded data removed]",
            "text/plain": [
              "<Figure size 540x540 with 12 Axes>"
            ]
          },
          "metadata": {
            "tags": [],
            "needs_background": "light"
          }
        }
      ]
    },
    {
      "cell_type": "code",
      "metadata": {
        "colab_type": "code",
        "id": "yCqLEl6RPusj",
        "colab": {
          "base_uri": "https://localhost:8080/",
          "height": 542
        },
        "outputId": "46ad9836-5fdf-4973-bb71-bad8b0720f9d"
      },
      "source": [
        "# correlation plots for numerical features\n",
        "corr = x[num].corr()\n",
        "arr_corr = corr.values\n",
        "arr_corr = np.around(arr_corr, decimals=2)\n",
        "\n",
        "columns = corr.columns.values.tolist()\n",
        "\n",
        "fig = ff.create_annotated_heatmap(arr_corr, x=columns, y=columns, colorscale='Reds')\n",
        "\n",
        "fig.layout.title = 'Pearson Correlation <br> (What Determines Risk in Loans?)'\n",
        "fig.show()"
      ],
      "execution_count": 61,
      "outputs": [
        {
          "output_type": "display_data",
          "data": {
            "text/html": [
              "<html>\n",
              "<head><meta charset=\"utf-8\" /></head>\n",
              "<body>\n",
              "    <div>\n",
              "            <script src=\"https://cdnjs.cloudflare.com/ajax/libs/mathjax/2.7.5/MathJax.js?config=TeX-AMS-MML_SVG\"></script><script type=\"text/javascript\">if (window.MathJax) {MathJax.Hub.Config({SVG: {font: \"STIX-Web\"}});}</script>\n",
              "                <script type=\"text/javascript\">window.PlotlyConfig = {MathJaxConfig: 'local'};</script>\n",
              "        <script src=\"https://cdn.plot.ly/plotly-latest.min.js\"></script>    \n",
              "            <div id=\"05b20999-68ad-4ca0-9fde-5f3bfab89bad\" class=\"plotly-graph-div\" style=\"height:525px; width:100%;\"></div>\n",
              "            <script type=\"text/javascript\">\n",
              "                \n",
              "                    window.PLOTLYENV=window.PLOTLYENV || {};\n",
              "                    \n",
              "                if (document.getElementById(\"05b20999-68ad-4ca0-9fde-5f3bfab89bad\")) {\n",
              "                    Plotly.newPlot(\n",
              "                        '05b20999-68ad-4ca0-9fde-5f3bfab89bad',\n",
              "                        [{\"colorscale\": [[0.0, \"rgb(255,245,240)\"], [0.125, \"rgb(254,224,210)\"], [0.25, \"rgb(252,187,161)\"], [0.375, \"rgb(252,146,114)\"], [0.5, \"rgb(251,106,74)\"], [0.625, \"rgb(239,59,44)\"], [0.75, \"rgb(203,24,29)\"], [0.875, \"rgb(165,15,21)\"], [1.0, \"rgb(103,0,13)\"]], \"reversescale\": false, \"showscale\": false, \"type\": \"heatmap\", \"x\": [\"domain_rank\", \"replies_count\", \"participants_count\"], \"y\": [\"domain_rank\", \"replies_count\", \"participants_count\"], \"z\": [[1.0, -0.17, -0.17], [-0.17, 1.0, 0.97], [-0.17, 0.97, 1.0]]}],\n",
              "                        {\"annotations\": [{\"font\": {\"color\": \"#FFFFFF\"}, \"showarrow\": false, \"text\": \"1.0\", \"x\": \"domain_rank\", \"xref\": \"x\", \"y\": \"domain_rank\", \"yref\": \"y\"}, {\"font\": {\"color\": \"#000000\"}, \"showarrow\": false, \"text\": \"-0.17\", \"x\": \"replies_count\", \"xref\": \"x\", \"y\": \"domain_rank\", \"yref\": \"y\"}, {\"font\": {\"color\": \"#000000\"}, \"showarrow\": false, \"text\": \"-0.17\", \"x\": \"participants_count\", \"xref\": \"x\", \"y\": \"domain_rank\", \"yref\": \"y\"}, {\"font\": {\"color\": \"#000000\"}, \"showarrow\": false, \"text\": \"-0.17\", \"x\": \"domain_rank\", \"xref\": \"x\", \"y\": \"replies_count\", \"yref\": \"y\"}, {\"font\": {\"color\": \"#FFFFFF\"}, \"showarrow\": false, \"text\": \"1.0\", \"x\": \"replies_count\", \"xref\": \"x\", \"y\": \"replies_count\", \"yref\": \"y\"}, {\"font\": {\"color\": \"#FFFFFF\"}, \"showarrow\": false, \"text\": \"0.97\", \"x\": \"participants_count\", \"xref\": \"x\", \"y\": \"replies_count\", \"yref\": \"y\"}, {\"font\": {\"color\": \"#000000\"}, \"showarrow\": false, \"text\": \"-0.17\", \"x\": \"domain_rank\", \"xref\": \"x\", \"y\": \"participants_count\", \"yref\": \"y\"}, {\"font\": {\"color\": \"#FFFFFF\"}, \"showarrow\": false, \"text\": \"0.97\", \"x\": \"replies_count\", \"xref\": \"x\", \"y\": \"participants_count\", \"yref\": \"y\"}, {\"font\": {\"color\": \"#FFFFFF\"}, \"showarrow\": false, \"text\": \"1.0\", \"x\": \"participants_count\", \"xref\": \"x\", \"y\": \"participants_count\", \"yref\": \"y\"}], \"template\": {\"data\": {\"bar\": [{\"error_x\": {\"color\": \"#2a3f5f\"}, \"error_y\": {\"color\": \"#2a3f5f\"}, \"marker\": {\"line\": {\"color\": \"#E5ECF6\", \"width\": 0.5}}, \"type\": \"bar\"}], \"barpolar\": [{\"marker\": {\"line\": {\"color\": \"#E5ECF6\", \"width\": 0.5}}, \"type\": \"barpolar\"}], \"carpet\": [{\"aaxis\": {\"endlinecolor\": \"#2a3f5f\", \"gridcolor\": \"white\", \"linecolor\": \"white\", \"minorgridcolor\": \"white\", \"startlinecolor\": \"#2a3f5f\"}, \"baxis\": {\"endlinecolor\": \"#2a3f5f\", \"gridcolor\": \"white\", \"linecolor\": \"white\", \"minorgridcolor\": \"white\", \"startlinecolor\": \"#2a3f5f\"}, \"type\": \"carpet\"}], \"choropleth\": [{\"colorbar\": {\"outlinewidth\": 0, \"ticks\": \"\"}, \"type\": \"choropleth\"}], \"contour\": [{\"colorbar\": {\"outlinewidth\": 0, \"ticks\": \"\"}, \"colorscale\": [[0.0, \"#0d0887\"], [0.1111111111111111, \"#46039f\"], [0.2222222222222222, \"#7201a8\"], [0.3333333333333333, \"#9c179e\"], [0.4444444444444444, \"#bd3786\"], [0.5555555555555556, \"#d8576b\"], [0.6666666666666666, \"#ed7953\"], [0.7777777777777778, \"#fb9f3a\"], [0.8888888888888888, \"#fdca26\"], [1.0, \"#f0f921\"]], \"type\": \"contour\"}], \"contourcarpet\": [{\"colorbar\": {\"outlinewidth\": 0, \"ticks\": \"\"}, \"type\": \"contourcarpet\"}], \"heatmap\": [{\"colorbar\": {\"outlinewidth\": 0, \"ticks\": \"\"}, \"colorscale\": [[0.0, \"#0d0887\"], [0.1111111111111111, \"#46039f\"], [0.2222222222222222, \"#7201a8\"], [0.3333333333333333, \"#9c179e\"], [0.4444444444444444, \"#bd3786\"], [0.5555555555555556, \"#d8576b\"], [0.6666666666666666, \"#ed7953\"], [0.7777777777777778, \"#fb9f3a\"], [0.8888888888888888, \"#fdca26\"], [1.0, \"#f0f921\"]], \"type\": \"heatmap\"}], \"heatmapgl\": [{\"colorbar\": {\"outlinewidth\": 0, \"ticks\": \"\"}, \"colorscale\": [[0.0, \"#0d0887\"], [0.1111111111111111, \"#46039f\"], [0.2222222222222222, \"#7201a8\"], [0.3333333333333333, \"#9c179e\"], [0.4444444444444444, \"#bd3786\"], [0.5555555555555556, \"#d8576b\"], [0.6666666666666666, \"#ed7953\"], [0.7777777777777778, \"#fb9f3a\"], [0.8888888888888888, \"#fdca26\"], [1.0, \"#f0f921\"]], \"type\": \"heatmapgl\"}], \"histogram\": [{\"marker\": {\"colorbar\": {\"outlinewidth\": 0, \"ticks\": \"\"}}, \"type\": \"histogram\"}], \"histogram2d\": [{\"colorbar\": {\"outlinewidth\": 0, \"ticks\": \"\"}, \"colorscale\": [[0.0, \"#0d0887\"], [0.1111111111111111, \"#46039f\"], [0.2222222222222222, \"#7201a8\"], [0.3333333333333333, \"#9c179e\"], [0.4444444444444444, \"#bd3786\"], [0.5555555555555556, \"#d8576b\"], [0.6666666666666666, \"#ed7953\"], [0.7777777777777778, \"#fb9f3a\"], [0.8888888888888888, \"#fdca26\"], [1.0, \"#f0f921\"]], \"type\": \"histogram2d\"}], \"histogram2dcontour\": [{\"colorbar\": {\"outlinewidth\": 0, \"ticks\": \"\"}, \"colorscale\": [[0.0, \"#0d0887\"], [0.1111111111111111, \"#46039f\"], [0.2222222222222222, \"#7201a8\"], [0.3333333333333333, \"#9c179e\"], [0.4444444444444444, \"#bd3786\"], [0.5555555555555556, \"#d8576b\"], [0.6666666666666666, \"#ed7953\"], [0.7777777777777778, \"#fb9f3a\"], [0.8888888888888888, \"#fdca26\"], [1.0, \"#f0f921\"]], \"type\": \"histogram2dcontour\"}], \"mesh3d\": [{\"colorbar\": {\"outlinewidth\": 0, \"ticks\": \"\"}, \"type\": \"mesh3d\"}], \"parcoords\": [{\"line\": {\"colorbar\": {\"outlinewidth\": 0, \"ticks\": \"\"}}, \"type\": \"parcoords\"}], \"pie\": [{\"automargin\": true, \"type\": \"pie\"}], \"scatter\": [{\"marker\": {\"colorbar\": {\"outlinewidth\": 0, \"ticks\": \"\"}}, \"type\": \"scatter\"}], \"scatter3d\": [{\"line\": {\"colorbar\": {\"outlinewidth\": 0, \"ticks\": \"\"}}, \"marker\": {\"colorbar\": {\"outlinewidth\": 0, \"ticks\": \"\"}}, \"type\": \"scatter3d\"}], \"scattercarpet\": [{\"marker\": {\"colorbar\": {\"outlinewidth\": 0, \"ticks\": \"\"}}, \"type\": \"scattercarpet\"}], \"scattergeo\": [{\"marker\": {\"colorbar\": {\"outlinewidth\": 0, \"ticks\": \"\"}}, \"type\": \"scattergeo\"}], \"scattergl\": [{\"marker\": {\"colorbar\": {\"outlinewidth\": 0, \"ticks\": \"\"}}, \"type\": \"scattergl\"}], \"scattermapbox\": [{\"marker\": {\"colorbar\": {\"outlinewidth\": 0, \"ticks\": \"\"}}, \"type\": \"scattermapbox\"}], \"scatterpolar\": [{\"marker\": {\"colorbar\": {\"outlinewidth\": 0, \"ticks\": \"\"}}, \"type\": \"scatterpolar\"}], \"scatterpolargl\": [{\"marker\": {\"colorbar\": {\"outlinewidth\": 0, \"ticks\": \"\"}}, \"type\": \"scatterpolargl\"}], \"scatterternary\": [{\"marker\": {\"colorbar\": {\"outlinewidth\": 0, \"ticks\": \"\"}}, \"type\": \"scatterternary\"}], \"surface\": [{\"colorbar\": {\"outlinewidth\": 0, \"ticks\": \"\"}, \"colorscale\": [[0.0, \"#0d0887\"], [0.1111111111111111, \"#46039f\"], [0.2222222222222222, \"#7201a8\"], [0.3333333333333333, \"#9c179e\"], [0.4444444444444444, \"#bd3786\"], [0.5555555555555556, \"#d8576b\"], [0.6666666666666666, \"#ed7953\"], [0.7777777777777778, \"#fb9f3a\"], [0.8888888888888888, \"#fdca26\"], [1.0, \"#f0f921\"]], \"type\": \"surface\"}], \"table\": [{\"cells\": {\"fill\": {\"color\": \"#EBF0F8\"}, \"line\": {\"color\": \"white\"}}, \"header\": {\"fill\": {\"color\": \"#C8D4E3\"}, \"line\": {\"color\": \"white\"}}, \"type\": \"table\"}]}, \"layout\": {\"annotationdefaults\": {\"arrowcolor\": \"#2a3f5f\", \"arrowhead\": 0, \"arrowwidth\": 1}, \"coloraxis\": {\"colorbar\": {\"outlinewidth\": 0, \"ticks\": \"\"}}, \"colorscale\": {\"diverging\": [[0, \"#8e0152\"], [0.1, \"#c51b7d\"], [0.2, \"#de77ae\"], [0.3, \"#f1b6da\"], [0.4, \"#fde0ef\"], [0.5, \"#f7f7f7\"], [0.6, \"#e6f5d0\"], [0.7, \"#b8e186\"], [0.8, \"#7fbc41\"], [0.9, \"#4d9221\"], [1, \"#276419\"]], \"sequential\": [[0.0, \"#0d0887\"], [0.1111111111111111, \"#46039f\"], [0.2222222222222222, \"#7201a8\"], [0.3333333333333333, \"#9c179e\"], [0.4444444444444444, \"#bd3786\"], [0.5555555555555556, \"#d8576b\"], [0.6666666666666666, \"#ed7953\"], [0.7777777777777778, \"#fb9f3a\"], [0.8888888888888888, \"#fdca26\"], [1.0, \"#f0f921\"]], \"sequentialminus\": [[0.0, \"#0d0887\"], [0.1111111111111111, \"#46039f\"], [0.2222222222222222, \"#7201a8\"], [0.3333333333333333, \"#9c179e\"], [0.4444444444444444, \"#bd3786\"], [0.5555555555555556, \"#d8576b\"], [0.6666666666666666, \"#ed7953\"], [0.7777777777777778, \"#fb9f3a\"], [0.8888888888888888, \"#fdca26\"], [1.0, \"#f0f921\"]]}, \"colorway\": [\"#636efa\", \"#EF553B\", \"#00cc96\", \"#ab63fa\", \"#FFA15A\", \"#19d3f3\", \"#FF6692\", \"#B6E880\", \"#FF97FF\", \"#FECB52\"], \"font\": {\"color\": \"#2a3f5f\"}, \"geo\": {\"bgcolor\": \"white\", \"lakecolor\": \"white\", \"landcolor\": \"#E5ECF6\", \"showlakes\": true, \"showland\": true, \"subunitcolor\": \"white\"}, \"hoverlabel\": {\"align\": \"left\"}, \"hovermode\": \"closest\", \"mapbox\": {\"style\": \"light\"}, \"paper_bgcolor\": \"white\", \"plot_bgcolor\": \"#E5ECF6\", \"polar\": {\"angularaxis\": {\"gridcolor\": \"white\", \"linecolor\": \"white\", \"ticks\": \"\"}, \"bgcolor\": \"#E5ECF6\", \"radialaxis\": {\"gridcolor\": \"white\", \"linecolor\": \"white\", \"ticks\": \"\"}}, \"scene\": {\"xaxis\": {\"backgroundcolor\": \"#E5ECF6\", \"gridcolor\": \"white\", \"gridwidth\": 2, \"linecolor\": \"white\", \"showbackground\": true, \"ticks\": \"\", \"zerolinecolor\": \"white\"}, \"yaxis\": {\"backgroundcolor\": \"#E5ECF6\", \"gridcolor\": \"white\", \"gridwidth\": 2, \"linecolor\": \"white\", \"showbackground\": true, \"ticks\": \"\", \"zerolinecolor\": \"white\"}, \"zaxis\": {\"backgroundcolor\": \"#E5ECF6\", \"gridcolor\": \"white\", \"gridwidth\": 2, \"linecolor\": \"white\", \"showbackground\": true, \"ticks\": \"\", \"zerolinecolor\": \"white\"}}, \"shapedefaults\": {\"line\": {\"color\": \"#2a3f5f\"}}, \"ternary\": {\"aaxis\": {\"gridcolor\": \"white\", \"linecolor\": \"white\", \"ticks\": \"\"}, \"baxis\": {\"gridcolor\": \"white\", \"linecolor\": \"white\", \"ticks\": \"\"}, \"bgcolor\": \"#E5ECF6\", \"caxis\": {\"gridcolor\": \"white\", \"linecolor\": \"white\", \"ticks\": \"\"}}, \"title\": {\"x\": 0.05}, \"xaxis\": {\"automargin\": true, \"gridcolor\": \"white\", \"linecolor\": \"white\", \"ticks\": \"\", \"title\": {\"standoff\": 15}, \"zerolinecolor\": \"white\", \"zerolinewidth\": 2}, \"yaxis\": {\"automargin\": true, \"gridcolor\": \"white\", \"linecolor\": \"white\", \"ticks\": \"\", \"title\": {\"standoff\": 15}, \"zerolinecolor\": \"white\", \"zerolinewidth\": 2}}}, \"title\": {\"text\": \"Pearson Correlation <br> (What Determines Risk in Loans?)\"}, \"xaxis\": {\"dtick\": 1, \"gridcolor\": \"rgb(0, 0, 0)\", \"side\": \"top\", \"ticks\": \"\"}, \"yaxis\": {\"dtick\": 1, \"ticks\": \"\", \"ticksuffix\": \"  \"}},\n",
              "                        {\"responsive\": true}\n",
              "                    ).then(function(){\n",
              "                            \n",
              "var gd = document.getElementById('05b20999-68ad-4ca0-9fde-5f3bfab89bad');\n",
              "var x = new MutationObserver(function (mutations, observer) {{\n",
              "        var display = window.getComputedStyle(gd).display;\n",
              "        if (!display || display === 'none') {{\n",
              "            console.log([gd, 'removed!']);\n",
              "            Plotly.purge(gd);\n",
              "            observer.disconnect();\n",
              "        }}\n",
              "}});\n",
              "\n",
              "// Listen for the removal of the full notebook cells\n",
              "var notebookContainer = gd.closest('#notebook-container');\n",
              "if (notebookContainer) {{\n",
              "    x.observe(notebookContainer, {childList: true});\n",
              "}}\n",
              "\n",
              "// Listen for the clearing of the current output cell\n",
              "var outputEl = gd.closest('.output');\n",
              "if (outputEl) {{\n",
              "    x.observe(outputEl, {childList: true});\n",
              "}}\n",
              "\n",
              "                        })\n",
              "                };\n",
              "                \n",
              "            </script>\n",
              "        </div>\n",
              "</body>\n",
              "</html>"
            ]
          },
          "metadata": {
            "tags": []
          }
        }
      ]
    },
    {
      "cell_type": "code",
      "metadata": {
        "id": "ZVqC1wSXybin",
        "colab_type": "code",
        "colab": {}
      },
      "source": [
        "y= pd.factorize(y)[0]"
      ],
      "execution_count": 0,
      "outputs": []
    },
    {
      "cell_type": "code",
      "metadata": {
        "id": "IyYyeQl9ybtC",
        "colab_type": "code",
        "colab": {}
      },
      "source": [
        "x_train_cred ,x_test_cred,y_train_cred,y_test_cred = train_test_split(x,y,test_size=0.3)"
      ],
      "execution_count": 0,
      "outputs": []
    },
    {
      "cell_type": "markdown",
      "metadata": {
        "id": "P6LFkCBfzU6y",
        "colab_type": "text"
      },
      "source": [
        "## SVM"
      ]
    },
    {
      "cell_type": "code",
      "metadata": {
        "id": "JlXlcVNjybyi",
        "colab_type": "code",
        "colab": {}
      },
      "source": [
        "from sklearn import svm\n",
        "def sha_linearsvmclf(X_train, y_train, X_test, y_test): \n",
        "    print(\"LinearSVC\")\n",
        "    lin_svc = svm.LinearSVC()\n",
        "    lin_svc.fit(X_train, y_train)\n",
        "\n",
        "    y_pred = lin_svc.predict(X_test)\n",
        "    \n",
        "    f1score = f1_score(y_test, y_pred.round(), zero_division=1,average='weighted')\n",
        "    accuracy = accuracy_score(y_test,y_pred.round())\n",
        "    #sai_svm=round(accuracy_score(y_test, y_hat.round())*100,2)\n",
        "\n",
        "    return ({'f1score':f1score,'ACCURACY':accuracy})"
      ],
      "execution_count": 0,
      "outputs": []
    },
    {
      "cell_type": "markdown",
      "metadata": {
        "id": "aEXV7BwQzk3L",
        "colab_type": "text"
      },
      "source": [
        "## NAIVE BAYES"
      ]
    },
    {
      "cell_type": "code",
      "metadata": {
        "id": "rc0lO43qyb36",
        "colab_type": "code",
        "colab": {}
      },
      "source": [
        "# NAIVE BAYES CLASSIFIER\n",
        "def sha_naive_bayes(X_train, y_train, X_test, y_test):  \n",
        "    print(\"GaussianNB\")\n",
        "    naive = GaussianNB().fit(X_train, y_train)\n",
        "\n",
        "    y_pred = naive.predict(X_test)\n",
        "\n",
        "    f1score = f1_score(y_test, y_pred.round(), zero_division=1,average='weighted')\n",
        "    accuracy = accuracy_score(y_test,y_pred.round())\n",
        "    #sai_nb=round(accuracy_score(y_test, y_hat.round())*100,2)\n",
        "\n",
        "    return ({'f1score':f1score,'ACCURACY':accuracy})"
      ],
      "execution_count": 0,
      "outputs": []
    },
    {
      "cell_type": "markdown",
      "metadata": {
        "id": "c0-ZFCPvzv_9",
        "colab_type": "text"
      },
      "source": [
        "## RANDOM FOREST"
      ]
    },
    {
      "cell_type": "code",
      "metadata": {
        "id": "8MGqDt2eycBi",
        "colab_type": "code",
        "colab": {}
      },
      "source": [
        "# RANDOM FOREST CLASSIFIER\n",
        "from sklearn.ensemble import RandomForestRegressor\n",
        "\n",
        "rf = RandomForestRegressor()\n",
        "def sha_randomforest(X_train, y_train,X_test, y_test):\n",
        "    print(\"RandomForestClassifier\")\n",
        "    randomforest = RandomForestRegressor().fit(X_train, y_train)\n",
        "\n",
        "    y_pred = randomforest.predict(X_test)\n",
        "\n",
        "    f1score = f1_score(y_test, y_pred.round(), zero_division=1,average='weighted')\n",
        "    accuracy = accuracy_score(y_test,y_pred.round())\n",
        "    #sai_rf=round(accuracy_score(y_test, y_hat.round())*100,2)\n",
        "\n",
        "    return ({'f1score':f1score,'ACCURACY':accuracy})"
      ],
      "execution_count": 0,
      "outputs": []
    },
    {
      "cell_type": "code",
      "metadata": {
        "id": "EhDZ4bsNycJF",
        "colab_type": "code",
        "colab": {}
      },
      "source": [
        "# XG BOOST CLASSIFIER\n",
        "from xgboost import XGBClassifier\n",
        "def sha_xgboost(X_train, y_train,X_test, y_test):\n",
        "\n",
        "  print(\"XG Boost algorithm\")\n",
        "  xg = XGBClassifier(random_state=2)\n",
        "  xg=xg.fit(X_train,y_train)\n",
        "\n",
        "  y_pred = xg.predict(X_test)\n",
        "\n",
        "  f1score = f1_score(y_test, y_pred.round(), zero_division=1,average='weighted')\n",
        "  accuracy = accuracy_score(y_test,y_pred.round())\n",
        "  #sai_xgb=round(accuracy_score(y_test, y_hat.round())*100,2)\n",
        "\n",
        "  return accuracy"
      ],
      "execution_count": 0,
      "outputs": []
    },
    {
      "cell_type": "code",
      "metadata": {
        "id": "DJf2RSFdu_aE",
        "colab_type": "code",
        "colab": {}
      },
      "source": [
        "# XG BOOST CLASSIFIER\n",
        "from xgboost import XGBClassifier\n",
        "def sha_reliability_score(sample):\n",
        "\n",
        "  x_sample=sample[['domain_rank','replies_count','participants_count']]\n",
        "  y_sample=sample['type']\n",
        "  print(\"XG Boost algorithm\")\n",
        "  xg = XGBClassifier(random_state=2)\n",
        "  xg=xg.fit(x_train_cred,y_train_cred)\n",
        "\n",
        "  y_pred = xg.predict(x_sample)\n",
        "\n",
        "\n",
        "  accuracy = accuracy_score(y_sample,y_pred.round())\n",
        "  #sai_xgb=round(accuracy_score(y_test, y_hat.round())*100,2)\n",
        "  \n",
        "  predicedProb =1- xg.predict_proba(x_sample)[:,1]\n",
        "  return predicedProb"
      ],
      "execution_count": 0,
      "outputs": []
    },
    {
      "cell_type": "code",
      "metadata": {
        "id": "Cg0nvNPfycQl",
        "colab_type": "code",
        "colab": {}
      },
      "source": [
        "from sklearn.neighbors import KNeighborsClassifier\n",
        "def sha_knn(X_train, y_train, X_test, y_test):  \n",
        "    print(\"KNeighborsClassifier\")\n",
        "    knn = KNeighborsClassifier(n_neighbors=3).fit(X_train, y_train)\n",
        "\n",
        "    y_pred = knn.predict(X_test)\n",
        "\n",
        "    f1score = f1_score(y_test, y_pred.round(), zero_division=1,average='weighted')\n",
        "    accuracy = accuracy_score(y_test,y_pred.round())\n",
        "    #sai_knn=round(accuracy_score(y_test, y_hat.round())*100,2)\n",
        "\n",
        "    return ({'f1score':f1score,'ACCURACY':accuracy})"
      ],
      "execution_count": 0,
      "outputs": []
    },
    {
      "cell_type": "code",
      "metadata": {
        "id": "uAwu0cvZ_XBT",
        "colab_type": "code",
        "colab": {
          "base_uri": "https://localhost:8080/",
          "height": 35
        },
        "outputId": "792c8475-47f3-4364-91f8-e99d44060446"
      },
      "source": [
        "x_test_cred.shape"
      ],
      "execution_count": 70,
      "outputs": [
        {
          "output_type": "execute_result",
          "data": {
            "text/plain": [
              "(3900, 3)"
            ]
          },
          "metadata": {
            "tags": []
          },
          "execution_count": 70
        }
      ]
    },
    {
      "cell_type": "code",
      "metadata": {
        "id": "BFjTmN83ycN_",
        "colab_type": "code",
        "colab": {
          "base_uri": "https://localhost:8080/",
          "height": 124
        },
        "outputId": "3cf76636-9e49-4fa4-e721-559dced323d2"
      },
      "source": [
        "sha_linearsvmclf(x_train_cred ,y_train_cred,x_test_cred,y_test_cred)"
      ],
      "execution_count": 71,
      "outputs": [
        {
          "output_type": "stream",
          "text": [
            "LinearSVC\n"
          ],
          "name": "stdout"
        },
        {
          "output_type": "stream",
          "text": [
            "/usr/local/lib/python3.6/dist-packages/sklearn/svm/_base.py:947: ConvergenceWarning:\n",
            "\n",
            "Liblinear failed to converge, increase the number of iterations.\n",
            "\n"
          ],
          "name": "stderr"
        },
        {
          "output_type": "execute_result",
          "data": {
            "text/plain": [
              "{'ACCURACY': 0.02846153846153846, 'f1score': 0.05056079527286202}"
            ]
          },
          "metadata": {
            "tags": []
          },
          "execution_count": 71
        }
      ]
    },
    {
      "cell_type": "code",
      "metadata": {
        "id": "G6OwqiFjycMB",
        "colab_type": "code",
        "colab": {
          "base_uri": "https://localhost:8080/",
          "height": 52
        },
        "outputId": "0eb76ed9-3c89-4151-803f-37adb2f25aac"
      },
      "source": [
        "sha_naive_bayes(x_train_cred ,y_train_cred,x_test_cred,y_test_cred)"
      ],
      "execution_count": 72,
      "outputs": [
        {
          "output_type": "stream",
          "text": [
            "GaussianNB\n"
          ],
          "name": "stdout"
        },
        {
          "output_type": "execute_result",
          "data": {
            "text/plain": [
              "{'ACCURACY': 0.31846153846153846, 'f1score': 0.4334142584281443}"
            ]
          },
          "metadata": {
            "tags": []
          },
          "execution_count": 72
        }
      ]
    },
    {
      "cell_type": "code",
      "metadata": {
        "id": "KC5anQT3ycHH",
        "colab_type": "code",
        "colab": {
          "base_uri": "https://localhost:8080/",
          "height": 52
        },
        "outputId": "51c75cf6-1f3c-4229-bda2-e568e1023da8"
      },
      "source": [
        "sha_randomforest(x_train_cred ,y_train_cred,x_test_cred,y_test_cred)"
      ],
      "execution_count": 73,
      "outputs": [
        {
          "output_type": "stream",
          "text": [
            "RandomForestClassifier\n"
          ],
          "name": "stdout"
        },
        {
          "output_type": "execute_result",
          "data": {
            "text/plain": [
              "{'ACCURACY': 0.9864102564102564, 'f1score': 0.9852136889356613}"
            ]
          },
          "metadata": {
            "tags": []
          },
          "execution_count": 73
        }
      ]
    },
    {
      "cell_type": "code",
      "metadata": {
        "id": "cC439Q6kycEs",
        "colab_type": "code",
        "colab": {
          "base_uri": "https://localhost:8080/",
          "height": 52
        },
        "outputId": "189de44d-15de-42ed-ee54-f7a363f7da4f"
      },
      "source": [
        "sha_xgboost(x_train_cred ,y_train_cred,x_test_cred,y_test_cred)"
      ],
      "execution_count": 74,
      "outputs": [
        {
          "output_type": "stream",
          "text": [
            "XG Boost algorithm\n"
          ],
          "name": "stdout"
        },
        {
          "output_type": "execute_result",
          "data": {
            "text/plain": [
              "0.9866666666666667"
            ]
          },
          "metadata": {
            "tags": []
          },
          "execution_count": 74
        }
      ]
    },
    {
      "cell_type": "code",
      "metadata": {
        "id": "lipLFTwxycAN",
        "colab_type": "code",
        "colab": {
          "base_uri": "https://localhost:8080/",
          "height": 52
        },
        "outputId": "19322536-fc02-4f41-9562-851eb71ea67c"
      },
      "source": [
        "sha_knn(x_train_cred ,y_train_cred,x_test_cred,y_test_cred)"
      ],
      "execution_count": 75,
      "outputs": [
        {
          "output_type": "stream",
          "text": [
            "KNeighborsClassifier\n"
          ],
          "name": "stdout"
        },
        {
          "output_type": "execute_result",
          "data": {
            "text/plain": [
              "{'ACCURACY': 0.9869230769230769, 'f1score': 0.985594541471343}"
            ]
          },
          "metadata": {
            "tags": []
          },
          "execution_count": 75
        }
      ]
    },
    {
      "cell_type": "markdown",
      "metadata": {
        "id": "p-AgvvxlrzH0",
        "colab_type": "text"
      },
      "source": [
        "## --------------------------------------------------------------------------------------------------------------------------------------------------------------"
      ]
    },
    {
      "cell_type": "markdown",
      "metadata": {
        "colab_type": "text",
        "id": "7rhOgWuF2olU"
      },
      "source": [
        "# NAIVE REALISM ------ SRILALITHA"
      ]
    },
    {
      "cell_type": "code",
      "metadata": {
        "colab_type": "code",
        "id": "ar7BgVfc2olV",
        "colab": {
          "base_uri": "https://localhost:8080/",
          "height": 362
        },
        "outputId": "6e94ff35-cb1e-48ce-da61-d49087950f00"
      },
      "source": [
        "fake_newss.head(2)"
      ],
      "execution_count": 76,
      "outputs": [
        {
          "output_type": "execute_result",
          "data": {
            "text/html": [
              "<div>\n",
              "<style scoped>\n",
              "    .dataframe tbody tr th:only-of-type {\n",
              "        vertical-align: middle;\n",
              "    }\n",
              "\n",
              "    .dataframe tbody tr th {\n",
              "        vertical-align: top;\n",
              "    }\n",
              "\n",
              "    .dataframe thead th {\n",
              "        text-align: right;\n",
              "    }\n",
              "</style>\n",
              "<table border=\"1\" class=\"dataframe\">\n",
              "  <thead>\n",
              "    <tr style=\"text-align: right;\">\n",
              "      <th></th>\n",
              "      <th>uuid</th>\n",
              "      <th>ord_in_thread</th>\n",
              "      <th>author</th>\n",
              "      <th>published</th>\n",
              "      <th>title</th>\n",
              "      <th>text</th>\n",
              "      <th>language</th>\n",
              "      <th>crawled</th>\n",
              "      <th>site_url</th>\n",
              "      <th>country</th>\n",
              "      <th>domain_rank</th>\n",
              "      <th>thread_title</th>\n",
              "      <th>spam_score</th>\n",
              "      <th>main_img_url</th>\n",
              "      <th>replies_count</th>\n",
              "      <th>participants_count</th>\n",
              "      <th>likes</th>\n",
              "      <th>comments</th>\n",
              "      <th>shares</th>\n",
              "      <th>type</th>\n",
              "      <th>text_lower</th>\n",
              "      <th>thread_lower</th>\n",
              "      <th>num_words</th>\n",
              "      <th>similarity</th>\n",
              "      <th>country_number</th>\n",
              "      <th>language_number</th>\n",
              "      <th>index</th>\n",
              "      <th>topic_number</th>\n",
              "      <th>lda_score</th>\n",
              "      <th>topic_top_words</th>\n",
              "    </tr>\n",
              "  </thead>\n",
              "  <tbody>\n",
              "    <tr>\n",
              "      <th>0</th>\n",
              "      <td>6a175f46bcd24d39b3e962ad0f29936721db70db</td>\n",
              "      <td>0</td>\n",
              "      <td>Barracuda Brigade</td>\n",
              "      <td>2016-10-26T21:41:00.000+03:00</td>\n",
              "      <td>Muslims BUSTED: They Stole Millions In Gov’t B...</td>\n",
              "      <td>Print They should pay all the back all the mon...</td>\n",
              "      <td>english</td>\n",
              "      <td>2016-10-27T01:49:27.168+03:00</td>\n",
              "      <td>100percentfedup.com</td>\n",
              "      <td>US</td>\n",
              "      <td>25689.0</td>\n",
              "      <td>Muslims BUSTED: They Stole Millions In Gov’t B...</td>\n",
              "      <td>0.0</td>\n",
              "      <td>http://bb4sp.com/wp-content/uploads/2016/10/Fu...</td>\n",
              "      <td>0</td>\n",
              "      <td>1</td>\n",
              "      <td>0</td>\n",
              "      <td>0</td>\n",
              "      <td>0</td>\n",
              "      <td>bias</td>\n",
              "      <td>print pay back money plu interest entir famili...</td>\n",
              "      <td>muslim bust stole million govt benefit</td>\n",
              "      <td>46</td>\n",
              "      <td>0</td>\n",
              "      <td>0</td>\n",
              "      <td>0</td>\n",
              "      <td>0</td>\n",
              "      <td>7</td>\n",
              "      <td>0.492957</td>\n",
              "      <td>state obama govern would peopl year presid wor...</td>\n",
              "    </tr>\n",
              "    <tr>\n",
              "      <th>1</th>\n",
              "      <td>2bdc29d12605ef9cf3f09f9875040a7113be5d5b</td>\n",
              "      <td>0</td>\n",
              "      <td>reasoning with facts</td>\n",
              "      <td>2016-10-29T08:47:11.259+03:00</td>\n",
              "      <td>Re: Why Did Attorney General Loretta Lynch Ple...</td>\n",
              "      <td>Why Did Attorney General Loretta Lynch Plead T...</td>\n",
              "      <td>english</td>\n",
              "      <td>2016-10-29T08:47:11.259+03:00</td>\n",
              "      <td>100percentfedup.com</td>\n",
              "      <td>US</td>\n",
              "      <td>25689.0</td>\n",
              "      <td>Re: Why Did Attorney General Loretta Lynch Ple...</td>\n",
              "      <td>0.0</td>\n",
              "      <td>http://bb4sp.com/wp-content/uploads/2016/10/Fu...</td>\n",
              "      <td>0</td>\n",
              "      <td>1</td>\n",
              "      <td>0</td>\n",
              "      <td>0</td>\n",
              "      <td>0</td>\n",
              "      <td>bias</td>\n",
              "      <td>attorney gener loretta lynch plead fifth barra...</td>\n",
              "      <td>attorney gener loretta lynch plead fifth</td>\n",
              "      <td>164</td>\n",
              "      <td>0</td>\n",
              "      <td>0</td>\n",
              "      <td>0</td>\n",
              "      <td>1</td>\n",
              "      <td>0</td>\n",
              "      <td>0.949275</td>\n",
              "      <td>clinton email investig state report hillari co...</td>\n",
              "    </tr>\n",
              "  </tbody>\n",
              "</table>\n",
              "</div>"
            ],
            "text/plain": [
              "                                       uuid  ...                                    topic_top_words\n",
              "0  6a175f46bcd24d39b3e962ad0f29936721db70db  ...  state obama govern would peopl year presid wor...\n",
              "1  2bdc29d12605ef9cf3f09f9875040a7113be5d5b  ...  clinton email investig state report hillari co...\n",
              "\n",
              "[2 rows x 30 columns]"
            ]
          },
          "metadata": {
            "tags": []
          },
          "execution_count": 76
        }
      ]
    },
    {
      "cell_type": "code",
      "metadata": {
        "colab_type": "code",
        "id": "JOtsBLn82olb",
        "colab": {}
      },
      "source": [
        "x = fake_newss[['lda_score','spam_score','domain_rank']]\n",
        "y=fake_news['type']"
      ],
      "execution_count": 0,
      "outputs": []
    },
    {
      "cell_type": "code",
      "metadata": {
        "colab_type": "code",
        "id": "A4Ulf-2f2ole",
        "colab": {}
      },
      "source": [
        "y= pd.factorize(y)[0]"
      ],
      "execution_count": 0,
      "outputs": []
    },
    {
      "cell_type": "code",
      "metadata": {
        "colab_type": "code",
        "id": "poNjR5GGQIVx",
        "colab": {
          "base_uri": "https://localhost:8080/",
          "height": 281
        },
        "outputId": "039bb694-045c-43d0-9f3d-d5a78334b7b2"
      },
      "source": [
        "# Boxplots for continuous attributes\n",
        "fig, axes = plt.subplots(nrows=1, ncols=3)\n",
        "axes[0].boxplot(x['lda_score'])\n",
        "axes[0].set_title('lda_score')\n",
        "axes[1].boxplot(x['spam_score'])\n",
        "axes[1].set_title('spam_score')\n",
        "axes[2].boxplot(x['domain_rank'])\n",
        "axes[2].set_title('domain_rank')\n",
        "\n",
        "\n",
        "fig.savefig(\"boxplots.png\")"
      ],
      "execution_count": 79,
      "outputs": [
        {
          "output_type": "display_data",
          "data": {
            "image/png": "[encoded data removed]",
            "text/plain": [
              "<Figure size 432x288 with 3 Axes>"
            ]
          },
          "metadata": {
            "tags": [],
            "needs_background": "light"
          }
        }
      ]
    },
    {
      "cell_type": "code",
      "metadata": {
        "colab_type": "code",
        "id": "xCVUnK1sQIV0",
        "colab": {}
      },
      "source": [
        "num=['lda_score','spam_score','domain_rank']"
      ],
      "execution_count": 0,
      "outputs": []
    },
    {
      "cell_type": "code",
      "metadata": {
        "colab_type": "code",
        "id": "EkY69o0wQIV3",
        "colab": {
          "base_uri": "https://localhost:8080/",
          "height": 100
        },
        "outputId": "9192e256-b049-4be6-9a1b-161225cc8e48"
      },
      "source": [
        "maxs=[]\n",
        "mins=[]\n",
        "stds=[]\n",
        "means=[]\n",
        "for x1 in range(len(num)):\n",
        "  maxs.append(x[num[x1]].max())\n",
        "  mins.append(x[num[x1]].min())\n",
        "  stds.append(x[num[x1]].std())\n",
        "  means.append(x[num[x1]].mean())\n",
        "cm = sns.light_palette(\"orange\", as_cmap=True)\n",
        "describe=pd.DataFrame({'columns':num,'max':maxs,'min':mins,'std':stds,'mean':means})\n",
        "describe.style.background_gradient(cmap=cm)"
      ],
      "execution_count": 81,
      "outputs": [
        {
          "output_type": "execute_result",
          "data": {
            "text/html": [
              "<style  type=\"text/css\" >\n",
              "    #T_f4382b2c_94cd_11ea_a0d4_0242ac1c0002row0_col1 {\n",
              "            background-color:  #fff6e5;\n",
              "            color:  #000000;\n",
              "        }    #T_f4382b2c_94cd_11ea_a0d4_0242ac1c0002row0_col2 {\n",
              "            background-color:  #fff6e5;\n",
              "            color:  #000000;\n",
              "        }    #T_f4382b2c_94cd_11ea_a0d4_0242ac1c0002row0_col3 {\n",
              "            background-color:  #fff6e5;\n",
              "            color:  #000000;\n",
              "        }    #T_f4382b2c_94cd_11ea_a0d4_0242ac1c0002row0_col4 {\n",
              "            background-color:  #fff6e5;\n",
              "            color:  #000000;\n",
              "        }    #T_f4382b2c_94cd_11ea_a0d4_0242ac1c0002row1_col1 {\n",
              "            background-color:  #fff6e5;\n",
              "            color:  #000000;\n",
              "        }    #T_f4382b2c_94cd_11ea_a0d4_0242ac1c0002row1_col2 {\n",
              "            background-color:  #fff6e5;\n",
              "            color:  #000000;\n",
              "        }    #T_f4382b2c_94cd_11ea_a0d4_0242ac1c0002row1_col3 {\n",
              "            background-color:  #fff6e5;\n",
              "            color:  #000000;\n",
              "        }    #T_f4382b2c_94cd_11ea_a0d4_0242ac1c0002row1_col4 {\n",
              "            background-color:  #fff6e5;\n",
              "            color:  #000000;\n",
              "        }    #T_f4382b2c_94cd_11ea_a0d4_0242ac1c0002row2_col1 {\n",
              "            background-color:  #ffa500;\n",
              "            color:  #000000;\n",
              "        }    #T_f4382b2c_94cd_11ea_a0d4_0242ac1c0002row2_col2 {\n",
              "            background-color:  #ffa500;\n",
              "            color:  #000000;\n",
              "        }    #T_f4382b2c_94cd_11ea_a0d4_0242ac1c0002row2_col3 {\n",
              "            background-color:  #ffa500;\n",
              "            color:  #000000;\n",
              "        }    #T_f4382b2c_94cd_11ea_a0d4_0242ac1c0002row2_col4 {\n",
              "            background-color:  #ffa500;\n",
              "            color:  #000000;\n",
              "        }</style><table id=\"T_f4382b2c_94cd_11ea_a0d4_0242ac1c0002\" ><thead>    <tr>        <th class=\"blank level0\" ></th>        <th class=\"col_heading level0 col0\" >columns</th>        <th class=\"col_heading level0 col1\" >max</th>        <th class=\"col_heading level0 col2\" >min</th>        <th class=\"col_heading level0 col3\" >std</th>        <th class=\"col_heading level0 col4\" >mean</th>    </tr></thead><tbody>\n",
              "                <tr>\n",
              "                        <th id=\"T_f4382b2c_94cd_11ea_a0d4_0242ac1c0002level0_row0\" class=\"row_heading level0 row0\" >0</th>\n",
              "                        <td id=\"T_f4382b2c_94cd_11ea_a0d4_0242ac1c0002row0_col0\" class=\"data row0 col0\" >lda_score</td>\n",
              "                        <td id=\"T_f4382b2c_94cd_11ea_a0d4_0242ac1c0002row0_col1\" class=\"data row0 col1\" >0.999692</td>\n",
              "                        <td id=\"T_f4382b2c_94cd_11ea_a0d4_0242ac1c0002row0_col2\" class=\"data row0 col2\" >0.100000</td>\n",
              "                        <td id=\"T_f4382b2c_94cd_11ea_a0d4_0242ac1c0002row0_col3\" class=\"data row0 col3\" >0.220710</td>\n",
              "                        <td id=\"T_f4382b2c_94cd_11ea_a0d4_0242ac1c0002row0_col4\" class=\"data row0 col4\" >0.717286</td>\n",
              "            </tr>\n",
              "            <tr>\n",
              "                        <th id=\"T_f4382b2c_94cd_11ea_a0d4_0242ac1c0002level0_row1\" class=\"row_heading level0 row1\" >1</th>\n",
              "                        <td id=\"T_f4382b2c_94cd_11ea_a0d4_0242ac1c0002row1_col0\" class=\"data row1 col0\" >spam_score</td>\n",
              "                        <td id=\"T_f4382b2c_94cd_11ea_a0d4_0242ac1c0002row1_col1\" class=\"data row1 col1\" >1.000000</td>\n",
              "                        <td id=\"T_f4382b2c_94cd_11ea_a0d4_0242ac1c0002row1_col2\" class=\"data row1 col2\" >0.000000</td>\n",
              "                        <td id=\"T_f4382b2c_94cd_11ea_a0d4_0242ac1c0002row1_col3\" class=\"data row1 col3\" >0.122889</td>\n",
              "                        <td id=\"T_f4382b2c_94cd_11ea_a0d4_0242ac1c0002row1_col4\" class=\"data row1 col4\" >0.026122</td>\n",
              "            </tr>\n",
              "            <tr>\n",
              "                        <th id=\"T_f4382b2c_94cd_11ea_a0d4_0242ac1c0002level0_row2\" class=\"row_heading level0 row2\" >2</th>\n",
              "                        <td id=\"T_f4382b2c_94cd_11ea_a0d4_0242ac1c0002row2_col0\" class=\"data row2 col0\" >domain_rank</td>\n",
              "                        <td id=\"T_f4382b2c_94cd_11ea_a0d4_0242ac1c0002row2_col1\" class=\"data row2 col1\" >98679.000000</td>\n",
              "                        <td id=\"T_f4382b2c_94cd_11ea_a0d4_0242ac1c0002row2_col2\" class=\"data row2 col2\" >486.000000</td>\n",
              "                        <td id=\"T_f4382b2c_94cd_11ea_a0d4_0242ac1c0002row2_col3\" class=\"data row2 col3\" >22106.012346</td>\n",
              "                        <td id=\"T_f4382b2c_94cd_11ea_a0d4_0242ac1c0002row2_col4\" class=\"data row2 col4\" >36918.588507</td>\n",
              "            </tr>\n",
              "    </tbody></table>"
            ],
            "text/plain": [
              "<pandas.io.formats.style.Styler at 0x7f095776e7b8>"
            ]
          },
          "metadata": {
            "tags": []
          },
          "execution_count": 81
        }
      ]
    },
    {
      "cell_type": "code",
      "metadata": {
        "colab_type": "code",
        "id": "0bazbui2QIV5",
        "colab": {
          "base_uri": "https://localhost:8080/",
          "height": 585
        },
        "outputId": "827c667d-36da-45a5-c65d-5d8c1771cdcf"
      },
      "source": [
        "# Data distribution plots by every feature by feature\n",
        "sns.pairplot(x[num])"
      ],
      "execution_count": 82,
      "outputs": [
        {
          "output_type": "execute_result",
          "data": {
            "text/plain": [
              "<seaborn.axisgrid.PairGrid at 0x7f09575cdb70>"
            ]
          },
          "metadata": {
            "tags": []
          },
          "execution_count": 82
        },
        {
          "output_type": "display_data",
          "data": {
            "image/png": "[encoded data removed]",
            "text/plain": [
              "<Figure size 540x540 with 12 Axes>"
            ]
          },
          "metadata": {
            "tags": [],
            "needs_background": "light"
          }
        }
      ]
    },
    {
      "cell_type": "code",
      "metadata": {
        "colab_type": "code",
        "id": "99vMi2eZQIV8",
        "colab": {
          "base_uri": "https://localhost:8080/",
          "height": 542
        },
        "outputId": "fe1b95dc-6e94-4bef-f8c2-aa30cd1c8419"
      },
      "source": [
        "# correlation plots for numerical features\n",
        "corr = x[num].corr()\n",
        "arr_corr = corr.values\n",
        "arr_corr = np.around(arr_corr, decimals=2)\n",
        "\n",
        "columns = corr.columns.values.tolist()\n",
        "\n",
        "fig = ff.create_annotated_heatmap(arr_corr, x=columns, y=columns, colorscale='Reds')\n",
        "\n",
        "fig.layout.title = 'Pearson Correlation <br> (What Determines Risk in Loans?)'\n",
        "fig.show()"
      ],
      "execution_count": 83,
      "outputs": [
        {
          "output_type": "display_data",
          "data": {
            "text/html": [
              "<html>\n",
              "<head><meta charset=\"utf-8\" /></head>\n",
              "<body>\n",
              "    <div>\n",
              "            <script src=\"https://cdnjs.cloudflare.com/ajax/libs/mathjax/2.7.5/MathJax.js?config=TeX-AMS-MML_SVG\"></script><script type=\"text/javascript\">if (window.MathJax) {MathJax.Hub.Config({SVG: {font: \"STIX-Web\"}});}</script>\n",
              "                <script type=\"text/javascript\">window.PlotlyConfig = {MathJaxConfig: 'local'};</script>\n",
              "        <script src=\"https://cdn.plot.ly/plotly-latest.min.js\"></script>    \n",
              "            <div id=\"122bae8b-0841-4775-8f39-de65a1342b04\" class=\"plotly-graph-div\" style=\"height:525px; width:100%;\"></div>\n",
              "            <script type=\"text/javascript\">\n",
              "                \n",
              "                    window.PLOTLYENV=window.PLOTLYENV || {};\n",
              "                    \n",
              "                if (document.getElementById(\"122bae8b-0841-4775-8f39-de65a1342b04\")) {\n",
              "                    Plotly.newPlot(\n",
              "                        '122bae8b-0841-4775-8f39-de65a1342b04',\n",
              "                        [{\"colorscale\": [[0.0, \"rgb(255,245,240)\"], [0.125, \"rgb(254,224,210)\"], [0.25, \"rgb(252,187,161)\"], [0.375, \"rgb(252,146,114)\"], [0.5, \"rgb(251,106,74)\"], [0.625, \"rgb(239,59,44)\"], [0.75, \"rgb(203,24,29)\"], [0.875, \"rgb(165,15,21)\"], [1.0, \"rgb(103,0,13)\"]], \"reversescale\": false, \"showscale\": false, \"type\": \"heatmap\", \"x\": [\"lda_score\", \"spam_score\", \"domain_rank\"], \"y\": [\"lda_score\", \"spam_score\", \"domain_rank\"], \"z\": [[1.0, 0.0, -0.11], [0.0, 1.0, -0.02], [-0.11, -0.02, 1.0]]}],\n",
              "                        {\"annotations\": [{\"font\": {\"color\": \"#FFFFFF\"}, \"showarrow\": false, \"text\": \"1.0\", \"x\": \"lda_score\", \"xref\": \"x\", \"y\": \"lda_score\", \"yref\": \"y\"}, {\"font\": {\"color\": \"#000000\"}, \"showarrow\": false, \"text\": \"0.0\", \"x\": \"spam_score\", \"xref\": \"x\", \"y\": \"lda_score\", \"yref\": \"y\"}, {\"font\": {\"color\": \"#000000\"}, \"showarrow\": false, \"text\": \"-0.11\", \"x\": \"domain_rank\", \"xref\": \"x\", \"y\": \"lda_score\", \"yref\": \"y\"}, {\"font\": {\"color\": \"#000000\"}, \"showarrow\": false, \"text\": \"0.0\", \"x\": \"lda_score\", \"xref\": \"x\", \"y\": \"spam_score\", \"yref\": \"y\"}, {\"font\": {\"color\": \"#FFFFFF\"}, \"showarrow\": false, \"text\": \"1.0\", \"x\": \"spam_score\", \"xref\": \"x\", \"y\": \"spam_score\", \"yref\": \"y\"}, {\"font\": {\"color\": \"#000000\"}, \"showarrow\": false, \"text\": \"-0.02\", \"x\": \"domain_rank\", \"xref\": \"x\", \"y\": \"spam_score\", \"yref\": \"y\"}, {\"font\": {\"color\": \"#000000\"}, \"showarrow\": false, \"text\": \"-0.11\", \"x\": \"lda_score\", \"xref\": \"x\", \"y\": \"domain_rank\", \"yref\": \"y\"}, {\"font\": {\"color\": \"#000000\"}, \"showarrow\": false, \"text\": \"-0.02\", \"x\": \"spam_score\", \"xref\": \"x\", \"y\": \"domain_rank\", \"yref\": \"y\"}, {\"font\": {\"color\": \"#FFFFFF\"}, \"showarrow\": false, \"text\": \"1.0\", \"x\": \"domain_rank\", \"xref\": \"x\", \"y\": \"domain_rank\", \"yref\": \"y\"}], \"template\": {\"data\": {\"bar\": [{\"error_x\": {\"color\": \"#2a3f5f\"}, \"error_y\": {\"color\": \"#2a3f5f\"}, \"marker\": {\"line\": {\"color\": \"#E5ECF6\", \"width\": 0.5}}, \"type\": \"bar\"}], \"barpolar\": [{\"marker\": {\"line\": {\"color\": \"#E5ECF6\", \"width\": 0.5}}, \"type\": \"barpolar\"}], \"carpet\": [{\"aaxis\": {\"endlinecolor\": \"#2a3f5f\", \"gridcolor\": \"white\", \"linecolor\": \"white\", \"minorgridcolor\": \"white\", \"startlinecolor\": \"#2a3f5f\"}, \"baxis\": {\"endlinecolor\": \"#2a3f5f\", \"gridcolor\": \"white\", \"linecolor\": \"white\", \"minorgridcolor\": \"white\", \"startlinecolor\": \"#2a3f5f\"}, \"type\": \"carpet\"}], \"choropleth\": [{\"colorbar\": {\"outlinewidth\": 0, \"ticks\": \"\"}, \"type\": \"choropleth\"}], \"contour\": [{\"colorbar\": {\"outlinewidth\": 0, \"ticks\": \"\"}, \"colorscale\": [[0.0, \"#0d0887\"], [0.1111111111111111, \"#46039f\"], [0.2222222222222222, \"#7201a8\"], [0.3333333333333333, \"#9c179e\"], [0.4444444444444444, \"#bd3786\"], [0.5555555555555556, \"#d8576b\"], [0.6666666666666666, \"#ed7953\"], [0.7777777777777778, \"#fb9f3a\"], [0.8888888888888888, \"#fdca26\"], [1.0, \"#f0f921\"]], \"type\": \"contour\"}], \"contourcarpet\": [{\"colorbar\": {\"outlinewidth\": 0, \"ticks\": \"\"}, \"type\": \"contourcarpet\"}], \"heatmap\": [{\"colorbar\": {\"outlinewidth\": 0, \"ticks\": \"\"}, \"colorscale\": [[0.0, \"#0d0887\"], [0.1111111111111111, \"#46039f\"], [0.2222222222222222, \"#7201a8\"], [0.3333333333333333, \"#9c179e\"], [0.4444444444444444, \"#bd3786\"], [0.5555555555555556, \"#d8576b\"], [0.6666666666666666, \"#ed7953\"], [0.7777777777777778, \"#fb9f3a\"], [0.8888888888888888, \"#fdca26\"], [1.0, \"#f0f921\"]], \"type\": \"heatmap\"}], \"heatmapgl\": [{\"colorbar\": {\"outlinewidth\": 0, \"ticks\": \"\"}, \"colorscale\": [[0.0, \"#0d0887\"], [0.1111111111111111, \"#46039f\"], [0.2222222222222222, \"#7201a8\"], [0.3333333333333333, \"#9c179e\"], [0.4444444444444444, \"#bd3786\"], [0.5555555555555556, \"#d8576b\"], [0.6666666666666666, \"#ed7953\"], [0.7777777777777778, \"#fb9f3a\"], [0.8888888888888888, \"#fdca26\"], [1.0, \"#f0f921\"]], \"type\": \"heatmapgl\"}], \"histogram\": [{\"marker\": {\"colorbar\": {\"outlinewidth\": 0, \"ticks\": \"\"}}, \"type\": \"histogram\"}], \"histogram2d\": [{\"colorbar\": {\"outlinewidth\": 0, \"ticks\": \"\"}, \"colorscale\": [[0.0, \"#0d0887\"], [0.1111111111111111, \"#46039f\"], [0.2222222222222222, \"#7201a8\"], [0.3333333333333333, \"#9c179e\"], [0.4444444444444444, \"#bd3786\"], [0.5555555555555556, \"#d8576b\"], [0.6666666666666666, \"#ed7953\"], [0.7777777777777778, \"#fb9f3a\"], [0.8888888888888888, \"#fdca26\"], [1.0, \"#f0f921\"]], \"type\": \"histogram2d\"}], \"histogram2dcontour\": [{\"colorbar\": {\"outlinewidth\": 0, \"ticks\": \"\"}, \"colorscale\": [[0.0, \"#0d0887\"], [0.1111111111111111, \"#46039f\"], [0.2222222222222222, \"#7201a8\"], [0.3333333333333333, \"#9c179e\"], [0.4444444444444444, \"#bd3786\"], [0.5555555555555556, \"#d8576b\"], [0.6666666666666666, \"#ed7953\"], [0.7777777777777778, \"#fb9f3a\"], [0.8888888888888888, \"#fdca26\"], [1.0, \"#f0f921\"]], \"type\": \"histogram2dcontour\"}], \"mesh3d\": [{\"colorbar\": {\"outlinewidth\": 0, \"ticks\": \"\"}, \"type\": \"mesh3d\"}], \"parcoords\": [{\"line\": {\"colorbar\": {\"outlinewidth\": 0, \"ticks\": \"\"}}, \"type\": \"parcoords\"}], \"pie\": [{\"automargin\": true, \"type\": \"pie\"}], \"scatter\": [{\"marker\": {\"colorbar\": {\"outlinewidth\": 0, \"ticks\": \"\"}}, \"type\": \"scatter\"}], \"scatter3d\": [{\"line\": {\"colorbar\": {\"outlinewidth\": 0, \"ticks\": \"\"}}, \"marker\": {\"colorbar\": {\"outlinewidth\": 0, \"ticks\": \"\"}}, \"type\": \"scatter3d\"}], \"scattercarpet\": [{\"marker\": {\"colorbar\": {\"outlinewidth\": 0, \"ticks\": \"\"}}, \"type\": \"scattercarpet\"}], \"scattergeo\": [{\"marker\": {\"colorbar\": {\"outlinewidth\": 0, \"ticks\": \"\"}}, \"type\": \"scattergeo\"}], \"scattergl\": [{\"marker\": {\"colorbar\": {\"outlinewidth\": 0, \"ticks\": \"\"}}, \"type\": \"scattergl\"}], \"scattermapbox\": [{\"marker\": {\"colorbar\": {\"outlinewidth\": 0, \"ticks\": \"\"}}, \"type\": \"scattermapbox\"}], \"scatterpolar\": [{\"marker\": {\"colorbar\": {\"outlinewidth\": 0, \"ticks\": \"\"}}, \"type\": \"scatterpolar\"}], \"scatterpolargl\": [{\"marker\": {\"colorbar\": {\"outlinewidth\": 0, \"ticks\": \"\"}}, \"type\": \"scatterpolargl\"}], \"scatterternary\": [{\"marker\": {\"colorbar\": {\"outlinewidth\": 0, \"ticks\": \"\"}}, \"type\": \"scatterternary\"}], \"surface\": [{\"colorbar\": {\"outlinewidth\": 0, \"ticks\": \"\"}, \"colorscale\": [[0.0, \"#0d0887\"], [0.1111111111111111, \"#46039f\"], [0.2222222222222222, \"#7201a8\"], [0.3333333333333333, \"#9c179e\"], [0.4444444444444444, \"#bd3786\"], [0.5555555555555556, \"#d8576b\"], [0.6666666666666666, \"#ed7953\"], [0.7777777777777778, \"#fb9f3a\"], [0.8888888888888888, \"#fdca26\"], [1.0, \"#f0f921\"]], \"type\": \"surface\"}], \"table\": [{\"cells\": {\"fill\": {\"color\": \"#EBF0F8\"}, \"line\": {\"color\": \"white\"}}, \"header\": {\"fill\": {\"color\": \"#C8D4E3\"}, \"line\": {\"color\": \"white\"}}, \"type\": \"table\"}]}, \"layout\": {\"annotationdefaults\": {\"arrowcolor\": \"#2a3f5f\", \"arrowhead\": 0, \"arrowwidth\": 1}, \"coloraxis\": {\"colorbar\": {\"outlinewidth\": 0, \"ticks\": \"\"}}, \"colorscale\": {\"diverging\": [[0, \"#8e0152\"], [0.1, \"#c51b7d\"], [0.2, \"#de77ae\"], [0.3, \"#f1b6da\"], [0.4, \"#fde0ef\"], [0.5, \"#f7f7f7\"], [0.6, \"#e6f5d0\"], [0.7, \"#b8e186\"], [0.8, \"#7fbc41\"], [0.9, \"#4d9221\"], [1, \"#276419\"]], \"sequential\": [[0.0, \"#0d0887\"], [0.1111111111111111, \"#46039f\"], [0.2222222222222222, \"#7201a8\"], [0.3333333333333333, \"#9c179e\"], [0.4444444444444444, \"#bd3786\"], [0.5555555555555556, \"#d8576b\"], [0.6666666666666666, \"#ed7953\"], [0.7777777777777778, \"#fb9f3a\"], [0.8888888888888888, \"#fdca26\"], [1.0, \"#f0f921\"]], \"sequentialminus\": [[0.0, \"#0d0887\"], [0.1111111111111111, \"#46039f\"], [0.2222222222222222, \"#7201a8\"], [0.3333333333333333, \"#9c179e\"], [0.4444444444444444, \"#bd3786\"], [0.5555555555555556, \"#d8576b\"], [0.6666666666666666, \"#ed7953\"], [0.7777777777777778, \"#fb9f3a\"], [0.8888888888888888, \"#fdca26\"], [1.0, \"#f0f921\"]]}, \"colorway\": [\"#636efa\", \"#EF553B\", \"#00cc96\", \"#ab63fa\", \"#FFA15A\", \"#19d3f3\", \"#FF6692\", \"#B6E880\", \"#FF97FF\", \"#FECB52\"], \"font\": {\"color\": \"#2a3f5f\"}, \"geo\": {\"bgcolor\": \"white\", \"lakecolor\": \"white\", \"landcolor\": \"#E5ECF6\", \"showlakes\": true, \"showland\": true, \"subunitcolor\": \"white\"}, \"hoverlabel\": {\"align\": \"left\"}, \"hovermode\": \"closest\", \"mapbox\": {\"style\": \"light\"}, \"paper_bgcolor\": \"white\", \"plot_bgcolor\": \"#E5ECF6\", \"polar\": {\"angularaxis\": {\"gridcolor\": \"white\", \"linecolor\": \"white\", \"ticks\": \"\"}, \"bgcolor\": \"#E5ECF6\", \"radialaxis\": {\"gridcolor\": \"white\", \"linecolor\": \"white\", \"ticks\": \"\"}}, \"scene\": {\"xaxis\": {\"backgroundcolor\": \"#E5ECF6\", \"gridcolor\": \"white\", \"gridwidth\": 2, \"linecolor\": \"white\", \"showbackground\": true, \"ticks\": \"\", \"zerolinecolor\": \"white\"}, \"yaxis\": {\"backgroundcolor\": \"#E5ECF6\", \"gridcolor\": \"white\", \"gridwidth\": 2, \"linecolor\": \"white\", \"showbackground\": true, \"ticks\": \"\", \"zerolinecolor\": \"white\"}, \"zaxis\": {\"backgroundcolor\": \"#E5ECF6\", \"gridcolor\": \"white\", \"gridwidth\": 2, \"linecolor\": \"white\", \"showbackground\": true, \"ticks\": \"\", \"zerolinecolor\": \"white\"}}, \"shapedefaults\": {\"line\": {\"color\": \"#2a3f5f\"}}, \"ternary\": {\"aaxis\": {\"gridcolor\": \"white\", \"linecolor\": \"white\", \"ticks\": \"\"}, \"baxis\": {\"gridcolor\": \"white\", \"linecolor\": \"white\", \"ticks\": \"\"}, \"bgcolor\": \"#E5ECF6\", \"caxis\": {\"gridcolor\": \"white\", \"linecolor\": \"white\", \"ticks\": \"\"}}, \"title\": {\"x\": 0.05}, \"xaxis\": {\"automargin\": true, \"gridcolor\": \"white\", \"linecolor\": \"white\", \"ticks\": \"\", \"title\": {\"standoff\": 15}, \"zerolinecolor\": \"white\", \"zerolinewidth\": 2}, \"yaxis\": {\"automargin\": true, \"gridcolor\": \"white\", \"linecolor\": \"white\", \"ticks\": \"\", \"title\": {\"standoff\": 15}, \"zerolinecolor\": \"white\", \"zerolinewidth\": 2}}}, \"title\": {\"text\": \"Pearson Correlation <br> (What Determines Risk in Loans?)\"}, \"xaxis\": {\"dtick\": 1, \"gridcolor\": \"rgb(0, 0, 0)\", \"side\": \"top\", \"ticks\": \"\"}, \"yaxis\": {\"dtick\": 1, \"ticks\": \"\", \"ticksuffix\": \"  \"}},\n",
              "                        {\"responsive\": true}\n",
              "                    ).then(function(){\n",
              "                            \n",
              "var gd = document.getElementById('122bae8b-0841-4775-8f39-de65a1342b04');\n",
              "var x = new MutationObserver(function (mutations, observer) {{\n",
              "        var display = window.getComputedStyle(gd).display;\n",
              "        if (!display || display === 'none') {{\n",
              "            console.log([gd, 'removed!']);\n",
              "            Plotly.purge(gd);\n",
              "            observer.disconnect();\n",
              "        }}\n",
              "}});\n",
              "\n",
              "// Listen for the removal of the full notebook cells\n",
              "var notebookContainer = gd.closest('#notebook-container');\n",
              "if (notebookContainer) {{\n",
              "    x.observe(notebookContainer, {childList: true});\n",
              "}}\n",
              "\n",
              "// Listen for the clearing of the current output cell\n",
              "var outputEl = gd.closest('.output');\n",
              "if (outputEl) {{\n",
              "    x.observe(outputEl, {childList: true});\n",
              "}}\n",
              "\n",
              "                        })\n",
              "                };\n",
              "                \n",
              "            </script>\n",
              "        </div>\n",
              "</body>\n",
              "</html>"
            ]
          },
          "metadata": {
            "tags": []
          }
        }
      ]
    },
    {
      "cell_type": "code",
      "metadata": {
        "colab_type": "code",
        "id": "cX0G-ldA2olg",
        "colab": {}
      },
      "source": [
        "x_train_nr ,x_test_nr,y_train_nr,y_test_nr = train_test_split(x,y,test_size=0.3)"
      ],
      "execution_count": 0,
      "outputs": []
    },
    {
      "cell_type": "markdown",
      "metadata": {
        "colab_type": "text",
        "id": "72tYsBQs2olj"
      },
      "source": [
        "## SVM"
      ]
    },
    {
      "cell_type": "code",
      "metadata": {
        "colab_type": "code",
        "id": "mo1HZPWJ2olj",
        "colab": {}
      },
      "source": [
        "from sklearn import svm\n",
        "def sri_linearsvmclf(X_train, y_train, X_test, y_test): \n",
        "    print(\"LinearSVC\")\n",
        "    lin_svc = svm.LinearSVC()\n",
        "    lin_svc.fit(X_train, y_train)\n",
        "\n",
        "    y_pred = lin_svc.predict(X_test)\n",
        "    \n",
        "    f1score = f1_score(y_test, y_pred.round(), zero_division=1,average='weighted')\n",
        "    accuracy = accuracy_score(y_test,y_pred.round())\n",
        "\n",
        "    #sri_svm=round(accuracy_score(y_test, y_hat.round())*100,2)\n",
        "\n",
        "    return ({'f1score':f1score,'ACCURACY':accuracy})"
      ],
      "execution_count": 0,
      "outputs": []
    },
    {
      "cell_type": "markdown",
      "metadata": {
        "colab_type": "text",
        "id": "txeDU3h_2oll"
      },
      "source": [
        "## NAIVE BAYES"
      ]
    },
    {
      "cell_type": "code",
      "metadata": {
        "colab_type": "code",
        "id": "0hnMDvJ62olm",
        "colab": {}
      },
      "source": [
        "# NAIVE BAYES CLASSIFIER\n",
        "def sri_naive_bayes(X_train, y_train, X_test, y_test):  \n",
        "    print(\"GaussianNB\")\n",
        "    naive = GaussianNB().fit(X_train, y_train)\n",
        "\n",
        "    y_pred = naive.predict(X_test)\n",
        "\n",
        "    f1score = f1_score(y_test, y_pred.round(), zero_division=1,average='weighted')\n",
        "    accuracy = accuracy_score(y_test,y_pred.round())\n",
        "\n",
        "    #sri_nb=round(accuracy_score(y_test, y_hat.round())*100,2)\n",
        "\n",
        "    return ({'f1score':f1score,'ACCURACY':accuracy})"
      ],
      "execution_count": 0,
      "outputs": []
    },
    {
      "cell_type": "markdown",
      "metadata": {
        "colab_type": "text",
        "id": "AF8q5NO-2olo"
      },
      "source": [
        "## RANDOM FOREST"
      ]
    },
    {
      "cell_type": "code",
      "metadata": {
        "colab_type": "code",
        "id": "SRcDIaST2olo",
        "colab": {}
      },
      "source": [
        "# RANDOM FOREST CLASSIFIER\n",
        "from sklearn.ensemble import RandomForestRegressor\n",
        "\n",
        "rf = RandomForestRegressor()\n",
        "def sri_randomforest(X_train, y_train,X_test, y_test):\n",
        "    print(\"RandomForestClassifier\")\n",
        "    randomforest = RandomForestRegressor().fit(X_train, y_train)\n",
        "\n",
        "    y_pred = randomforest.predict(X_test)\n",
        "\n",
        "    f1score = f1_score(y_test, y_pred.round(), zero_division=1,average='weighted')\n",
        "    accuracy = accuracy_score(y_test,y_pred.round())\n",
        "\n",
        "    #sri_rf=round(accuracy_score(y_test, y_hat.round())*100,2)\n",
        "\n",
        "    return ({'f1score':f1score,'ACCURACY':accuracy})"
      ],
      "execution_count": 0,
      "outputs": []
    },
    {
      "cell_type": "code",
      "metadata": {
        "colab_type": "code",
        "id": "gKOHt2Z52olq",
        "colab": {}
      },
      "source": [
        "# XG BOOST CLASSIFIER\n",
        "from xgboost import XGBClassifier\n",
        "def sri_xgboost(X_train, y_train,X_test, y_test):\n",
        "\n",
        "  print(\"XG Boost algorithm\")\n",
        "  xg = XGBClassifier(random_state=2)\n",
        "  xg=xg.fit(X_train,y_train)\n",
        "\n",
        "  y_pred = xg.predict(X_test)\n",
        "\n",
        "  f1score = f1_score(y_test, y_pred.round(), zero_division=1,average='weighted')\n",
        "  accuracy = accuracy_score(y_test,y_pred.round())\n",
        "\n",
        "  #sri_xgb=round(accuracy_score(y_test, y_hat.round())*100,2)\n",
        "\n",
        "  return accuracy"
      ],
      "execution_count": 0,
      "outputs": []
    },
    {
      "cell_type": "code",
      "metadata": {
        "id": "Gh_YsU-LYMwx",
        "colab_type": "code",
        "colab": {}
      },
      "source": [
        "# XG BOOST CLASSIFIER\n",
        "from xgboost import XGBClassifier\n",
        "def sri_naive_realism_score(sample):\n",
        "  print(\"setting features:\")\n",
        "  x_sample=sample[['lda_score','spam_score','domain_rank']]\n",
        "  print(\"setting target:\")\n",
        "  y_sample=sample['type']\n",
        "\n",
        "  print(\"XG Boost algorithm\")\n",
        "  xg = XGBClassifier(random_state=2)\n",
        "  print(\"Fitting XG Boost algorithm\")\n",
        "  xg=xg.fit(x_train_nr,y_train_nr)\n",
        "  print(\"Predicting XG Boost algorithm\")\n",
        "  y_pred = xg.predict(x_sample)\n",
        "  print(\"Accuracy XG Boost algorithm\")\n",
        "  \n",
        "  accuracy = accuracy_score(y_sample,y_pred.round())\n",
        "  predicedProb =1- xg.predict_proba(x_sample)[:,1]\n",
        "  print (accuracy)\n",
        "  print (predicedProb)\n",
        "  #sri_xgb=round(accuracy_score(y_test, y_hat.round())*100,2)\n",
        "\n",
        "  return predicedProb"
      ],
      "execution_count": 0,
      "outputs": []
    },
    {
      "cell_type": "code",
      "metadata": {
        "colab_type": "code",
        "id": "KTOLI7CB2ols",
        "colab": {}
      },
      "source": [
        "from sklearn.neighbors import KNeighborsClassifier\n",
        "def sri_knn(X_train, y_train, X_test, y_test):  \n",
        "    print(\"KNeighborsClassifier\")\n",
        "    knn = KNeighborsClassifier(n_neighbors=3).fit(X_train, y_train)\n",
        "\n",
        "    y_pred = knn.predict(X_test)\n",
        "\n",
        "    f1score = f1_score(y_test, y_pred.round(), zero_division=1,average='weighted')\n",
        "    accuracy = accuracy_score(y_test,y_pred.round())\n",
        "    #sri_knn=round(accuracy_score(y_test, y_hat.round())*100,2)\n",
        "\n",
        "    return ({'f1score':f1score,'ACCURACY':accuracy})"
      ],
      "execution_count": 0,
      "outputs": []
    },
    {
      "cell_type": "code",
      "metadata": {
        "colab_type": "code",
        "id": "GKIqlZUC2olu",
        "colab": {
          "base_uri": "https://localhost:8080/",
          "height": 124
        },
        "outputId": "352c340d-b3b7-439e-a1a6-d2c201993fbe"
      },
      "source": [
        "sri_linearsvmclf(x_train_nr ,y_train_nr,x_test_nr,y_test_nr)"
      ],
      "execution_count": 91,
      "outputs": [
        {
          "output_type": "stream",
          "text": [
            "LinearSVC\n"
          ],
          "name": "stdout"
        },
        {
          "output_type": "stream",
          "text": [
            "/usr/local/lib/python3.6/dist-packages/sklearn/svm/_base.py:947: ConvergenceWarning:\n",
            "\n",
            "Liblinear failed to converge, increase the number of iterations.\n",
            "\n"
          ],
          "name": "stderr"
        },
        {
          "output_type": "execute_result",
          "data": {
            "text/plain": [
              "{'ACCURACY': 0.050512820512820515, 'f1score': 0.08112464372096806}"
            ]
          },
          "metadata": {
            "tags": []
          },
          "execution_count": 91
        }
      ]
    },
    {
      "cell_type": "code",
      "metadata": {
        "colab_type": "code",
        "id": "uYrXOjxg2olw",
        "colab": {
          "base_uri": "https://localhost:8080/",
          "height": 52
        },
        "outputId": "fc40dbcd-85a9-4c85-d5ef-9e97e03b227e"
      },
      "source": [
        "sri_naive_bayes(x_train_nr ,y_train_nr,x_test_nr,y_test_nr)"
      ],
      "execution_count": 92,
      "outputs": [
        {
          "output_type": "stream",
          "text": [
            "GaussianNB\n"
          ],
          "name": "stdout"
        },
        {
          "output_type": "execute_result",
          "data": {
            "text/plain": [
              "{'ACCURACY': 0.8874358974358975, 'f1score': 0.8345104309266788}"
            ]
          },
          "metadata": {
            "tags": []
          },
          "execution_count": 92
        }
      ]
    },
    {
      "cell_type": "code",
      "metadata": {
        "colab_type": "code",
        "id": "eC2PGpo92oly",
        "colab": {
          "base_uri": "https://localhost:8080/",
          "height": 52
        },
        "outputId": "35703926-b4f2-4431-fdd5-20c69953522d"
      },
      "source": [
        "sri_randomforest(x_train_nr ,y_train_nr,x_test_nr,y_test_nr)"
      ],
      "execution_count": 93,
      "outputs": [
        {
          "output_type": "stream",
          "text": [
            "RandomForestClassifier\n"
          ],
          "name": "stdout"
        },
        {
          "output_type": "execute_result",
          "data": {
            "text/plain": [
              "{'ACCURACY': 0.9646153846153847, 'f1score': 0.9713078482631322}"
            ]
          },
          "metadata": {
            "tags": []
          },
          "execution_count": 93
        }
      ]
    },
    {
      "cell_type": "code",
      "metadata": {
        "colab_type": "code",
        "id": "0NiO6syo2ol0",
        "colab": {
          "base_uri": "https://localhost:8080/",
          "height": 52
        },
        "outputId": "5c048c16-9251-4e92-b747-f9043b2908f7"
      },
      "source": [
        "sri_xgboost(x_train_nr ,y_train_nr,x_test_nr,y_test_nr)"
      ],
      "execution_count": 94,
      "outputs": [
        {
          "output_type": "stream",
          "text": [
            "XG Boost algorithm\n"
          ],
          "name": "stdout"
        },
        {
          "output_type": "execute_result",
          "data": {
            "text/plain": [
              "0.9830769230769231"
            ]
          },
          "metadata": {
            "tags": []
          },
          "execution_count": 94
        }
      ]
    },
    {
      "cell_type": "code",
      "metadata": {
        "colab_type": "code",
        "id": "oFqM0f3u2ol2",
        "colab": {
          "base_uri": "https://localhost:8080/",
          "height": 52
        },
        "outputId": "18246391-d6de-4026-8b49-b2865a6c55a2"
      },
      "source": [
        "sri_knn(x_train_nr ,y_train_nr,x_test_nr,y_test_nr)"
      ],
      "execution_count": 95,
      "outputs": [
        {
          "output_type": "stream",
          "text": [
            "KNeighborsClassifier\n"
          ],
          "name": "stdout"
        },
        {
          "output_type": "execute_result",
          "data": {
            "text/plain": [
              "{'ACCURACY': 0.9802564102564103, 'f1score': 0.9786698627909043}"
            ]
          },
          "metadata": {
            "tags": []
          },
          "execution_count": 95
        }
      ]
    },
    {
      "cell_type": "code",
      "metadata": {
        "id": "92tEoekvyb89",
        "colab_type": "code",
        "colab": {}
      },
      "source": [
        ""
      ],
      "execution_count": 0,
      "outputs": []
    },
    {
      "cell_type": "markdown",
      "metadata": {
        "id": "B6ieX03v3pqG",
        "colab_type": "text"
      },
      "source": [
        "## --------------------------------------------------------------------------------------------------------------------------------------------------------------"
      ]
    },
    {
      "cell_type": "markdown",
      "metadata": {
        "colab_type": "text",
        "id": "PPlWELIQ3wmf"
      },
      "source": [
        "# BIAS ------ ATUL SHAH"
      ]
    },
    {
      "cell_type": "code",
      "metadata": {
        "colab_type": "code",
        "outputId": "299a21db-4069-4011-d575-50e323c95fb9",
        "id": "GiIJbal63wmh",
        "colab": {
          "base_uri": "https://localhost:8080/",
          "height": 362
        }
      },
      "source": [
        "fake_newss.head(2)"
      ],
      "execution_count": 96,
      "outputs": [
        {
          "output_type": "execute_result",
          "data": {
            "text/html": [
              "<div>\n",
              "<style scoped>\n",
              "    .dataframe tbody tr th:only-of-type {\n",
              "        vertical-align: middle;\n",
              "    }\n",
              "\n",
              "    .dataframe tbody tr th {\n",
              "        vertical-align: top;\n",
              "    }\n",
              "\n",
              "    .dataframe thead th {\n",
              "        text-align: right;\n",
              "    }\n",
              "</style>\n",
              "<table border=\"1\" class=\"dataframe\">\n",
              "  <thead>\n",
              "    <tr style=\"text-align: right;\">\n",
              "      <th></th>\n",
              "      <th>uuid</th>\n",
              "      <th>ord_in_thread</th>\n",
              "      <th>author</th>\n",
              "      <th>published</th>\n",
              "      <th>title</th>\n",
              "      <th>text</th>\n",
              "      <th>language</th>\n",
              "      <th>crawled</th>\n",
              "      <th>site_url</th>\n",
              "      <th>country</th>\n",
              "      <th>domain_rank</th>\n",
              "      <th>thread_title</th>\n",
              "      <th>spam_score</th>\n",
              "      <th>main_img_url</th>\n",
              "      <th>replies_count</th>\n",
              "      <th>participants_count</th>\n",
              "      <th>likes</th>\n",
              "      <th>comments</th>\n",
              "      <th>shares</th>\n",
              "      <th>type</th>\n",
              "      <th>text_lower</th>\n",
              "      <th>thread_lower</th>\n",
              "      <th>num_words</th>\n",
              "      <th>similarity</th>\n",
              "      <th>country_number</th>\n",
              "      <th>language_number</th>\n",
              "      <th>index</th>\n",
              "      <th>topic_number</th>\n",
              "      <th>lda_score</th>\n",
              "      <th>topic_top_words</th>\n",
              "    </tr>\n",
              "  </thead>\n",
              "  <tbody>\n",
              "    <tr>\n",
              "      <th>0</th>\n",
              "      <td>6a175f46bcd24d39b3e962ad0f29936721db70db</td>\n",
              "      <td>0</td>\n",
              "      <td>Barracuda Brigade</td>\n",
              "      <td>2016-10-26T21:41:00.000+03:00</td>\n",
              "      <td>Muslims BUSTED: They Stole Millions In Gov’t B...</td>\n",
              "      <td>Print They should pay all the back all the mon...</td>\n",
              "      <td>english</td>\n",
              "      <td>2016-10-27T01:49:27.168+03:00</td>\n",
              "      <td>100percentfedup.com</td>\n",
              "      <td>US</td>\n",
              "      <td>25689.0</td>\n",
              "      <td>Muslims BUSTED: They Stole Millions In Gov’t B...</td>\n",
              "      <td>0.0</td>\n",
              "      <td>http://bb4sp.com/wp-content/uploads/2016/10/Fu...</td>\n",
              "      <td>0</td>\n",
              "      <td>1</td>\n",
              "      <td>0</td>\n",
              "      <td>0</td>\n",
              "      <td>0</td>\n",
              "      <td>bias</td>\n",
              "      <td>print pay back money plu interest entir famili...</td>\n",
              "      <td>muslim bust stole million govt benefit</td>\n",
              "      <td>46</td>\n",
              "      <td>0</td>\n",
              "      <td>0</td>\n",
              "      <td>0</td>\n",
              "      <td>0</td>\n",
              "      <td>7</td>\n",
              "      <td>0.492957</td>\n",
              "      <td>state obama govern would peopl year presid wor...</td>\n",
              "    </tr>\n",
              "    <tr>\n",
              "      <th>1</th>\n",
              "      <td>2bdc29d12605ef9cf3f09f9875040a7113be5d5b</td>\n",
              "      <td>0</td>\n",
              "      <td>reasoning with facts</td>\n",
              "      <td>2016-10-29T08:47:11.259+03:00</td>\n",
              "      <td>Re: Why Did Attorney General Loretta Lynch Ple...</td>\n",
              "      <td>Why Did Attorney General Loretta Lynch Plead T...</td>\n",
              "      <td>english</td>\n",
              "      <td>2016-10-29T08:47:11.259+03:00</td>\n",
              "      <td>100percentfedup.com</td>\n",
              "      <td>US</td>\n",
              "      <td>25689.0</td>\n",
              "      <td>Re: Why Did Attorney General Loretta Lynch Ple...</td>\n",
              "      <td>0.0</td>\n",
              "      <td>http://bb4sp.com/wp-content/uploads/2016/10/Fu...</td>\n",
              "      <td>0</td>\n",
              "      <td>1</td>\n",
              "      <td>0</td>\n",
              "      <td>0</td>\n",
              "      <td>0</td>\n",
              "      <td>bias</td>\n",
              "      <td>attorney gener loretta lynch plead fifth barra...</td>\n",
              "      <td>attorney gener loretta lynch plead fifth</td>\n",
              "      <td>164</td>\n",
              "      <td>0</td>\n",
              "      <td>0</td>\n",
              "      <td>0</td>\n",
              "      <td>1</td>\n",
              "      <td>0</td>\n",
              "      <td>0.949275</td>\n",
              "      <td>clinton email investig state report hillari co...</td>\n",
              "    </tr>\n",
              "  </tbody>\n",
              "</table>\n",
              "</div>"
            ],
            "text/plain": [
              "                                       uuid  ...                                    topic_top_words\n",
              "0  6a175f46bcd24d39b3e962ad0f29936721db70db  ...  state obama govern would peopl year presid wor...\n",
              "1  2bdc29d12605ef9cf3f09f9875040a7113be5d5b  ...  clinton email investig state report hillari co...\n",
              "\n",
              "[2 rows x 30 columns]"
            ]
          },
          "metadata": {
            "tags": []
          },
          "execution_count": 96
        }
      ]
    },
    {
      "cell_type": "code",
      "metadata": {
        "id": "JrhGYbKlJ4x7",
        "colab_type": "code",
        "colab": {}
      },
      "source": [
        ""
      ],
      "execution_count": 0,
      "outputs": []
    },
    {
      "cell_type": "code",
      "metadata": {
        "id": "h69rECwgecRJ",
        "colab_type": "code",
        "outputId": "3507aee4-5ef4-4fd1-b116-df17f4080562",
        "colab": {
          "base_uri": "https://localhost:8080/",
          "height": 283
        }
      },
      "source": [
        "fake_newss.groupby(['type']).size().plot(kind='barh')"
      ],
      "execution_count": 97,
      "outputs": [
        {
          "output_type": "execute_result",
          "data": {
            "text/plain": [
              "<matplotlib.axes._subplots.AxesSubplot at 0x7f09578257b8>"
            ]
          },
          "metadata": {
            "tags": []
          },
          "execution_count": 97
        },
        {
          "output_type": "display_data",
          "data": {
            "image/png": "[encoded data removed]",
            "text/plain": [
              "<Figure size 432x288 with 1 Axes>"
            ]
          },
          "metadata": {
            "tags": [],
            "needs_background": "light"
          }
        }
      ]
    },
    {
      "cell_type": "code",
      "metadata": {
        "id": "YKpMZL1FTyIH",
        "colab_type": "code",
        "colab": {}
      },
      "source": [
        ""
      ],
      "execution_count": 0,
      "outputs": []
    },
    {
      "cell_type": "code",
      "metadata": {
        "id": "YZLLr3D6euGq",
        "colab_type": "code",
        "outputId": "38848266-9530-461c-d72c-3d351dbef9a1",
        "colab": {
          "base_uri": "https://localhost:8080/",
          "height": 52
        }
      },
      "source": [
        "from nltk.corpus import stopwords\n",
        "import string\n",
        "import nltk\n",
        "nltk.download('punkt')\n",
        "\n",
        "fake_news = fake_newss[fake_newss[\"type\"] == \"fake\"]\n",
        "\n",
        "# Join the title and text\n",
        "all_text = fake_news.title.str.cat(fake_news.text, sep=' ')\n",
        "\n",
        "# Tokenize. The NLTK tokenizer isn't awesome. Spacy has a nice one, but I don't think it is installed\n",
        "words = nltk.word_tokenize(\" \".join(all_text.tolist()))\n",
        "\n",
        "# clearly more cleaning is needed here, but really I should get a better tokenizer\n",
        "stop = stopwords.words('english') \n",
        "cleanwords = [i for i in words if i not in stop and i.isalpha() and len(i) > 2]"
      ],
      "execution_count": 98,
      "outputs": [
        {
          "output_type": "stream",
          "text": [
            "[nltk_data] Downloading package punkt to /root/nltk_data...\n",
            "[nltk_data]   Unzipping tokenizers/punkt.zip.\n"
          ],
          "name": "stdout"
        }
      ]
    },
    {
      "cell_type": "code",
      "metadata": {
        "id": "9gTrVAQWeieS",
        "colab_type": "code",
        "outputId": "1864d8db-50d4-4072-8d9b-dcd0b29fb831",
        "colab": {
          "base_uri": "https://localhost:8080/",
          "height": 248
        }
      },
      "source": [
        "from wordcloud import WordCloud, STOPWORDS\n",
        "\n",
        "wordcloud2 = WordCloud(\n",
        "                          stopwords=STOPWORDS,\n",
        "                          background_color='white',\n",
        "                          width=1200,\n",
        "                          height=1000\n",
        "                         ).generate(\" \".join(cleanwords))\n",
        "\n",
        "\n",
        "plt.imshow(wordcloud2)\n",
        "plt.axis('off')\n",
        "plt.show()"
      ],
      "execution_count": 99,
      "outputs": [
        {
          "output_type": "display_data",
          "data": {
            "image/png": "[encoded data removed]",
            "text/plain": [
              "<Figure size 432x288 with 1 Axes>"
            ]
          },
          "metadata": {
            "tags": [],
            "needs_background": "light"
          }
        }
      ]
    },
    {
      "cell_type": "code",
      "metadata": {
        "id": "fGMK2g6IfuS1",
        "colab_type": "code",
        "colab": {}
      },
      "source": [
        "bigrams = nltk.bigrams(cleanwords)"
      ],
      "execution_count": 0,
      "outputs": []
    },
    {
      "cell_type": "code",
      "metadata": {
        "id": "MzCAKzDVfxQH",
        "colab_type": "code",
        "outputId": "9422e1f1-8c0e-422a-f1b4-11521f34a933",
        "colab": {
          "base_uri": "https://localhost:8080/",
          "height": 55
        }
      },
      "source": [
        "# look at the most common. \n",
        "\n",
        "from collections import Counter\n",
        "counter = Counter(bigrams)\n",
        "print(counter.most_common(10))"
      ],
      "execution_count": 101,
      "outputs": [
        {
          "output_type": "stream",
          "text": [
            "[(('The', 'Adobo'), 20), (('Adobo', 'Chronicles'), 20), (('Donald', 'Trump'), 16), (('White', 'House'), 15), (('Hillary', 'Clinton'), 13), (('electoral', 'college'), 10), (('United', 'States'), 9), (('The', 'Resistance'), 8), (('Rate', 'Comment'), 7), (('adobochron', 'Comment'), 6)]\n"
          ],
          "name": "stdout"
        }
      ]
    },
    {
      "cell_type": "code",
      "metadata": {
        "id": "HoE8WwdYf1U5",
        "colab_type": "code",
        "outputId": "838645d6-a857-4adb-800d-ab096b4a7dec",
        "colab": {
          "base_uri": "https://localhost:8080/",
          "height": 265
        }
      },
      "source": [
        "num_to_show = 30\n",
        "\n",
        "labels = [\" \".join(e[0]) for e in counter.most_common(num_to_show)]\n",
        "values = [e[1] for e in counter.most_common(num_to_show)]\n",
        "\n",
        "indexes = np.arange(len(labels))\n",
        "width = 1\n",
        "\n",
        "#plt.bar(indexes, values, width)\n",
        "#plt.xticks(indexes + width * 0.5, labels, rotation=90)\n",
        "\n",
        "plt.barh(indexes, values, width)\n",
        "plt.yticks(indexes + width, labels)\n",
        "plt.show()"
      ],
      "execution_count": 102,
      "outputs": [
        {
          "output_type": "display_data",
          "data": {
            "image/png": "[encoded data removed]",
            "text/plain": [
              "<Figure size 432x288 with 1 Axes>"
            ]
          },
          "metadata": {
            "tags": [],
            "needs_background": "light"
          }
        }
      ]
    },
    {
      "cell_type": "code",
      "metadata": {
        "id": "R1aAU9nyteC-",
        "colab_type": "code",
        "colab": {}
      },
      "source": [
        "\n",
        "x = fake_newss['text_lower']\n",
        "y=fake_newss['type']"
      ],
      "execution_count": 0,
      "outputs": []
    },
    {
      "cell_type": "code",
      "metadata": {
        "id": "I6OxIORCtfip",
        "colab_type": "code",
        "colab": {}
      },
      "source": [
        "y= pd.factorize(y)[0]"
      ],
      "execution_count": 0,
      "outputs": []
    },
    {
      "cell_type": "code",
      "metadata": {
        "id": "uoQdQcjQxyJa",
        "colab_type": "code",
        "colab": {}
      },
      "source": [
        "x_train_bias ,x_test_bias,y_train_bias,y_test_bias = train_test_split(x,y,test_size=0.3)"
      ],
      "execution_count": 0,
      "outputs": []
    },
    {
      "cell_type": "code",
      "metadata": {
        "id": "3PJdFJ0Azy3w",
        "colab_type": "code",
        "colab": {}
      },
      "source": [
        "\n"
      ],
      "execution_count": 0,
      "outputs": []
    },
    {
      "cell_type": "markdown",
      "metadata": {
        "id": "iHLyElq50rMB",
        "colab_type": "text"
      },
      "source": [
        "### SVM"
      ]
    },
    {
      "cell_type": "code",
      "metadata": {
        "id": "R6XpG_iivtMs",
        "colab_type": "code",
        "colab": {}
      },
      "source": [
        "def atul_svm(x_train,y_train,x_test,y_test):\n",
        "\n",
        "  pipe = Pipeline([('vect', CountVectorizer()),\n",
        "                 ('tfidf', TfidfTransformer()),\n",
        "                 ('model', LinearSVC())])\n",
        "  model = pipe.fit(x_train, y_train)\n",
        "  prediction = model.predict(x_test)\n",
        "  print(\"accuracy: {}%\".format(round(accuracy_score(y_test, prediction)*100,2)))\n",
        "  f1score = f1_score(y_test, prediction.round(), zero_division=1,average='weighted')\n",
        "  accuracy = accuracy_score(y_test,prediction.round())\n",
        "  \n",
        "  return ({'f1score':f1score,'ACCURACY':accuracy})"
      ],
      "execution_count": 0,
      "outputs": []
    },
    {
      "cell_type": "markdown",
      "metadata": {
        "id": "84tmV43m043O",
        "colab_type": "text"
      },
      "source": [
        "### NAIVE BAYES"
      ]
    },
    {
      "cell_type": "code",
      "metadata": {
        "id": "9YaEPQHy02Gu",
        "colab_type": "code",
        "colab": {}
      },
      "source": [
        "def atul_nb(x_train,y_train,x_test,y_test):\n",
        "\n",
        "  pipe = Pipeline([('vect', CountVectorizer()),\n",
        "                 ('tfidf', TfidfTransformer()),\n",
        "                 ('model', MultinomialNB())])\n",
        "  model = pipe.fit(x_train, y_train)\n",
        "  prediction = model.predict(x_test)\n",
        "  print(\"accuracy: {}%\".format(round(accuracy_score(y_test, prediction)*100,2)))\n",
        "  f1score = f1_score(y_test, prediction.round(), zero_division=1,average='weighted')\n",
        "  accuracy = accuracy_score(y_test,prediction.round())\n",
        "  \n",
        "  return ({'f1score':f1score,'ACCURACY':accuracy})"
      ],
      "execution_count": 0,
      "outputs": []
    },
    {
      "cell_type": "markdown",
      "metadata": {
        "id": "wq1sxrty1Fk9",
        "colab_type": "text"
      },
      "source": [
        "### XG BOOST"
      ]
    },
    {
      "cell_type": "code",
      "metadata": {
        "id": "gE2TWyGI02zN",
        "colab_type": "code",
        "colab": {}
      },
      "source": [
        "\n",
        "def atul_xgb(x_train,y_train,x_test,y_test):\n",
        "\n",
        "  pipe = Pipeline([('vect', CountVectorizer()),\n",
        "                 ('tfidf', TfidfTransformer()),\n",
        "                 ('model', XGBClassifier(loss = 'deviance',\n",
        "                                                   learning_rate = 0.01,\n",
        "                                                   n_estimators = 10,\n",
        "                                                   max_depth = 5,\n",
        "                                                   random_state=2020))])\n",
        "  model = pipe.fit(x_train_bias, y_train_bias)\n",
        "  prediction = model.predict(x_test)\n",
        "  print(\"accuracy: {}%\".format(round(accuracy_score(y_test, prediction)*100,2)))\n",
        "  f1score = f1_score(y_test, prediction.round(), zero_division=1,average='weighted')\n",
        "  accuracy = accuracy_score(y_test,prediction.round())\n",
        "  \n",
        "  return accuracy\n"
      ],
      "execution_count": 0,
      "outputs": []
    },
    {
      "cell_type": "code",
      "metadata": {
        "id": "JwT6PbJpjYME",
        "colab_type": "code",
        "colab": {}
      },
      "source": [
        "def atul_bias_score(sample):\n",
        "\n",
        "   x_sample=sample['text_lower']\n",
        "   y_sample=sample['type']\n",
        "  \n",
        "\n",
        "\n",
        "   pipe = Pipeline([('vect', CountVectorizer()),\n",
        "                  ('tfidf', TfidfTransformer()),\n",
        "                  ('model', XGBClassifier(loss = 'deviance',\n",
        "                                                    learning_rate = 0.01,\n",
        "                                                    n_estimators = 10,\n",
        "                                                    max_depth = 5,\n",
        "                                                    random_state=2020))])\n",
        "   model = pipe.fit(x_train_bias, y_train_bias)\n",
        "   \n",
        "   prediction = model.predict(x_sample)\n",
        "   \n",
        "\n",
        "   #accuracy = accuracy_score(y_sample.values,prediction.round())   \n",
        "   predicedProb = model.predict_proba(x_sample)[:,1]\n",
        "\n",
        "   return predicedProb\n",
        " "
      ],
      "execution_count": 0,
      "outputs": []
    },
    {
      "cell_type": "markdown",
      "metadata": {
        "id": "9-UEUCBM1iIi",
        "colab_type": "text"
      },
      "source": [
        "### RANDOM FOREST"
      ]
    },
    {
      "cell_type": "code",
      "metadata": {
        "id": "uOWu_Un7025j",
        "colab_type": "code",
        "colab": {}
      },
      "source": [
        "def atul_rf(x_train,y_train,x_test,y_test):\n",
        "\n",
        "  pipe = Pipeline([('vect', CountVectorizer()),\n",
        "                 ('tfidf', TfidfTransformer()),\n",
        "                 ('model', RandomForestClassifier())])\n",
        "  model = pipe.fit(x_train, y_train)\n",
        "  prediction = model.predict(x_test)\n",
        "  print(\"accuracy: {}%\".format(round(accuracy_score(y_test, prediction)*100,2)))\n",
        "  f1score = f1_score(y_test, prediction.round(), zero_division=1,average='weighted')\n",
        "  accuracy = accuracy_score(y_test,prediction.round())\n",
        "  # atul_svm=round(accuracy_score(y_test, prediction)*100,2)\n",
        "  return ({'f1score':f1score,'ACCURACY':accuracy})"
      ],
      "execution_count": 0,
      "outputs": []
    },
    {
      "cell_type": "markdown",
      "metadata": {
        "id": "1E41w1T_1utb",
        "colab_type": "text"
      },
      "source": [
        "### KNN"
      ]
    },
    {
      "cell_type": "code",
      "metadata": {
        "id": "b7vnfASRybwP",
        "colab_type": "code",
        "colab": {}
      },
      "source": [
        "def atul_knn(x_train,y_train,x_test,y_test):\n",
        "\n",
        "  pipe = Pipeline([('vect', CountVectorizer()),\n",
        "                 ('tfidf', TfidfTransformer()),\n",
        "                 ('model', KNeighborsClassifier(n_neighbors = 10,weights = 'distance',algorithm = 'brute'))])\n",
        "  model = pipe.fit(x_train, y_train)\n",
        "  prediction = model.predict(x_test)\n",
        "  print(\"accuracy: {}%\".format(round(accuracy_score(y_test, prediction)*100,2)))\n",
        "  f1score = f1_score(y_test, prediction.round(), zero_division=1,average='weighted')\n",
        "  accuracy = accuracy_score(y_test,prediction.round())\n",
        "  # atul_svm=round(accuracy_score(y_test, prediction)*100,2)\n",
        "  \n",
        "  return ({'f1score':f1score,'ACCURACY':accuracy})"
      ],
      "execution_count": 0,
      "outputs": []
    },
    {
      "cell_type": "code",
      "metadata": {
        "id": "QXd9oMmOdoHO",
        "colab_type": "code",
        "outputId": "7cdd65fb-bff3-40ca-8fe8-77d0e19185a5",
        "colab": {
          "base_uri": "https://localhost:8080/",
          "height": 52
        }
      },
      "source": [
        "atul_svm(x_train_bias ,y_train_bias,x_test_bias,y_test_bias)"
      ],
      "execution_count": 112,
      "outputs": [
        {
          "output_type": "stream",
          "text": [
            "accuracy: 90.03%\n"
          ],
          "name": "stdout"
        },
        {
          "output_type": "execute_result",
          "data": {
            "text/plain": [
              "{'ACCURACY': 0.9002564102564102, 'f1score': 0.8702230135551731}"
            ]
          },
          "metadata": {
            "tags": []
          },
          "execution_count": 112
        }
      ]
    },
    {
      "cell_type": "code",
      "metadata": {
        "id": "OXVGW4jhdpKq",
        "colab_type": "code",
        "colab": {
          "base_uri": "https://localhost:8080/",
          "height": 52
        },
        "outputId": "93eaf8c7-4bd6-4ac1-b0f1-ee621d650eca"
      },
      "source": [
        "atul_nb(x_train_bias ,y_train_bias,x_test_bias,y_test_bias)"
      ],
      "execution_count": 113,
      "outputs": [
        {
          "output_type": "stream",
          "text": [
            "accuracy: 87.92%\n"
          ],
          "name": "stdout"
        },
        {
          "output_type": "execute_result",
          "data": {
            "text/plain": [
              "{'ACCURACY': 0.8792307692307693, 'f1score': 0.822726786107875}"
            ]
          },
          "metadata": {
            "tags": []
          },
          "execution_count": 113
        }
      ]
    },
    {
      "cell_type": "code",
      "metadata": {
        "id": "42HD0zx1dpSK",
        "colab_type": "code",
        "colab": {
          "base_uri": "https://localhost:8080/",
          "height": 52
        },
        "outputId": "fe52fe66-c17a-4a2d-afb9-d4bf76d64fa1"
      },
      "source": [
        "atul_xgb(x_train_bias ,y_train_bias,x_test_bias,y_test_bias)"
      ],
      "execution_count": 114,
      "outputs": [
        {
          "output_type": "stream",
          "text": [
            "accuracy: 89.79%\n"
          ],
          "name": "stdout"
        },
        {
          "output_type": "execute_result",
          "data": {
            "text/plain": [
              "0.897948717948718"
            ]
          },
          "metadata": {
            "tags": []
          },
          "execution_count": 114
        }
      ]
    },
    {
      "cell_type": "code",
      "metadata": {
        "id": "kMFv2Yvxdpkq",
        "colab_type": "code",
        "colab": {
          "base_uri": "https://localhost:8080/",
          "height": 52
        },
        "outputId": "b5b27a9c-2619-44ab-f754-0494e64f438e"
      },
      "source": [
        "atul_rf(x_train_bias ,y_train_bias,x_test_bias,y_test_bias)"
      ],
      "execution_count": 115,
      "outputs": [
        {
          "output_type": "stream",
          "text": [
            "accuracy: 89.67%\n"
          ],
          "name": "stdout"
        },
        {
          "output_type": "execute_result",
          "data": {
            "text/plain": [
              "{'ACCURACY': 0.8966666666666666, 'f1score': 0.8620725043024122}"
            ]
          },
          "metadata": {
            "tags": []
          },
          "execution_count": 115
        }
      ]
    },
    {
      "cell_type": "code",
      "metadata": {
        "id": "M0oFHDVkdptY",
        "colab_type": "code",
        "colab": {
          "base_uri": "https://localhost:8080/",
          "height": 52
        },
        "outputId": "35dab0e6-c5f8-412f-9def-3190b653ab42"
      },
      "source": [
        "atul_knn(x_train_bias ,y_train_bias,x_test_bias,y_test_bias)"
      ],
      "execution_count": 116,
      "outputs": [
        {
          "output_type": "stream",
          "text": [
            "accuracy: 88.54%\n"
          ],
          "name": "stdout"
        },
        {
          "output_type": "execute_result",
          "data": {
            "text/plain": [
              "{'ACCURACY': 0.8853846153846154, 'f1score': 0.841979807433479}"
            ]
          },
          "metadata": {
            "tags": []
          },
          "execution_count": 116
        }
      ]
    },
    {
      "cell_type": "markdown",
      "metadata": {
        "id": "ILpxewk6YUSO",
        "colab_type": "text"
      },
      "source": [
        "## **FINAL COMBINED MODEL**"
      ]
    },
    {
      "cell_type": "code",
      "metadata": {
        "colab_type": "code",
        "id": "uwiwFT8n3wml",
        "colab": {}
      },
      "source": [
        "x_combined = fake_newss[['domain_rank','replies_count','participants_count','likes','comments','shares','text_lower','lda_score','spam_score']]\n",
        "\n",
        "y_combined=fake_newss['type']"
      ],
      "execution_count": 0,
      "outputs": []
    },
    {
      "cell_type": "code",
      "metadata": {
        "colab_type": "code",
        "id": "-S6flLtP3wmn",
        "colab": {}
      },
      "source": [
        "y_combined= pd.DataFrame(pd.factorize(y_combined)[0],columns=['type'])"
      ],
      "execution_count": 0,
      "outputs": []
    },
    {
      "cell_type": "code",
      "metadata": {
        "id": "TmNc6v3N2tJh",
        "colab_type": "code",
        "colab": {}
      },
      "source": [
        "data_combined=pd.concat([x_combined, y_combined], axis=1)"
      ],
      "execution_count": 0,
      "outputs": []
    },
    {
      "cell_type": "markdown",
      "metadata": {
        "id": "9br453-vKPwk",
        "colab_type": "text"
      },
      "source": [
        "###Preparing a sample record for validation"
      ]
    },
    {
      "cell_type": "code",
      "metadata": {
        "id": "Xw2y_PvZGs6E",
        "colab_type": "code",
        "colab": {}
      },
      "source": [
        "sample=data_combined.iloc[0:1]\n"
      ],
      "execution_count": 0,
      "outputs": []
    },
    {
      "cell_type": "code",
      "metadata": {
        "id": "EdbgDQPSILS4",
        "colab_type": "code",
        "colab": {
          "base_uri": "https://localhost:8080/",
          "height": 76
        },
        "outputId": "ba772858-b3a2-4f23-9e06-261051022ffd"
      },
      "source": [
        "sample"
      ],
      "execution_count": 121,
      "outputs": [
        {
          "output_type": "execute_result",
          "data": {
            "text/html": [
              "<div>\n",
              "<style scoped>\n",
              "    .dataframe tbody tr th:only-of-type {\n",
              "        vertical-align: middle;\n",
              "    }\n",
              "\n",
              "    .dataframe tbody tr th {\n",
              "        vertical-align: top;\n",
              "    }\n",
              "\n",
              "    .dataframe thead th {\n",
              "        text-align: right;\n",
              "    }\n",
              "</style>\n",
              "<table border=\"1\" class=\"dataframe\">\n",
              "  <thead>\n",
              "    <tr style=\"text-align: right;\">\n",
              "      <th></th>\n",
              "      <th>domain_rank</th>\n",
              "      <th>replies_count</th>\n",
              "      <th>participants_count</th>\n",
              "      <th>likes</th>\n",
              "      <th>comments</th>\n",
              "      <th>shares</th>\n",
              "      <th>text_lower</th>\n",
              "      <th>lda_score</th>\n",
              "      <th>spam_score</th>\n",
              "      <th>type</th>\n",
              "    </tr>\n",
              "  </thead>\n",
              "  <tbody>\n",
              "    <tr>\n",
              "      <th>0</th>\n",
              "      <td>25689.0</td>\n",
              "      <td>0</td>\n",
              "      <td>1</td>\n",
              "      <td>0</td>\n",
              "      <td>0</td>\n",
              "      <td>0</td>\n",
              "      <td>print pay back money plu interest entir famili...</td>\n",
              "      <td>0.492957</td>\n",
              "      <td>0.0</td>\n",
              "      <td>0</td>\n",
              "    </tr>\n",
              "  </tbody>\n",
              "</table>\n",
              "</div>"
            ],
            "text/plain": [
              "   domain_rank  replies_count  participants_count  ...  lda_score  spam_score  type\n",
              "0      25689.0              0                   1  ...   0.492957         0.0     0\n",
              "\n",
              "[1 rows x 10 columns]"
            ]
          },
          "metadata": {
            "tags": []
          },
          "execution_count": 121
        }
      ]
    },
    {
      "cell_type": "code",
      "metadata": {
        "colab_type": "code",
        "id": "bUglQLl3wKu-",
        "colab": {}
      },
      "source": [
        "def getNewsType(sample):\n",
        "\n",
        "     accuracy_atul=atul_xgb(x_train_bias,y_train_bias,x_test_bias,y_test_bias)\n",
        "     accuracy_sha=sha_xgboost(x_train_cred,y_train_cred,x_test_cred,y_test_cred)\n",
        "     accuracy_shreyus=shr_xgboost(x_train_soc,y_train_soc,x_test_soc,y_test_soc)\n",
        "     accuracy_sri=sri_xgboost(x_train_nr,y_train_nr,x_test_nr,y_test_nr)\n",
        "     accur=[accuracy_atul,accuracy_sha,accuracy_shreyus,accuracy_sri]\n",
        "  \n",
        "     w = [float(i)/sum(accur) for i in accur]\n",
        "     print(w)\n",
        "     sumW = 0\n",
        "     prob = []\n",
        "     \n",
        "     prob.append(w[0] * atul_bias_score(sample))\n",
        "     \n",
        "     prob.append(w[1] * sha_reliability_score(sample))\n",
        "     sumW += w[1]\n",
        "     prob.append(w[2] * shr_social_credibility_score(sample))\n",
        "     sumW += w[2]\n",
        "     prob.append(w[3] * sri_naive_realism_score(sample))\n",
        "     sumW += w[3]\n",
        "\n",
        "     probTotal = sum(prob[0:len(prob)]) / sumW\n",
        "     return probTotal\n",
        "    \n",
        " "
      ],
      "execution_count": 0,
      "outputs": []
    },
    {
      "cell_type": "code",
      "metadata": {
        "id": "lUlpVxodreTW",
        "colab_type": "code",
        "colab": {
          "base_uri": "https://localhost:8080/",
          "height": 284
        },
        "outputId": "27969f69-e18a-4e02-b9b4-c9f6b3c0e527"
      },
      "source": [
        "result = getNewsType(sample)\n",
        "\n",
        "\n",
        " "
      ],
      "execution_count": 131,
      "outputs": [
        {
          "output_type": "stream",
          "text": [
            "accuracy: 89.79%\n",
            "XG Boost algorithm\n",
            "XG Boost algorithm\n",
            "XG Boost algorithm\n",
            "[0.23894650655021837, 0.26255458515283847, 0.2368995633187773, 0.26159934497816595]\n",
            "XG Boost algorithm\n",
            "XG Boost algorithm\n",
            "setting features:\n",
            "setting target:\n",
            "XG Boost algorithm\n",
            "Fitting XG Boost algorithm\n",
            "Predicting XG Boost algorithm\n",
            "Accuracy XG Boost algorithm\n",
            "1.0\n",
            "[0.9995227]\n"
          ],
          "name": "stdout"
        }
      ]
    },
    {
      "cell_type": "markdown",
      "metadata": {
        "id": "fm9E8m3LRVcq",
        "colab_type": "text"
      },
      "source": [
        "# Fake news category is determined with the confidence of 99% accuracy."
      ]
    },
    {
      "cell_type": "code",
      "metadata": {
        "id": "_r_B9rVh1dBY",
        "colab_type": "code",
        "colab": {}
      },
      "source": [
        ""
      ],
      "execution_count": 0,
      "outputs": []
    },
    {
      "cell_type": "code",
      "metadata": {
        "id": "vHgPjuMs1c_P",
        "colab_type": "code",
        "colab": {}
      },
      "source": [
        ""
      ],
      "execution_count": 0,
      "outputs": []
    },
    {
      "cell_type": "code",
      "metadata": {
        "id": "cVlQ8jXx1c9T",
        "colab_type": "code",
        "colab": {}
      },
      "source": [
        ""
      ],
      "execution_count": 0,
      "outputs": []
    },
    {
      "cell_type": "code",
      "metadata": {
        "id": "O1K1oITB1c6c",
        "colab_type": "code",
        "colab": {}
      },
      "source": [
        ""
      ],
      "execution_count": 0,
      "outputs": []
    },
    {
      "cell_type": "code",
      "metadata": {
        "id": "S12IgFI71c3k",
        "colab_type": "code",
        "colab": {}
      },
      "source": [
        ""
      ],
      "execution_count": 0,
      "outputs": []
    },
    {
      "cell_type": "code",
      "metadata": {
        "id": "58WvxgVd1c0w",
        "colab_type": "code",
        "colab": {}
      },
      "source": [
        ""
      ],
      "execution_count": 0,
      "outputs": []
    },
    {
      "cell_type": "code",
      "metadata": {
        "id": "wvsaMOsN1cyw",
        "colab_type": "code",
        "colab": {}
      },
      "source": [
        ""
      ],
      "execution_count": 0,
      "outputs": []
    },
    {
      "cell_type": "code",
      "metadata": {
        "id": "YcgI9l7J1cvv",
        "colab_type": "code",
        "colab": {}
      },
      "source": [
        ""
      ],
      "execution_count": 0,
      "outputs": []
    },
    {
      "cell_type": "code",
      "metadata": {
        "id": "_7_34SFb1ctd",
        "colab_type": "code",
        "colab": {}
      },
      "source": [
        ""
      ],
      "execution_count": 0,
      "outputs": []
    },
    {
      "cell_type": "code",
      "metadata": {
        "id": "HcWfZoHv1cnK",
        "colab_type": "code",
        "colab": {}
      },
      "source": [
        ""
      ],
      "execution_count": 0,
      "outputs": []
    },
    {
      "cell_type": "code",
      "metadata": {
        "id": "D8TkyOU91clI",
        "colab_type": "code",
        "colab": {}
      },
      "source": [
        ""
      ],
      "execution_count": 0,
      "outputs": []
    },
    {
      "cell_type": "code",
      "metadata": {
        "id": "IA6XpuO11cjG",
        "colab_type": "code",
        "colab": {}
      },
      "source": [
        ""
      ],
      "execution_count": 0,
      "outputs": []
    },
    {
      "cell_type": "code",
      "metadata": {
        "id": "oo-pngUN1chB",
        "colab_type": "code",
        "colab": {}
      },
      "source": [
        ""
      ],
      "execution_count": 0,
      "outputs": []
    },
    {
      "cell_type": "code",
      "metadata": {
        "id": "y5_s1iU31ccc",
        "colab_type": "code",
        "colab": {}
      },
      "source": [
        ""
      ],
      "execution_count": 0,
      "outputs": []
    },
    {
      "cell_type": "code",
      "metadata": {
        "id": "8kknIQt-ybrQ",
        "colab_type": "code",
        "colab": {}
      },
      "source": [
        ""
      ],
      "execution_count": 0,
      "outputs": []
    },
    {
      "cell_type": "code",
      "metadata": {
        "id": "XPus-UE9ybn3",
        "colab_type": "code",
        "colab": {}
      },
      "source": [
        ""
      ],
      "execution_count": 0,
      "outputs": []
    },
    {
      "cell_type": "code",
      "metadata": {
        "id": "uykUHeCFybly",
        "colab_type": "code",
        "colab": {}
      },
      "source": [
        ""
      ],
      "execution_count": 0,
      "outputs": []
    },
    {
      "cell_type": "code",
      "metadata": {
        "id": "kBLCsuGqMLzk",
        "colab_type": "code",
        "colab": {}
      },
      "source": [
        ""
      ],
      "execution_count": 0,
      "outputs": []
    }
  ]
}