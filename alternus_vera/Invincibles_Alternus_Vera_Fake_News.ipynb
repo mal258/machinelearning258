{
  "nbformat": 4,
  "nbformat_minor": 0,
  "metadata": {
    "colab": {
      "name": "Invincibles_Alternus_Vera_Fake_News.ipynb",
      "provenance": [],
      "collapsed_sections": [],
      "include_colab_link": true
    },
    "kernelspec": {
      "name": "python3",
      "display_name": "Python 3"
    },
    "accelerator": "TPU"
  },
  "cells": [
    {
      "cell_type": "markdown",
      "metadata": {
        "id": "view-in-github",
        "colab_type": "text"
      },
      "source": [
        "<a href=\"https://colab.research.google.com/github/mal258/machinelearning258/blob/master/alternus_vera/Invincibles_Alternus_Vera_Fake_News.ipynb\" target=\"_parent\"><img src=\"https://colab.research.google.com/assets/colab-badge.svg\" alt=\"Open In Colab\"/></a>"
      ]
    },
    {
      "cell_type": "markdown",
      "metadata": {
        "id": "OC6gRb9ppt5u",
        "colab_type": "text"
      },
      "source": [
        "# Alternus Vera \n",
        "\n",
        "Course code : **CMPE-257** \n",
        "    \n",
        "Group name : **Invincibles**\n",
        "    \n",
        "Name: \n",
        "\n",
        "**Shailesha Prasad Maganahalli**<br>\n",
        "**Atul Shah**<br>\n",
        "**Srilalitha Veerubhotla**<br>\n",
        "**Shreyus Puthiyapurail**<br>\n",
        "\n",
        "\n",
        "-----\n",
        "\n",
        "GitHub URL:\n",
        "\n",
        "Notebook: https://github.com/mal258/machinelearning258/tree/master/alternus_vera\n",
        "\n",
        "Dataset:\n",
        "\n",
        "\n",
        " 1. Liar-Liar dataset <br>\n",
        " (https://drive.google.com/open?id=1y3yYF5HHPhH7SyaPwPU9H5HApJzevsFK)\n",
        " 2. Google News corpus word2vec <br>\n",
        "(https://s3.amazonaws.com/dl4j-distribution/GoogleNews-vectors-negative300.bin.gz)\n",
        " 3. Fake News dataset <br>(https://www.kaggle.com/manasvik/spam-check/data)\n",
        "\n",
        "\n",
        "### Liar Liar Pants on Fire Dataset Description \n",
        "- It has 3 files test, training and valid.\n",
        "- Each file has 14 columns\n",
        "    \n",
        "    Column 1: the ID of the statement ([ID].json).\n",
        "    \n",
        "    Column 2: the label.\n",
        "    \n",
        "    Column 3: the statement.\n",
        "    \n",
        "    Column 4: the subject(s).\n",
        "    \n",
        "    Column 5: the speaker.\n",
        "    \n",
        "    Column 6: the speaker's job title.\n",
        "    \n",
        "    Column 7: the state info.\n",
        "    \n",
        "    Column 8: the party affiliation.\n",
        "    \n",
        "    Column 9-13: the total credit history count, including the current statement.\n",
        "    \n",
        "    Column 14: the context (venue / location of the speech or statement).\n",
        "\n",
        "\n",
        "    \n",
        "\n",
        "### Process of our Approach \n",
        "- Load the Data\n",
        "- Distillation Process\n",
        "    - Data Cleaning and Text Preprocessing\n",
        "    - Visualization\n",
        "- **Feature 1 :** Social Credibility\n",
        "- **Feature 2 :** Credibility-and-Reliability\n",
        "- **Feature 3 :** Naive Realism\n",
        "- **Feature 4 :** Biases\n",
        "\n",
        "- Ranking and Importance\n",
        "- Merge all features and individual contributions\n",
        "- Form Polynomial Equation \n",
        "    \n",
        "\n",
        "### Feature Selection\n",
        "\n",
        "\n",
        "### Team Contributions:\n",
        "\n",
        "|Features  |  Member |\n",
        "|-----|-----|\n",
        "| Credibility-and-Reliability                         |  Shailesha Prasad Maganahalli |  \n",
        "| Biases                |  Atul Shah | \n",
        "| Social Credibility                   | Shreyus Puthiyapurail   |   \n",
        "| Naive Realism                             | Srilalitha Veerubhotla |\n",
        "\n",
        " \n",
        "#### Enrichment Dataset Details\n",
        "\n",
        "- SenticNet5 sensational words corpus\n",
        "- Google News 3million words corpus for spell check\n",
        "- Sensational Words Dictionary \n",
        "- PoliticalFact Fake news and Real News Content \n",
        "- Clickbait and non_clickbait datasets\n",
        "- Spam Dictionary \n",
        "\n",
        "#### Libraries Used \n",
        "\n",
        "- NLTK \n",
        "- Gensim \n",
        "- Numpy\n",
        "- Pandas\n",
        "- CSV\n",
        "- WordCloud\n",
        "- Seaborn\n",
        "- Scipy\n",
        "- Regualr Expression\n",
        "- Matplotlib\n",
        "- Sklearn \n",
        "\n",
        "\n",
        "#### What did we try and what worked? \n",
        "\n",
        "> We imported the following 3 datasets:\n",
        "> 1. Liar-Liar dataset <br>\n",
        " (https://drive.google.com/open?id=1y3yYF5HHPhH7SyaPwPU9H5HApJzevsFK)\n",
        ">2.For preprocessing and spellcheck, we used: Google News corpus word2vec <br>\n",
        "(https://s3.amazonaws.com/dl4j-distribution/GoogleNews-vectors-negative300.bin.gz)\n",
        "> 3. Fake News dataset <br>(https://www.kaggle.com/manasvik/spam-check/data)\n",
        "\n",
        ">We narrowed down to following features:\n",
        "\n",
        "- **Feature 1 :** Social Credibility \n",
        "- **Feature 2 :** Credibility and Realiability\n",
        "- **Feature 3 :** Naive Realism\n",
        "- **Feature 4 :** Biases\n",
        "\n",
        ">Basic NLTK preprocessing and Visualizations are completed.\n",
        "\n",
        "#### What did not work?\n",
        "\n",
        "> Google word2vec spellchecker timeout: (3 billion running words) to word vector model (3 million 300-dimension English word vectors).\n",
        "\n",
        "#### What alternatives did you try?\n",
        "\n",
        "> We tried to upgrade to GPU, and restart the kernel.\n",
        "> We also explored alternate corpus to do pre-processing.\n",
        "\n",
        "#### Pending items\n",
        "\n",
        "> Combined model\n",
        "\n"
      ]
    },
    {
      "cell_type": "code",
      "metadata": {
        "id": "WjkoezKd1C_C",
        "colab_type": "code",
        "outputId": "f7651771-ad58-4545-d7ce-9484f935c1d7",
        "colab": {
          "base_uri": "https://localhost:8080/",
          "height": 141
        }
      },
      "source": [
        "import pandas as pd\n",
        "import numpy as np\n",
        "import csv\n",
        "import gensim\n",
        "import seaborn as sns\n",
        "import pandas as pd\n",
        "import numpy as np\n",
        "import nltk\n",
        "import re\n",
        "import nltk\n",
        "import matplotlib.pyplot as plt\n",
        "import requests\n",
        "import re\n",
        "import nltk\n",
        "import time\n",
        "import matplotlib.pyplot as plt\n",
        "import seaborn as sns\n",
        "import plotly.figure_factory as ff\n",
        "from plotly.offline import *\n",
        "import plotly\n",
        "import io\n",
        "from imblearn.over_sampling import SMOTE\n",
        "\n",
        "from sklearn.feature_extraction.text import TfidfVectorizer\n",
        "from sklearn.feature_extraction.text import CountVectorizer\n",
        "from sklearn.model_selection import train_test_split\n",
        "from sklearn.linear_model import LogisticRegression\n",
        "from sklearn.metrics import classification_report\n",
        "from sklearn.preprocessing import StandardScaler\n",
        "from nltk.stem.wordnet import WordNetLemmatizer\n",
        "from sklearn.model_selection import GridSearchCV\n",
        "from sklearn.metrics import confusion_matrix\n",
        "from nltk.stem.porter import PorterStemmer\n",
        "from sklearn import metrics\n",
        "from sklearn.metrics import roc_auc_score\n",
        "from sklearn.metrics import roc_curve\n",
        "from sklearn.pipeline import Pipeline\n",
        "from nltk.corpus import stopwords\n",
        "from string import punctuation\n",
        "from scipy import sparse\n",
        "from wordcloud import WordCloud, STOPWORDS\n",
        "from scipy import stats\n",
        "%matplotlib inline\n",
        "\n",
        "from sklearn.pipeline import Pipeline\n",
        "from sklearn.feature_extraction.text import TfidfTransformer\n",
        "from sklearn.svm import LinearSVC\n",
        "from sklearn.naive_bayes import GaussianNB\n",
        "from sklearn.naive_bayes import BernoulliNB\n",
        "from sklearn.naive_bayes import MultinomialNB\n",
        "from sklearn.ensemble import GradientBoostingClassifier\n",
        "from sklearn.tree import DecisionTreeClassifier\n",
        "from sklearn.neighbors import KNeighborsClassifier\n",
        "from xgboost import XGBClassifier\n",
        "from sklearn.linear_model import SGDClassifier\n",
        "from sklearn.ensemble import RandomForestClassifier\n",
        "\n",
        "\n",
        "nltk.download('stopwords')\n",
        "nltk.download('averaged_perceptron_tagger')"
      ],
      "execution_count": 0,
      "outputs": [
        {
          "output_type": "stream",
          "text": [
            "[nltk_data] Downloading package stopwords to /root/nltk_data...\n",
            "[nltk_data]   Package stopwords is already up-to-date!\n",
            "[nltk_data] Downloading package averaged_perceptron_tagger to\n",
            "[nltk_data]     /root/nltk_data...\n",
            "[nltk_data]   Package averaged_perceptron_tagger is already up-to-\n",
            "[nltk_data]       date!\n"
          ],
          "name": "stdout"
        },
        {
          "output_type": "execute_result",
          "data": {
            "text/plain": [
              "True"
            ]
          },
          "metadata": {
            "tags": []
          },
          "execution_count": 126
        }
      ]
    },
    {
      "cell_type": "markdown",
      "metadata": {
        "id": "Kl-fegubsrPK",
        "colab_type": "text"
      },
      "source": [
        "# **DATA IMPORTING**"
      ]
    },
    {
      "cell_type": "code",
      "metadata": {
        "id": "YJTM4KYxaPB_",
        "colab_type": "code",
        "colab": {}
      },
      "source": [
        "# Kaggle Fake news dataset\n",
        "url=\"https://raw.githubusercontent.com/mal258/machinelearning258/master/datasets/politifact/fake.csv\"\n",
        "url1=\"https://raw.githubusercontent.com/mal258/machinelearning258/master/datasets/politifact/true.csv\"\n",
        "file=requests.get(url).content\n",
        "fake_news=pd.read_csv(io.StringIO(file.decode('utf-8')),sep=',')\n",
        "file1=requests.get(url1).content\n",
        "real_news=pd.read_csv(io.StringIO(file1.decode('utf-8')),sep=',')\n"
      ],
      "execution_count": 0,
      "outputs": []
    },
    {
      "cell_type": "code",
      "metadata": {
        "id": "aXXIFQPsOMs8",
        "colab_type": "code",
        "outputId": "a8f49da6-7a81-477f-bb11-0db8fd6b3faf",
        "colab": {
          "base_uri": "https://localhost:8080/",
          "height": 52
        }
      },
      "source": [
        "print(fake_news.shape)\n",
        "print(real_news.shape)"
      ],
      "execution_count": 0,
      "outputs": [
        {
          "output_type": "stream",
          "text": [
            "(12999, 20)\n",
            "(0, 1)\n"
          ],
          "name": "stdout"
        }
      ]
    },
    {
      "cell_type": "code",
      "metadata": {
        "id": "BCd2jPVq1DD8",
        "colab_type": "code",
        "outputId": "683715e8-b0db-4425-d283-c7b30805d94c",
        "colab": {
          "base_uri": "https://localhost:8080/",
          "height": 312
        }
      },
      "source": [
        "# print the topics being addressed here\n",
        "fake_news['type'].value_counts().plot(kind=\"bar\")\n",
        "plt.show()"
      ],
      "execution_count": 0,
      "outputs": [
        {
          "output_type": "display_data",
          "data": {
            "image/png": "[encoded data removed]",
            "text/plain": [
              "<Figure size 432x288 with 1 Axes>"
            ]
          },
          "metadata": {
            "tags": [],
            "needs_background": "light"
          }
        }
      ]
    },
    {
      "cell_type": "code",
      "metadata": {
        "id": "aq5LU83S1DGU",
        "colab_type": "code",
        "outputId": "d43b61be-1913-4b2b-8b6a-adf066cb6423",
        "colab": {
          "base_uri": "https://localhost:8080/",
          "height": 763
        }
      },
      "source": [
        "print(fake_news.describe())\n",
        "fake_news.head()"
      ],
      "execution_count": 0,
      "outputs": [
        {
          "output_type": "stream",
          "text": [
            "       ord_in_thread   domain_rank  ...      comments        shares\n",
            "count   12999.000000   8776.000000  ...  12999.000000  12999.000000\n",
            "mean        0.891530  38092.996582  ...      0.038311     10.831833\n",
            "std         6.486822  26825.487454  ...      0.827335     79.798949\n",
            "min         0.000000    486.000000  ...      0.000000      0.000000\n",
            "25%         0.000000  17423.000000  ...      0.000000      0.000000\n",
            "50%         0.000000  34478.000000  ...      0.000000      0.000000\n",
            "75%         0.000000  60570.000000  ...      0.000000      0.000000\n",
            "max       100.000000  98679.000000  ...     65.000000    988.000000\n",
            "\n",
            "[8 rows x 8 columns]\n"
          ],
          "name": "stdout"
        },
        {
          "output_type": "execute_result",
          "data": {
            "text/html": [
              "<div>\n",
              "<style scoped>\n",
              "    .dataframe tbody tr th:only-of-type {\n",
              "        vertical-align: middle;\n",
              "    }\n",
              "\n",
              "    .dataframe tbody tr th {\n",
              "        vertical-align: top;\n",
              "    }\n",
              "\n",
              "    .dataframe thead th {\n",
              "        text-align: right;\n",
              "    }\n",
              "</style>\n",
              "<table border=\"1\" class=\"dataframe\">\n",
              "  <thead>\n",
              "    <tr style=\"text-align: right;\">\n",
              "      <th></th>\n",
              "      <th>uuid</th>\n",
              "      <th>ord_in_thread</th>\n",
              "      <th>author</th>\n",
              "      <th>published</th>\n",
              "      <th>title</th>\n",
              "      <th>text</th>\n",
              "      <th>language</th>\n",
              "      <th>crawled</th>\n",
              "      <th>site_url</th>\n",
              "      <th>country</th>\n",
              "      <th>domain_rank</th>\n",
              "      <th>thread_title</th>\n",
              "      <th>spam_score</th>\n",
              "      <th>main_img_url</th>\n",
              "      <th>replies_count</th>\n",
              "      <th>participants_count</th>\n",
              "      <th>likes</th>\n",
              "      <th>comments</th>\n",
              "      <th>shares</th>\n",
              "      <th>type</th>\n",
              "    </tr>\n",
              "  </thead>\n",
              "  <tbody>\n",
              "    <tr>\n",
              "      <th>0</th>\n",
              "      <td>6a175f46bcd24d39b3e962ad0f29936721db70db</td>\n",
              "      <td>0</td>\n",
              "      <td>Barracuda Brigade</td>\n",
              "      <td>2016-10-26T21:41:00.000+03:00</td>\n",
              "      <td>Muslims BUSTED: They Stole Millions In Gov’t B...</td>\n",
              "      <td>Print They should pay all the back all the mon...</td>\n",
              "      <td>english</td>\n",
              "      <td>2016-10-27T01:49:27.168+03:00</td>\n",
              "      <td>100percentfedup.com</td>\n",
              "      <td>US</td>\n",
              "      <td>25689.0</td>\n",
              "      <td>Muslims BUSTED: They Stole Millions In Gov’t B...</td>\n",
              "      <td>0.000</td>\n",
              "      <td>http://bb4sp.com/wp-content/uploads/2016/10/Fu...</td>\n",
              "      <td>0</td>\n",
              "      <td>1</td>\n",
              "      <td>0</td>\n",
              "      <td>0</td>\n",
              "      <td>0</td>\n",
              "      <td>bias</td>\n",
              "    </tr>\n",
              "    <tr>\n",
              "      <th>1</th>\n",
              "      <td>2bdc29d12605ef9cf3f09f9875040a7113be5d5b</td>\n",
              "      <td>0</td>\n",
              "      <td>reasoning with facts</td>\n",
              "      <td>2016-10-29T08:47:11.259+03:00</td>\n",
              "      <td>Re: Why Did Attorney General Loretta Lynch Ple...</td>\n",
              "      <td>Why Did Attorney General Loretta Lynch Plead T...</td>\n",
              "      <td>english</td>\n",
              "      <td>2016-10-29T08:47:11.259+03:00</td>\n",
              "      <td>100percentfedup.com</td>\n",
              "      <td>US</td>\n",
              "      <td>25689.0</td>\n",
              "      <td>Re: Why Did Attorney General Loretta Lynch Ple...</td>\n",
              "      <td>0.000</td>\n",
              "      <td>http://bb4sp.com/wp-content/uploads/2016/10/Fu...</td>\n",
              "      <td>0</td>\n",
              "      <td>1</td>\n",
              "      <td>0</td>\n",
              "      <td>0</td>\n",
              "      <td>0</td>\n",
              "      <td>bias</td>\n",
              "    </tr>\n",
              "    <tr>\n",
              "      <th>2</th>\n",
              "      <td>c70e149fdd53de5e61c29281100b9de0ed268bc3</td>\n",
              "      <td>0</td>\n",
              "      <td>Barracuda Brigade</td>\n",
              "      <td>2016-10-31T01:41:49.479+02:00</td>\n",
              "      <td>BREAKING: Weiner Cooperating With FBI On Hilla...</td>\n",
              "      <td>Red State : \\nFox News Sunday reported this mo...</td>\n",
              "      <td>english</td>\n",
              "      <td>2016-10-31T01:41:49.479+02:00</td>\n",
              "      <td>100percentfedup.com</td>\n",
              "      <td>US</td>\n",
              "      <td>25689.0</td>\n",
              "      <td>BREAKING: Weiner Cooperating With FBI On Hilla...</td>\n",
              "      <td>0.000</td>\n",
              "      <td>http://bb4sp.com/wp-content/uploads/2016/10/Fu...</td>\n",
              "      <td>0</td>\n",
              "      <td>1</td>\n",
              "      <td>0</td>\n",
              "      <td>0</td>\n",
              "      <td>0</td>\n",
              "      <td>bias</td>\n",
              "    </tr>\n",
              "    <tr>\n",
              "      <th>3</th>\n",
              "      <td>7cf7c15731ac2a116dd7f629bd57ea468ed70284</td>\n",
              "      <td>0</td>\n",
              "      <td>Fed Up</td>\n",
              "      <td>2016-11-01T05:22:00.000+02:00</td>\n",
              "      <td>PIN DROP SPEECH BY FATHER OF DAUGHTER Kidnappe...</td>\n",
              "      <td>Email Kayla Mueller was a prisoner and torture...</td>\n",
              "      <td>english</td>\n",
              "      <td>2016-11-01T15:46:26.304+02:00</td>\n",
              "      <td>100percentfedup.com</td>\n",
              "      <td>US</td>\n",
              "      <td>25689.0</td>\n",
              "      <td>PIN DROP SPEECH BY FATHER OF DAUGHTER Kidnappe...</td>\n",
              "      <td>0.068</td>\n",
              "      <td>http://100percentfedup.com/wp-content/uploads/...</td>\n",
              "      <td>0</td>\n",
              "      <td>0</td>\n",
              "      <td>0</td>\n",
              "      <td>0</td>\n",
              "      <td>0</td>\n",
              "      <td>bias</td>\n",
              "    </tr>\n",
              "    <tr>\n",
              "      <th>4</th>\n",
              "      <td>0206b54719c7e241ffe0ad4315b808290dbe6c0f</td>\n",
              "      <td>0</td>\n",
              "      <td>Fed Up</td>\n",
              "      <td>2016-11-01T21:56:00.000+02:00</td>\n",
              "      <td>FANTASTIC! TRUMP'S 7 POINT PLAN To Reform Heal...</td>\n",
              "      <td>Email HEALTHCARE REFORM TO MAKE AMERICA GREAT ...</td>\n",
              "      <td>english</td>\n",
              "      <td>2016-11-01T23:59:42.266+02:00</td>\n",
              "      <td>100percentfedup.com</td>\n",
              "      <td>US</td>\n",
              "      <td>25689.0</td>\n",
              "      <td>FANTASTIC! TRUMP'S 7 POINT PLAN To Reform Heal...</td>\n",
              "      <td>0.865</td>\n",
              "      <td>http://100percentfedup.com/wp-content/uploads/...</td>\n",
              "      <td>0</td>\n",
              "      <td>0</td>\n",
              "      <td>0</td>\n",
              "      <td>0</td>\n",
              "      <td>0</td>\n",
              "      <td>bias</td>\n",
              "    </tr>\n",
              "  </tbody>\n",
              "</table>\n",
              "</div>"
            ],
            "text/plain": [
              "                                       uuid  ord_in_thread  ... shares  type\n",
              "0  6a175f46bcd24d39b3e962ad0f29936721db70db              0  ...      0  bias\n",
              "1  2bdc29d12605ef9cf3f09f9875040a7113be5d5b              0  ...      0  bias\n",
              "2  c70e149fdd53de5e61c29281100b9de0ed268bc3              0  ...      0  bias\n",
              "3  7cf7c15731ac2a116dd7f629bd57ea468ed70284              0  ...      0  bias\n",
              "4  0206b54719c7e241ffe0ad4315b808290dbe6c0f              0  ...      0  bias\n",
              "\n",
              "[5 rows x 20 columns]"
            ]
          },
          "metadata": {
            "tags": []
          },
          "execution_count": 5
        }
      ]
    },
    {
      "cell_type": "markdown",
      "metadata": {
        "id": "mGar0agYskm4",
        "colab_type": "text"
      },
      "source": [
        "# **DATA PRE-PROCESSING**"
      ]
    },
    {
      "cell_type": "code",
      "metadata": {
        "id": "BEoYoaM11DIp",
        "colab_type": "code",
        "outputId": "66842717-e06f-4882-8d90-c87490f152f3",
        "colab": {
          "base_uri": "https://localhost:8080/",
          "height": 178
        }
      },
      "source": [
        "column_names = list(fake_news.columns)\n",
        "print(column_names)\n",
        "for column in column_names:\n",
        "    if fake_news[column].count()<len(fake_news):\n",
        "        print(column,fake_news[column].count())     \n",
        "        \n",
        "fake_news.loc[fake_news['text'].isnull(),'text'] = ''\n",
        "fake_news.loc[fake_news['country'].isnull(),'country'] = 'US' \n",
        "fake_news.loc[fake_news['author'].isnull(),'author'] = fake_news.loc[fake_news['author'].isnull(),'country']\n",
        "fake_news.loc[fake_news['thread_title'].isnull(),'thread_title'] = ''\n",
        "fake_news.loc[fake_news['domain_rank'].isnull(),'domain_rank'] = np.nanmedian(np.array(fake_news['domain_rank'])) "
      ],
      "execution_count": 0,
      "outputs": [
        {
          "output_type": "stream",
          "text": [
            "['uuid', 'ord_in_thread', 'author', 'published', 'title', 'text', 'language', 'crawled', 'site_url', 'country', 'domain_rank', 'thread_title', 'spam_score', 'main_img_url', 'replies_count', 'participants_count', 'likes', 'comments', 'shares', 'type']\n",
            "author 10575\n",
            "title 12319\n",
            "text 12953\n",
            "country 12823\n",
            "domain_rank 8776\n",
            "thread_title 12987\n",
            "main_img_url 9356\n"
          ],
          "name": "stdout"
        }
      ]
    },
    {
      "cell_type": "code",
      "metadata": {
        "id": "cCVV5K0Dafuz",
        "colab_type": "code",
        "colab": {}
      },
      "source": [
        "pstem = PorterStemmer()\n",
        "stop = set(stopwords.words('english'))\n",
        "\n",
        "def stemmer(text):\n",
        "    wordlist = text.strip().split()\n",
        "    pstem = PorterStemmer()\n",
        "    j = '';\n",
        "    for word in wordlist:\n",
        "        try:\n",
        "            j = j+pstem.stem(word)+' '\n",
        "        except: \n",
        "            print(text)\n",
        "    return j\n",
        "\n",
        "fake_news['text_lower'] = fake_news['text'].map(lambda x: re.sub(r'[^a-z ]','',x.lower()))\n",
        "fake_news['text_lower'] = fake_news['text_lower'].map(lambda x: ' '.join([word for word in x.strip().split() if word not in stop ]))\n",
        "fake_news['text_lower'] = fake_news['text_lower'].map(lambda x: stemmer(x))\n",
        "fake_news['thread_lower'] = fake_news['thread_title'].map(lambda x: re.sub(r'[^a-z ]','',x.lower()))\n",
        "fake_news['thread_lower'] = fake_news['thread_lower'].map(lambda x: ' '.join([word for word in x.strip().split() if word not in stop ]))\n",
        "fake_news['thread_lower'] = fake_news['thread_lower'].map(lambda x: ' '.join([pstem.stem(word) for word in x.strip().split()]))\n",
        "fake_news['num_words'] = fake_news['text_lower'].map(lambda x: len(str(x).strip().split()))"
      ],
      "execution_count": 0,
      "outputs": []
    },
    {
      "cell_type": "markdown",
      "metadata": {
        "id": "im9D2YvFsc2m",
        "colab_type": "text"
      },
      "source": [
        "# **TF-IDF && COSINE SIMILARITY**"
      ]
    },
    {
      "cell_type": "code",
      "metadata": {
        "id": "BFXobhe71bPv",
        "colab_type": "code",
        "outputId": "72699dd2-ffa0-4673-81ef-d8a016b5849e",
        "colab": {
          "base_uri": "https://localhost:8080/",
          "height": 176
        }
      },
      "source": [
        "def similarity(t1,t2):\n",
        "    t = [t1,t2]\n",
        "    tfidf_vectorizer = TfidfVectorizer()\n",
        "    try:\n",
        "        vectors = tfidf_vectorizer.fit_transform(t)\n",
        "        vectors = vectors.toarray()\n",
        "        sim = cosine_similarity(vectors[0].reshape(1,-1),vectors[1].reshape(1,-1))[0]\n",
        "    except:\n",
        "        sim = 0\n",
        "    return sim\n",
        "\n",
        "fake_news['similarity'] = [similarity(b['text_lower'],b['thread_lower']) for (a,b) in fake_news.iterrows()]\n",
        "fake_news['similarity'].describe() "
      ],
      "execution_count": 0,
      "outputs": [
        {
          "output_type": "execute_result",
          "data": {
            "text/plain": [
              "count    12999.0\n",
              "mean         0.0\n",
              "std          0.0\n",
              "min          0.0\n",
              "25%          0.0\n",
              "50%          0.0\n",
              "75%          0.0\n",
              "max          0.0\n",
              "Name: similarity, dtype: float64"
            ]
          },
          "metadata": {
            "tags": []
          },
          "execution_count": 8
        }
      ]
    },
    {
      "cell_type": "code",
      "metadata": {
        "id": "4jVwoHCz1eUk",
        "colab_type": "code",
        "outputId": "406c47dd-d6f4-49e8-bd91-7ef33a6cd2c7",
        "colab": {
          "base_uri": "https://localhost:8080/",
          "height": 176
        }
      },
      "source": [
        "countries = list(fake_news['country'].unique())\n",
        "fake_news['country_number'] = fake_news['country'].map(lambda x: countries.index(x))\n",
        "fake_news['country_number'].describe()"
      ],
      "execution_count": 0,
      "outputs": [
        {
          "output_type": "execute_result",
          "data": {
            "text/plain": [
              "count    12999.000000\n",
              "mean         1.530348\n",
              "std          4.034031\n",
              "min          0.000000\n",
              "25%          0.000000\n",
              "50%          0.000000\n",
              "75%          0.000000\n",
              "max         23.000000\n",
              "Name: country_number, dtype: float64"
            ]
          },
          "metadata": {
            "tags": []
          },
          "execution_count": 9
        }
      ]
    },
    {
      "cell_type": "code",
      "metadata": {
        "id": "kbJnS9UT1g68",
        "colab_type": "code",
        "outputId": "475e4aeb-19a2-41a1-a878-c7610fdac73b",
        "colab": {
          "base_uri": "https://localhost:8080/",
          "height": 176
        }
      },
      "source": [
        "languages = list(fake_news['language'].unique())\n",
        "fake_news['language_number'] = fake_news['language'].map(lambda x: languages.index(x))\n",
        "fake_news['language_number'].describe()"
      ],
      "execution_count": 0,
      "outputs": [
        {
          "output_type": "execute_result",
          "data": {
            "text/plain": [
              "count    12999.000000\n",
              "mean         0.206170\n",
              "std          1.056325\n",
              "min          0.000000\n",
              "25%          0.000000\n",
              "50%          0.000000\n",
              "75%          0.000000\n",
              "max         15.000000\n",
              "Name: language_number, dtype: float64"
            ]
          },
          "metadata": {
            "tags": []
          },
          "execution_count": 10
        }
      ]
    },
    {
      "cell_type": "code",
      "metadata": {
        "id": "Yg-xj3V-2WiS",
        "colab_type": "code",
        "outputId": "784dc038-1e63-4878-e1f1-39b7964b0cea",
        "colab": {
          "base_uri": "https://localhost:8080/",
          "height": 507
        }
      },
      "source": [
        "fake_news.head(3)"
      ],
      "execution_count": 0,
      "outputs": [
        {
          "output_type": "execute_result",
          "data": {
            "text/html": [
              "<div>\n",
              "<style scoped>\n",
              "    .dataframe tbody tr th:only-of-type {\n",
              "        vertical-align: middle;\n",
              "    }\n",
              "\n",
              "    .dataframe tbody tr th {\n",
              "        vertical-align: top;\n",
              "    }\n",
              "\n",
              "    .dataframe thead th {\n",
              "        text-align: right;\n",
              "    }\n",
              "</style>\n",
              "<table border=\"1\" class=\"dataframe\">\n",
              "  <thead>\n",
              "    <tr style=\"text-align: right;\">\n",
              "      <th></th>\n",
              "      <th>uuid</th>\n",
              "      <th>ord_in_thread</th>\n",
              "      <th>author</th>\n",
              "      <th>published</th>\n",
              "      <th>title</th>\n",
              "      <th>text</th>\n",
              "      <th>language</th>\n",
              "      <th>crawled</th>\n",
              "      <th>site_url</th>\n",
              "      <th>country</th>\n",
              "      <th>domain_rank</th>\n",
              "      <th>thread_title</th>\n",
              "      <th>spam_score</th>\n",
              "      <th>main_img_url</th>\n",
              "      <th>replies_count</th>\n",
              "      <th>participants_count</th>\n",
              "      <th>likes</th>\n",
              "      <th>comments</th>\n",
              "      <th>shares</th>\n",
              "      <th>type</th>\n",
              "      <th>text_lower</th>\n",
              "      <th>thread_lower</th>\n",
              "      <th>num_words</th>\n",
              "      <th>similarity</th>\n",
              "      <th>country_number</th>\n",
              "      <th>language_number</th>\n",
              "    </tr>\n",
              "  </thead>\n",
              "  <tbody>\n",
              "    <tr>\n",
              "      <th>0</th>\n",
              "      <td>6a175f46bcd24d39b3e962ad0f29936721db70db</td>\n",
              "      <td>0</td>\n",
              "      <td>Barracuda Brigade</td>\n",
              "      <td>2016-10-26T21:41:00.000+03:00</td>\n",
              "      <td>Muslims BUSTED: They Stole Millions In Gov’t B...</td>\n",
              "      <td>Print They should pay all the back all the mon...</td>\n",
              "      <td>english</td>\n",
              "      <td>2016-10-27T01:49:27.168+03:00</td>\n",
              "      <td>100percentfedup.com</td>\n",
              "      <td>US</td>\n",
              "      <td>25689.0</td>\n",
              "      <td>Muslims BUSTED: They Stole Millions In Gov’t B...</td>\n",
              "      <td>0.0</td>\n",
              "      <td>http://bb4sp.com/wp-content/uploads/2016/10/Fu...</td>\n",
              "      <td>0</td>\n",
              "      <td>1</td>\n",
              "      <td>0</td>\n",
              "      <td>0</td>\n",
              "      <td>0</td>\n",
              "      <td>bias</td>\n",
              "      <td>print pay back money plu interest entir famili...</td>\n",
              "      <td>muslim bust stole million govt benefit</td>\n",
              "      <td>46</td>\n",
              "      <td>0</td>\n",
              "      <td>0</td>\n",
              "      <td>0</td>\n",
              "    </tr>\n",
              "    <tr>\n",
              "      <th>1</th>\n",
              "      <td>2bdc29d12605ef9cf3f09f9875040a7113be5d5b</td>\n",
              "      <td>0</td>\n",
              "      <td>reasoning with facts</td>\n",
              "      <td>2016-10-29T08:47:11.259+03:00</td>\n",
              "      <td>Re: Why Did Attorney General Loretta Lynch Ple...</td>\n",
              "      <td>Why Did Attorney General Loretta Lynch Plead T...</td>\n",
              "      <td>english</td>\n",
              "      <td>2016-10-29T08:47:11.259+03:00</td>\n",
              "      <td>100percentfedup.com</td>\n",
              "      <td>US</td>\n",
              "      <td>25689.0</td>\n",
              "      <td>Re: Why Did Attorney General Loretta Lynch Ple...</td>\n",
              "      <td>0.0</td>\n",
              "      <td>http://bb4sp.com/wp-content/uploads/2016/10/Fu...</td>\n",
              "      <td>0</td>\n",
              "      <td>1</td>\n",
              "      <td>0</td>\n",
              "      <td>0</td>\n",
              "      <td>0</td>\n",
              "      <td>bias</td>\n",
              "      <td>attorney gener loretta lynch plead fifth barra...</td>\n",
              "      <td>attorney gener loretta lynch plead fifth</td>\n",
              "      <td>164</td>\n",
              "      <td>0</td>\n",
              "      <td>0</td>\n",
              "      <td>0</td>\n",
              "    </tr>\n",
              "    <tr>\n",
              "      <th>2</th>\n",
              "      <td>c70e149fdd53de5e61c29281100b9de0ed268bc3</td>\n",
              "      <td>0</td>\n",
              "      <td>Barracuda Brigade</td>\n",
              "      <td>2016-10-31T01:41:49.479+02:00</td>\n",
              "      <td>BREAKING: Weiner Cooperating With FBI On Hilla...</td>\n",
              "      <td>Red State : \\nFox News Sunday reported this mo...</td>\n",
              "      <td>english</td>\n",
              "      <td>2016-10-31T01:41:49.479+02:00</td>\n",
              "      <td>100percentfedup.com</td>\n",
              "      <td>US</td>\n",
              "      <td>25689.0</td>\n",
              "      <td>BREAKING: Weiner Cooperating With FBI On Hilla...</td>\n",
              "      <td>0.0</td>\n",
              "      <td>http://bb4sp.com/wp-content/uploads/2016/10/Fu...</td>\n",
              "      <td>0</td>\n",
              "      <td>1</td>\n",
              "      <td>0</td>\n",
              "      <td>0</td>\n",
              "      <td>0</td>\n",
              "      <td>bias</td>\n",
              "      <td>red state fox news sunday report morn anthoni ...</td>\n",
              "      <td>break weiner cooper fbi hillari email investig</td>\n",
              "      <td>130</td>\n",
              "      <td>0</td>\n",
              "      <td>0</td>\n",
              "      <td>0</td>\n",
              "    </tr>\n",
              "  </tbody>\n",
              "</table>\n",
              "</div>"
            ],
            "text/plain": [
              "                                       uuid  ...  language_number\n",
              "0  6a175f46bcd24d39b3e962ad0f29936721db70db  ...                0\n",
              "1  2bdc29d12605ef9cf3f09f9875040a7113be5d5b  ...                0\n",
              "2  c70e149fdd53de5e61c29281100b9de0ed268bc3  ...                0\n",
              "\n",
              "[3 rows x 26 columns]"
            ]
          },
          "metadata": {
            "tags": []
          },
          "execution_count": 11
        }
      ]
    },
    {
      "cell_type": "code",
      "metadata": {
        "id": "SttvkwXI1jPc",
        "colab_type": "code",
        "outputId": "1fbc9c75-d113-4c91-95c7-f8d9e7589d4f",
        "colab": {
          "base_uri": "https://localhost:8080/",
          "height": 167
        }
      },
      "source": [
        "fake_news['index'] = fake_news.index\n",
        "data = fake_news\n",
        "train_lda = data[['text_lower', 'index','thread_lower']]\n",
        "train_lda.head(4)"
      ],
      "execution_count": 0,
      "outputs": [
        {
          "output_type": "execute_result",
          "data": {
            "text/html": [
              "<div>\n",
              "<style scoped>\n",
              "    .dataframe tbody tr th:only-of-type {\n",
              "        vertical-align: middle;\n",
              "    }\n",
              "\n",
              "    .dataframe tbody tr th {\n",
              "        vertical-align: top;\n",
              "    }\n",
              "\n",
              "    .dataframe thead th {\n",
              "        text-align: right;\n",
              "    }\n",
              "</style>\n",
              "<table border=\"1\" class=\"dataframe\">\n",
              "  <thead>\n",
              "    <tr style=\"text-align: right;\">\n",
              "      <th></th>\n",
              "      <th>text_lower</th>\n",
              "      <th>index</th>\n",
              "      <th>thread_lower</th>\n",
              "    </tr>\n",
              "  </thead>\n",
              "  <tbody>\n",
              "    <tr>\n",
              "      <th>0</th>\n",
              "      <td>print pay back money plu interest entir famili...</td>\n",
              "      <td>0</td>\n",
              "      <td>muslim bust stole million govt benefit</td>\n",
              "    </tr>\n",
              "    <tr>\n",
              "      <th>1</th>\n",
              "      <td>attorney gener loretta lynch plead fifth barra...</td>\n",
              "      <td>1</td>\n",
              "      <td>attorney gener loretta lynch plead fifth</td>\n",
              "    </tr>\n",
              "    <tr>\n",
              "      <th>2</th>\n",
              "      <td>red state fox news sunday report morn anthoni ...</td>\n",
              "      <td>2</td>\n",
              "      <td>break weiner cooper fbi hillari email investig</td>\n",
              "    </tr>\n",
              "    <tr>\n",
              "      <th>3</th>\n",
              "      <td>email kayla mueller prison tortur isi chanc re...</td>\n",
              "      <td>3</td>\n",
              "      <td>pin drop speech father daughter kidnap kill is...</td>\n",
              "    </tr>\n",
              "  </tbody>\n",
              "</table>\n",
              "</div>"
            ],
            "text/plain": [
              "                                          text_lower  ...                                       thread_lower\n",
              "0  print pay back money plu interest entir famili...  ...             muslim bust stole million govt benefit\n",
              "1  attorney gener loretta lynch plead fifth barra...  ...           attorney gener loretta lynch plead fifth\n",
              "2  red state fox news sunday report morn anthoni ...  ...     break weiner cooper fbi hillari email investig\n",
              "3  email kayla mueller prison tortur isi chanc re...  ...  pin drop speech father daughter kidnap kill is...\n",
              "\n",
              "[4 rows x 3 columns]"
            ]
          },
          "metadata": {
            "tags": []
          },
          "execution_count": 12
        }
      ]
    },
    {
      "cell_type": "code",
      "metadata": {
        "id": "8aJT3_Jf2qap",
        "colab_type": "code",
        "outputId": "44bbb6e5-59b4-4935-e8c0-d75c3c3a4b30",
        "colab": {
          "base_uri": "https://localhost:8080/",
          "height": 105
        }
      },
      "source": [
        "processed_docs = train_lda['text_lower'].map(lambda doc: doc.split(\" \"))\n",
        "processed_docs[:4]"
      ],
      "execution_count": 0,
      "outputs": [
        {
          "output_type": "execute_result",
          "data": {
            "text/plain": [
              "0    [print, pay, back, money, plu, interest, entir...\n",
              "1    [attorney, gener, loretta, lynch, plead, fifth...\n",
              "2    [red, state, fox, news, sunday, report, morn, ...\n",
              "3    [email, kayla, mueller, prison, tortur, isi, c...\n",
              "Name: text_lower, dtype: object"
            ]
          },
          "metadata": {
            "tags": []
          },
          "execution_count": 13
        }
      ]
    },
    {
      "cell_type": "markdown",
      "metadata": {
        "id": "ob-nSV7ysGwk",
        "colab_type": "text"
      },
      "source": [
        "## **LDA TOPIC MODELLING**"
      ]
    },
    {
      "cell_type": "code",
      "metadata": {
        "id": "lyeCSnQT20lZ",
        "colab_type": "code",
        "colab": {}
      },
      "source": [
        "def get_word_tokens(text):\n",
        "    result = []\n",
        "    for token in gensim.utils.simple_preprocess(text):\n",
        "        if len(token) > 3:\n",
        "            result.append(token)\n",
        "    return result\n",
        "tokenized_docs_local = fake_news['text_lower'].map(get_word_tokens)"
      ],
      "execution_count": 0,
      "outputs": []
    },
    {
      "cell_type": "code",
      "metadata": {
        "id": "8Ay2Qrxr2314",
        "colab_type": "code",
        "colab": {}
      },
      "source": [
        "def get_dictionary_print_words(dataframe,colname):\n",
        "    dictionary_gensim = gensim.corpora.Dictionary(processed_docs)\n",
        "    count = 0\n",
        "    print('######## DICTIONARY Words and occurences ########')\n",
        "    for k, v in dictionary_gensim.iteritems():\n",
        "        print(k, v)\n",
        "        count += 1\n",
        "        if count > 10:\n",
        "            break\n",
        "    dictionary_gensim.filter_extremes(no_below=15, no_above=0.5, keep_n=100000)\n",
        "    return dictionary_gensim, tokenized_docs_local"
      ],
      "execution_count": 0,
      "outputs": []
    },
    {
      "cell_type": "code",
      "metadata": {
        "id": "rG3Otpft3Enz",
        "colab_type": "code",
        "colab": {}
      },
      "source": [
        "\n",
        "def get_bow_corpus_print_sample(dataframe,colname):\n",
        "    dictionary_gensim, tokenized_docs_local = get_dictionary_print_words(dataframe, colname)\n",
        "    bow_corpus_local = [dictionary_gensim.doc2bow(doc) for doc in tokenized_docs_local]\n",
        "    bow_doc_local_0 = bow_corpus_local[0]\n",
        "    print('\\n ######## BOW VECTOR FIRST ITEM ########')\n",
        "    print(bow_doc_local_0)\n",
        "    print('\\n ######## PREVIEW BOW ########')\n",
        "    for i in range(len(bow_doc_local_0)):\n",
        "        print(\"Word {} (\\\"{}\\\") appears {} time.\".format(bow_doc_local_0[i][0], \n",
        "                                               dictionary_gensim[bow_doc_local_0[i][0]], bow_doc_local_0[i][1]))\n",
        "    return bow_corpus_local, dictionary_gensim"
      ],
      "execution_count": 0,
      "outputs": []
    },
    {
      "cell_type": "code",
      "metadata": {
        "id": "HJkLc_Bf3HMk",
        "colab_type": "code",
        "colab": {}
      },
      "source": [
        "def get_tfidf_corpus_print_sample(bow_corpus_local):\n",
        "    from gensim import corpora, models\n",
        "    tfidf = models.TfidfModel(bow_corpus_local)\n",
        "    tfidf_corpus_local = tfidf[bow_corpus_local]\n",
        "    print('\\n ######## TFIDF VECTOR FIRST ITEM ########')\n",
        "    \n",
        "    from pprint import pprint\n",
        "    for doc in tfidf_corpus_local:\n",
        "        pprint(doc)\n",
        "        break\n",
        "    return tfidf_corpus_local"
      ],
      "execution_count": 0,
      "outputs": []
    },
    {
      "cell_type": "code",
      "metadata": {
        "id": "zaKmQuRj3Jvm",
        "colab_type": "code",
        "colab": {}
      },
      "source": [
        "def get_lda_model_print_top_topics(bow_corpusforlda,numtopics,dictionaryforlda):\n",
        "    lda_model = gensim.models.LdaMulticore(bow_corpusforlda, num_topics=numtopics, id2word=dictionaryforlda, passes=2, workers=2)\n",
        "    lda_all_topics=lda_model.show_topics(num_topics=numtopics, num_words=10,formatted=False)\n",
        "    lda_topics_words = [(tp[0], [wd[0] for wd in tp[1]]) for tp in lda_all_topics]\n",
        "\n",
        "    #Below Code Prints Topics and Words\n",
        "    for topic,words in lda_topics_words:\n",
        "        print(str(topic)+ \"::\"+ str(words))\n",
        "    return lda_model"
      ],
      "execution_count": 0,
      "outputs": []
    },
    {
      "cell_type": "code",
      "metadata": {
        "id": "oX7yc3Q53Obp",
        "colab_type": "code",
        "colab": {}
      },
      "source": [
        "def get_lda_model_topics_topwords_print_top_topics(bow_corpusforlda,numtopics,dictionaryforlda):\n",
        "    lda_model = gensim.models.LdaMulticore(bow_corpusforlda, num_topics=numtopics, id2word=dictionaryforlda, passes=2, workers=2, random_state=1)\n",
        "    lda_all_topics=lda_model.show_topics(num_topics=numtopics, num_words=10,formatted=False)\n",
        "    lda_topics_words = [(tp[0], [wd[0] for wd in tp[1]]) for tp in lda_all_topics]\n",
        "\n",
        "    #Below Code Prints Topics and Words\n",
        "    for topic,words in lda_topics_words:\n",
        "        print(str(topic)+ \"::\"+ str(words))\n",
        "    return lda_model,lda_topics_words"
      ],
      "execution_count": 0,
      "outputs": []
    },
    {
      "cell_type": "code",
      "metadata": {
        "id": "DdY_qs_J3O8x",
        "colab_type": "code",
        "colab": {}
      },
      "source": [
        "def identify_topic_number_score_label_topwords(text,dictionary_local,lda_model_local,lda_topics_top_words_local):\n",
        "    bow_vector_local = dictionary_local.doc2bow(get_word_tokens(text))\n",
        "    topic_number_local, topic_score_local = sorted(\n",
        "        lda_model_local[bow_vector_local], key=lambda tup: -1*tup[1])[0]\n",
        "    #print (topic_number_local, topic_score_local)\n",
        "    return pd.Series([topic_number_local, topic_score_local,\" \".join(lda_topics_top_words_local[int(topic_number_local)][1])])"
      ],
      "execution_count": 0,
      "outputs": []
    },
    {
      "cell_type": "code",
      "metadata": {
        "id": "ZsYlvgen3Rav",
        "colab_type": "code",
        "colab": {}
      },
      "source": [
        "def update_lda_results_to_dataset(dataframe,topiccolnames,coltoapplylda,colnamedictionary,colnameldamodel, colnameldatopwords):\n",
        "    dataframe[topiccolnames] = dataframe.apply(\n",
        "    lambda row: identify_topic_number_score_label_topwords(\n",
        "        row[coltoapplylda],colnamedictionary,colnameldamodel,\n",
        "        colnameldatopwords), axis=1)\n",
        "    return dataframe"
      ],
      "execution_count": 0,
      "outputs": []
    },
    {
      "cell_type": "code",
      "metadata": {
        "id": "_1A6qRPy3rv9",
        "colab_type": "code",
        "outputId": "1f75256b-7505-41df-c966-efaf580f53ce",
        "colab": {
          "base_uri": "https://localhost:8080/",
          "height": 978
        }
      },
      "source": [
        "bow_corpus_headline, dictionary_headline = get_bow_corpus_print_sample(fake_news,'text_lower')"
      ],
      "execution_count": 0,
      "outputs": [
        {
          "output_type": "stream",
          "text": [
            "######## DICTIONARY Words and occurences ########\n",
            "0 \n",
            "1 anoth\n",
            "2 asap\n",
            "3 back\n",
            "4 benefit\n",
            "5 bust\n",
            "6 came\n",
            "7 case\n",
            "8 commit\n",
            "9 control\n",
            "10 deport\n",
            "\n",
            " ######## BOW VECTOR FIRST ITEM ########\n",
            "[(0, 1), (1, 1), (2, 1), (3, 1), (4, 1), (5, 1), (6, 1), (7, 1), (8, 1), (9, 1), (10, 1), (11, 1), (12, 1), (13, 1), (14, 1), (16, 2), (17, 2), (18, 1), (19, 1), (20, 1), (21, 1), (22, 1), (23, 1), (24, 1), (25, 1), (28, 1), (29, 1), (30, 1), (31, 1), (32, 1), (33, 1), (34, 1), (35, 1), (36, 1), (39, 1), (40, 1)]\n",
            "\n",
            " ######## PREVIEW BOW ########\n",
            "Word 0 (\"anoth\") appears 1 time.\n",
            "Word 1 (\"asap\") appears 1 time.\n",
            "Word 2 (\"back\") appears 1 time.\n",
            "Word 3 (\"benefit\") appears 1 time.\n",
            "Word 4 (\"bust\") appears 1 time.\n",
            "Word 5 (\"came\") appears 1 time.\n",
            "Word 6 (\"case\") appears 1 time.\n",
            "Word 7 (\"commit\") appears 1 time.\n",
            "Word 8 (\"control\") appears 1 time.\n",
            "Word 9 (\"deport\") appears 1 time.\n",
            "Word 10 (\"entir\") appears 1 time.\n",
            "Word 11 (\"everyon\") appears 1 time.\n",
            "Word 12 (\"famili\") appears 1 time.\n",
            "Word 13 (\"four\") appears 1 time.\n",
            "Word 14 (\"fraud\") appears 1 time.\n",
            "Word 16 (\"govern\") appears 2 time.\n",
            "Word 17 (\"group\") appears 2 time.\n",
            "Word 18 (\"interest\") appears 1 time.\n",
            "Word 19 (\"like\") appears 1 time.\n",
            "Word 20 (\"million\") appears 1 time.\n",
            "Word 21 (\"money\") appears 1 time.\n",
            "Word 22 (\"month\") appears 1 time.\n",
            "Word 23 (\"muslim\") appears 1 time.\n",
            "Word 24 (\"need\") appears 1 time.\n",
            "Word 25 (\"numer\") appears 1 time.\n",
            "Word 28 (\"print\") appears 1 time.\n",
            "Word 29 (\"relat\") appears 1 time.\n",
            "Word 30 (\"report\") appears 1 time.\n",
            "Word 31 (\"scam\") appears 1 time.\n",
            "Word 32 (\"somali\") appears 1 time.\n",
            "Word 33 (\"steal\") appears 1 time.\n",
            "Word 34 (\"stole\") appears 1 time.\n",
            "Word 35 (\"take\") appears 1 time.\n",
            "Word 36 (\"taxpay\") appears 1 time.\n",
            "Word 39 (\"weve\") appears 1 time.\n",
            "Word 40 (\"year\") appears 1 time.\n"
          ],
          "name": "stdout"
        }
      ]
    },
    {
      "cell_type": "code",
      "metadata": {
        "id": "_GVQrWsN3ryu",
        "colab_type": "code",
        "outputId": "6bcd44b0-c7c6-4769-9a21-77bf1dd2e6e4",
        "colab": {
          "base_uri": "https://localhost:8080/",
          "height": 194
        }
      },
      "source": [
        "lda_model_headline, lda_headline_topic_words = get_lda_model_topics_topwords_print_top_topics(\n",
        "    bow_corpus_headline, 10 ,dictionary_headline)"
      ],
      "execution_count": 0,
      "outputs": [
        {
          "output_type": "stream",
          "text": [
            "0::['clinton', 'email', 'investig', 'state', 'report', 'hillari', 'said', 'comey', 'time', 'inform']\n",
            "1::['clinton', 'trump', 'hillari', 'presid', 'would', 'email', 'campaign', 'elect', 'state', 'obama']\n",
            "2::['trump', 'vote', 'elect', 'peopl', 'state', 'clinton', 'democrat', 'american', 'hillari', 'voter']\n",
            "3::['russia', 'state', 'syria', 'would', 'govern', 'presid', 'russian', 'countri', 'said', 'also']\n",
            "4::['govern', 'peopl', 'state', 'pipelin', 'would', 'said', 'american', 'like', 'year', 'attack']\n",
            "5::['para', 'russian', 'email', 'state', 'russia', 'como', 'clinton', 'would', 'said', 'peopl']\n",
            "6::['like', 'make', 'state', 'american', 'time', 'peopl', 'news', 'world', 'trump', 'post']\n",
            "7::['state', 'govern', 'obama', 'would', 'peopl', 'year', 'world', 'presid', 'nation', 'american']\n",
            "8::['peopl', 'world', 'state', 'time', 'like', 'nation', 'would', 'year', 'polic', 'black']\n",
            "9::['peopl', 'time', 'like', 'year', 'also', 'mani', 'said', 'make', 'world', 'human']\n"
          ],
          "name": "stdout"
        }
      ]
    },
    {
      "cell_type": "code",
      "metadata": {
        "id": "TXjQ6rFE3r1T",
        "colab_type": "code",
        "outputId": "c76c2994-3e10-41a3-c353-67ecd9d2458a",
        "colab": {
          "base_uri": "https://localhost:8080/",
          "height": 692
        }
      },
      "source": [
        "tfidf_corpus_headline = get_tfidf_corpus_print_sample(bow_corpus_headline)"
      ],
      "execution_count": 0,
      "outputs": [
        {
          "output_type": "stream",
          "text": [
            "\n",
            " ######## TFIDF VECTOR FIRST ITEM ########\n",
            "[(0, 0.08275387447287372),\n",
            " (1, 0.34732052969890836),\n",
            " (2, 0.07326793123378836),\n",
            " (3, 0.146331237598883),\n",
            " (4, 0.25694326941888074),\n",
            " (5, 0.11662671651052897),\n",
            " (6, 0.09549975200972269),\n",
            " (7, 0.13631871057630102),\n",
            " (8, 0.10015156364799924),\n",
            " (9, 0.2379558140945087),\n",
            " (10, 0.11149877411061139),\n",
            " (11, 0.12770346764229712),\n",
            " (12, 0.11049626377938052),\n",
            " (13, 0.12894216192330096),\n",
            " (14, 0.16855163938296797),\n",
            " (16, 0.1459631358268953),\n",
            " (17, 0.18387168545296842),\n",
            " (18, 0.09728486080549911),\n",
            " (19, 0.04477612682794822),\n",
            " (20, 0.09446475108984374),\n",
            " (21, 0.11242309807054697),\n",
            " (22, 0.0991542140769561),\n",
            " (23, 0.1610887765005904),\n",
            " (24, 0.0722250290867347),\n",
            " (25, 0.172930134785294),\n",
            " (28, 0.15824510936044836),\n",
            " (29, 0.10483182972694496),\n",
            " (30, 0.06246753942894103),\n",
            " (31, 0.25567781643453247),\n",
            " (32, 0.354172583742926),\n",
            " (33, 0.1941392224492906),\n",
            " (34, 0.2811175996848103),\n",
            " (35, 0.06038995036960375),\n",
            " (36, 0.21971785906891358),\n",
            " (39, 0.157161265715028),\n",
            " (40, 0.05143193203145131)]\n"
          ],
          "name": "stdout"
        }
      ]
    },
    {
      "cell_type": "code",
      "metadata": {
        "id": "oRqzhcev3r3j",
        "colab_type": "code",
        "outputId": "0b834183-ac0d-4a92-b450-3203a2f66995",
        "colab": {
          "base_uri": "https://localhost:8080/",
          "height": 194
        }
      },
      "source": [
        "lda_tfidf_model_headline  = get_lda_model_print_top_topics(tfidf_corpus_headline,10,dictionary_headline)"
      ],
      "execution_count": 0,
      "outputs": [
        {
          "output_type": "stream",
          "text": [
            "0::['sich', 'nicht', 'malik', 'dass', 'bric', 'wurd', 'einer', 'nacion', 'auch', 'jahr']\n",
            "1::['liar', 'blood', 'vitamin', 'sugar', 'brandon', 'email', 'notifi', 'autism', 'turbevil', 'calcium']\n",
            "2::['wearechang', 'franai', 'deutsch', 'creamer', 'earthquak', 'pour', 'petra', 'trke', 'itali', 'verita']\n",
            "3::['good', 'bundi', 'telegram', 'daesh', 'mosul', 'bull', 'tomb', 'stock', 'trump', 'star']\n",
            "4::['russia', 'russian', 'syria', 'trump', 'militari', 'state', 'syrian', 'putin', 'govern', 'countri']\n",
            "5::['pipelin', 'para', 'dakota', 'como', 'rock', 'protest', 'estado', 'espaol', 'president', 'stand']\n",
            "6::['pravdaru', 'snack', 'convers', 'facebook', 'guest', 'raqqa', 'erdogan', 'sourc', 'ticker', 'comment']\n",
            "7::['clinton', 'trump', 'hillari', 'email', 'elect', 'vote', 'investig', 'campaign', 'comey', 'wikileak']\n",
            "8::['album', 'dinucci', 'simul', 'scorpio', 'knew', 'legit', 'spam', 'meteor', 'unchang', 'renzi']\n",
            "9::['vote', 'trump', 'world', 'life', 'gold', 'peopl', 'chang', 'human', 'love', 'market']\n"
          ],
          "name": "stdout"
        }
      ]
    },
    {
      "cell_type": "code",
      "metadata": {
        "id": "VPFxJ68p3r53",
        "colab_type": "code",
        "colab": {}
      },
      "source": [
        "semisupervised_topic_labels = ['topic0','topic1','topic2','topic3','topic4','topic5','topic6','topic7','topic8','topic9']"
      ],
      "execution_count": 0,
      "outputs": []
    },
    {
      "cell_type": "code",
      "metadata": {
        "id": "OrKFibor4GFt",
        "colab_type": "code",
        "outputId": "163eb616-d468-443d-fa8e-0c4f3de05d31",
        "colab": {
          "base_uri": "https://localhost:8080/",
          "height": 567
        }
      },
      "source": [
        "headlinetopiccolnames = ['topic_number','lda_score','topic_top_words']\n",
        "fake_newss = update_lda_results_to_dataset(\n",
        "    fake_news, headlinetopiccolnames,'text_lower', dictionary_headline, lda_model_headline, lda_headline_topic_words)\n",
        "fake_newss.head()"
      ],
      "execution_count": 0,
      "outputs": [
        {
          "output_type": "execute_result",
          "data": {
            "text/html": [
              "<div>\n",
              "<style scoped>\n",
              "    .dataframe tbody tr th:only-of-type {\n",
              "        vertical-align: middle;\n",
              "    }\n",
              "\n",
              "    .dataframe tbody tr th {\n",
              "        vertical-align: top;\n",
              "    }\n",
              "\n",
              "    .dataframe thead th {\n",
              "        text-align: right;\n",
              "    }\n",
              "</style>\n",
              "<table border=\"1\" class=\"dataframe\">\n",
              "  <thead>\n",
              "    <tr style=\"text-align: right;\">\n",
              "      <th></th>\n",
              "      <th>uuid</th>\n",
              "      <th>ord_in_thread</th>\n",
              "      <th>author</th>\n",
              "      <th>published</th>\n",
              "      <th>title</th>\n",
              "      <th>text</th>\n",
              "      <th>language</th>\n",
              "      <th>crawled</th>\n",
              "      <th>site_url</th>\n",
              "      <th>country</th>\n",
              "      <th>domain_rank</th>\n",
              "      <th>thread_title</th>\n",
              "      <th>spam_score</th>\n",
              "      <th>main_img_url</th>\n",
              "      <th>replies_count</th>\n",
              "      <th>participants_count</th>\n",
              "      <th>likes</th>\n",
              "      <th>comments</th>\n",
              "      <th>shares</th>\n",
              "      <th>type</th>\n",
              "      <th>text_lower</th>\n",
              "      <th>thread_lower</th>\n",
              "      <th>num_words</th>\n",
              "      <th>similarity</th>\n",
              "      <th>country_number</th>\n",
              "      <th>language_number</th>\n",
              "      <th>index</th>\n",
              "      <th>topic_number</th>\n",
              "      <th>lda_score</th>\n",
              "      <th>topic_top_words</th>\n",
              "    </tr>\n",
              "  </thead>\n",
              "  <tbody>\n",
              "    <tr>\n",
              "      <th>0</th>\n",
              "      <td>6a175f46bcd24d39b3e962ad0f29936721db70db</td>\n",
              "      <td>0</td>\n",
              "      <td>Barracuda Brigade</td>\n",
              "      <td>2016-10-26T21:41:00.000+03:00</td>\n",
              "      <td>Muslims BUSTED: They Stole Millions In Gov’t B...</td>\n",
              "      <td>Print They should pay all the back all the mon...</td>\n",
              "      <td>english</td>\n",
              "      <td>2016-10-27T01:49:27.168+03:00</td>\n",
              "      <td>100percentfedup.com</td>\n",
              "      <td>US</td>\n",
              "      <td>25689.0</td>\n",
              "      <td>Muslims BUSTED: They Stole Millions In Gov’t B...</td>\n",
              "      <td>0.000</td>\n",
              "      <td>http://bb4sp.com/wp-content/uploads/2016/10/Fu...</td>\n",
              "      <td>0</td>\n",
              "      <td>1</td>\n",
              "      <td>0</td>\n",
              "      <td>0</td>\n",
              "      <td>0</td>\n",
              "      <td>bias</td>\n",
              "      <td>print pay back money plu interest entir famili...</td>\n",
              "      <td>muslim bust stole million govt benefit</td>\n",
              "      <td>46</td>\n",
              "      <td>0</td>\n",
              "      <td>0</td>\n",
              "      <td>0</td>\n",
              "      <td>0</td>\n",
              "      <td>7</td>\n",
              "      <td>0.484623</td>\n",
              "      <td>state govern obama would peopl year world pres...</td>\n",
              "    </tr>\n",
              "    <tr>\n",
              "      <th>1</th>\n",
              "      <td>2bdc29d12605ef9cf3f09f9875040a7113be5d5b</td>\n",
              "      <td>0</td>\n",
              "      <td>reasoning with facts</td>\n",
              "      <td>2016-10-29T08:47:11.259+03:00</td>\n",
              "      <td>Re: Why Did Attorney General Loretta Lynch Ple...</td>\n",
              "      <td>Why Did Attorney General Loretta Lynch Plead T...</td>\n",
              "      <td>english</td>\n",
              "      <td>2016-10-29T08:47:11.259+03:00</td>\n",
              "      <td>100percentfedup.com</td>\n",
              "      <td>US</td>\n",
              "      <td>25689.0</td>\n",
              "      <td>Re: Why Did Attorney General Loretta Lynch Ple...</td>\n",
              "      <td>0.000</td>\n",
              "      <td>http://bb4sp.com/wp-content/uploads/2016/10/Fu...</td>\n",
              "      <td>0</td>\n",
              "      <td>1</td>\n",
              "      <td>0</td>\n",
              "      <td>0</td>\n",
              "      <td>0</td>\n",
              "      <td>bias</td>\n",
              "      <td>attorney gener loretta lynch plead fifth barra...</td>\n",
              "      <td>attorney gener loretta lynch plead fifth</td>\n",
              "      <td>164</td>\n",
              "      <td>0</td>\n",
              "      <td>0</td>\n",
              "      <td>0</td>\n",
              "      <td>1</td>\n",
              "      <td>0</td>\n",
              "      <td>0.971145</td>\n",
              "      <td>clinton email investig state report hillari sa...</td>\n",
              "    </tr>\n",
              "    <tr>\n",
              "      <th>2</th>\n",
              "      <td>c70e149fdd53de5e61c29281100b9de0ed268bc3</td>\n",
              "      <td>0</td>\n",
              "      <td>Barracuda Brigade</td>\n",
              "      <td>2016-10-31T01:41:49.479+02:00</td>\n",
              "      <td>BREAKING: Weiner Cooperating With FBI On Hilla...</td>\n",
              "      <td>Red State : \\nFox News Sunday reported this mo...</td>\n",
              "      <td>english</td>\n",
              "      <td>2016-10-31T01:41:49.479+02:00</td>\n",
              "      <td>100percentfedup.com</td>\n",
              "      <td>US</td>\n",
              "      <td>25689.0</td>\n",
              "      <td>BREAKING: Weiner Cooperating With FBI On Hilla...</td>\n",
              "      <td>0.000</td>\n",
              "      <td>http://bb4sp.com/wp-content/uploads/2016/10/Fu...</td>\n",
              "      <td>0</td>\n",
              "      <td>1</td>\n",
              "      <td>0</td>\n",
              "      <td>0</td>\n",
              "      <td>0</td>\n",
              "      <td>bias</td>\n",
              "      <td>red state fox news sunday report morn anthoni ...</td>\n",
              "      <td>break weiner cooper fbi hillari email investig</td>\n",
              "      <td>130</td>\n",
              "      <td>0</td>\n",
              "      <td>0</td>\n",
              "      <td>0</td>\n",
              "      <td>2</td>\n",
              "      <td>0</td>\n",
              "      <td>0.991962</td>\n",
              "      <td>clinton email investig state report hillari sa...</td>\n",
              "    </tr>\n",
              "    <tr>\n",
              "      <th>3</th>\n",
              "      <td>7cf7c15731ac2a116dd7f629bd57ea468ed70284</td>\n",
              "      <td>0</td>\n",
              "      <td>Fed Up</td>\n",
              "      <td>2016-11-01T05:22:00.000+02:00</td>\n",
              "      <td>PIN DROP SPEECH BY FATHER OF DAUGHTER Kidnappe...</td>\n",
              "      <td>Email Kayla Mueller was a prisoner and torture...</td>\n",
              "      <td>english</td>\n",
              "      <td>2016-11-01T15:46:26.304+02:00</td>\n",
              "      <td>100percentfedup.com</td>\n",
              "      <td>US</td>\n",
              "      <td>25689.0</td>\n",
              "      <td>PIN DROP SPEECH BY FATHER OF DAUGHTER Kidnappe...</td>\n",
              "      <td>0.068</td>\n",
              "      <td>http://100percentfedup.com/wp-content/uploads/...</td>\n",
              "      <td>0</td>\n",
              "      <td>0</td>\n",
              "      <td>0</td>\n",
              "      <td>0</td>\n",
              "      <td>0</td>\n",
              "      <td>bias</td>\n",
              "      <td>email kayla mueller prison tortur isi chanc re...</td>\n",
              "      <td>pin drop speech father daughter kidnap kill is...</td>\n",
              "      <td>29</td>\n",
              "      <td>0</td>\n",
              "      <td>0</td>\n",
              "      <td>0</td>\n",
              "      <td>3</td>\n",
              "      <td>1</td>\n",
              "      <td>0.954990</td>\n",
              "      <td>clinton trump hillari presid would email campa...</td>\n",
              "    </tr>\n",
              "    <tr>\n",
              "      <th>4</th>\n",
              "      <td>0206b54719c7e241ffe0ad4315b808290dbe6c0f</td>\n",
              "      <td>0</td>\n",
              "      <td>Fed Up</td>\n",
              "      <td>2016-11-01T21:56:00.000+02:00</td>\n",
              "      <td>FANTASTIC! TRUMP'S 7 POINT PLAN To Reform Heal...</td>\n",
              "      <td>Email HEALTHCARE REFORM TO MAKE AMERICA GREAT ...</td>\n",
              "      <td>english</td>\n",
              "      <td>2016-11-01T23:59:42.266+02:00</td>\n",
              "      <td>100percentfedup.com</td>\n",
              "      <td>US</td>\n",
              "      <td>25689.0</td>\n",
              "      <td>FANTASTIC! TRUMP'S 7 POINT PLAN To Reform Heal...</td>\n",
              "      <td>0.865</td>\n",
              "      <td>http://100percentfedup.com/wp-content/uploads/...</td>\n",
              "      <td>0</td>\n",
              "      <td>0</td>\n",
              "      <td>0</td>\n",
              "      <td>0</td>\n",
              "      <td>0</td>\n",
              "      <td>bias</td>\n",
              "      <td>email healthcar reform make america great sinc...</td>\n",
              "      <td>fantast trump point plan reform healthcar begi...</td>\n",
              "      <td>196</td>\n",
              "      <td>0</td>\n",
              "      <td>0</td>\n",
              "      <td>0</td>\n",
              "      <td>4</td>\n",
              "      <td>2</td>\n",
              "      <td>0.532970</td>\n",
              "      <td>trump vote elect peopl state clinton democrat ...</td>\n",
              "    </tr>\n",
              "  </tbody>\n",
              "</table>\n",
              "</div>"
            ],
            "text/plain": [
              "                                       uuid  ...                                    topic_top_words\n",
              "0  6a175f46bcd24d39b3e962ad0f29936721db70db  ...  state govern obama would peopl year world pres...\n",
              "1  2bdc29d12605ef9cf3f09f9875040a7113be5d5b  ...  clinton email investig state report hillari sa...\n",
              "2  c70e149fdd53de5e61c29281100b9de0ed268bc3  ...  clinton email investig state report hillari sa...\n",
              "3  7cf7c15731ac2a116dd7f629bd57ea468ed70284  ...  clinton trump hillari presid would email campa...\n",
              "4  0206b54719c7e241ffe0ad4315b808290dbe6c0f  ...  trump vote elect peopl state clinton democrat ...\n",
              "\n",
              "[5 rows x 30 columns]"
            ]
          },
          "metadata": {
            "tags": []
          },
          "execution_count": 27
        }
      ]
    },
    {
      "cell_type": "code",
      "metadata": {
        "id": "bcBredQK4S8m",
        "colab_type": "code",
        "outputId": "6869a7c7-5ddb-4a41-f171-b14b7bbfa00c",
        "colab": {
          "base_uri": "https://localhost:8080/",
          "height": 70
        }
      },
      "source": [
        "train_data, validate_data, test_data = np.split(fake_newss.sample(frac=1), [int(.6*len(fake_newss)), int(.8*len(fake_newss))])\n",
        "\n",
        "train_data = train_data.reset_index(drop=True)\n",
        "validate_data = validate_data.reset_index(drop=True)\n",
        "test_data = test_data.reset_index(drop=True)\n",
        "\n",
        "\n",
        "print(\"Size of training set: {}\".format(len(train_data)))\n",
        "print(\"Size of validation set: {}\".format(len(validate_data)))\n",
        "print(\"Size of testing set: {}\".format(len(test_data)))"
      ],
      "execution_count": 0,
      "outputs": [
        {
          "output_type": "stream",
          "text": [
            "Size of training set: 7799\n",
            "Size of validation set: 2600\n",
            "Size of testing set: 2600\n"
          ],
          "name": "stdout"
        }
      ]
    },
    {
      "cell_type": "code",
      "metadata": {
        "id": "Pc6qLvafRG98",
        "colab_type": "code",
        "outputId": "a3e674d6-ff07-4057-b846-9259ad8e1a0e",
        "colab": {
          "base_uri": "https://localhost:8080/",
          "height": 391
        }
      },
      "source": [
        "train_data.head(3)"
      ],
      "execution_count": 0,
      "outputs": [
        {
          "output_type": "execute_result",
          "data": {
            "text/html": [
              "<div>\n",
              "<style scoped>\n",
              "    .dataframe tbody tr th:only-of-type {\n",
              "        vertical-align: middle;\n",
              "    }\n",
              "\n",
              "    .dataframe tbody tr th {\n",
              "        vertical-align: top;\n",
              "    }\n",
              "\n",
              "    .dataframe thead th {\n",
              "        text-align: right;\n",
              "    }\n",
              "</style>\n",
              "<table border=\"1\" class=\"dataframe\">\n",
              "  <thead>\n",
              "    <tr style=\"text-align: right;\">\n",
              "      <th></th>\n",
              "      <th>uuid</th>\n",
              "      <th>ord_in_thread</th>\n",
              "      <th>author</th>\n",
              "      <th>published</th>\n",
              "      <th>title</th>\n",
              "      <th>text</th>\n",
              "      <th>language</th>\n",
              "      <th>crawled</th>\n",
              "      <th>site_url</th>\n",
              "      <th>country</th>\n",
              "      <th>domain_rank</th>\n",
              "      <th>thread_title</th>\n",
              "      <th>spam_score</th>\n",
              "      <th>main_img_url</th>\n",
              "      <th>replies_count</th>\n",
              "      <th>participants_count</th>\n",
              "      <th>likes</th>\n",
              "      <th>comments</th>\n",
              "      <th>shares</th>\n",
              "      <th>type</th>\n",
              "      <th>text_lower</th>\n",
              "      <th>thread_lower</th>\n",
              "      <th>num_words</th>\n",
              "      <th>similarity</th>\n",
              "      <th>country_number</th>\n",
              "      <th>language_number</th>\n",
              "      <th>index</th>\n",
              "      <th>topic_number</th>\n",
              "      <th>lda_score</th>\n",
              "      <th>topic_top_words</th>\n",
              "    </tr>\n",
              "  </thead>\n",
              "  <tbody>\n",
              "    <tr>\n",
              "      <th>0</th>\n",
              "      <td>c1ec27021bfb02078dc2d17b412736c18d74c4c9</td>\n",
              "      <td>3</td>\n",
              "      <td>billy crazy</td>\n",
              "      <td>2016-11-15T15:11:00.000+02:00</td>\n",
              "      <td>NaN</td>\n",
              "      <td>If he's not nice to Australia Donald won't be ...</td>\n",
              "      <td>english</td>\n",
              "      <td>2016-11-15T22:47:33.484+02:00</td>\n",
              "      <td>ahtribune.com</td>\n",
              "      <td>DE</td>\n",
              "      <td>34478.0</td>\n",
              "      <td>China Warns Trump against Abandoning Climate C...</td>\n",
              "      <td>0.0</td>\n",
              "      <td>http://ahtribune.com/images/media/Xi_Jinping_2...</td>\n",
              "      <td>5</td>\n",
              "      <td>6</td>\n",
              "      <td>0</td>\n",
              "      <td>0</td>\n",
              "      <td>0</td>\n",
              "      <td>bs</td>\n",
              "      <td>he nice australia donald wont abl track nuke p...</td>\n",
              "      <td>china warn trump abandon climat chang deal inc...</td>\n",
              "      <td>16</td>\n",
              "      <td>0</td>\n",
              "      <td>3</td>\n",
              "      <td>0</td>\n",
              "      <td>458</td>\n",
              "      <td>9</td>\n",
              "      <td>0.439405</td>\n",
              "      <td>peopl time like year also mani said make world...</td>\n",
              "    </tr>\n",
              "    <tr>\n",
              "      <th>1</th>\n",
              "      <td>680fb94e8338c967dd594b283cedd91a46ee7cd5</td>\n",
              "      <td>0</td>\n",
              "      <td>teleSUR</td>\n",
              "      <td>2016-10-28T23:29:17.963+03:00</td>\n",
              "      <td>Right-Wing Militiamen Aquitted In Armed Takeov...</td>\n",
              "      <td>Videos Right-Wing Militiamen Aquitted In Armed...</td>\n",
              "      <td>english</td>\n",
              "      <td>2016-10-28T23:29:17.963+03:00</td>\n",
              "      <td>mintpressnews.com</td>\n",
              "      <td>US</td>\n",
              "      <td>68691.0</td>\n",
              "      <td>Right-Wing Militiamen Aquitted In Armed Takeov...</td>\n",
              "      <td>0.0</td>\n",
              "      <td>http://www.mintpressnews.com/wp-content/upload...</td>\n",
              "      <td>0</td>\n",
              "      <td>1</td>\n",
              "      <td>0</td>\n",
              "      <td>0</td>\n",
              "      <td>0</td>\n",
              "      <td>bs</td>\n",
              "      <td>video rightw militiamen aquit arm takeov malhe...</td>\n",
              "      <td>rightw militiamen aquit arm takeov malheur refug</td>\n",
              "      <td>238</td>\n",
              "      <td>0</td>\n",
              "      <td>0</td>\n",
              "      <td>0</td>\n",
              "      <td>6111</td>\n",
              "      <td>4</td>\n",
              "      <td>0.995499</td>\n",
              "      <td>govern peopl state pipelin would said american...</td>\n",
              "    </tr>\n",
              "    <tr>\n",
              "      <th>2</th>\n",
              "      <td>ec79da721543b1dbc0b5137859921ca9d1015697</td>\n",
              "      <td>0</td>\n",
              "      <td>Pamela Bofferding</td>\n",
              "      <td>2016-11-01T10:10:46.089+02:00</td>\n",
              "      <td>Why Your Backyard Chickens Could be Giving You...</td>\n",
              "      <td>The concept of owning backyard homesteading ha...</td>\n",
              "      <td>english</td>\n",
              "      <td>2016-11-01T10:10:46.089+02:00</td>\n",
              "      <td>readynutrition.com</td>\n",
              "      <td>US</td>\n",
              "      <td>34478.0</td>\n",
              "      <td>Why Your Backyard Chickens Could be Giving You...</td>\n",
              "      <td>0.0</td>\n",
              "      <td>NaN</td>\n",
              "      <td>0</td>\n",
              "      <td>1</td>\n",
              "      <td>0</td>\n",
              "      <td>0</td>\n",
              "      <td>0</td>\n",
              "      <td>bs</td>\n",
              "      <td>concept own backyard homestead steadili increa...</td>\n",
              "      <td>backyard chicken could give salmonella</td>\n",
              "      <td>378</td>\n",
              "      <td>0</td>\n",
              "      <td>0</td>\n",
              "      <td>0</td>\n",
              "      <td>7818</td>\n",
              "      <td>9</td>\n",
              "      <td>0.997106</td>\n",
              "      <td>peopl time like year also mani said make world...</td>\n",
              "    </tr>\n",
              "  </tbody>\n",
              "</table>\n",
              "</div>"
            ],
            "text/plain": [
              "                                       uuid  ...                                    topic_top_words\n",
              "0  c1ec27021bfb02078dc2d17b412736c18d74c4c9  ...  peopl time like year also mani said make world...\n",
              "1  680fb94e8338c967dd594b283cedd91a46ee7cd5  ...  govern peopl state pipelin would said american...\n",
              "2  ec79da721543b1dbc0b5137859921ca9d1015697  ...  peopl time like year also mani said make world...\n",
              "\n",
              "[3 rows x 30 columns]"
            ]
          },
          "metadata": {
            "tags": []
          },
          "execution_count": 29
        }
      ]
    },
    {
      "cell_type": "code",
      "metadata": {
        "id": "CfTU0sT-RlkV",
        "colab_type": "code",
        "colab": {}
      },
      "source": [
        "# train_data['type']=pd.factorize(train_data['type'])[0]"
      ],
      "execution_count": 0,
      "outputs": []
    },
    {
      "cell_type": "code",
      "metadata": {
        "id": "8vjAm0rYQaWb",
        "colab_type": "code",
        "colab": {}
      },
      "source": [
        "# smote = SMOTE(sampling_strategy='auto')\n",
        "# train_data = smote.fit_sample(train_data.drop(['type'],axis=1),train_data['type'])"
      ],
      "execution_count": 0,
      "outputs": []
    },
    {
      "cell_type": "code",
      "metadata": {
        "id": "k5CNHm3QVteR",
        "colab_type": "code",
        "outputId": "d87cff78-ddce-438f-fc5f-b6fbcb87a91e",
        "colab": {
          "base_uri": "https://localhost:8080/",
          "height": 507
        }
      },
      "source": [
        "fake_newss.head(3)"
      ],
      "execution_count": 0,
      "outputs": [
        {
          "output_type": "execute_result",
          "data": {
            "text/html": [
              "<div>\n",
              "<style scoped>\n",
              "    .dataframe tbody tr th:only-of-type {\n",
              "        vertical-align: middle;\n",
              "    }\n",
              "\n",
              "    .dataframe tbody tr th {\n",
              "        vertical-align: top;\n",
              "    }\n",
              "\n",
              "    .dataframe thead th {\n",
              "        text-align: right;\n",
              "    }\n",
              "</style>\n",
              "<table border=\"1\" class=\"dataframe\">\n",
              "  <thead>\n",
              "    <tr style=\"text-align: right;\">\n",
              "      <th></th>\n",
              "      <th>uuid</th>\n",
              "      <th>ord_in_thread</th>\n",
              "      <th>author</th>\n",
              "      <th>published</th>\n",
              "      <th>title</th>\n",
              "      <th>text</th>\n",
              "      <th>language</th>\n",
              "      <th>crawled</th>\n",
              "      <th>site_url</th>\n",
              "      <th>country</th>\n",
              "      <th>domain_rank</th>\n",
              "      <th>thread_title</th>\n",
              "      <th>spam_score</th>\n",
              "      <th>main_img_url</th>\n",
              "      <th>replies_count</th>\n",
              "      <th>participants_count</th>\n",
              "      <th>likes</th>\n",
              "      <th>comments</th>\n",
              "      <th>shares</th>\n",
              "      <th>type</th>\n",
              "      <th>text_lower</th>\n",
              "      <th>thread_lower</th>\n",
              "      <th>num_words</th>\n",
              "      <th>similarity</th>\n",
              "      <th>country_number</th>\n",
              "      <th>language_number</th>\n",
              "      <th>index</th>\n",
              "      <th>topic_number</th>\n",
              "      <th>lda_score</th>\n",
              "      <th>topic_top_words</th>\n",
              "    </tr>\n",
              "  </thead>\n",
              "  <tbody>\n",
              "    <tr>\n",
              "      <th>0</th>\n",
              "      <td>6a175f46bcd24d39b3e962ad0f29936721db70db</td>\n",
              "      <td>0</td>\n",
              "      <td>Barracuda Brigade</td>\n",
              "      <td>2016-10-26T21:41:00.000+03:00</td>\n",
              "      <td>Muslims BUSTED: They Stole Millions In Gov’t B...</td>\n",
              "      <td>Print They should pay all the back all the mon...</td>\n",
              "      <td>english</td>\n",
              "      <td>2016-10-27T01:49:27.168+03:00</td>\n",
              "      <td>100percentfedup.com</td>\n",
              "      <td>US</td>\n",
              "      <td>25689.0</td>\n",
              "      <td>Muslims BUSTED: They Stole Millions In Gov’t B...</td>\n",
              "      <td>0.0</td>\n",
              "      <td>http://bb4sp.com/wp-content/uploads/2016/10/Fu...</td>\n",
              "      <td>0</td>\n",
              "      <td>1</td>\n",
              "      <td>0</td>\n",
              "      <td>0</td>\n",
              "      <td>0</td>\n",
              "      <td>bias</td>\n",
              "      <td>print pay back money plu interest entir famili...</td>\n",
              "      <td>muslim bust stole million govt benefit</td>\n",
              "      <td>46</td>\n",
              "      <td>0</td>\n",
              "      <td>0</td>\n",
              "      <td>0</td>\n",
              "      <td>0</td>\n",
              "      <td>7</td>\n",
              "      <td>0.484623</td>\n",
              "      <td>state govern obama would peopl year world pres...</td>\n",
              "    </tr>\n",
              "    <tr>\n",
              "      <th>1</th>\n",
              "      <td>2bdc29d12605ef9cf3f09f9875040a7113be5d5b</td>\n",
              "      <td>0</td>\n",
              "      <td>reasoning with facts</td>\n",
              "      <td>2016-10-29T08:47:11.259+03:00</td>\n",
              "      <td>Re: Why Did Attorney General Loretta Lynch Ple...</td>\n",
              "      <td>Why Did Attorney General Loretta Lynch Plead T...</td>\n",
              "      <td>english</td>\n",
              "      <td>2016-10-29T08:47:11.259+03:00</td>\n",
              "      <td>100percentfedup.com</td>\n",
              "      <td>US</td>\n",
              "      <td>25689.0</td>\n",
              "      <td>Re: Why Did Attorney General Loretta Lynch Ple...</td>\n",
              "      <td>0.0</td>\n",
              "      <td>http://bb4sp.com/wp-content/uploads/2016/10/Fu...</td>\n",
              "      <td>0</td>\n",
              "      <td>1</td>\n",
              "      <td>0</td>\n",
              "      <td>0</td>\n",
              "      <td>0</td>\n",
              "      <td>bias</td>\n",
              "      <td>attorney gener loretta lynch plead fifth barra...</td>\n",
              "      <td>attorney gener loretta lynch plead fifth</td>\n",
              "      <td>164</td>\n",
              "      <td>0</td>\n",
              "      <td>0</td>\n",
              "      <td>0</td>\n",
              "      <td>1</td>\n",
              "      <td>0</td>\n",
              "      <td>0.971145</td>\n",
              "      <td>clinton email investig state report hillari sa...</td>\n",
              "    </tr>\n",
              "    <tr>\n",
              "      <th>2</th>\n",
              "      <td>c70e149fdd53de5e61c29281100b9de0ed268bc3</td>\n",
              "      <td>0</td>\n",
              "      <td>Barracuda Brigade</td>\n",
              "      <td>2016-10-31T01:41:49.479+02:00</td>\n",
              "      <td>BREAKING: Weiner Cooperating With FBI On Hilla...</td>\n",
              "      <td>Red State : \\nFox News Sunday reported this mo...</td>\n",
              "      <td>english</td>\n",
              "      <td>2016-10-31T01:41:49.479+02:00</td>\n",
              "      <td>100percentfedup.com</td>\n",
              "      <td>US</td>\n",
              "      <td>25689.0</td>\n",
              "      <td>BREAKING: Weiner Cooperating With FBI On Hilla...</td>\n",
              "      <td>0.0</td>\n",
              "      <td>http://bb4sp.com/wp-content/uploads/2016/10/Fu...</td>\n",
              "      <td>0</td>\n",
              "      <td>1</td>\n",
              "      <td>0</td>\n",
              "      <td>0</td>\n",
              "      <td>0</td>\n",
              "      <td>bias</td>\n",
              "      <td>red state fox news sunday report morn anthoni ...</td>\n",
              "      <td>break weiner cooper fbi hillari email investig</td>\n",
              "      <td>130</td>\n",
              "      <td>0</td>\n",
              "      <td>0</td>\n",
              "      <td>0</td>\n",
              "      <td>2</td>\n",
              "      <td>0</td>\n",
              "      <td>0.991962</td>\n",
              "      <td>clinton email investig state report hillari sa...</td>\n",
              "    </tr>\n",
              "  </tbody>\n",
              "</table>\n",
              "</div>"
            ],
            "text/plain": [
              "                                       uuid  ...                                    topic_top_words\n",
              "0  6a175f46bcd24d39b3e962ad0f29936721db70db  ...  state govern obama would peopl year world pres...\n",
              "1  2bdc29d12605ef9cf3f09f9875040a7113be5d5b  ...  clinton email investig state report hillari sa...\n",
              "2  c70e149fdd53de5e61c29281100b9de0ed268bc3  ...  clinton email investig state report hillari sa...\n",
              "\n",
              "[3 rows x 30 columns]"
            ]
          },
          "metadata": {
            "tags": []
          },
          "execution_count": 32
        }
      ]
    },
    {
      "cell_type": "code",
      "metadata": {
        "id": "YyiJKholUKrW",
        "colab_type": "code",
        "colab": {}
      },
      "source": [
        "# x = fake_newss.drop(['type'],axis=1)\n",
        "# y=fake_news['type']\n",
        "# smote = SMOTE(sampling_strategy='auto')\n",
        "# x_train,y_train = smote.fit_sample(x_train,y_train)"
      ],
      "execution_count": 0,
      "outputs": []
    },
    {
      "cell_type": "code",
      "metadata": {
        "id": "C38OAjHfTr7f",
        "colab_type": "code",
        "outputId": "25e2e154-f017-4bdc-f7e0-337763733e5a",
        "colab": {
          "base_uri": "https://localhost:8080/",
          "height": 361
        }
      },
      "source": [
        "fake_newss.head(2)"
      ],
      "execution_count": 0,
      "outputs": [
        {
          "output_type": "execute_result",
          "data": {
            "text/html": [
              "<div>\n",
              "<style scoped>\n",
              "    .dataframe tbody tr th:only-of-type {\n",
              "        vertical-align: middle;\n",
              "    }\n",
              "\n",
              "    .dataframe tbody tr th {\n",
              "        vertical-align: top;\n",
              "    }\n",
              "\n",
              "    .dataframe thead th {\n",
              "        text-align: right;\n",
              "    }\n",
              "</style>\n",
              "<table border=\"1\" class=\"dataframe\">\n",
              "  <thead>\n",
              "    <tr style=\"text-align: right;\">\n",
              "      <th></th>\n",
              "      <th>uuid</th>\n",
              "      <th>ord_in_thread</th>\n",
              "      <th>author</th>\n",
              "      <th>published</th>\n",
              "      <th>title</th>\n",
              "      <th>text</th>\n",
              "      <th>language</th>\n",
              "      <th>crawled</th>\n",
              "      <th>site_url</th>\n",
              "      <th>country</th>\n",
              "      <th>domain_rank</th>\n",
              "      <th>thread_title</th>\n",
              "      <th>spam_score</th>\n",
              "      <th>main_img_url</th>\n",
              "      <th>replies_count</th>\n",
              "      <th>participants_count</th>\n",
              "      <th>likes</th>\n",
              "      <th>comments</th>\n",
              "      <th>shares</th>\n",
              "      <th>type</th>\n",
              "      <th>text_lower</th>\n",
              "      <th>thread_lower</th>\n",
              "      <th>num_words</th>\n",
              "      <th>similarity</th>\n",
              "      <th>country_number</th>\n",
              "      <th>language_number</th>\n",
              "      <th>index</th>\n",
              "      <th>topic_number</th>\n",
              "      <th>lda_score</th>\n",
              "      <th>topic_top_words</th>\n",
              "    </tr>\n",
              "  </thead>\n",
              "  <tbody>\n",
              "    <tr>\n",
              "      <th>0</th>\n",
              "      <td>6a175f46bcd24d39b3e962ad0f29936721db70db</td>\n",
              "      <td>0</td>\n",
              "      <td>Barracuda Brigade</td>\n",
              "      <td>2016-10-26T21:41:00.000+03:00</td>\n",
              "      <td>Muslims BUSTED: They Stole Millions In Gov’t B...</td>\n",
              "      <td>Print They should pay all the back all the mon...</td>\n",
              "      <td>english</td>\n",
              "      <td>2016-10-27T01:49:27.168+03:00</td>\n",
              "      <td>100percentfedup.com</td>\n",
              "      <td>US</td>\n",
              "      <td>25689.0</td>\n",
              "      <td>Muslims BUSTED: They Stole Millions In Gov’t B...</td>\n",
              "      <td>0.0</td>\n",
              "      <td>http://bb4sp.com/wp-content/uploads/2016/10/Fu...</td>\n",
              "      <td>0</td>\n",
              "      <td>1</td>\n",
              "      <td>0</td>\n",
              "      <td>0</td>\n",
              "      <td>0</td>\n",
              "      <td>bias</td>\n",
              "      <td>print pay back money plu interest entir famili...</td>\n",
              "      <td>muslim bust stole million govt benefit</td>\n",
              "      <td>46</td>\n",
              "      <td>0</td>\n",
              "      <td>0</td>\n",
              "      <td>0</td>\n",
              "      <td>0</td>\n",
              "      <td>7</td>\n",
              "      <td>0.484623</td>\n",
              "      <td>state govern obama would peopl year world pres...</td>\n",
              "    </tr>\n",
              "    <tr>\n",
              "      <th>1</th>\n",
              "      <td>2bdc29d12605ef9cf3f09f9875040a7113be5d5b</td>\n",
              "      <td>0</td>\n",
              "      <td>reasoning with facts</td>\n",
              "      <td>2016-10-29T08:47:11.259+03:00</td>\n",
              "      <td>Re: Why Did Attorney General Loretta Lynch Ple...</td>\n",
              "      <td>Why Did Attorney General Loretta Lynch Plead T...</td>\n",
              "      <td>english</td>\n",
              "      <td>2016-10-29T08:47:11.259+03:00</td>\n",
              "      <td>100percentfedup.com</td>\n",
              "      <td>US</td>\n",
              "      <td>25689.0</td>\n",
              "      <td>Re: Why Did Attorney General Loretta Lynch Ple...</td>\n",
              "      <td>0.0</td>\n",
              "      <td>http://bb4sp.com/wp-content/uploads/2016/10/Fu...</td>\n",
              "      <td>0</td>\n",
              "      <td>1</td>\n",
              "      <td>0</td>\n",
              "      <td>0</td>\n",
              "      <td>0</td>\n",
              "      <td>bias</td>\n",
              "      <td>attorney gener loretta lynch plead fifth barra...</td>\n",
              "      <td>attorney gener loretta lynch plead fifth</td>\n",
              "      <td>164</td>\n",
              "      <td>0</td>\n",
              "      <td>0</td>\n",
              "      <td>0</td>\n",
              "      <td>1</td>\n",
              "      <td>0</td>\n",
              "      <td>0.971145</td>\n",
              "      <td>clinton email investig state report hillari sa...</td>\n",
              "    </tr>\n",
              "  </tbody>\n",
              "</table>\n",
              "</div>"
            ],
            "text/plain": [
              "                                       uuid  ...                                    topic_top_words\n",
              "0  6a175f46bcd24d39b3e962ad0f29936721db70db  ...  state govern obama would peopl year world pres...\n",
              "1  2bdc29d12605ef9cf3f09f9875040a7113be5d5b  ...  clinton email investig state report hillari sa...\n",
              "\n",
              "[2 rows x 30 columns]"
            ]
          },
          "metadata": {
            "tags": []
          },
          "execution_count": 34
        }
      ]
    },
    {
      "cell_type": "markdown",
      "metadata": {
        "id": "qh4swH_Tr_Y3",
        "colab_type": "text"
      },
      "source": [
        "## --------------------------------------------------------------------------------------------------------------------------------------------------------------"
      ]
    },
    {
      "cell_type": "markdown",
      "metadata": {
        "id": "G2a9lLCMpb5f",
        "colab_type": "text"
      },
      "source": [
        "## Social Credibility - Shreyus"
      ]
    },
    {
      "cell_type": "code",
      "metadata": {
        "id": "KQKrnvqYTmFb",
        "colab_type": "code",
        "colab": {}
      },
      "source": [
        "x = fake_newss[['likes','comments','shares','participants_count']]\n",
        "y=fake_news['type']"
      ],
      "execution_count": 0,
      "outputs": []
    },
    {
      "cell_type": "code",
      "metadata": {
        "id": "78kEFvHgsHMT",
        "colab_type": "code",
        "colab": {}
      },
      "source": [
        "y= pd.factorize(y)[0]"
      ],
      "execution_count": 0,
      "outputs": []
    },
    {
      "cell_type": "code",
      "metadata": {
        "id": "hCjVSnOIL7jP",
        "colab_type": "code",
        "outputId": "b77dcb21-d1e1-4150-c6d3-d9bcc5e70255",
        "colab": {
          "base_uri": "https://localhost:8080/",
          "height": 281
        }
      },
      "source": [
        "# Boxplots for continuous attributes\n",
        "fig, axes = plt.subplots(nrows=1, ncols=4)\n",
        "axes[0].boxplot(x['likes'])\n",
        "axes[0].set_title('likes')\n",
        "axes[1].boxplot(x['comments'])\n",
        "axes[1].set_title('comments')\n",
        "axes[2].boxplot(x['participants_count'])\n",
        "axes[2].set_title('participants_count')\n",
        "axes[3].boxplot(x['shares'])\n",
        "axes[3].set_title('shares')\n",
        "\n",
        "fig.savefig(\"boxplots.png\")"
      ],
      "execution_count": 0,
      "outputs": [
        {
          "output_type": "display_data",
          "data": {
            "image/png": "[encoded data removed]",
            "text/plain": [
              "<Figure size 432x288 with 4 Axes>"
            ]
          },
          "metadata": {
            "tags": [],
            "needs_background": "light"
          }
        }
      ]
    },
    {
      "cell_type": "code",
      "metadata": {
        "id": "xCvyU_TLNpkD",
        "colab_type": "code",
        "colab": {}
      },
      "source": [
        "num=['likes','comments','shares','participants_count']"
      ],
      "execution_count": 0,
      "outputs": []
    },
    {
      "cell_type": "code",
      "metadata": {
        "id": "dKiA4VYEMfJi",
        "colab_type": "code",
        "outputId": "baca136e-f241-41f6-b306-3dfca47c5eba",
        "colab": {
          "base_uri": "https://localhost:8080/",
          "height": 106
        }
      },
      "source": [
        "maxs=[]\n",
        "mins=[]\n",
        "stds=[]\n",
        "means=[]\n",
        "for x1 in range(len(num)):\n",
        "  maxs.append(x[num[x1]].max())\n",
        "  mins.append(x[num[x1]].min())\n",
        "  stds.append(x[num[x1]].std())\n",
        "  means.append(x[num[x1]].mean())\n",
        "cm = sns.light_palette(\"orange\", as_cmap=True)\n",
        "describe=pd.DataFrame({'columns':num,'max':maxs,'min':mins,'std':stds,'mean':means})\n",
        "describe.style.background_gradient(cmap=cm)"
      ],
      "execution_count": 0,
      "outputs": [
        {
          "output_type": "execute_result",
          "data": {
            "text/html": [
              "<style  type=\"text/css\" >\n",
              "    #T_4f54c73c_8f0a_11ea_9752_0242ac1c0002row0_col1 {\n",
              "            background-color:  #ffa500;\n",
              "            color:  #000000;\n",
              "        }    #T_4f54c73c_8f0a_11ea_9752_0242ac1c0002row0_col2 {\n",
              "            background-color:  #fff6e5;\n",
              "            color:  #000000;\n",
              "        }    #T_4f54c73c_8f0a_11ea_9752_0242ac1c0002row0_col3 {\n",
              "            background-color:  #ffa500;\n",
              "            color:  #000000;\n",
              "        }    #T_4f54c73c_8f0a_11ea_9752_0242ac1c0002row0_col4 {\n",
              "            background-color:  #ffa500;\n",
              "            color:  #000000;\n",
              "        }    #T_4f54c73c_8f0a_11ea_9752_0242ac1c0002row1_col1 {\n",
              "            background-color:  #fff6e5;\n",
              "            color:  #000000;\n",
              "        }    #T_4f54c73c_8f0a_11ea_9752_0242ac1c0002row1_col2 {\n",
              "            background-color:  #fff6e5;\n",
              "            color:  #000000;\n",
              "        }    #T_4f54c73c_8f0a_11ea_9752_0242ac1c0002row1_col3 {\n",
              "            background-color:  #fff6e5;\n",
              "            color:  #000000;\n",
              "        }    #T_4f54c73c_8f0a_11ea_9752_0242ac1c0002row1_col4 {\n",
              "            background-color:  #fff6e5;\n",
              "            color:  #000000;\n",
              "        }    #T_4f54c73c_8f0a_11ea_9752_0242ac1c0002row2_col1 {\n",
              "            background-color:  #ffa500;\n",
              "            color:  #000000;\n",
              "        }    #T_4f54c73c_8f0a_11ea_9752_0242ac1c0002row2_col2 {\n",
              "            background-color:  #fff6e5;\n",
              "            color:  #000000;\n",
              "        }    #T_4f54c73c_8f0a_11ea_9752_0242ac1c0002row2_col3 {\n",
              "            background-color:  #ffa500;\n",
              "            color:  #000000;\n",
              "        }    #T_4f54c73c_8f0a_11ea_9752_0242ac1c0002row2_col4 {\n",
              "            background-color:  #ffa500;\n",
              "            color:  #000000;\n",
              "        }    #T_4f54c73c_8f0a_11ea_9752_0242ac1c0002row3_col1 {\n",
              "            background-color:  #ffe7ba;\n",
              "            color:  #000000;\n",
              "        }    #T_4f54c73c_8f0a_11ea_9752_0242ac1c0002row3_col2 {\n",
              "            background-color:  #fff6e5;\n",
              "            color:  #000000;\n",
              "        }    #T_4f54c73c_8f0a_11ea_9752_0242ac1c0002row3_col3 {\n",
              "            background-color:  #fff0d4;\n",
              "            color:  #000000;\n",
              "        }    #T_4f54c73c_8f0a_11ea_9752_0242ac1c0002row3_col4 {\n",
              "            background-color:  #ffe9c2;\n",
              "            color:  #000000;\n",
              "        }</style><table id=\"T_4f54c73c_8f0a_11ea_9752_0242ac1c0002\" ><thead>    <tr>        <th class=\"blank level0\" ></th>        <th class=\"col_heading level0 col0\" >columns</th>        <th class=\"col_heading level0 col1\" >max</th>        <th class=\"col_heading level0 col2\" >min</th>        <th class=\"col_heading level0 col3\" >std</th>        <th class=\"col_heading level0 col4\" >mean</th>    </tr></thead><tbody>\n",
              "                <tr>\n",
              "                        <th id=\"T_4f54c73c_8f0a_11ea_9752_0242ac1c0002level0_row0\" class=\"row_heading level0 row0\" >0</th>\n",
              "                        <td id=\"T_4f54c73c_8f0a_11ea_9752_0242ac1c0002row0_col0\" class=\"data row0 col0\" >likes</td>\n",
              "                        <td id=\"T_4f54c73c_8f0a_11ea_9752_0242ac1c0002row0_col1\" class=\"data row0 col1\" >988</td>\n",
              "                        <td id=\"T_4f54c73c_8f0a_11ea_9752_0242ac1c0002row0_col2\" class=\"data row0 col2\" >0</td>\n",
              "                        <td id=\"T_4f54c73c_8f0a_11ea_9752_0242ac1c0002row0_col3\" class=\"data row0 col3\" >79.798949</td>\n",
              "                        <td id=\"T_4f54c73c_8f0a_11ea_9752_0242ac1c0002row0_col4\" class=\"data row0 col4\" >10.831833</td>\n",
              "            </tr>\n",
              "            <tr>\n",
              "                        <th id=\"T_4f54c73c_8f0a_11ea_9752_0242ac1c0002level0_row1\" class=\"row_heading level0 row1\" >1</th>\n",
              "                        <td id=\"T_4f54c73c_8f0a_11ea_9752_0242ac1c0002row1_col0\" class=\"data row1 col0\" >comments</td>\n",
              "                        <td id=\"T_4f54c73c_8f0a_11ea_9752_0242ac1c0002row1_col1\" class=\"data row1 col1\" >65</td>\n",
              "                        <td id=\"T_4f54c73c_8f0a_11ea_9752_0242ac1c0002row1_col2\" class=\"data row1 col2\" >0</td>\n",
              "                        <td id=\"T_4f54c73c_8f0a_11ea_9752_0242ac1c0002row1_col3\" class=\"data row1 col3\" >0.827335</td>\n",
              "                        <td id=\"T_4f54c73c_8f0a_11ea_9752_0242ac1c0002row1_col4\" class=\"data row1 col4\" >0.038311</td>\n",
              "            </tr>\n",
              "            <tr>\n",
              "                        <th id=\"T_4f54c73c_8f0a_11ea_9752_0242ac1c0002level0_row2\" class=\"row_heading level0 row2\" >2</th>\n",
              "                        <td id=\"T_4f54c73c_8f0a_11ea_9752_0242ac1c0002row2_col0\" class=\"data row2 col0\" >shares</td>\n",
              "                        <td id=\"T_4f54c73c_8f0a_11ea_9752_0242ac1c0002row2_col1\" class=\"data row2 col1\" >988</td>\n",
              "                        <td id=\"T_4f54c73c_8f0a_11ea_9752_0242ac1c0002row2_col2\" class=\"data row2 col2\" >0</td>\n",
              "                        <td id=\"T_4f54c73c_8f0a_11ea_9752_0242ac1c0002row2_col3\" class=\"data row2 col3\" >79.798949</td>\n",
              "                        <td id=\"T_4f54c73c_8f0a_11ea_9752_0242ac1c0002row2_col4\" class=\"data row2 col4\" >10.831833</td>\n",
              "            </tr>\n",
              "            <tr>\n",
              "                        <th id=\"T_4f54c73c_8f0a_11ea_9752_0242ac1c0002level0_row3\" class=\"row_heading level0 row3\" >3</th>\n",
              "                        <td id=\"T_4f54c73c_8f0a_11ea_9752_0242ac1c0002row3_col0\" class=\"data row3 col0\" >participants_count</td>\n",
              "                        <td id=\"T_4f54c73c_8f0a_11ea_9752_0242ac1c0002row3_col1\" class=\"data row3 col1\" >240</td>\n",
              "                        <td id=\"T_4f54c73c_8f0a_11ea_9752_0242ac1c0002row3_col2\" class=\"data row3 col2\" >0</td>\n",
              "                        <td id=\"T_4f54c73c_8f0a_11ea_9752_0242ac1c0002row3_col3\" class=\"data row3 col3\" >6.884239</td>\n",
              "                        <td id=\"T_4f54c73c_8f0a_11ea_9752_0242ac1c0002row3_col4\" class=\"data row3 col4\" >1.727518</td>\n",
              "            </tr>\n",
              "    </tbody></table>"
            ],
            "text/plain": [
              "<pandas.io.formats.style.Styler at 0x7f1ac815ea58>"
            ]
          },
          "metadata": {
            "tags": []
          },
          "execution_count": 157
        }
      ]
    },
    {
      "cell_type": "code",
      "metadata": {
        "id": "meZa-Okov2B5",
        "colab_type": "code",
        "outputId": "4ff8247e-7f8a-4b31-a360-d060b3136312",
        "colab": {
          "base_uri": "https://localhost:8080/",
          "height": 764
        }
      },
      "source": [
        "# Data distribution plots by every feature by feature\n",
        "sns.pairplot(x[num])"
      ],
      "execution_count": 0,
      "outputs": [
        {
          "output_type": "execute_result",
          "data": {
            "text/plain": [
              "<seaborn.axisgrid.PairGrid at 0x7f1ac1c95748>"
            ]
          },
          "metadata": {
            "tags": []
          },
          "execution_count": 158
        },
        {
          "output_type": "display_data",
          "data": {
            "image/png": "[encoded data removed]",
            "text/plain": [
              "<Figure size 720x720 with 20 Axes>"
            ]
          },
          "metadata": {
            "tags": [],
            "needs_background": "light"
          }
        }
      ]
    },
    {
      "cell_type": "code",
      "metadata": {
        "id": "hwylkarePKTq",
        "colab_type": "code",
        "outputId": "7b9abe2c-4cf9-46dd-c5c9-0b3c003bb219",
        "colab": {
          "base_uri": "https://localhost:8080/",
          "height": 542
        }
      },
      "source": [
        "# correlation plots for numerical features\n",
        "corr = x[num].corr()\n",
        "arr_corr = corr.values\n",
        "arr_corr = np.around(arr_corr, decimals=2)\n",
        "\n",
        "columns = corr.columns.values.tolist()\n",
        "\n",
        "fig = ff.create_annotated_heatmap(arr_corr, x=columns, y=columns, colorscale='Reds')\n",
        "\n",
        "fig.layout.title = 'Pearson Correlation <br> (What Determines Risk in Loans?)'\n",
        "fig.show()"
      ],
      "execution_count": 0,
      "outputs": [
        {
          "output_type": "display_data",
          "data": {
            "text/html": [
              "<html>\n",
              "<head><meta charset=\"utf-8\" /></head>\n",
              "<body>\n",
              "    <div>\n",
              "            <script src=\"https://cdnjs.cloudflare.com/ajax/libs/mathjax/2.7.5/MathJax.js?config=TeX-AMS-MML_SVG\"></script><script type=\"text/javascript\">if (window.MathJax) {MathJax.Hub.Config({SVG: {font: \"STIX-Web\"}});}</script>\n",
              "                <script type=\"text/javascript\">window.PlotlyConfig = {MathJaxConfig: 'local'};</script>\n",
              "        <script src=\"https://cdn.plot.ly/plotly-latest.min.js\"></script>    \n",
              "            <div id=\"d0aef476-183f-4724-a3c6-e015be70ae6d\" class=\"plotly-graph-div\" style=\"height:525px; width:100%;\"></div>\n",
              "            <script type=\"text/javascript\">\n",
              "                \n",
              "                    window.PLOTLYENV=window.PLOTLYENV || {};\n",
              "                    \n",
              "                if (document.getElementById(\"d0aef476-183f-4724-a3c6-e015be70ae6d\")) {\n",
              "                    Plotly.newPlot(\n",
              "                        'd0aef476-183f-4724-a3c6-e015be70ae6d',\n",
              "                        [{\"colorscale\": [[0.0, \"rgb(255,245,240)\"], [0.125, \"rgb(254,224,210)\"], [0.25, \"rgb(252,187,161)\"], [0.375, \"rgb(252,146,114)\"], [0.5, \"rgb(251,106,74)\"], [0.625, \"rgb(239,59,44)\"], [0.75, \"rgb(203,24,29)\"], [0.875, \"rgb(165,15,21)\"], [1.0, \"rgb(103,0,13)\"]], \"reversescale\": false, \"showscale\": false, \"type\": \"heatmap\", \"x\": [\"likes\", \"comments\", \"shares\", \"participants_count\"], \"y\": [\"likes\", \"comments\", \"shares\", \"participants_count\"], \"z\": [[1.0, 0.16, 1.0, -0.02], [0.16, 1.0, 0.16, -0.01], [1.0, 0.16, 1.0, -0.02], [-0.02, -0.01, -0.02, 1.0]]}],\n",
              "                        {\"annotations\": [{\"font\": {\"color\": \"#FFFFFF\"}, \"showarrow\": false, \"text\": \"1.0\", \"x\": \"likes\", \"xref\": \"x\", \"y\": \"likes\", \"yref\": \"y\"}, {\"font\": {\"color\": \"#000000\"}, \"showarrow\": false, \"text\": \"0.16\", \"x\": \"comments\", \"xref\": \"x\", \"y\": \"likes\", \"yref\": \"y\"}, {\"font\": {\"color\": \"#FFFFFF\"}, \"showarrow\": false, \"text\": \"1.0\", \"x\": \"shares\", \"xref\": \"x\", \"y\": \"likes\", \"yref\": \"y\"}, {\"font\": {\"color\": \"#000000\"}, \"showarrow\": false, \"text\": \"-0.02\", \"x\": \"participants_count\", \"xref\": \"x\", \"y\": \"likes\", \"yref\": \"y\"}, {\"font\": {\"color\": \"#000000\"}, \"showarrow\": false, \"text\": \"0.16\", \"x\": \"likes\", \"xref\": \"x\", \"y\": \"comments\", \"yref\": \"y\"}, {\"font\": {\"color\": \"#FFFFFF\"}, \"showarrow\": false, \"text\": \"1.0\", \"x\": \"comments\", \"xref\": \"x\", \"y\": \"comments\", \"yref\": \"y\"}, {\"font\": {\"color\": \"#000000\"}, \"showarrow\": false, \"text\": \"0.16\", \"x\": \"shares\", \"xref\": \"x\", \"y\": \"comments\", \"yref\": \"y\"}, {\"font\": {\"color\": \"#000000\"}, \"showarrow\": false, \"text\": \"-0.01\", \"x\": \"participants_count\", \"xref\": \"x\", \"y\": \"comments\", \"yref\": \"y\"}, {\"font\": {\"color\": \"#FFFFFF\"}, \"showarrow\": false, \"text\": \"1.0\", \"x\": \"likes\", \"xref\": \"x\", \"y\": \"shares\", \"yref\": \"y\"}, {\"font\": {\"color\": \"#000000\"}, \"showarrow\": false, \"text\": \"0.16\", \"x\": \"comments\", \"xref\": \"x\", \"y\": \"shares\", \"yref\": \"y\"}, {\"font\": {\"color\": \"#FFFFFF\"}, \"showarrow\": false, \"text\": \"1.0\", \"x\": \"shares\", \"xref\": \"x\", \"y\": \"shares\", \"yref\": \"y\"}, {\"font\": {\"color\": \"#000000\"}, \"showarrow\": false, \"text\": \"-0.02\", \"x\": \"participants_count\", \"xref\": \"x\", \"y\": \"shares\", \"yref\": \"y\"}, {\"font\": {\"color\": \"#000000\"}, \"showarrow\": false, \"text\": \"-0.02\", \"x\": \"likes\", \"xref\": \"x\", \"y\": \"participants_count\", \"yref\": \"y\"}, {\"font\": {\"color\": \"#000000\"}, \"showarrow\": false, \"text\": \"-0.01\", \"x\": \"comments\", \"xref\": \"x\", \"y\": \"participants_count\", \"yref\": \"y\"}, {\"font\": {\"color\": \"#000000\"}, \"showarrow\": false, \"text\": \"-0.02\", \"x\": \"shares\", \"xref\": \"x\", \"y\": \"participants_count\", \"yref\": \"y\"}, {\"font\": {\"color\": \"#FFFFFF\"}, \"showarrow\": false, \"text\": \"1.0\", \"x\": \"participants_count\", \"xref\": \"x\", \"y\": \"participants_count\", \"yref\": \"y\"}], \"template\": {\"data\": {\"bar\": [{\"error_x\": {\"color\": \"#2a3f5f\"}, \"error_y\": {\"color\": \"#2a3f5f\"}, \"marker\": {\"line\": {\"color\": \"#E5ECF6\", \"width\": 0.5}}, \"type\": \"bar\"}], \"barpolar\": [{\"marker\": {\"line\": {\"color\": \"#E5ECF6\", \"width\": 0.5}}, \"type\": \"barpolar\"}], \"carpet\": [{\"aaxis\": {\"endlinecolor\": \"#2a3f5f\", \"gridcolor\": \"white\", \"linecolor\": \"white\", \"minorgridcolor\": \"white\", \"startlinecolor\": \"#2a3f5f\"}, \"baxis\": {\"endlinecolor\": \"#2a3f5f\", \"gridcolor\": \"white\", \"linecolor\": \"white\", \"minorgridcolor\": \"white\", \"startlinecolor\": \"#2a3f5f\"}, \"type\": \"carpet\"}], \"choropleth\": [{\"colorbar\": {\"outlinewidth\": 0, \"ticks\": \"\"}, \"type\": \"choropleth\"}], \"contour\": [{\"colorbar\": {\"outlinewidth\": 0, \"ticks\": \"\"}, \"colorscale\": [[0.0, \"#0d0887\"], [0.1111111111111111, \"#46039f\"], [0.2222222222222222, \"#7201a8\"], [0.3333333333333333, \"#9c179e\"], [0.4444444444444444, \"#bd3786\"], [0.5555555555555556, \"#d8576b\"], [0.6666666666666666, \"#ed7953\"], [0.7777777777777778, \"#fb9f3a\"], [0.8888888888888888, \"#fdca26\"], [1.0, \"#f0f921\"]], \"type\": \"contour\"}], \"contourcarpet\": [{\"colorbar\": {\"outlinewidth\": 0, \"ticks\": \"\"}, \"type\": \"contourcarpet\"}], \"heatmap\": [{\"colorbar\": {\"outlinewidth\": 0, \"ticks\": \"\"}, \"colorscale\": [[0.0, \"#0d0887\"], [0.1111111111111111, \"#46039f\"], [0.2222222222222222, \"#7201a8\"], [0.3333333333333333, \"#9c179e\"], [0.4444444444444444, \"#bd3786\"], [0.5555555555555556, \"#d8576b\"], [0.6666666666666666, \"#ed7953\"], [0.7777777777777778, \"#fb9f3a\"], [0.8888888888888888, \"#fdca26\"], [1.0, \"#f0f921\"]], \"type\": \"heatmap\"}], \"heatmapgl\": [{\"colorbar\": {\"outlinewidth\": 0, \"ticks\": \"\"}, \"colorscale\": [[0.0, \"#0d0887\"], [0.1111111111111111, \"#46039f\"], [0.2222222222222222, \"#7201a8\"], [0.3333333333333333, \"#9c179e\"], [0.4444444444444444, \"#bd3786\"], [0.5555555555555556, \"#d8576b\"], [0.6666666666666666, \"#ed7953\"], [0.7777777777777778, \"#fb9f3a\"], [0.8888888888888888, \"#fdca26\"], [1.0, \"#f0f921\"]], \"type\": \"heatmapgl\"}], \"histogram\": [{\"marker\": {\"colorbar\": {\"outlinewidth\": 0, \"ticks\": \"\"}}, \"type\": \"histogram\"}], \"histogram2d\": [{\"colorbar\": {\"outlinewidth\": 0, \"ticks\": \"\"}, \"colorscale\": [[0.0, \"#0d0887\"], [0.1111111111111111, \"#46039f\"], [0.2222222222222222, \"#7201a8\"], [0.3333333333333333, \"#9c179e\"], [0.4444444444444444, \"#bd3786\"], [0.5555555555555556, \"#d8576b\"], [0.6666666666666666, \"#ed7953\"], [0.7777777777777778, \"#fb9f3a\"], [0.8888888888888888, \"#fdca26\"], [1.0, \"#f0f921\"]], \"type\": \"histogram2d\"}], \"histogram2dcontour\": [{\"colorbar\": {\"outlinewidth\": 0, \"ticks\": \"\"}, \"colorscale\": [[0.0, \"#0d0887\"], [0.1111111111111111, \"#46039f\"], [0.2222222222222222, \"#7201a8\"], [0.3333333333333333, \"#9c179e\"], [0.4444444444444444, \"#bd3786\"], [0.5555555555555556, \"#d8576b\"], [0.6666666666666666, \"#ed7953\"], [0.7777777777777778, \"#fb9f3a\"], [0.8888888888888888, \"#fdca26\"], [1.0, \"#f0f921\"]], \"type\": \"histogram2dcontour\"}], \"mesh3d\": [{\"colorbar\": {\"outlinewidth\": 0, \"ticks\": \"\"}, \"type\": \"mesh3d\"}], \"parcoords\": [{\"line\": {\"colorbar\": {\"outlinewidth\": 0, \"ticks\": \"\"}}, \"type\": \"parcoords\"}], \"pie\": [{\"automargin\": true, \"type\": \"pie\"}], \"scatter\": [{\"marker\": {\"colorbar\": {\"outlinewidth\": 0, \"ticks\": \"\"}}, \"type\": \"scatter\"}], \"scatter3d\": [{\"line\": {\"colorbar\": {\"outlinewidth\": 0, \"ticks\": \"\"}}, \"marker\": {\"colorbar\": {\"outlinewidth\": 0, \"ticks\": \"\"}}, \"type\": \"scatter3d\"}], \"scattercarpet\": [{\"marker\": {\"colorbar\": {\"outlinewidth\": 0, \"ticks\": \"\"}}, \"type\": \"scattercarpet\"}], \"scattergeo\": [{\"marker\": {\"colorbar\": {\"outlinewidth\": 0, \"ticks\": \"\"}}, \"type\": \"scattergeo\"}], \"scattergl\": [{\"marker\": {\"colorbar\": {\"outlinewidth\": 0, \"ticks\": \"\"}}, \"type\": \"scattergl\"}], \"scattermapbox\": [{\"marker\": {\"colorbar\": {\"outlinewidth\": 0, \"ticks\": \"\"}}, \"type\": \"scattermapbox\"}], \"scatterpolar\": [{\"marker\": {\"colorbar\": {\"outlinewidth\": 0, \"ticks\": \"\"}}, \"type\": \"scatterpolar\"}], \"scatterpolargl\": [{\"marker\": {\"colorbar\": {\"outlinewidth\": 0, \"ticks\": \"\"}}, \"type\": \"scatterpolargl\"}], \"scatterternary\": [{\"marker\": {\"colorbar\": {\"outlinewidth\": 0, \"ticks\": \"\"}}, \"type\": \"scatterternary\"}], \"surface\": [{\"colorbar\": {\"outlinewidth\": 0, \"ticks\": \"\"}, \"colorscale\": [[0.0, \"#0d0887\"], [0.1111111111111111, \"#46039f\"], [0.2222222222222222, \"#7201a8\"], [0.3333333333333333, \"#9c179e\"], [0.4444444444444444, \"#bd3786\"], [0.5555555555555556, \"#d8576b\"], [0.6666666666666666, \"#ed7953\"], [0.7777777777777778, \"#fb9f3a\"], [0.8888888888888888, \"#fdca26\"], [1.0, \"#f0f921\"]], \"type\": \"surface\"}], \"table\": [{\"cells\": {\"fill\": {\"color\": \"#EBF0F8\"}, \"line\": {\"color\": \"white\"}}, \"header\": {\"fill\": {\"color\": \"#C8D4E3\"}, \"line\": {\"color\": \"white\"}}, \"type\": \"table\"}]}, \"layout\": {\"annotationdefaults\": {\"arrowcolor\": \"#2a3f5f\", \"arrowhead\": 0, \"arrowwidth\": 1}, \"coloraxis\": {\"colorbar\": {\"outlinewidth\": 0, \"ticks\": \"\"}}, \"colorscale\": {\"diverging\": [[0, \"#8e0152\"], [0.1, \"#c51b7d\"], [0.2, \"#de77ae\"], [0.3, \"#f1b6da\"], [0.4, \"#fde0ef\"], [0.5, \"#f7f7f7\"], [0.6, \"#e6f5d0\"], [0.7, \"#b8e186\"], [0.8, \"#7fbc41\"], [0.9, \"#4d9221\"], [1, \"#276419\"]], \"sequential\": [[0.0, \"#0d0887\"], [0.1111111111111111, \"#46039f\"], [0.2222222222222222, \"#7201a8\"], [0.3333333333333333, \"#9c179e\"], [0.4444444444444444, \"#bd3786\"], [0.5555555555555556, \"#d8576b\"], [0.6666666666666666, \"#ed7953\"], [0.7777777777777778, \"#fb9f3a\"], [0.8888888888888888, \"#fdca26\"], [1.0, \"#f0f921\"]], \"sequentialminus\": [[0.0, \"#0d0887\"], [0.1111111111111111, \"#46039f\"], [0.2222222222222222, \"#7201a8\"], [0.3333333333333333, \"#9c179e\"], [0.4444444444444444, \"#bd3786\"], [0.5555555555555556, \"#d8576b\"], [0.6666666666666666, \"#ed7953\"], [0.7777777777777778, \"#fb9f3a\"], [0.8888888888888888, \"#fdca26\"], [1.0, \"#f0f921\"]]}, \"colorway\": [\"#636efa\", \"#EF553B\", \"#00cc96\", \"#ab63fa\", \"#FFA15A\", \"#19d3f3\", \"#FF6692\", \"#B6E880\", \"#FF97FF\", \"#FECB52\"], \"font\": {\"color\": \"#2a3f5f\"}, \"geo\": {\"bgcolor\": \"white\", \"lakecolor\": \"white\", \"landcolor\": \"#E5ECF6\", \"showlakes\": true, \"showland\": true, \"subunitcolor\": \"white\"}, \"hoverlabel\": {\"align\": \"left\"}, \"hovermode\": \"closest\", \"mapbox\": {\"style\": \"light\"}, \"paper_bgcolor\": \"white\", \"plot_bgcolor\": \"#E5ECF6\", \"polar\": {\"angularaxis\": {\"gridcolor\": \"white\", \"linecolor\": \"white\", \"ticks\": \"\"}, \"bgcolor\": \"#E5ECF6\", \"radialaxis\": {\"gridcolor\": \"white\", \"linecolor\": \"white\", \"ticks\": \"\"}}, \"scene\": {\"xaxis\": {\"backgroundcolor\": \"#E5ECF6\", \"gridcolor\": \"white\", \"gridwidth\": 2, \"linecolor\": \"white\", \"showbackground\": true, \"ticks\": \"\", \"zerolinecolor\": \"white\"}, \"yaxis\": {\"backgroundcolor\": \"#E5ECF6\", \"gridcolor\": \"white\", \"gridwidth\": 2, \"linecolor\": \"white\", \"showbackground\": true, \"ticks\": \"\", \"zerolinecolor\": \"white\"}, \"zaxis\": {\"backgroundcolor\": \"#E5ECF6\", \"gridcolor\": \"white\", \"gridwidth\": 2, \"linecolor\": \"white\", \"showbackground\": true, \"ticks\": \"\", \"zerolinecolor\": \"white\"}}, \"shapedefaults\": {\"line\": {\"color\": \"#2a3f5f\"}}, \"ternary\": {\"aaxis\": {\"gridcolor\": \"white\", \"linecolor\": \"white\", \"ticks\": \"\"}, \"baxis\": {\"gridcolor\": \"white\", \"linecolor\": \"white\", \"ticks\": \"\"}, \"bgcolor\": \"#E5ECF6\", \"caxis\": {\"gridcolor\": \"white\", \"linecolor\": \"white\", \"ticks\": \"\"}}, \"title\": {\"x\": 0.05}, \"xaxis\": {\"automargin\": true, \"gridcolor\": \"white\", \"linecolor\": \"white\", \"ticks\": \"\", \"title\": {\"standoff\": 15}, \"zerolinecolor\": \"white\", \"zerolinewidth\": 2}, \"yaxis\": {\"automargin\": true, \"gridcolor\": \"white\", \"linecolor\": \"white\", \"ticks\": \"\", \"title\": {\"standoff\": 15}, \"zerolinecolor\": \"white\", \"zerolinewidth\": 2}}}, \"title\": {\"text\": \"Pearson Correlation <br> (What Determines Risk in Loans?)\"}, \"xaxis\": {\"dtick\": 1, \"gridcolor\": \"rgb(0, 0, 0)\", \"side\": \"top\", \"ticks\": \"\"}, \"yaxis\": {\"dtick\": 1, \"ticks\": \"\", \"ticksuffix\": \"  \"}},\n",
              "                        {\"responsive\": true}\n",
              "                    ).then(function(){\n",
              "                            \n",
              "var gd = document.getElementById('d0aef476-183f-4724-a3c6-e015be70ae6d');\n",
              "var x = new MutationObserver(function (mutations, observer) {{\n",
              "        var display = window.getComputedStyle(gd).display;\n",
              "        if (!display || display === 'none') {{\n",
              "            console.log([gd, 'removed!']);\n",
              "            Plotly.purge(gd);\n",
              "            observer.disconnect();\n",
              "        }}\n",
              "}});\n",
              "\n",
              "// Listen for the removal of the full notebook cells\n",
              "var notebookContainer = gd.closest('#notebook-container');\n",
              "if (notebookContainer) {{\n",
              "    x.observe(notebookContainer, {childList: true});\n",
              "}}\n",
              "\n",
              "// Listen for the clearing of the current output cell\n",
              "var outputEl = gd.closest('.output');\n",
              "if (outputEl) {{\n",
              "    x.observe(outputEl, {childList: true});\n",
              "}}\n",
              "\n",
              "                        })\n",
              "                };\n",
              "                \n",
              "            </script>\n",
              "        </div>\n",
              "</body>\n",
              "</html>"
            ]
          },
          "metadata": {
            "tags": []
          }
        }
      ]
    },
    {
      "cell_type": "code",
      "metadata": {
        "id": "ozNj9X2hTmKo",
        "colab_type": "code",
        "colab": {}
      },
      "source": [
        "x_train ,x_test,y_train,y_test = train_test_split(x,y,test_size=0.3)"
      ],
      "execution_count": 0,
      "outputs": []
    },
    {
      "cell_type": "markdown",
      "metadata": {
        "id": "yYNFMJ5rtZdJ",
        "colab_type": "text"
      },
      "source": [
        "### SVM"
      ]
    },
    {
      "cell_type": "code",
      "metadata": {
        "colab_type": "code",
        "id": "rfHJJiwiYphu",
        "colab": {}
      },
      "source": [
        "from sklearn import svm\n",
        "def shr_linearsvmclf(X_train, y_train, X_test, y_test): \n",
        "    print(\"LinearSVC\")\n",
        "    lin_svc = svm.LinearSVC()\n",
        "    lin_svc.fit(X_train, y_train)\n",
        "\n",
        "    y_pred = lin_svc.predict(X_test)\n",
        "    \n",
        "    f1score = f1_score(y_test, y_pred.round(), zero_division=1,average='weighted')\n",
        "    accuracy = accuracy_score(y_test,y_pred.round())\n",
        "    #sai_svm=round(accuracy_score(y_test, y_hat.round())*100,2)\n",
        "\n",
        "    return ({'f1score':f1score,'ACCURACY':accuracy})"
      ],
      "execution_count": 0,
      "outputs": []
    },
    {
      "cell_type": "markdown",
      "metadata": {
        "id": "-QJUdHs7Y09C",
        "colab_type": "text"
      },
      "source": [
        "### NAIVE BAYES"
      ]
    },
    {
      "cell_type": "code",
      "metadata": {
        "colab_type": "code",
        "id": "Awu_vUQkYph0",
        "colab": {}
      },
      "source": [
        "# NAIVE BAYES CLASSIFIER\n",
        "def shr_naive_bayes(X_train, y_train, X_test, y_test):  \n",
        "    print(\"GaussianNB\")\n",
        "    naive = GaussianNB().fit(X_train, y_train)\n",
        "\n",
        "    y_pred = naive.predict(X_test)\n",
        "\n",
        "    f1score = f1_score(y_test, y_pred.round(), zero_division=1,average='weighted')\n",
        "    accuracy = accuracy_score(y_test,y_pred.round())\n",
        "    #sai_nb=round(accuracy_score(y_test, y_hat.round())*100,2)\n",
        "\n",
        "    return ({'f1score':f1score,'ACCURACY':accuracy})"
      ],
      "execution_count": 0,
      "outputs": []
    },
    {
      "cell_type": "markdown",
      "metadata": {
        "id": "9pD6uAX3ZCHb",
        "colab_type": "text"
      },
      "source": [
        "### RANDOM FOREST"
      ]
    },
    {
      "cell_type": "code",
      "metadata": {
        "colab_type": "code",
        "id": "51EeR94HYph3",
        "colab": {}
      },
      "source": [
        "# RANDOM FOREST CLASSIFIER\n",
        "from sklearn.ensemble import RandomForestRegressor\n",
        "\n",
        "rf = RandomForestRegressor()\n",
        "def shr_randomforest(X_train, y_train,X_test, y_test):\n",
        "    print(\"RandomForestClassifier\")\n",
        "    randomforest = RandomForestRegressor().fit(X_train, y_train)\n",
        "\n",
        "    y_pred = randomforest.predict(X_test)\n",
        "\n",
        "    f1score = f1_score(y_test, y_pred.round(), zero_division=1,average='weighted')\n",
        "    accuracy = accuracy_score(y_test,y_pred.round())\n",
        "    #sai_rf=round(accuracy_score(y_test, y_hat.round())*100,2)\n",
        "\n",
        "    return ({'f1score':f1score,'ACCURACY':accuracy})"
      ],
      "execution_count": 0,
      "outputs": []
    },
    {
      "cell_type": "markdown",
      "metadata": {
        "id": "7d6OiPuEZY1Q",
        "colab_type": "text"
      },
      "source": [
        "### XG BOOST"
      ]
    },
    {
      "cell_type": "code",
      "metadata": {
        "id": "aN52WAnMTmtm",
        "colab_type": "code",
        "colab": {}
      },
      "source": [
        "# XG BOOST CLASSIFIER\n",
        "from xgboost import XGBClassifier\n",
        "def shr_xgboost(X_train, y_train,X_test, y_test):\n",
        "\n",
        "  print(\"XG Boost algorithm\")\n",
        "  xg = XGBClassifier(random_state=2)\n",
        "  xg=xg.fit(x_train,y_train)\n",
        "\n",
        "  y_pred = xg.predict(x_test)\n",
        "\n",
        "  f1score = f1_score(y_test, y_pred.round(), zero_division=1,average='weighted')\n",
        "  accuracy = accuracy_score(y_test,y_pred.round())\n",
        "  #shreyus_xgb=round(accuracy_score(y_test, y_hat.round())*100,2)\n",
        "  return ({'f1score':f1score,'ACCURACY':accuracy})\n"
      ],
      "execution_count": 0,
      "outputs": []
    },
    {
      "cell_type": "markdown",
      "metadata": {
        "id": "8xisNgb0ZcCg",
        "colab_type": "text"
      },
      "source": [
        "### KNN"
      ]
    },
    {
      "cell_type": "code",
      "metadata": {
        "id": "QIjwjYPITmoR",
        "colab_type": "code",
        "colab": {}
      },
      "source": [
        "from sklearn.neighbors import KNeighborsClassifier\n",
        "def shr_knn(X_train, y_train, X_test, y_test):  \n",
        "    print(\"KNeighborsClassifier\")\n",
        "    knn = KNeighborsClassifier(n_neighbors=3).fit(X_train, y_train)\n",
        "\n",
        "    y_pred = knn.predict(X_test)\n",
        "\n",
        "    f1score = f1_score(y_test, y_pred.round(), zero_division=1,average='weighted')\n",
        "    accuracy = accuracy_score(y_test,y_pred.round())\n",
        "    #shreyus_knn=round(accuracy_score(y_test, y_hat.round())*100,2)\n",
        "    return ({'f1score':f1score,'ACCURACY':accuracy})"
      ],
      "execution_count": 0,
      "outputs": []
    },
    {
      "cell_type": "code",
      "metadata": {
        "id": "1ZfzAPxeaEBg",
        "colab_type": "code",
        "outputId": "22143ffa-07b8-4b2a-e6bf-5def58339647",
        "colab": {
          "base_uri": "https://localhost:8080/",
          "height": 123
        }
      },
      "source": [
        "shr_linearsvmclf(x_train,y_train,x_test,y_test)"
      ],
      "execution_count": 0,
      "outputs": [
        {
          "output_type": "stream",
          "text": [
            "LinearSVC\n"
          ],
          "name": "stdout"
        },
        {
          "output_type": "stream",
          "text": [
            "/usr/local/lib/python3.6/dist-packages/sklearn/svm/_base.py:947: ConvergenceWarning:\n",
            "\n",
            "Liblinear failed to converge, increase the number of iterations.\n",
            "\n"
          ],
          "name": "stderr"
        },
        {
          "output_type": "execute_result",
          "data": {
            "text/plain": [
              "{'ACCURACY': 0.8871794871794871, 'f1score': 0.8434689822468847}"
            ]
          },
          "metadata": {
            "tags": []
          },
          "execution_count": 166
        }
      ]
    },
    {
      "cell_type": "code",
      "metadata": {
        "id": "mXNzOvyCaEld",
        "colab_type": "code",
        "outputId": "23e4446e-d1ca-43be-c1fe-7deee898da8a",
        "colab": {
          "base_uri": "https://localhost:8080/",
          "height": 52
        }
      },
      "source": [
        "shr_naive_bayes(x_train,y_train,x_test,y_test)"
      ],
      "execution_count": 0,
      "outputs": [
        {
          "output_type": "stream",
          "text": [
            "GaussianNB\n"
          ],
          "name": "stdout"
        },
        {
          "output_type": "execute_result",
          "data": {
            "text/plain": [
              "{'ACCURACY': 0.06487179487179487, 'f1score': 0.06706956141240546}"
            ]
          },
          "metadata": {
            "tags": []
          },
          "execution_count": 167
        }
      ]
    },
    {
      "cell_type": "code",
      "metadata": {
        "id": "O2m8R20TaEi4",
        "colab_type": "code",
        "outputId": "09f3c8e3-ed3c-45cf-9494-160ebee9abb7",
        "colab": {
          "base_uri": "https://localhost:8080/",
          "height": 52
        }
      },
      "source": [
        "shr_randomforest(x_train,y_train,x_test,y_test)"
      ],
      "execution_count": 0,
      "outputs": [
        {
          "output_type": "stream",
          "text": [
            "RandomForestClassifier\n"
          ],
          "name": "stdout"
        },
        {
          "output_type": "execute_result",
          "data": {
            "text/plain": [
              "{'ACCURACY': 0.88, 'f1score': 0.8482700308164137}"
            ]
          },
          "metadata": {
            "tags": []
          },
          "execution_count": 168
        }
      ]
    },
    {
      "cell_type": "code",
      "metadata": {
        "id": "ABXnTdgyaEgb",
        "colab_type": "code",
        "outputId": "63675651-b360-47ad-c484-b69f443f93eb",
        "colab": {
          "base_uri": "https://localhost:8080/",
          "height": 52
        }
      },
      "source": [
        "shr_xgboost(x_train,y_train,x_test,y_test)"
      ],
      "execution_count": 0,
      "outputs": [
        {
          "output_type": "stream",
          "text": [
            "XG Boost algorithm\n"
          ],
          "name": "stdout"
        },
        {
          "output_type": "execute_result",
          "data": {
            "text/plain": [
              "{'ACCURACY': 0.8928205128205128, 'f1score': 0.8531934962584155}"
            ]
          },
          "metadata": {
            "tags": []
          },
          "execution_count": 169
        }
      ]
    },
    {
      "cell_type": "code",
      "metadata": {
        "id": "Dc0uxPaMaEdx",
        "colab_type": "code",
        "outputId": "40643f47-6b0f-43b7-9c49-f72af2816580",
        "colab": {
          "base_uri": "https://localhost:8080/",
          "height": 52
        }
      },
      "source": [
        "shr_knn(x_train,y_train,x_test,y_test)"
      ],
      "execution_count": 0,
      "outputs": [
        {
          "output_type": "stream",
          "text": [
            "KNeighborsClassifier\n"
          ],
          "name": "stdout"
        },
        {
          "output_type": "execute_result",
          "data": {
            "text/plain": [
              "{'ACCURACY': 0.8866666666666667, 'f1score': 0.8492975915766778}"
            ]
          },
          "metadata": {
            "tags": []
          },
          "execution_count": 170
        }
      ]
    },
    {
      "cell_type": "markdown",
      "metadata": {
        "id": "y9UNUEMyr8Mt",
        "colab_type": "text"
      },
      "source": [
        "## --------------------------------------------------------------------------------------------------------------------------------------------------------------"
      ]
    },
    {
      "cell_type": "markdown",
      "metadata": {
        "id": "znm25ooWyj-j",
        "colab_type": "text"
      },
      "source": [
        "# CREDIBILITY AND REALIABILITY ------ SHAILESHA "
      ]
    },
    {
      "cell_type": "code",
      "metadata": {
        "id": "0EynR-acyx_9",
        "colab_type": "code",
        "outputId": "ccddbaff-951d-402c-c74f-0b41cedc337c",
        "colab": {
          "base_uri": "https://localhost:8080/",
          "height": 361
        }
      },
      "source": [
        "fake_newss.head(2)"
      ],
      "execution_count": 0,
      "outputs": [
        {
          "output_type": "execute_result",
          "data": {
            "text/html": [
              "<div>\n",
              "<style scoped>\n",
              "    .dataframe tbody tr th:only-of-type {\n",
              "        vertical-align: middle;\n",
              "    }\n",
              "\n",
              "    .dataframe tbody tr th {\n",
              "        vertical-align: top;\n",
              "    }\n",
              "\n",
              "    .dataframe thead th {\n",
              "        text-align: right;\n",
              "    }\n",
              "</style>\n",
              "<table border=\"1\" class=\"dataframe\">\n",
              "  <thead>\n",
              "    <tr style=\"text-align: right;\">\n",
              "      <th></th>\n",
              "      <th>uuid</th>\n",
              "      <th>ord_in_thread</th>\n",
              "      <th>author</th>\n",
              "      <th>published</th>\n",
              "      <th>title</th>\n",
              "      <th>text</th>\n",
              "      <th>language</th>\n",
              "      <th>crawled</th>\n",
              "      <th>site_url</th>\n",
              "      <th>country</th>\n",
              "      <th>domain_rank</th>\n",
              "      <th>thread_title</th>\n",
              "      <th>spam_score</th>\n",
              "      <th>main_img_url</th>\n",
              "      <th>replies_count</th>\n",
              "      <th>participants_count</th>\n",
              "      <th>likes</th>\n",
              "      <th>comments</th>\n",
              "      <th>shares</th>\n",
              "      <th>type</th>\n",
              "      <th>text_lower</th>\n",
              "      <th>thread_lower</th>\n",
              "      <th>num_words</th>\n",
              "      <th>similarity</th>\n",
              "      <th>country_number</th>\n",
              "      <th>language_number</th>\n",
              "      <th>index</th>\n",
              "      <th>topic_number</th>\n",
              "      <th>lda_score</th>\n",
              "      <th>topic_top_words</th>\n",
              "    </tr>\n",
              "  </thead>\n",
              "  <tbody>\n",
              "    <tr>\n",
              "      <th>0</th>\n",
              "      <td>6a175f46bcd24d39b3e962ad0f29936721db70db</td>\n",
              "      <td>0</td>\n",
              "      <td>Barracuda Brigade</td>\n",
              "      <td>2016-10-26T21:41:00.000+03:00</td>\n",
              "      <td>Muslims BUSTED: They Stole Millions In Gov’t B...</td>\n",
              "      <td>Print They should pay all the back all the mon...</td>\n",
              "      <td>english</td>\n",
              "      <td>2016-10-27T01:49:27.168+03:00</td>\n",
              "      <td>100percentfedup.com</td>\n",
              "      <td>US</td>\n",
              "      <td>25689.0</td>\n",
              "      <td>Muslims BUSTED: They Stole Millions In Gov’t B...</td>\n",
              "      <td>0.0</td>\n",
              "      <td>http://bb4sp.com/wp-content/uploads/2016/10/Fu...</td>\n",
              "      <td>0</td>\n",
              "      <td>1</td>\n",
              "      <td>0</td>\n",
              "      <td>0</td>\n",
              "      <td>0</td>\n",
              "      <td>bias</td>\n",
              "      <td>print pay back money plu interest entir famili...</td>\n",
              "      <td>muslim bust stole million govt benefit</td>\n",
              "      <td>46</td>\n",
              "      <td>0</td>\n",
              "      <td>0</td>\n",
              "      <td>0</td>\n",
              "      <td>0</td>\n",
              "      <td>7</td>\n",
              "      <td>0.484623</td>\n",
              "      <td>state govern obama would peopl year world pres...</td>\n",
              "    </tr>\n",
              "    <tr>\n",
              "      <th>1</th>\n",
              "      <td>2bdc29d12605ef9cf3f09f9875040a7113be5d5b</td>\n",
              "      <td>0</td>\n",
              "      <td>reasoning with facts</td>\n",
              "      <td>2016-10-29T08:47:11.259+03:00</td>\n",
              "      <td>Re: Why Did Attorney General Loretta Lynch Ple...</td>\n",
              "      <td>Why Did Attorney General Loretta Lynch Plead T...</td>\n",
              "      <td>english</td>\n",
              "      <td>2016-10-29T08:47:11.259+03:00</td>\n",
              "      <td>100percentfedup.com</td>\n",
              "      <td>US</td>\n",
              "      <td>25689.0</td>\n",
              "      <td>Re: Why Did Attorney General Loretta Lynch Ple...</td>\n",
              "      <td>0.0</td>\n",
              "      <td>http://bb4sp.com/wp-content/uploads/2016/10/Fu...</td>\n",
              "      <td>0</td>\n",
              "      <td>1</td>\n",
              "      <td>0</td>\n",
              "      <td>0</td>\n",
              "      <td>0</td>\n",
              "      <td>bias</td>\n",
              "      <td>attorney gener loretta lynch plead fifth barra...</td>\n",
              "      <td>attorney gener loretta lynch plead fifth</td>\n",
              "      <td>164</td>\n",
              "      <td>0</td>\n",
              "      <td>0</td>\n",
              "      <td>0</td>\n",
              "      <td>1</td>\n",
              "      <td>0</td>\n",
              "      <td>0.971145</td>\n",
              "      <td>clinton email investig state report hillari sa...</td>\n",
              "    </tr>\n",
              "  </tbody>\n",
              "</table>\n",
              "</div>"
            ],
            "text/plain": [
              "                                       uuid  ...                                    topic_top_words\n",
              "0  6a175f46bcd24d39b3e962ad0f29936721db70db  ...  state govern obama would peopl year world pres...\n",
              "1  2bdc29d12605ef9cf3f09f9875040a7113be5d5b  ...  clinton email investig state report hillari sa...\n",
              "\n",
              "[2 rows x 30 columns]"
            ]
          },
          "metadata": {
            "tags": []
          },
          "execution_count": 171
        }
      ]
    },
    {
      "cell_type": "code",
      "metadata": {
        "id": "aha7LjEWTmIO",
        "colab_type": "code",
        "colab": {}
      },
      "source": [
        "x = fake_newss[['domain_rank','replies_count','participants_count']]\n",
        "y=fake_news['type']"
      ],
      "execution_count": 0,
      "outputs": []
    },
    {
      "cell_type": "code",
      "metadata": {
        "colab_type": "code",
        "outputId": "a8c81d0d-e839-4b76-af61-cc13751c1acd",
        "id": "7Ih5qhU1PusY",
        "colab": {
          "base_uri": "https://localhost:8080/",
          "height": 281
        }
      },
      "source": [
        "# Boxplots for continuous attributes\n",
        "fig, axes = plt.subplots(nrows=1, ncols=3)\n",
        "axes[0].boxplot(x['domain_rank'])\n",
        "axes[0].set_title('domain_rank')\n",
        "axes[1].boxplot(x['replies_count'])\n",
        "axes[1].set_title('replies_count')\n",
        "axes[2].boxplot(x['participants_count'])\n",
        "axes[2].set_title('participants_count')\n",
        "\n",
        "\n",
        "fig.savefig(\"boxplots.png\")"
      ],
      "execution_count": 0,
      "outputs": [
        {
          "output_type": "display_data",
          "data": {
            "image/png": "[encoded data removed]",
            "text/plain": [
              "<Figure size 432x288 with 3 Axes>"
            ]
          },
          "metadata": {
            "tags": [],
            "needs_background": "light"
          }
        }
      ]
    },
    {
      "cell_type": "code",
      "metadata": {
        "colab_type": "code",
        "id": "pdoS8o25Pusc",
        "colab": {}
      },
      "source": [
        "num=['domain_rank','replies_count','participants_count']"
      ],
      "execution_count": 0,
      "outputs": []
    },
    {
      "cell_type": "code",
      "metadata": {
        "colab_type": "code",
        "outputId": "df33f61a-d2aa-4d4a-b25b-3d38cd8b01ca",
        "id": "sDXGAqP3Pusf",
        "colab": {
          "base_uri": "https://localhost:8080/",
          "height": 88
        }
      },
      "source": [
        "maxs=[]\n",
        "mins=[]\n",
        "stds=[]\n",
        "means=[]\n",
        "for x1 in range(len(num)):\n",
        "  maxs.append(x[num[x1]].max())\n",
        "  mins.append(x[num[x1]].min())\n",
        "  stds.append(x[num[x1]].std())\n",
        "  means.append(x[num[x1]].mean())\n",
        "cm = sns.light_palette(\"orange\", as_cmap=True)\n",
        "describe=pd.DataFrame({'columns':num,'max':maxs,'min':mins,'std':stds,'mean':means})\n",
        "describe.style.background_gradient(cmap=cm)"
      ],
      "execution_count": 0,
      "outputs": [
        {
          "output_type": "execute_result",
          "data": {
            "text/html": [
              "<style  type=\"text/css\" >\n",
              "    #T_a86d43a8_8f0a_11ea_9752_0242ac1c0002row0_col1 {\n",
              "            background-color:  #ffa500;\n",
              "            color:  #000000;\n",
              "        }    #T_a86d43a8_8f0a_11ea_9752_0242ac1c0002row0_col2 {\n",
              "            background-color:  #ffa500;\n",
              "            color:  #000000;\n",
              "        }    #T_a86d43a8_8f0a_11ea_9752_0242ac1c0002row0_col3 {\n",
              "            background-color:  #ffa500;\n",
              "            color:  #000000;\n",
              "        }    #T_a86d43a8_8f0a_11ea_9752_0242ac1c0002row0_col4 {\n",
              "            background-color:  #ffa500;\n",
              "            color:  #000000;\n",
              "        }    #T_a86d43a8_8f0a_11ea_9752_0242ac1c0002row1_col1 {\n",
              "            background-color:  #fff6e5;\n",
              "            color:  #000000;\n",
              "        }    #T_a86d43a8_8f0a_11ea_9752_0242ac1c0002row1_col2 {\n",
              "            background-color:  #fff6e5;\n",
              "            color:  #000000;\n",
              "        }    #T_a86d43a8_8f0a_11ea_9752_0242ac1c0002row1_col3 {\n",
              "            background-color:  #fff6e5;\n",
              "            color:  #000000;\n",
              "        }    #T_a86d43a8_8f0a_11ea_9752_0242ac1c0002row1_col4 {\n",
              "            background-color:  #fff6e5;\n",
              "            color:  #000000;\n",
              "        }    #T_a86d43a8_8f0a_11ea_9752_0242ac1c0002row2_col1 {\n",
              "            background-color:  #fff6e5;\n",
              "            color:  #000000;\n",
              "        }    #T_a86d43a8_8f0a_11ea_9752_0242ac1c0002row2_col2 {\n",
              "            background-color:  #fff6e5;\n",
              "            color:  #000000;\n",
              "        }    #T_a86d43a8_8f0a_11ea_9752_0242ac1c0002row2_col3 {\n",
              "            background-color:  #fff6e5;\n",
              "            color:  #000000;\n",
              "        }    #T_a86d43a8_8f0a_11ea_9752_0242ac1c0002row2_col4 {\n",
              "            background-color:  #fff6e5;\n",
              "            color:  #000000;\n",
              "        }</style><table id=\"T_a86d43a8_8f0a_11ea_9752_0242ac1c0002\" ><thead>    <tr>        <th class=\"blank level0\" ></th>        <th class=\"col_heading level0 col0\" >columns</th>        <th class=\"col_heading level0 col1\" >max</th>        <th class=\"col_heading level0 col2\" >min</th>        <th class=\"col_heading level0 col3\" >std</th>        <th class=\"col_heading level0 col4\" >mean</th>    </tr></thead><tbody>\n",
              "                <tr>\n",
              "                        <th id=\"T_a86d43a8_8f0a_11ea_9752_0242ac1c0002level0_row0\" class=\"row_heading level0 row0\" >0</th>\n",
              "                        <td id=\"T_a86d43a8_8f0a_11ea_9752_0242ac1c0002row0_col0\" class=\"data row0 col0\" >domain_rank</td>\n",
              "                        <td id=\"T_a86d43a8_8f0a_11ea_9752_0242ac1c0002row0_col1\" class=\"data row0 col1\" >98679.000000</td>\n",
              "                        <td id=\"T_a86d43a8_8f0a_11ea_9752_0242ac1c0002row0_col2\" class=\"data row0 col2\" >486.000000</td>\n",
              "                        <td id=\"T_a86d43a8_8f0a_11ea_9752_0242ac1c0002row0_col3\" class=\"data row0 col3\" >22106.012346</td>\n",
              "                        <td id=\"T_a86d43a8_8f0a_11ea_9752_0242ac1c0002row0_col4\" class=\"data row0 col4\" >36918.588507</td>\n",
              "            </tr>\n",
              "            <tr>\n",
              "                        <th id=\"T_a86d43a8_8f0a_11ea_9752_0242ac1c0002level0_row1\" class=\"row_heading level0 row1\" >1</th>\n",
              "                        <td id=\"T_a86d43a8_8f0a_11ea_9752_0242ac1c0002row1_col0\" class=\"data row1 col0\" >replies_count</td>\n",
              "                        <td id=\"T_a86d43a8_8f0a_11ea_9752_0242ac1c0002row1_col1\" class=\"data row1 col1\" >309.000000</td>\n",
              "                        <td id=\"T_a86d43a8_8f0a_11ea_9752_0242ac1c0002row1_col2\" class=\"data row1 col2\" >0.000000</td>\n",
              "                        <td id=\"T_a86d43a8_8f0a_11ea_9752_0242ac1c0002row1_col3\" class=\"data row1 col3\" >9.656838</td>\n",
              "                        <td id=\"T_a86d43a8_8f0a_11ea_9752_0242ac1c0002row1_col4\" class=\"data row1 col4\" >1.383183</td>\n",
              "            </tr>\n",
              "            <tr>\n",
              "                        <th id=\"T_a86d43a8_8f0a_11ea_9752_0242ac1c0002level0_row2\" class=\"row_heading level0 row2\" >2</th>\n",
              "                        <td id=\"T_a86d43a8_8f0a_11ea_9752_0242ac1c0002row2_col0\" class=\"data row2 col0\" >participants_count</td>\n",
              "                        <td id=\"T_a86d43a8_8f0a_11ea_9752_0242ac1c0002row2_col1\" class=\"data row2 col1\" >240.000000</td>\n",
              "                        <td id=\"T_a86d43a8_8f0a_11ea_9752_0242ac1c0002row2_col2\" class=\"data row2 col2\" >0.000000</td>\n",
              "                        <td id=\"T_a86d43a8_8f0a_11ea_9752_0242ac1c0002row2_col3\" class=\"data row2 col3\" >6.884239</td>\n",
              "                        <td id=\"T_a86d43a8_8f0a_11ea_9752_0242ac1c0002row2_col4\" class=\"data row2 col4\" >1.727518</td>\n",
              "            </tr>\n",
              "    </tbody></table>"
            ],
            "text/plain": [
              "<pandas.io.formats.style.Styler at 0x7f1ac1941b70>"
            ]
          },
          "metadata": {
            "tags": []
          },
          "execution_count": 175
        }
      ]
    },
    {
      "cell_type": "code",
      "metadata": {
        "colab_type": "code",
        "outputId": "537ed439-8775-4288-ceb3-1b72d61c738b",
        "id": "RQxRpbPjPush",
        "colab": {
          "base_uri": "https://localhost:8080/",
          "height": 584
        }
      },
      "source": [
        "# Data distribution plots by every feature by feature\n",
        "sns.pairplot(x[num])"
      ],
      "execution_count": 0,
      "outputs": [
        {
          "output_type": "execute_result",
          "data": {
            "text/plain": [
              "<seaborn.axisgrid.PairGrid at 0x7f1ac1c95240>"
            ]
          },
          "metadata": {
            "tags": []
          },
          "execution_count": 176
        },
        {
          "output_type": "display_data",
          "data": {
            "image/png": "[encoded data removed]",
            "text/plain": [
              "<Figure size 540x540 with 12 Axes>"
            ]
          },
          "metadata": {
            "tags": [],
            "needs_background": "light"
          }
        }
      ]
    },
    {
      "cell_type": "code",
      "metadata": {
        "colab_type": "code",
        "outputId": "ac8e9728-70a5-4da4-cb7f-d8a1c780fc52",
        "id": "yCqLEl6RPusj",
        "colab": {
          "base_uri": "https://localhost:8080/",
          "height": 542
        }
      },
      "source": [
        "# correlation plots for numerical features\n",
        "corr = x[num].corr()\n",
        "arr_corr = corr.values\n",
        "arr_corr = np.around(arr_corr, decimals=2)\n",
        "\n",
        "columns = corr.columns.values.tolist()\n",
        "\n",
        "fig = ff.create_annotated_heatmap(arr_corr, x=columns, y=columns, colorscale='Reds')\n",
        "\n",
        "fig.layout.title = 'Pearson Correlation <br> (What Determines Risk in Loans?)'\n",
        "fig.show()"
      ],
      "execution_count": 0,
      "outputs": [
        {
          "output_type": "display_data",
          "data": {
            "text/html": [
              "<html>\n",
              "<head><meta charset=\"utf-8\" /></head>\n",
              "<body>\n",
              "    <div>\n",
              "            <script src=\"https://cdnjs.cloudflare.com/ajax/libs/mathjax/2.7.5/MathJax.js?config=TeX-AMS-MML_SVG\"></script><script type=\"text/javascript\">if (window.MathJax) {MathJax.Hub.Config({SVG: {font: \"STIX-Web\"}});}</script>\n",
              "                <script type=\"text/javascript\">window.PlotlyConfig = {MathJaxConfig: 'local'};</script>\n",
              "        <script src=\"https://cdn.plot.ly/plotly-latest.min.js\"></script>    \n",
              "            <div id=\"6f8632b1-7661-4777-96fe-e353b73e9868\" class=\"plotly-graph-div\" style=\"height:525px; width:100%;\"></div>\n",
              "            <script type=\"text/javascript\">\n",
              "                \n",
              "                    window.PLOTLYENV=window.PLOTLYENV || {};\n",
              "                    \n",
              "                if (document.getElementById(\"6f8632b1-7661-4777-96fe-e353b73e9868\")) {\n",
              "                    Plotly.newPlot(\n",
              "                        '6f8632b1-7661-4777-96fe-e353b73e9868',\n",
              "                        [{\"colorscale\": [[0.0, \"rgb(255,245,240)\"], [0.125, \"rgb(254,224,210)\"], [0.25, \"rgb(252,187,161)\"], [0.375, \"rgb(252,146,114)\"], [0.5, \"rgb(251,106,74)\"], [0.625, \"rgb(239,59,44)\"], [0.75, \"rgb(203,24,29)\"], [0.875, \"rgb(165,15,21)\"], [1.0, \"rgb(103,0,13)\"]], \"reversescale\": false, \"showscale\": false, \"type\": \"heatmap\", \"x\": [\"domain_rank\", \"replies_count\", \"participants_count\"], \"y\": [\"domain_rank\", \"replies_count\", \"participants_count\"], \"z\": [[1.0, -0.17, -0.17], [-0.17, 1.0, 0.97], [-0.17, 0.97, 1.0]]}],\n",
              "                        {\"annotations\": [{\"font\": {\"color\": \"#FFFFFF\"}, \"showarrow\": false, \"text\": \"1.0\", \"x\": \"domain_rank\", \"xref\": \"x\", \"y\": \"domain_rank\", \"yref\": \"y\"}, {\"font\": {\"color\": \"#000000\"}, \"showarrow\": false, \"text\": \"-0.17\", \"x\": \"replies_count\", \"xref\": \"x\", \"y\": \"domain_rank\", \"yref\": \"y\"}, {\"font\": {\"color\": \"#000000\"}, \"showarrow\": false, \"text\": \"-0.17\", \"x\": \"participants_count\", \"xref\": \"x\", \"y\": \"domain_rank\", \"yref\": \"y\"}, {\"font\": {\"color\": \"#000000\"}, \"showarrow\": false, \"text\": \"-0.17\", \"x\": \"domain_rank\", \"xref\": \"x\", \"y\": \"replies_count\", \"yref\": \"y\"}, {\"font\": {\"color\": \"#FFFFFF\"}, \"showarrow\": false, \"text\": \"1.0\", \"x\": \"replies_count\", \"xref\": \"x\", \"y\": \"replies_count\", \"yref\": \"y\"}, {\"font\": {\"color\": \"#FFFFFF\"}, \"showarrow\": false, \"text\": \"0.97\", \"x\": \"participants_count\", \"xref\": \"x\", \"y\": \"replies_count\", \"yref\": \"y\"}, {\"font\": {\"color\": \"#000000\"}, \"showarrow\": false, \"text\": \"-0.17\", \"x\": \"domain_rank\", \"xref\": \"x\", \"y\": \"participants_count\", \"yref\": \"y\"}, {\"font\": {\"color\": \"#FFFFFF\"}, \"showarrow\": false, \"text\": \"0.97\", \"x\": \"replies_count\", \"xref\": \"x\", \"y\": \"participants_count\", \"yref\": \"y\"}, {\"font\": {\"color\": \"#FFFFFF\"}, \"showarrow\": false, \"text\": \"1.0\", \"x\": \"participants_count\", \"xref\": \"x\", \"y\": \"participants_count\", \"yref\": \"y\"}], \"template\": {\"data\": {\"bar\": [{\"error_x\": {\"color\": \"#2a3f5f\"}, \"error_y\": {\"color\": \"#2a3f5f\"}, \"marker\": {\"line\": {\"color\": \"#E5ECF6\", \"width\": 0.5}}, \"type\": \"bar\"}], \"barpolar\": [{\"marker\": {\"line\": {\"color\": \"#E5ECF6\", \"width\": 0.5}}, \"type\": \"barpolar\"}], \"carpet\": [{\"aaxis\": {\"endlinecolor\": \"#2a3f5f\", \"gridcolor\": \"white\", \"linecolor\": \"white\", \"minorgridcolor\": \"white\", \"startlinecolor\": \"#2a3f5f\"}, \"baxis\": {\"endlinecolor\": \"#2a3f5f\", \"gridcolor\": \"white\", \"linecolor\": \"white\", \"minorgridcolor\": \"white\", \"startlinecolor\": \"#2a3f5f\"}, \"type\": \"carpet\"}], \"choropleth\": [{\"colorbar\": {\"outlinewidth\": 0, \"ticks\": \"\"}, \"type\": \"choropleth\"}], \"contour\": [{\"colorbar\": {\"outlinewidth\": 0, \"ticks\": \"\"}, \"colorscale\": [[0.0, \"#0d0887\"], [0.1111111111111111, \"#46039f\"], [0.2222222222222222, \"#7201a8\"], [0.3333333333333333, \"#9c179e\"], [0.4444444444444444, \"#bd3786\"], [0.5555555555555556, \"#d8576b\"], [0.6666666666666666, \"#ed7953\"], [0.7777777777777778, \"#fb9f3a\"], [0.8888888888888888, \"#fdca26\"], [1.0, \"#f0f921\"]], \"type\": \"contour\"}], \"contourcarpet\": [{\"colorbar\": {\"outlinewidth\": 0, \"ticks\": \"\"}, \"type\": \"contourcarpet\"}], \"heatmap\": [{\"colorbar\": {\"outlinewidth\": 0, \"ticks\": \"\"}, \"colorscale\": [[0.0, \"#0d0887\"], [0.1111111111111111, \"#46039f\"], [0.2222222222222222, \"#7201a8\"], [0.3333333333333333, \"#9c179e\"], [0.4444444444444444, \"#bd3786\"], [0.5555555555555556, \"#d8576b\"], [0.6666666666666666, \"#ed7953\"], [0.7777777777777778, \"#fb9f3a\"], [0.8888888888888888, \"#fdca26\"], [1.0, \"#f0f921\"]], \"type\": \"heatmap\"}], \"heatmapgl\": [{\"colorbar\": {\"outlinewidth\": 0, \"ticks\": \"\"}, \"colorscale\": [[0.0, \"#0d0887\"], [0.1111111111111111, \"#46039f\"], [0.2222222222222222, \"#7201a8\"], [0.3333333333333333, \"#9c179e\"], [0.4444444444444444, \"#bd3786\"], [0.5555555555555556, \"#d8576b\"], [0.6666666666666666, \"#ed7953\"], [0.7777777777777778, \"#fb9f3a\"], [0.8888888888888888, \"#fdca26\"], [1.0, \"#f0f921\"]], \"type\": \"heatmapgl\"}], \"histogram\": [{\"marker\": {\"colorbar\": {\"outlinewidth\": 0, \"ticks\": \"\"}}, \"type\": \"histogram\"}], \"histogram2d\": [{\"colorbar\": {\"outlinewidth\": 0, \"ticks\": \"\"}, \"colorscale\": [[0.0, \"#0d0887\"], [0.1111111111111111, \"#46039f\"], [0.2222222222222222, \"#7201a8\"], [0.3333333333333333, \"#9c179e\"], [0.4444444444444444, \"#bd3786\"], [0.5555555555555556, \"#d8576b\"], [0.6666666666666666, \"#ed7953\"], [0.7777777777777778, \"#fb9f3a\"], [0.8888888888888888, \"#fdca26\"], [1.0, \"#f0f921\"]], \"type\": \"histogram2d\"}], \"histogram2dcontour\": [{\"colorbar\": {\"outlinewidth\": 0, \"ticks\": \"\"}, \"colorscale\": [[0.0, \"#0d0887\"], [0.1111111111111111, \"#46039f\"], [0.2222222222222222, \"#7201a8\"], [0.3333333333333333, \"#9c179e\"], [0.4444444444444444, \"#bd3786\"], [0.5555555555555556, \"#d8576b\"], [0.6666666666666666, \"#ed7953\"], [0.7777777777777778, \"#fb9f3a\"], [0.8888888888888888, \"#fdca26\"], [1.0, \"#f0f921\"]], \"type\": \"histogram2dcontour\"}], \"mesh3d\": [{\"colorbar\": {\"outlinewidth\": 0, \"ticks\": \"\"}, \"type\": \"mesh3d\"}], \"parcoords\": [{\"line\": {\"colorbar\": {\"outlinewidth\": 0, \"ticks\": \"\"}}, \"type\": \"parcoords\"}], \"pie\": [{\"automargin\": true, \"type\": \"pie\"}], \"scatter\": [{\"marker\": {\"colorbar\": {\"outlinewidth\": 0, \"ticks\": \"\"}}, \"type\": \"scatter\"}], \"scatter3d\": [{\"line\": {\"colorbar\": {\"outlinewidth\": 0, \"ticks\": \"\"}}, \"marker\": {\"colorbar\": {\"outlinewidth\": 0, \"ticks\": \"\"}}, \"type\": \"scatter3d\"}], \"scattercarpet\": [{\"marker\": {\"colorbar\": {\"outlinewidth\": 0, \"ticks\": \"\"}}, \"type\": \"scattercarpet\"}], \"scattergeo\": [{\"marker\": {\"colorbar\": {\"outlinewidth\": 0, \"ticks\": \"\"}}, \"type\": \"scattergeo\"}], \"scattergl\": [{\"marker\": {\"colorbar\": {\"outlinewidth\": 0, \"ticks\": \"\"}}, \"type\": \"scattergl\"}], \"scattermapbox\": [{\"marker\": {\"colorbar\": {\"outlinewidth\": 0, \"ticks\": \"\"}}, \"type\": \"scattermapbox\"}], \"scatterpolar\": [{\"marker\": {\"colorbar\": {\"outlinewidth\": 0, \"ticks\": \"\"}}, \"type\": \"scatterpolar\"}], \"scatterpolargl\": [{\"marker\": {\"colorbar\": {\"outlinewidth\": 0, \"ticks\": \"\"}}, \"type\": \"scatterpolargl\"}], \"scatterternary\": [{\"marker\": {\"colorbar\": {\"outlinewidth\": 0, \"ticks\": \"\"}}, \"type\": \"scatterternary\"}], \"surface\": [{\"colorbar\": {\"outlinewidth\": 0, \"ticks\": \"\"}, \"colorscale\": [[0.0, \"#0d0887\"], [0.1111111111111111, \"#46039f\"], [0.2222222222222222, \"#7201a8\"], [0.3333333333333333, \"#9c179e\"], [0.4444444444444444, \"#bd3786\"], [0.5555555555555556, \"#d8576b\"], [0.6666666666666666, \"#ed7953\"], [0.7777777777777778, \"#fb9f3a\"], [0.8888888888888888, \"#fdca26\"], [1.0, \"#f0f921\"]], \"type\": \"surface\"}], \"table\": [{\"cells\": {\"fill\": {\"color\": \"#EBF0F8\"}, \"line\": {\"color\": \"white\"}}, \"header\": {\"fill\": {\"color\": \"#C8D4E3\"}, \"line\": {\"color\": \"white\"}}, \"type\": \"table\"}]}, \"layout\": {\"annotationdefaults\": {\"arrowcolor\": \"#2a3f5f\", \"arrowhead\": 0, \"arrowwidth\": 1}, \"coloraxis\": {\"colorbar\": {\"outlinewidth\": 0, \"ticks\": \"\"}}, \"colorscale\": {\"diverging\": [[0, \"#8e0152\"], [0.1, \"#c51b7d\"], [0.2, \"#de77ae\"], [0.3, \"#f1b6da\"], [0.4, \"#fde0ef\"], [0.5, \"#f7f7f7\"], [0.6, \"#e6f5d0\"], [0.7, \"#b8e186\"], [0.8, \"#7fbc41\"], [0.9, \"#4d9221\"], [1, \"#276419\"]], \"sequential\": [[0.0, \"#0d0887\"], [0.1111111111111111, \"#46039f\"], [0.2222222222222222, \"#7201a8\"], [0.3333333333333333, \"#9c179e\"], [0.4444444444444444, \"#bd3786\"], [0.5555555555555556, \"#d8576b\"], [0.6666666666666666, \"#ed7953\"], [0.7777777777777778, \"#fb9f3a\"], [0.8888888888888888, \"#fdca26\"], [1.0, \"#f0f921\"]], \"sequentialminus\": [[0.0, \"#0d0887\"], [0.1111111111111111, \"#46039f\"], [0.2222222222222222, \"#7201a8\"], [0.3333333333333333, \"#9c179e\"], [0.4444444444444444, \"#bd3786\"], [0.5555555555555556, \"#d8576b\"], [0.6666666666666666, \"#ed7953\"], [0.7777777777777778, \"#fb9f3a\"], [0.8888888888888888, \"#fdca26\"], [1.0, \"#f0f921\"]]}, \"colorway\": [\"#636efa\", \"#EF553B\", \"#00cc96\", \"#ab63fa\", \"#FFA15A\", \"#19d3f3\", \"#FF6692\", \"#B6E880\", \"#FF97FF\", \"#FECB52\"], \"font\": {\"color\": \"#2a3f5f\"}, \"geo\": {\"bgcolor\": \"white\", \"lakecolor\": \"white\", \"landcolor\": \"#E5ECF6\", \"showlakes\": true, \"showland\": true, \"subunitcolor\": \"white\"}, \"hoverlabel\": {\"align\": \"left\"}, \"hovermode\": \"closest\", \"mapbox\": {\"style\": \"light\"}, \"paper_bgcolor\": \"white\", \"plot_bgcolor\": \"#E5ECF6\", \"polar\": {\"angularaxis\": {\"gridcolor\": \"white\", \"linecolor\": \"white\", \"ticks\": \"\"}, \"bgcolor\": \"#E5ECF6\", \"radialaxis\": {\"gridcolor\": \"white\", \"linecolor\": \"white\", \"ticks\": \"\"}}, \"scene\": {\"xaxis\": {\"backgroundcolor\": \"#E5ECF6\", \"gridcolor\": \"white\", \"gridwidth\": 2, \"linecolor\": \"white\", \"showbackground\": true, \"ticks\": \"\", \"zerolinecolor\": \"white\"}, \"yaxis\": {\"backgroundcolor\": \"#E5ECF6\", \"gridcolor\": \"white\", \"gridwidth\": 2, \"linecolor\": \"white\", \"showbackground\": true, \"ticks\": \"\", \"zerolinecolor\": \"white\"}, \"zaxis\": {\"backgroundcolor\": \"#E5ECF6\", \"gridcolor\": \"white\", \"gridwidth\": 2, \"linecolor\": \"white\", \"showbackground\": true, \"ticks\": \"\", \"zerolinecolor\": \"white\"}}, \"shapedefaults\": {\"line\": {\"color\": \"#2a3f5f\"}}, \"ternary\": {\"aaxis\": {\"gridcolor\": \"white\", \"linecolor\": \"white\", \"ticks\": \"\"}, \"baxis\": {\"gridcolor\": \"white\", \"linecolor\": \"white\", \"ticks\": \"\"}, \"bgcolor\": \"#E5ECF6\", \"caxis\": {\"gridcolor\": \"white\", \"linecolor\": \"white\", \"ticks\": \"\"}}, \"title\": {\"x\": 0.05}, \"xaxis\": {\"automargin\": true, \"gridcolor\": \"white\", \"linecolor\": \"white\", \"ticks\": \"\", \"title\": {\"standoff\": 15}, \"zerolinecolor\": \"white\", \"zerolinewidth\": 2}, \"yaxis\": {\"automargin\": true, \"gridcolor\": \"white\", \"linecolor\": \"white\", \"ticks\": \"\", \"title\": {\"standoff\": 15}, \"zerolinecolor\": \"white\", \"zerolinewidth\": 2}}}, \"title\": {\"text\": \"Pearson Correlation <br> (What Determines Risk in Loans?)\"}, \"xaxis\": {\"dtick\": 1, \"gridcolor\": \"rgb(0, 0, 0)\", \"side\": \"top\", \"ticks\": \"\"}, \"yaxis\": {\"dtick\": 1, \"ticks\": \"\", \"ticksuffix\": \"  \"}},\n",
              "                        {\"responsive\": true}\n",
              "                    ).then(function(){\n",
              "                            \n",
              "var gd = document.getElementById('6f8632b1-7661-4777-96fe-e353b73e9868');\n",
              "var x = new MutationObserver(function (mutations, observer) {{\n",
              "        var display = window.getComputedStyle(gd).display;\n",
              "        if (!display || display === 'none') {{\n",
              "            console.log([gd, 'removed!']);\n",
              "            Plotly.purge(gd);\n",
              "            observer.disconnect();\n",
              "        }}\n",
              "}});\n",
              "\n",
              "// Listen for the removal of the full notebook cells\n",
              "var notebookContainer = gd.closest('#notebook-container');\n",
              "if (notebookContainer) {{\n",
              "    x.observe(notebookContainer, {childList: true});\n",
              "}}\n",
              "\n",
              "// Listen for the clearing of the current output cell\n",
              "var outputEl = gd.closest('.output');\n",
              "if (outputEl) {{\n",
              "    x.observe(outputEl, {childList: true});\n",
              "}}\n",
              "\n",
              "                        })\n",
              "                };\n",
              "                \n",
              "            </script>\n",
              "        </div>\n",
              "</body>\n",
              "</html>"
            ]
          },
          "metadata": {
            "tags": []
          }
        }
      ]
    },
    {
      "cell_type": "code",
      "metadata": {
        "id": "ZVqC1wSXybin",
        "colab_type": "code",
        "colab": {}
      },
      "source": [
        "y= pd.factorize(y)[0]"
      ],
      "execution_count": 0,
      "outputs": []
    },
    {
      "cell_type": "code",
      "metadata": {
        "id": "IyYyeQl9ybtC",
        "colab_type": "code",
        "colab": {}
      },
      "source": [
        "x_train ,x_test,y_train,y_test = train_test_split(x,y,test_size=0.3)"
      ],
      "execution_count": 0,
      "outputs": []
    },
    {
      "cell_type": "markdown",
      "metadata": {
        "id": "P6LFkCBfzU6y",
        "colab_type": "text"
      },
      "source": [
        "## SVM"
      ]
    },
    {
      "cell_type": "code",
      "metadata": {
        "id": "JlXlcVNjybyi",
        "colab_type": "code",
        "colab": {}
      },
      "source": [
        "from sklearn import svm\n",
        "def sha_linearsvmclf(X_train, y_train, X_test, y_test): \n",
        "    print(\"LinearSVC\")\n",
        "    lin_svc = svm.LinearSVC()\n",
        "    lin_svc.fit(X_train, y_train)\n",
        "\n",
        "    y_pred = lin_svc.predict(X_test)\n",
        "    \n",
        "    f1score = f1_score(y_test, y_pred.round(), zero_division=1,average='weighted')\n",
        "    accuracy = accuracy_score(y_test,y_pred.round())\n",
        "    #sai_svm=round(accuracy_score(y_test, y_hat.round())*100,2)\n",
        "\n",
        "    return ({'f1score':f1score,'ACCURACY':accuracy})"
      ],
      "execution_count": 0,
      "outputs": []
    },
    {
      "cell_type": "markdown",
      "metadata": {
        "id": "aEXV7BwQzk3L",
        "colab_type": "text"
      },
      "source": [
        "## NAIVE BAYES"
      ]
    },
    {
      "cell_type": "code",
      "metadata": {
        "id": "rc0lO43qyb36",
        "colab_type": "code",
        "colab": {}
      },
      "source": [
        "# NAIVE BAYES CLASSIFIER\n",
        "def sha_naive_bayes(X_train, y_train, X_test, y_test):  \n",
        "    print(\"GaussianNB\")\n",
        "    naive = GaussianNB().fit(X_train, y_train)\n",
        "\n",
        "    y_pred = naive.predict(X_test)\n",
        "\n",
        "    f1score = f1_score(y_test, y_pred.round(), zero_division=1,average='weighted')\n",
        "    accuracy = accuracy_score(y_test,y_pred.round())\n",
        "    #sai_nb=round(accuracy_score(y_test, y_hat.round())*100,2)\n",
        "\n",
        "    return ({'f1score':f1score,'ACCURACY':accuracy})"
      ],
      "execution_count": 0,
      "outputs": []
    },
    {
      "cell_type": "markdown",
      "metadata": {
        "id": "c0-ZFCPvzv_9",
        "colab_type": "text"
      },
      "source": [
        "## RANDOM FOREST"
      ]
    },
    {
      "cell_type": "code",
      "metadata": {
        "id": "8MGqDt2eycBi",
        "colab_type": "code",
        "colab": {}
      },
      "source": [
        "# RANDOM FOREST CLASSIFIER\n",
        "from sklearn.ensemble import RandomForestRegressor\n",
        "\n",
        "rf = RandomForestRegressor()\n",
        "def sha_randomforest(X_train, y_train,X_test, y_test):\n",
        "    print(\"RandomForestClassifier\")\n",
        "    randomforest = RandomForestRegressor().fit(X_train, y_train)\n",
        "\n",
        "    y_pred = randomforest.predict(X_test)\n",
        "\n",
        "    f1score = f1_score(y_test, y_pred.round(), zero_division=1,average='weighted')\n",
        "    accuracy = accuracy_score(y_test,y_pred.round())\n",
        "    #sai_rf=round(accuracy_score(y_test, y_hat.round())*100,2)\n",
        "\n",
        "    return ({'f1score':f1score,'ACCURACY':accuracy})"
      ],
      "execution_count": 0,
      "outputs": []
    },
    {
      "cell_type": "code",
      "metadata": {
        "id": "EhDZ4bsNycJF",
        "colab_type": "code",
        "colab": {}
      },
      "source": [
        "# XG BOOST CLASSIFIER\n",
        "from xgboost import XGBClassifier\n",
        "def sha_xgboost(X_train, y_train,X_test, y_test):\n",
        "\n",
        "  print(\"XG Boost algorithm\")\n",
        "  xg = XGBClassifier(random_state=2)\n",
        "  xg=xg.fit(x_train,y_train)\n",
        "\n",
        "  y_pred = xg.predict(x_test)\n",
        "\n",
        "  f1score = f1_score(y_test, y_pred.round(), zero_division=1,average='weighted')\n",
        "  accuracy = accuracy_score(y_test,y_pred.round())\n",
        "  #sai_xgb=round(accuracy_score(y_test, y_hat.round())*100,2)\n",
        "\n",
        "  return ({'f1score':f1score,'ACCURACY':accuracy})"
      ],
      "execution_count": 0,
      "outputs": []
    },
    {
      "cell_type": "code",
      "metadata": {
        "id": "Cg0nvNPfycQl",
        "colab_type": "code",
        "colab": {}
      },
      "source": [
        "from sklearn.neighbors import KNeighborsClassifier\n",
        "def sha_knn(X_train, y_train, X_test, y_test):  \n",
        "    print(\"KNeighborsClassifier\")\n",
        "    knn = KNeighborsClassifier(n_neighbors=3).fit(X_train, y_train)\n",
        "\n",
        "    y_pred = knn.predict(X_test)\n",
        "\n",
        "    f1score = f1_score(y_test, y_pred.round(), zero_division=1,average='weighted')\n",
        "    accuracy = accuracy_score(y_test,y_pred.round())\n",
        "    #sai_knn=round(accuracy_score(y_test, y_hat.round())*100,2)\n",
        "\n",
        "    return ({'f1score':f1score,'ACCURACY':accuracy})"
      ],
      "execution_count": 0,
      "outputs": []
    },
    {
      "cell_type": "code",
      "metadata": {
        "id": "BFjTmN83ycN_",
        "colab_type": "code",
        "outputId": "0a390c60-098f-44a6-b2ae-4df3f4786931",
        "colab": {
          "base_uri": "https://localhost:8080/",
          "height": 123
        }
      },
      "source": [
        "sha_linearsvmclf(x_train,y_train,x_test,y_test)"
      ],
      "execution_count": 0,
      "outputs": [
        {
          "output_type": "stream",
          "text": [
            "LinearSVC\n"
          ],
          "name": "stdout"
        },
        {
          "output_type": "stream",
          "text": [
            "/usr/local/lib/python3.6/dist-packages/sklearn/svm/_base.py:947: ConvergenceWarning:\n",
            "\n",
            "Liblinear failed to converge, increase the number of iterations.\n",
            "\n"
          ],
          "name": "stderr"
        },
        {
          "output_type": "execute_result",
          "data": {
            "text/plain": [
              "{'ACCURACY': 0.06102564102564102, 'f1score': 0.09825780488457271}"
            ]
          },
          "metadata": {
            "tags": []
          },
          "execution_count": 185
        }
      ]
    },
    {
      "cell_type": "code",
      "metadata": {
        "id": "G6OwqiFjycMB",
        "colab_type": "code",
        "outputId": "fdb7fcd5-6dcb-4b10-9164-6f926d510ed5",
        "colab": {
          "base_uri": "https://localhost:8080/",
          "height": 52
        }
      },
      "source": [
        "sha_naive_bayes(x_train,y_train,x_test,y_test)"
      ],
      "execution_count": 0,
      "outputs": [
        {
          "output_type": "stream",
          "text": [
            "GaussianNB\n"
          ],
          "name": "stdout"
        },
        {
          "output_type": "execute_result",
          "data": {
            "text/plain": [
              "{'ACCURACY': 0.3235897435897436, 'f1score': 0.43262692020905086}"
            ]
          },
          "metadata": {
            "tags": []
          },
          "execution_count": 186
        }
      ]
    },
    {
      "cell_type": "code",
      "metadata": {
        "id": "KC5anQT3ycHH",
        "colab_type": "code",
        "outputId": "c122b8dc-6156-431a-df0f-c056760a76cf",
        "colab": {
          "base_uri": "https://localhost:8080/",
          "height": 52
        }
      },
      "source": [
        "sha_randomforest(x_train,y_train,x_test,y_test)"
      ],
      "execution_count": 0,
      "outputs": [
        {
          "output_type": "stream",
          "text": [
            "RandomForestClassifier\n"
          ],
          "name": "stdout"
        },
        {
          "output_type": "execute_result",
          "data": {
            "text/plain": [
              "{'ACCURACY': 0.9841025641025641, 'f1score': 0.9825226377213563}"
            ]
          },
          "metadata": {
            "tags": []
          },
          "execution_count": 187
        }
      ]
    },
    {
      "cell_type": "code",
      "metadata": {
        "id": "cC439Q6kycEs",
        "colab_type": "code",
        "outputId": "e3fa1637-f5bc-49af-ffe3-ba9ee3f199f9",
        "colab": {
          "base_uri": "https://localhost:8080/",
          "height": 52
        }
      },
      "source": [
        "sha_xgboost(x_train,y_train,x_test,y_test)"
      ],
      "execution_count": 0,
      "outputs": [
        {
          "output_type": "stream",
          "text": [
            "XG Boost algorithm\n"
          ],
          "name": "stdout"
        },
        {
          "output_type": "execute_result",
          "data": {
            "text/plain": [
              "{'ACCURACY': 0.9841025641025641, 'f1score': 0.9820722807829768}"
            ]
          },
          "metadata": {
            "tags": []
          },
          "execution_count": 188
        }
      ]
    },
    {
      "cell_type": "code",
      "metadata": {
        "id": "lipLFTwxycAN",
        "colab_type": "code",
        "outputId": "916babb0-adea-4d77-ebbb-8b31f9fdd2fe",
        "colab": {
          "base_uri": "https://localhost:8080/",
          "height": 52
        }
      },
      "source": [
        "sha_knn(x_train,y_train,x_test,y_test)"
      ],
      "execution_count": 0,
      "outputs": [
        {
          "output_type": "stream",
          "text": [
            "KNeighborsClassifier\n"
          ],
          "name": "stdout"
        },
        {
          "output_type": "execute_result",
          "data": {
            "text/plain": [
              "{'ACCURACY': 0.9841025641025641, 'f1score': 0.9821269564922487}"
            ]
          },
          "metadata": {
            "tags": []
          },
          "execution_count": 189
        }
      ]
    },
    {
      "cell_type": "markdown",
      "metadata": {
        "id": "p-AgvvxlrzH0",
        "colab_type": "text"
      },
      "source": [
        "## --------------------------------------------------------------------------------------------------------------------------------------------------------------"
      ]
    },
    {
      "cell_type": "markdown",
      "metadata": {
        "colab_type": "text",
        "id": "7rhOgWuF2olU"
      },
      "source": [
        "# NAIVE REALISM ------ SRILALITHA"
      ]
    },
    {
      "cell_type": "code",
      "metadata": {
        "colab_type": "code",
        "outputId": "39f490e9-0d88-44e2-ceb4-f86582a037ce",
        "id": "ar7BgVfc2olV",
        "colab": {
          "base_uri": "https://localhost:8080/",
          "height": 361
        }
      },
      "source": [
        "fake_newss.head(2)"
      ],
      "execution_count": 0,
      "outputs": [
        {
          "output_type": "execute_result",
          "data": {
            "text/html": [
              "<div>\n",
              "<style scoped>\n",
              "    .dataframe tbody tr th:only-of-type {\n",
              "        vertical-align: middle;\n",
              "    }\n",
              "\n",
              "    .dataframe tbody tr th {\n",
              "        vertical-align: top;\n",
              "    }\n",
              "\n",
              "    .dataframe thead th {\n",
              "        text-align: right;\n",
              "    }\n",
              "</style>\n",
              "<table border=\"1\" class=\"dataframe\">\n",
              "  <thead>\n",
              "    <tr style=\"text-align: right;\">\n",
              "      <th></th>\n",
              "      <th>uuid</th>\n",
              "      <th>ord_in_thread</th>\n",
              "      <th>author</th>\n",
              "      <th>published</th>\n",
              "      <th>title</th>\n",
              "      <th>text</th>\n",
              "      <th>language</th>\n",
              "      <th>crawled</th>\n",
              "      <th>site_url</th>\n",
              "      <th>country</th>\n",
              "      <th>domain_rank</th>\n",
              "      <th>thread_title</th>\n",
              "      <th>spam_score</th>\n",
              "      <th>main_img_url</th>\n",
              "      <th>replies_count</th>\n",
              "      <th>participants_count</th>\n",
              "      <th>likes</th>\n",
              "      <th>comments</th>\n",
              "      <th>shares</th>\n",
              "      <th>type</th>\n",
              "      <th>text_lower</th>\n",
              "      <th>thread_lower</th>\n",
              "      <th>num_words</th>\n",
              "      <th>similarity</th>\n",
              "      <th>country_number</th>\n",
              "      <th>language_number</th>\n",
              "      <th>index</th>\n",
              "      <th>topic_number</th>\n",
              "      <th>lda_score</th>\n",
              "      <th>topic_top_words</th>\n",
              "    </tr>\n",
              "  </thead>\n",
              "  <tbody>\n",
              "    <tr>\n",
              "      <th>0</th>\n",
              "      <td>6a175f46bcd24d39b3e962ad0f29936721db70db</td>\n",
              "      <td>0</td>\n",
              "      <td>Barracuda Brigade</td>\n",
              "      <td>2016-10-26T21:41:00.000+03:00</td>\n",
              "      <td>Muslims BUSTED: They Stole Millions In Gov’t B...</td>\n",
              "      <td>Print They should pay all the back all the mon...</td>\n",
              "      <td>english</td>\n",
              "      <td>2016-10-27T01:49:27.168+03:00</td>\n",
              "      <td>100percentfedup.com</td>\n",
              "      <td>US</td>\n",
              "      <td>25689.0</td>\n",
              "      <td>Muslims BUSTED: They Stole Millions In Gov’t B...</td>\n",
              "      <td>0.0</td>\n",
              "      <td>http://bb4sp.com/wp-content/uploads/2016/10/Fu...</td>\n",
              "      <td>0</td>\n",
              "      <td>1</td>\n",
              "      <td>0</td>\n",
              "      <td>0</td>\n",
              "      <td>0</td>\n",
              "      <td>bias</td>\n",
              "      <td>print pay back money plu interest entir famili...</td>\n",
              "      <td>muslim bust stole million govt benefit</td>\n",
              "      <td>46</td>\n",
              "      <td>0</td>\n",
              "      <td>0</td>\n",
              "      <td>0</td>\n",
              "      <td>0</td>\n",
              "      <td>7</td>\n",
              "      <td>0.484623</td>\n",
              "      <td>state govern obama would peopl year world pres...</td>\n",
              "    </tr>\n",
              "    <tr>\n",
              "      <th>1</th>\n",
              "      <td>2bdc29d12605ef9cf3f09f9875040a7113be5d5b</td>\n",
              "      <td>0</td>\n",
              "      <td>reasoning with facts</td>\n",
              "      <td>2016-10-29T08:47:11.259+03:00</td>\n",
              "      <td>Re: Why Did Attorney General Loretta Lynch Ple...</td>\n",
              "      <td>Why Did Attorney General Loretta Lynch Plead T...</td>\n",
              "      <td>english</td>\n",
              "      <td>2016-10-29T08:47:11.259+03:00</td>\n",
              "      <td>100percentfedup.com</td>\n",
              "      <td>US</td>\n",
              "      <td>25689.0</td>\n",
              "      <td>Re: Why Did Attorney General Loretta Lynch Ple...</td>\n",
              "      <td>0.0</td>\n",
              "      <td>http://bb4sp.com/wp-content/uploads/2016/10/Fu...</td>\n",
              "      <td>0</td>\n",
              "      <td>1</td>\n",
              "      <td>0</td>\n",
              "      <td>0</td>\n",
              "      <td>0</td>\n",
              "      <td>bias</td>\n",
              "      <td>attorney gener loretta lynch plead fifth barra...</td>\n",
              "      <td>attorney gener loretta lynch plead fifth</td>\n",
              "      <td>164</td>\n",
              "      <td>0</td>\n",
              "      <td>0</td>\n",
              "      <td>0</td>\n",
              "      <td>1</td>\n",
              "      <td>0</td>\n",
              "      <td>0.971145</td>\n",
              "      <td>clinton email investig state report hillari sa...</td>\n",
              "    </tr>\n",
              "  </tbody>\n",
              "</table>\n",
              "</div>"
            ],
            "text/plain": [
              "                                       uuid  ...                                    topic_top_words\n",
              "0  6a175f46bcd24d39b3e962ad0f29936721db70db  ...  state govern obama would peopl year world pres...\n",
              "1  2bdc29d12605ef9cf3f09f9875040a7113be5d5b  ...  clinton email investig state report hillari sa...\n",
              "\n",
              "[2 rows x 30 columns]"
            ]
          },
          "metadata": {
            "tags": []
          },
          "execution_count": 190
        }
      ]
    },
    {
      "cell_type": "code",
      "metadata": {
        "colab_type": "code",
        "id": "JOtsBLn82olb",
        "colab": {}
      },
      "source": [
        "x = fake_newss[['lda_score','spam_score','domain_rank']]\n",
        "y=fake_news['type']"
      ],
      "execution_count": 0,
      "outputs": []
    },
    {
      "cell_type": "code",
      "metadata": {
        "colab_type": "code",
        "id": "A4Ulf-2f2ole",
        "colab": {}
      },
      "source": [
        "y= pd.factorize(y)[0]"
      ],
      "execution_count": 0,
      "outputs": []
    },
    {
      "cell_type": "code",
      "metadata": {
        "colab_type": "code",
        "outputId": "722980cc-8943-4b20-bc66-439d5a567f97",
        "id": "poNjR5GGQIVx",
        "colab": {
          "base_uri": "https://localhost:8080/",
          "height": 281
        }
      },
      "source": [
        "# Boxplots for continuous attributes\n",
        "fig, axes = plt.subplots(nrows=1, ncols=3)\n",
        "axes[0].boxplot(x['lda_score'])\n",
        "axes[0].set_title('lda_score')\n",
        "axes[1].boxplot(x['spam_score'])\n",
        "axes[1].set_title('spam_score')\n",
        "axes[2].boxplot(x['domain_rank'])\n",
        "axes[2].set_title('domain_rank')\n",
        "\n",
        "\n",
        "fig.savefig(\"boxplots.png\")"
      ],
      "execution_count": 0,
      "outputs": [
        {
          "output_type": "display_data",
          "data": {
            "image/png": "[encoded data removed]",
            "text/plain": [
              "<Figure size 432x288 with 3 Axes>"
            ]
          },
          "metadata": {
            "tags": [],
            "needs_background": "light"
          }
        }
      ]
    },
    {
      "cell_type": "code",
      "metadata": {
        "colab_type": "code",
        "id": "xCVUnK1sQIV0",
        "colab": {}
      },
      "source": [
        "num=['lda_score','spam_score','domain_rank']"
      ],
      "execution_count": 0,
      "outputs": []
    },
    {
      "cell_type": "code",
      "metadata": {
        "colab_type": "code",
        "outputId": "2b0dd2b9-343c-4d51-daf1-2afaa1370d38",
        "id": "EkY69o0wQIV3",
        "colab": {
          "base_uri": "https://localhost:8080/",
          "height": 88
        }
      },
      "source": [
        "maxs=[]\n",
        "mins=[]\n",
        "stds=[]\n",
        "means=[]\n",
        "for x1 in range(len(num)):\n",
        "  maxs.append(x[num[x1]].max())\n",
        "  mins.append(x[num[x1]].min())\n",
        "  stds.append(x[num[x1]].std())\n",
        "  means.append(x[num[x1]].mean())\n",
        "cm = sns.light_palette(\"orange\", as_cmap=True)\n",
        "describe=pd.DataFrame({'columns':num,'max':maxs,'min':mins,'std':stds,'mean':means})\n",
        "describe.style.background_gradient(cmap=cm)"
      ],
      "execution_count": 0,
      "outputs": [
        {
          "output_type": "execute_result",
          "data": {
            "text/html": [
              "<style  type=\"text/css\" >\n",
              "    #T_daddf760_8f0a_11ea_9752_0242ac1c0002row0_col1 {\n",
              "            background-color:  #fff6e5;\n",
              "            color:  #000000;\n",
              "        }    #T_daddf760_8f0a_11ea_9752_0242ac1c0002row0_col2 {\n",
              "            background-color:  #fff6e5;\n",
              "            color:  #000000;\n",
              "        }    #T_daddf760_8f0a_11ea_9752_0242ac1c0002row0_col3 {\n",
              "            background-color:  #fff6e5;\n",
              "            color:  #000000;\n",
              "        }    #T_daddf760_8f0a_11ea_9752_0242ac1c0002row0_col4 {\n",
              "            background-color:  #fff6e5;\n",
              "            color:  #000000;\n",
              "        }    #T_daddf760_8f0a_11ea_9752_0242ac1c0002row1_col1 {\n",
              "            background-color:  #fff6e5;\n",
              "            color:  #000000;\n",
              "        }    #T_daddf760_8f0a_11ea_9752_0242ac1c0002row1_col2 {\n",
              "            background-color:  #fff6e5;\n",
              "            color:  #000000;\n",
              "        }    #T_daddf760_8f0a_11ea_9752_0242ac1c0002row1_col3 {\n",
              "            background-color:  #fff6e5;\n",
              "            color:  #000000;\n",
              "        }    #T_daddf760_8f0a_11ea_9752_0242ac1c0002row1_col4 {\n",
              "            background-color:  #fff6e5;\n",
              "            color:  #000000;\n",
              "        }    #T_daddf760_8f0a_11ea_9752_0242ac1c0002row2_col1 {\n",
              "            background-color:  #ffa500;\n",
              "            color:  #000000;\n",
              "        }    #T_daddf760_8f0a_11ea_9752_0242ac1c0002row2_col2 {\n",
              "            background-color:  #ffa500;\n",
              "            color:  #000000;\n",
              "        }    #T_daddf760_8f0a_11ea_9752_0242ac1c0002row2_col3 {\n",
              "            background-color:  #ffa500;\n",
              "            color:  #000000;\n",
              "        }    #T_daddf760_8f0a_11ea_9752_0242ac1c0002row2_col4 {\n",
              "            background-color:  #ffa500;\n",
              "            color:  #000000;\n",
              "        }</style><table id=\"T_daddf760_8f0a_11ea_9752_0242ac1c0002\" ><thead>    <tr>        <th class=\"blank level0\" ></th>        <th class=\"col_heading level0 col0\" >columns</th>        <th class=\"col_heading level0 col1\" >max</th>        <th class=\"col_heading level0 col2\" >min</th>        <th class=\"col_heading level0 col3\" >std</th>        <th class=\"col_heading level0 col4\" >mean</th>    </tr></thead><tbody>\n",
              "                <tr>\n",
              "                        <th id=\"T_daddf760_8f0a_11ea_9752_0242ac1c0002level0_row0\" class=\"row_heading level0 row0\" >0</th>\n",
              "                        <td id=\"T_daddf760_8f0a_11ea_9752_0242ac1c0002row0_col0\" class=\"data row0 col0\" >lda_score</td>\n",
              "                        <td id=\"T_daddf760_8f0a_11ea_9752_0242ac1c0002row0_col1\" class=\"data row0 col1\" >0.999512</td>\n",
              "                        <td id=\"T_daddf760_8f0a_11ea_9752_0242ac1c0002row0_col2\" class=\"data row0 col2\" >0.100000</td>\n",
              "                        <td id=\"T_daddf760_8f0a_11ea_9752_0242ac1c0002row0_col3\" class=\"data row0 col3\" >0.220547</td>\n",
              "                        <td id=\"T_daddf760_8f0a_11ea_9752_0242ac1c0002row0_col4\" class=\"data row0 col4\" >0.709724</td>\n",
              "            </tr>\n",
              "            <tr>\n",
              "                        <th id=\"T_daddf760_8f0a_11ea_9752_0242ac1c0002level0_row1\" class=\"row_heading level0 row1\" >1</th>\n",
              "                        <td id=\"T_daddf760_8f0a_11ea_9752_0242ac1c0002row1_col0\" class=\"data row1 col0\" >spam_score</td>\n",
              "                        <td id=\"T_daddf760_8f0a_11ea_9752_0242ac1c0002row1_col1\" class=\"data row1 col1\" >1.000000</td>\n",
              "                        <td id=\"T_daddf760_8f0a_11ea_9752_0242ac1c0002row1_col2\" class=\"data row1 col2\" >0.000000</td>\n",
              "                        <td id=\"T_daddf760_8f0a_11ea_9752_0242ac1c0002row1_col3\" class=\"data row1 col3\" >0.122889</td>\n",
              "                        <td id=\"T_daddf760_8f0a_11ea_9752_0242ac1c0002row1_col4\" class=\"data row1 col4\" >0.026122</td>\n",
              "            </tr>\n",
              "            <tr>\n",
              "                        <th id=\"T_daddf760_8f0a_11ea_9752_0242ac1c0002level0_row2\" class=\"row_heading level0 row2\" >2</th>\n",
              "                        <td id=\"T_daddf760_8f0a_11ea_9752_0242ac1c0002row2_col0\" class=\"data row2 col0\" >domain_rank</td>\n",
              "                        <td id=\"T_daddf760_8f0a_11ea_9752_0242ac1c0002row2_col1\" class=\"data row2 col1\" >98679.000000</td>\n",
              "                        <td id=\"T_daddf760_8f0a_11ea_9752_0242ac1c0002row2_col2\" class=\"data row2 col2\" >486.000000</td>\n",
              "                        <td id=\"T_daddf760_8f0a_11ea_9752_0242ac1c0002row2_col3\" class=\"data row2 col3\" >22106.012346</td>\n",
              "                        <td id=\"T_daddf760_8f0a_11ea_9752_0242ac1c0002row2_col4\" class=\"data row2 col4\" >36918.588507</td>\n",
              "            </tr>\n",
              "    </tbody></table>"
            ],
            "text/plain": [
              "<pandas.io.formats.style.Styler at 0x7f1ac1bae6a0>"
            ]
          },
          "metadata": {
            "tags": []
          },
          "execution_count": 195
        }
      ]
    },
    {
      "cell_type": "code",
      "metadata": {
        "colab_type": "code",
        "outputId": "96709e83-8998-43d8-c1f8-16a059f66e43",
        "id": "0bazbui2QIV5",
        "colab": {
          "base_uri": "https://localhost:8080/",
          "height": 584
        }
      },
      "source": [
        "# Data distribution plots by every feature by feature\n",
        "sns.pairplot(x[num])"
      ],
      "execution_count": 0,
      "outputs": [
        {
          "output_type": "execute_result",
          "data": {
            "text/plain": [
              "<seaborn.axisgrid.PairGrid at 0x7f1ac81b4fd0>"
            ]
          },
          "metadata": {
            "tags": []
          },
          "execution_count": 196
        },
        {
          "output_type": "display_data",
          "data": {
            "image/png": "[encoded data removed]",
            "text/plain": [
              "<Figure size 540x540 with 12 Axes>"
            ]
          },
          "metadata": {
            "tags": [],
            "needs_background": "light"
          }
        }
      ]
    },
    {
      "cell_type": "code",
      "metadata": {
        "colab_type": "code",
        "outputId": "1179739e-6e71-478b-cfd4-ccec8985e9e9",
        "id": "99vMi2eZQIV8",
        "colab": {
          "base_uri": "https://localhost:8080/",
          "height": 542
        }
      },
      "source": [
        "# correlation plots for numerical features\n",
        "corr = x[num].corr()\n",
        "arr_corr = corr.values\n",
        "arr_corr = np.around(arr_corr, decimals=2)\n",
        "\n",
        "columns = corr.columns.values.tolist()\n",
        "\n",
        "fig = ff.create_annotated_heatmap(arr_corr, x=columns, y=columns, colorscale='Reds')\n",
        "\n",
        "fig.layout.title = 'Pearson Correlation <br> (What Determines Risk in Loans?)'\n",
        "fig.show()"
      ],
      "execution_count": 0,
      "outputs": [
        {
          "output_type": "display_data",
          "data": {
            "text/html": [
              "<html>\n",
              "<head><meta charset=\"utf-8\" /></head>\n",
              "<body>\n",
              "    <div>\n",
              "            <script src=\"https://cdnjs.cloudflare.com/ajax/libs/mathjax/2.7.5/MathJax.js?config=TeX-AMS-MML_SVG\"></script><script type=\"text/javascript\">if (window.MathJax) {MathJax.Hub.Config({SVG: {font: \"STIX-Web\"}});}</script>\n",
              "                <script type=\"text/javascript\">window.PlotlyConfig = {MathJaxConfig: 'local'};</script>\n",
              "        <script src=\"https://cdn.plot.ly/plotly-latest.min.js\"></script>    \n",
              "            <div id=\"c84f4990-84e6-428d-b2c1-430bafdf62c3\" class=\"plotly-graph-div\" style=\"height:525px; width:100%;\"></div>\n",
              "            <script type=\"text/javascript\">\n",
              "                \n",
              "                    window.PLOTLYENV=window.PLOTLYENV || {};\n",
              "                    \n",
              "                if (document.getElementById(\"c84f4990-84e6-428d-b2c1-430bafdf62c3\")) {\n",
              "                    Plotly.newPlot(\n",
              "                        'c84f4990-84e6-428d-b2c1-430bafdf62c3',\n",
              "                        [{\"colorscale\": [[0.0, \"rgb(255,245,240)\"], [0.125, \"rgb(254,224,210)\"], [0.25, \"rgb(252,187,161)\"], [0.375, \"rgb(252,146,114)\"], [0.5, \"rgb(251,106,74)\"], [0.625, \"rgb(239,59,44)\"], [0.75, \"rgb(203,24,29)\"], [0.875, \"rgb(165,15,21)\"], [1.0, \"rgb(103,0,13)\"]], \"reversescale\": false, \"showscale\": false, \"type\": \"heatmap\", \"x\": [\"lda_score\", \"spam_score\", \"domain_rank\"], \"y\": [\"lda_score\", \"spam_score\", \"domain_rank\"], \"z\": [[1.0, 0.0, -0.11], [0.0, 1.0, -0.02], [-0.11, -0.02, 1.0]]}],\n",
              "                        {\"annotations\": [{\"font\": {\"color\": \"#FFFFFF\"}, \"showarrow\": false, \"text\": \"1.0\", \"x\": \"lda_score\", \"xref\": \"x\", \"y\": \"lda_score\", \"yref\": \"y\"}, {\"font\": {\"color\": \"#000000\"}, \"showarrow\": false, \"text\": \"0.0\", \"x\": \"spam_score\", \"xref\": \"x\", \"y\": \"lda_score\", \"yref\": \"y\"}, {\"font\": {\"color\": \"#000000\"}, \"showarrow\": false, \"text\": \"-0.11\", \"x\": \"domain_rank\", \"xref\": \"x\", \"y\": \"lda_score\", \"yref\": \"y\"}, {\"font\": {\"color\": \"#000000\"}, \"showarrow\": false, \"text\": \"0.0\", \"x\": \"lda_score\", \"xref\": \"x\", \"y\": \"spam_score\", \"yref\": \"y\"}, {\"font\": {\"color\": \"#FFFFFF\"}, \"showarrow\": false, \"text\": \"1.0\", \"x\": \"spam_score\", \"xref\": \"x\", \"y\": \"spam_score\", \"yref\": \"y\"}, {\"font\": {\"color\": \"#000000\"}, \"showarrow\": false, \"text\": \"-0.02\", \"x\": \"domain_rank\", \"xref\": \"x\", \"y\": \"spam_score\", \"yref\": \"y\"}, {\"font\": {\"color\": \"#000000\"}, \"showarrow\": false, \"text\": \"-0.11\", \"x\": \"lda_score\", \"xref\": \"x\", \"y\": \"domain_rank\", \"yref\": \"y\"}, {\"font\": {\"color\": \"#000000\"}, \"showarrow\": false, \"text\": \"-0.02\", \"x\": \"spam_score\", \"xref\": \"x\", \"y\": \"domain_rank\", \"yref\": \"y\"}, {\"font\": {\"color\": \"#FFFFFF\"}, \"showarrow\": false, \"text\": \"1.0\", \"x\": \"domain_rank\", \"xref\": \"x\", \"y\": \"domain_rank\", \"yref\": \"y\"}], \"template\": {\"data\": {\"bar\": [{\"error_x\": {\"color\": \"#2a3f5f\"}, \"error_y\": {\"color\": \"#2a3f5f\"}, \"marker\": {\"line\": {\"color\": \"#E5ECF6\", \"width\": 0.5}}, \"type\": \"bar\"}], \"barpolar\": [{\"marker\": {\"line\": {\"color\": \"#E5ECF6\", \"width\": 0.5}}, \"type\": \"barpolar\"}], \"carpet\": [{\"aaxis\": {\"endlinecolor\": \"#2a3f5f\", \"gridcolor\": \"white\", \"linecolor\": \"white\", \"minorgridcolor\": \"white\", \"startlinecolor\": \"#2a3f5f\"}, \"baxis\": {\"endlinecolor\": \"#2a3f5f\", \"gridcolor\": \"white\", \"linecolor\": \"white\", \"minorgridcolor\": \"white\", \"startlinecolor\": \"#2a3f5f\"}, \"type\": \"carpet\"}], \"choropleth\": [{\"colorbar\": {\"outlinewidth\": 0, \"ticks\": \"\"}, \"type\": \"choropleth\"}], \"contour\": [{\"colorbar\": {\"outlinewidth\": 0, \"ticks\": \"\"}, \"colorscale\": [[0.0, \"#0d0887\"], [0.1111111111111111, \"#46039f\"], [0.2222222222222222, \"#7201a8\"], [0.3333333333333333, \"#9c179e\"], [0.4444444444444444, \"#bd3786\"], [0.5555555555555556, \"#d8576b\"], [0.6666666666666666, \"#ed7953\"], [0.7777777777777778, \"#fb9f3a\"], [0.8888888888888888, \"#fdca26\"], [1.0, \"#f0f921\"]], \"type\": \"contour\"}], \"contourcarpet\": [{\"colorbar\": {\"outlinewidth\": 0, \"ticks\": \"\"}, \"type\": \"contourcarpet\"}], \"heatmap\": [{\"colorbar\": {\"outlinewidth\": 0, \"ticks\": \"\"}, \"colorscale\": [[0.0, \"#0d0887\"], [0.1111111111111111, \"#46039f\"], [0.2222222222222222, \"#7201a8\"], [0.3333333333333333, \"#9c179e\"], [0.4444444444444444, \"#bd3786\"], [0.5555555555555556, \"#d8576b\"], [0.6666666666666666, \"#ed7953\"], [0.7777777777777778, \"#fb9f3a\"], [0.8888888888888888, \"#fdca26\"], [1.0, \"#f0f921\"]], \"type\": \"heatmap\"}], \"heatmapgl\": [{\"colorbar\": {\"outlinewidth\": 0, \"ticks\": \"\"}, \"colorscale\": [[0.0, \"#0d0887\"], [0.1111111111111111, \"#46039f\"], [0.2222222222222222, \"#7201a8\"], [0.3333333333333333, \"#9c179e\"], [0.4444444444444444, \"#bd3786\"], [0.5555555555555556, \"#d8576b\"], [0.6666666666666666, \"#ed7953\"], [0.7777777777777778, \"#fb9f3a\"], [0.8888888888888888, \"#fdca26\"], [1.0, \"#f0f921\"]], \"type\": \"heatmapgl\"}], \"histogram\": [{\"marker\": {\"colorbar\": {\"outlinewidth\": 0, \"ticks\": \"\"}}, \"type\": \"histogram\"}], \"histogram2d\": [{\"colorbar\": {\"outlinewidth\": 0, \"ticks\": \"\"}, \"colorscale\": [[0.0, \"#0d0887\"], [0.1111111111111111, \"#46039f\"], [0.2222222222222222, \"#7201a8\"], [0.3333333333333333, \"#9c179e\"], [0.4444444444444444, \"#bd3786\"], [0.5555555555555556, \"#d8576b\"], [0.6666666666666666, \"#ed7953\"], [0.7777777777777778, \"#fb9f3a\"], [0.8888888888888888, \"#fdca26\"], [1.0, \"#f0f921\"]], \"type\": \"histogram2d\"}], \"histogram2dcontour\": [{\"colorbar\": {\"outlinewidth\": 0, \"ticks\": \"\"}, \"colorscale\": [[0.0, \"#0d0887\"], [0.1111111111111111, \"#46039f\"], [0.2222222222222222, \"#7201a8\"], [0.3333333333333333, \"#9c179e\"], [0.4444444444444444, \"#bd3786\"], [0.5555555555555556, \"#d8576b\"], [0.6666666666666666, \"#ed7953\"], [0.7777777777777778, \"#fb9f3a\"], [0.8888888888888888, \"#fdca26\"], [1.0, \"#f0f921\"]], \"type\": \"histogram2dcontour\"}], \"mesh3d\": [{\"colorbar\": {\"outlinewidth\": 0, \"ticks\": \"\"}, \"type\": \"mesh3d\"}], \"parcoords\": [{\"line\": {\"colorbar\": {\"outlinewidth\": 0, \"ticks\": \"\"}}, \"type\": \"parcoords\"}], \"pie\": [{\"automargin\": true, \"type\": \"pie\"}], \"scatter\": [{\"marker\": {\"colorbar\": {\"outlinewidth\": 0, \"ticks\": \"\"}}, \"type\": \"scatter\"}], \"scatter3d\": [{\"line\": {\"colorbar\": {\"outlinewidth\": 0, \"ticks\": \"\"}}, \"marker\": {\"colorbar\": {\"outlinewidth\": 0, \"ticks\": \"\"}}, \"type\": \"scatter3d\"}], \"scattercarpet\": [{\"marker\": {\"colorbar\": {\"outlinewidth\": 0, \"ticks\": \"\"}}, \"type\": \"scattercarpet\"}], \"scattergeo\": [{\"marker\": {\"colorbar\": {\"outlinewidth\": 0, \"ticks\": \"\"}}, \"type\": \"scattergeo\"}], \"scattergl\": [{\"marker\": {\"colorbar\": {\"outlinewidth\": 0, \"ticks\": \"\"}}, \"type\": \"scattergl\"}], \"scattermapbox\": [{\"marker\": {\"colorbar\": {\"outlinewidth\": 0, \"ticks\": \"\"}}, \"type\": \"scattermapbox\"}], \"scatterpolar\": [{\"marker\": {\"colorbar\": {\"outlinewidth\": 0, \"ticks\": \"\"}}, \"type\": \"scatterpolar\"}], \"scatterpolargl\": [{\"marker\": {\"colorbar\": {\"outlinewidth\": 0, \"ticks\": \"\"}}, \"type\": \"scatterpolargl\"}], \"scatterternary\": [{\"marker\": {\"colorbar\": {\"outlinewidth\": 0, \"ticks\": \"\"}}, \"type\": \"scatterternary\"}], \"surface\": [{\"colorbar\": {\"outlinewidth\": 0, \"ticks\": \"\"}, \"colorscale\": [[0.0, \"#0d0887\"], [0.1111111111111111, \"#46039f\"], [0.2222222222222222, \"#7201a8\"], [0.3333333333333333, \"#9c179e\"], [0.4444444444444444, \"#bd3786\"], [0.5555555555555556, \"#d8576b\"], [0.6666666666666666, \"#ed7953\"], [0.7777777777777778, \"#fb9f3a\"], [0.8888888888888888, \"#fdca26\"], [1.0, \"#f0f921\"]], \"type\": \"surface\"}], \"table\": [{\"cells\": {\"fill\": {\"color\": \"#EBF0F8\"}, \"line\": {\"color\": \"white\"}}, \"header\": {\"fill\": {\"color\": \"#C8D4E3\"}, \"line\": {\"color\": \"white\"}}, \"type\": \"table\"}]}, \"layout\": {\"annotationdefaults\": {\"arrowcolor\": \"#2a3f5f\", \"arrowhead\": 0, \"arrowwidth\": 1}, \"coloraxis\": {\"colorbar\": {\"outlinewidth\": 0, \"ticks\": \"\"}}, \"colorscale\": {\"diverging\": [[0, \"#8e0152\"], [0.1, \"#c51b7d\"], [0.2, \"#de77ae\"], [0.3, \"#f1b6da\"], [0.4, \"#fde0ef\"], [0.5, \"#f7f7f7\"], [0.6, \"#e6f5d0\"], [0.7, \"#b8e186\"], [0.8, \"#7fbc41\"], [0.9, \"#4d9221\"], [1, \"#276419\"]], \"sequential\": [[0.0, \"#0d0887\"], [0.1111111111111111, \"#46039f\"], [0.2222222222222222, \"#7201a8\"], [0.3333333333333333, \"#9c179e\"], [0.4444444444444444, \"#bd3786\"], [0.5555555555555556, \"#d8576b\"], [0.6666666666666666, \"#ed7953\"], [0.7777777777777778, \"#fb9f3a\"], [0.8888888888888888, \"#fdca26\"], [1.0, \"#f0f921\"]], \"sequentialminus\": [[0.0, \"#0d0887\"], [0.1111111111111111, \"#46039f\"], [0.2222222222222222, \"#7201a8\"], [0.3333333333333333, \"#9c179e\"], [0.4444444444444444, \"#bd3786\"], [0.5555555555555556, \"#d8576b\"], [0.6666666666666666, \"#ed7953\"], [0.7777777777777778, \"#fb9f3a\"], [0.8888888888888888, \"#fdca26\"], [1.0, \"#f0f921\"]]}, \"colorway\": [\"#636efa\", \"#EF553B\", \"#00cc96\", \"#ab63fa\", \"#FFA15A\", \"#19d3f3\", \"#FF6692\", \"#B6E880\", \"#FF97FF\", \"#FECB52\"], \"font\": {\"color\": \"#2a3f5f\"}, \"geo\": {\"bgcolor\": \"white\", \"lakecolor\": \"white\", \"landcolor\": \"#E5ECF6\", \"showlakes\": true, \"showland\": true, \"subunitcolor\": \"white\"}, \"hoverlabel\": {\"align\": \"left\"}, \"hovermode\": \"closest\", \"mapbox\": {\"style\": \"light\"}, \"paper_bgcolor\": \"white\", \"plot_bgcolor\": \"#E5ECF6\", \"polar\": {\"angularaxis\": {\"gridcolor\": \"white\", \"linecolor\": \"white\", \"ticks\": \"\"}, \"bgcolor\": \"#E5ECF6\", \"radialaxis\": {\"gridcolor\": \"white\", \"linecolor\": \"white\", \"ticks\": \"\"}}, \"scene\": {\"xaxis\": {\"backgroundcolor\": \"#E5ECF6\", \"gridcolor\": \"white\", \"gridwidth\": 2, \"linecolor\": \"white\", \"showbackground\": true, \"ticks\": \"\", \"zerolinecolor\": \"white\"}, \"yaxis\": {\"backgroundcolor\": \"#E5ECF6\", \"gridcolor\": \"white\", \"gridwidth\": 2, \"linecolor\": \"white\", \"showbackground\": true, \"ticks\": \"\", \"zerolinecolor\": \"white\"}, \"zaxis\": {\"backgroundcolor\": \"#E5ECF6\", \"gridcolor\": \"white\", \"gridwidth\": 2, \"linecolor\": \"white\", \"showbackground\": true, \"ticks\": \"\", \"zerolinecolor\": \"white\"}}, \"shapedefaults\": {\"line\": {\"color\": \"#2a3f5f\"}}, \"ternary\": {\"aaxis\": {\"gridcolor\": \"white\", \"linecolor\": \"white\", \"ticks\": \"\"}, \"baxis\": {\"gridcolor\": \"white\", \"linecolor\": \"white\", \"ticks\": \"\"}, \"bgcolor\": \"#E5ECF6\", \"caxis\": {\"gridcolor\": \"white\", \"linecolor\": \"white\", \"ticks\": \"\"}}, \"title\": {\"x\": 0.05}, \"xaxis\": {\"automargin\": true, \"gridcolor\": \"white\", \"linecolor\": \"white\", \"ticks\": \"\", \"title\": {\"standoff\": 15}, \"zerolinecolor\": \"white\", \"zerolinewidth\": 2}, \"yaxis\": {\"automargin\": true, \"gridcolor\": \"white\", \"linecolor\": \"white\", \"ticks\": \"\", \"title\": {\"standoff\": 15}, \"zerolinecolor\": \"white\", \"zerolinewidth\": 2}}}, \"title\": {\"text\": \"Pearson Correlation <br> (What Determines Risk in Loans?)\"}, \"xaxis\": {\"dtick\": 1, \"gridcolor\": \"rgb(0, 0, 0)\", \"side\": \"top\", \"ticks\": \"\"}, \"yaxis\": {\"dtick\": 1, \"ticks\": \"\", \"ticksuffix\": \"  \"}},\n",
              "                        {\"responsive\": true}\n",
              "                    ).then(function(){\n",
              "                            \n",
              "var gd = document.getElementById('c84f4990-84e6-428d-b2c1-430bafdf62c3');\n",
              "var x = new MutationObserver(function (mutations, observer) {{\n",
              "        var display = window.getComputedStyle(gd).display;\n",
              "        if (!display || display === 'none') {{\n",
              "            console.log([gd, 'removed!']);\n",
              "            Plotly.purge(gd);\n",
              "            observer.disconnect();\n",
              "        }}\n",
              "}});\n",
              "\n",
              "// Listen for the removal of the full notebook cells\n",
              "var notebookContainer = gd.closest('#notebook-container');\n",
              "if (notebookContainer) {{\n",
              "    x.observe(notebookContainer, {childList: true});\n",
              "}}\n",
              "\n",
              "// Listen for the clearing of the current output cell\n",
              "var outputEl = gd.closest('.output');\n",
              "if (outputEl) {{\n",
              "    x.observe(outputEl, {childList: true});\n",
              "}}\n",
              "\n",
              "                        })\n",
              "                };\n",
              "                \n",
              "            </script>\n",
              "        </div>\n",
              "</body>\n",
              "</html>"
            ]
          },
          "metadata": {
            "tags": []
          }
        }
      ]
    },
    {
      "cell_type": "code",
      "metadata": {
        "colab_type": "code",
        "id": "cX0G-ldA2olg",
        "colab": {}
      },
      "source": [
        "x_train ,x_test,y_train,y_test = train_test_split(x,y,test_size=0.3)"
      ],
      "execution_count": 0,
      "outputs": []
    },
    {
      "cell_type": "markdown",
      "metadata": {
        "colab_type": "text",
        "id": "72tYsBQs2olj"
      },
      "source": [
        "## SVM"
      ]
    },
    {
      "cell_type": "code",
      "metadata": {
        "colab_type": "code",
        "id": "mo1HZPWJ2olj",
        "colab": {}
      },
      "source": [
        "from sklearn import svm\n",
        "def sri_linearsvmclf(X_train, y_train, X_test, y_test): \n",
        "    print(\"LinearSVC\")\n",
        "    lin_svc = svm.LinearSVC()\n",
        "    lin_svc.fit(X_train, y_train)\n",
        "\n",
        "    y_pred = lin_svc.predict(X_test)\n",
        "    \n",
        "    f1score = f1_score(y_test, y_pred.round(), zero_division=1,average='weighted')\n",
        "    accuracy = accuracy_score(y_test,y_pred.round())\n",
        "\n",
        "    #sri_svm=round(accuracy_score(y_test, y_hat.round())*100,2)\n",
        "\n",
        "    return ({'f1score':f1score,'ACCURACY':accuracy})"
      ],
      "execution_count": 0,
      "outputs": []
    },
    {
      "cell_type": "markdown",
      "metadata": {
        "colab_type": "text",
        "id": "txeDU3h_2oll"
      },
      "source": [
        "## NAIVE BAYES"
      ]
    },
    {
      "cell_type": "code",
      "metadata": {
        "colab_type": "code",
        "id": "0hnMDvJ62olm",
        "colab": {}
      },
      "source": [
        "# NAIVE BAYES CLASSIFIER\n",
        "def sri_naive_bayes(X_train, y_train, X_test, y_test):  \n",
        "    print(\"GaussianNB\")\n",
        "    naive = GaussianNB().fit(X_train, y_train)\n",
        "\n",
        "    y_pred = naive.predict(X_test)\n",
        "\n",
        "    f1score = f1_score(y_test, y_pred.round(), zero_division=1,average='weighted')\n",
        "    accuracy = accuracy_score(y_test,y_pred.round())\n",
        "\n",
        "    #sri_nb=round(accuracy_score(y_test, y_hat.round())*100,2)\n",
        "\n",
        "    return ({'f1score':f1score,'ACCURACY':accuracy})"
      ],
      "execution_count": 0,
      "outputs": []
    },
    {
      "cell_type": "markdown",
      "metadata": {
        "colab_type": "text",
        "id": "AF8q5NO-2olo"
      },
      "source": [
        "## RANDOM FOREST"
      ]
    },
    {
      "cell_type": "code",
      "metadata": {
        "colab_type": "code",
        "id": "SRcDIaST2olo",
        "colab": {}
      },
      "source": [
        "# RANDOM FOREST CLASSIFIER\n",
        "from sklearn.ensemble import RandomForestRegressor\n",
        "\n",
        "rf = RandomForestRegressor()\n",
        "def sri_randomforest(X_train, y_train,X_test, y_test):\n",
        "    print(\"RandomForestClassifier\")\n",
        "    randomforest = RandomForestRegressor().fit(X_train, y_train)\n",
        "\n",
        "    y_pred = randomforest.predict(X_test)\n",
        "\n",
        "    f1score = f1_score(y_test, y_pred.round(), zero_division=1,average='weighted')\n",
        "    accuracy = accuracy_score(y_test,y_pred.round())\n",
        "\n",
        "    #sri_rf=round(accuracy_score(y_test, y_hat.round())*100,2)\n",
        "\n",
        "    return ({'f1score':f1score,'ACCURACY':accuracy})"
      ],
      "execution_count": 0,
      "outputs": []
    },
    {
      "cell_type": "code",
      "metadata": {
        "colab_type": "code",
        "id": "gKOHt2Z52olq",
        "colab": {}
      },
      "source": [
        "# XG BOOST CLASSIFIER\n",
        "from xgboost import XGBClassifier\n",
        "def sri_xgboost(X_train, y_train,X_test, y_test):\n",
        "\n",
        "  print(\"XG Boost algorithm\")\n",
        "  xg = XGBClassifier(random_state=2)\n",
        "  xg=xg.fit(x_train,y_train)\n",
        "\n",
        "  y_pred = xg.predict(x_test)\n",
        "\n",
        "  f1score = f1_score(y_test, y_pred.round(), zero_division=1,average='weighted')\n",
        "  accuracy = accuracy_score(y_test,y_pred.round())\n",
        "\n",
        "  #sri_xgb=round(accuracy_score(y_test, y_hat.round())*100,2)\n",
        "\n",
        "  return ({'f1score':f1score,'ACCURACY':accuracy})"
      ],
      "execution_count": 0,
      "outputs": []
    },
    {
      "cell_type": "code",
      "metadata": {
        "colab_type": "code",
        "id": "KTOLI7CB2ols",
        "colab": {}
      },
      "source": [
        "from sklearn.neighbors import KNeighborsClassifier\n",
        "def sri_knn(X_train, y_train, X_test, y_test):  \n",
        "    print(\"KNeighborsClassifier\")\n",
        "    knn = KNeighborsClassifier(n_neighbors=3).fit(X_train, y_train)\n",
        "\n",
        "    y_pred = knn.predict(X_test)\n",
        "\n",
        "    f1score = f1_score(y_test, y_pred.round(), zero_division=1,average='weighted')\n",
        "    accuracy = accuracy_score(y_test,y_pred.round())\n",
        "    #sri_knn=round(accuracy_score(y_test, y_hat.round())*100,2)\n",
        "\n",
        "    return ({'f1score':f1score,'ACCURACY':accuracy})"
      ],
      "execution_count": 0,
      "outputs": []
    },
    {
      "cell_type": "code",
      "metadata": {
        "colab_type": "code",
        "outputId": "6db033d5-560e-4acb-d05e-82b252b0f800",
        "id": "GKIqlZUC2olu",
        "colab": {
          "base_uri": "https://localhost:8080/",
          "height": 123
        }
      },
      "source": [
        "sri_linearsvmclf(x_train,y_train,x_test,y_test)"
      ],
      "execution_count": 0,
      "outputs": [
        {
          "output_type": "stream",
          "text": [
            "LinearSVC\n"
          ],
          "name": "stdout"
        },
        {
          "output_type": "stream",
          "text": [
            "/usr/local/lib/python3.6/dist-packages/sklearn/svm/_base.py:947: ConvergenceWarning:\n",
            "\n",
            "Liblinear failed to converge, increase the number of iterations.\n",
            "\n"
          ],
          "name": "stderr"
        },
        {
          "output_type": "execute_result",
          "data": {
            "text/plain": [
              "{'ACCURACY': 0.8861538461538462, 'f1score': 0.8326665830091604}"
            ]
          },
          "metadata": {
            "tags": []
          },
          "execution_count": 209
        }
      ]
    },
    {
      "cell_type": "code",
      "metadata": {
        "colab_type": "code",
        "outputId": "495444b7-a9ee-451d-9caa-f03fcf532b59",
        "id": "uYrXOjxg2olw",
        "colab": {
          "base_uri": "https://localhost:8080/",
          "height": 52
        }
      },
      "source": [
        "sri_naive_bayes(x_train,y_train,x_test,y_test)"
      ],
      "execution_count": 0,
      "outputs": [
        {
          "output_type": "stream",
          "text": [
            "GaussianNB\n"
          ],
          "name": "stdout"
        },
        {
          "output_type": "execute_result",
          "data": {
            "text/plain": [
              "{'ACCURACY': 0.8861538461538462, 'f1score': 0.8326665830091604}"
            ]
          },
          "metadata": {
            "tags": []
          },
          "execution_count": 210
        }
      ]
    },
    {
      "cell_type": "code",
      "metadata": {
        "colab_type": "code",
        "outputId": "7b077fdb-b596-415a-e890-c41870f7cd40",
        "id": "eC2PGpo92oly",
        "colab": {
          "base_uri": "https://localhost:8080/",
          "height": 52
        }
      },
      "source": [
        "sri_randomforest(x_train,y_train,x_test,y_test)"
      ],
      "execution_count": 0,
      "outputs": [
        {
          "output_type": "stream",
          "text": [
            "RandomForestClassifier\n"
          ],
          "name": "stdout"
        },
        {
          "output_type": "execute_result",
          "data": {
            "text/plain": [
              "{'ACCURACY': 0.967948717948718, 'f1score': 0.972125094143569}"
            ]
          },
          "metadata": {
            "tags": []
          },
          "execution_count": 211
        }
      ]
    },
    {
      "cell_type": "code",
      "metadata": {
        "colab_type": "code",
        "outputId": "1bbc0eba-88db-4673-a2f3-db138d1d3604",
        "id": "0NiO6syo2ol0",
        "colab": {
          "base_uri": "https://localhost:8080/",
          "height": 52
        }
      },
      "source": [
        "sri_xgboost(x_train,y_train,x_test,y_test)"
      ],
      "execution_count": 0,
      "outputs": [
        {
          "output_type": "stream",
          "text": [
            "XG Boost algorithm\n"
          ],
          "name": "stdout"
        },
        {
          "output_type": "execute_result",
          "data": {
            "text/plain": [
              "{'ACCURACY': 0.9828205128205129, 'f1score': 0.9805863685992539}"
            ]
          },
          "metadata": {
            "tags": []
          },
          "execution_count": 212
        }
      ]
    },
    {
      "cell_type": "code",
      "metadata": {
        "colab_type": "code",
        "outputId": "10406359-ddd0-4109-cdb3-e68d26158b80",
        "id": "oFqM0f3u2ol2",
        "colab": {
          "base_uri": "https://localhost:8080/",
          "height": 52
        }
      },
      "source": [
        "sri_knn(x_train,y_train,x_test,y_test)"
      ],
      "execution_count": 0,
      "outputs": [
        {
          "output_type": "stream",
          "text": [
            "KNeighborsClassifier\n"
          ],
          "name": "stdout"
        },
        {
          "output_type": "execute_result",
          "data": {
            "text/plain": [
              "{'ACCURACY': 0.98, 'f1score': 0.9781237184118603}"
            ]
          },
          "metadata": {
            "tags": []
          },
          "execution_count": 213
        }
      ]
    },
    {
      "cell_type": "code",
      "metadata": {
        "id": "92tEoekvyb89",
        "colab_type": "code",
        "colab": {}
      },
      "source": [
        ""
      ],
      "execution_count": 0,
      "outputs": []
    },
    {
      "cell_type": "markdown",
      "metadata": {
        "id": "B6ieX03v3pqG",
        "colab_type": "text"
      },
      "source": [
        "## --------------------------------------------------------------------------------------------------------------------------------------------------------------"
      ]
    },
    {
      "cell_type": "markdown",
      "metadata": {
        "colab_type": "text",
        "id": "PPlWELIQ3wmf"
      },
      "source": [
        "# BIAS ------ ATUL SHAH"
      ]
    },
    {
      "cell_type": "code",
      "metadata": {
        "colab_type": "code",
        "outputId": "1d692ae4-08c8-4478-de31-1757aa3bc105",
        "id": "GiIJbal63wmh",
        "colab": {
          "base_uri": "https://localhost:8080/",
          "height": 361
        }
      },
      "source": [
        "fake_newss.head(2)"
      ],
      "execution_count": 0,
      "outputs": [
        {
          "output_type": "execute_result",
          "data": {
            "text/html": [
              "<div>\n",
              "<style scoped>\n",
              "    .dataframe tbody tr th:only-of-type {\n",
              "        vertical-align: middle;\n",
              "    }\n",
              "\n",
              "    .dataframe tbody tr th {\n",
              "        vertical-align: top;\n",
              "    }\n",
              "\n",
              "    .dataframe thead th {\n",
              "        text-align: right;\n",
              "    }\n",
              "</style>\n",
              "<table border=\"1\" class=\"dataframe\">\n",
              "  <thead>\n",
              "    <tr style=\"text-align: right;\">\n",
              "      <th></th>\n",
              "      <th>uuid</th>\n",
              "      <th>ord_in_thread</th>\n",
              "      <th>author</th>\n",
              "      <th>published</th>\n",
              "      <th>title</th>\n",
              "      <th>text</th>\n",
              "      <th>language</th>\n",
              "      <th>crawled</th>\n",
              "      <th>site_url</th>\n",
              "      <th>country</th>\n",
              "      <th>domain_rank</th>\n",
              "      <th>thread_title</th>\n",
              "      <th>spam_score</th>\n",
              "      <th>main_img_url</th>\n",
              "      <th>replies_count</th>\n",
              "      <th>participants_count</th>\n",
              "      <th>likes</th>\n",
              "      <th>comments</th>\n",
              "      <th>shares</th>\n",
              "      <th>type</th>\n",
              "      <th>text_lower</th>\n",
              "      <th>thread_lower</th>\n",
              "      <th>num_words</th>\n",
              "      <th>similarity</th>\n",
              "      <th>country_number</th>\n",
              "      <th>language_number</th>\n",
              "      <th>index</th>\n",
              "      <th>topic_number</th>\n",
              "      <th>lda_score</th>\n",
              "      <th>topic_top_words</th>\n",
              "    </tr>\n",
              "  </thead>\n",
              "  <tbody>\n",
              "    <tr>\n",
              "      <th>0</th>\n",
              "      <td>6a175f46bcd24d39b3e962ad0f29936721db70db</td>\n",
              "      <td>0</td>\n",
              "      <td>Barracuda Brigade</td>\n",
              "      <td>2016-10-26T21:41:00.000+03:00</td>\n",
              "      <td>Muslims BUSTED: They Stole Millions In Gov’t B...</td>\n",
              "      <td>Print They should pay all the back all the mon...</td>\n",
              "      <td>english</td>\n",
              "      <td>2016-10-27T01:49:27.168+03:00</td>\n",
              "      <td>100percentfedup.com</td>\n",
              "      <td>US</td>\n",
              "      <td>25689.0</td>\n",
              "      <td>Muslims BUSTED: They Stole Millions In Gov’t B...</td>\n",
              "      <td>0.0</td>\n",
              "      <td>http://bb4sp.com/wp-content/uploads/2016/10/Fu...</td>\n",
              "      <td>0</td>\n",
              "      <td>1</td>\n",
              "      <td>0</td>\n",
              "      <td>0</td>\n",
              "      <td>0</td>\n",
              "      <td>bias</td>\n",
              "      <td>print pay back money plu interest entir famili...</td>\n",
              "      <td>muslim bust stole million govt benefit</td>\n",
              "      <td>46</td>\n",
              "      <td>0</td>\n",
              "      <td>0</td>\n",
              "      <td>0</td>\n",
              "      <td>0</td>\n",
              "      <td>7</td>\n",
              "      <td>0.484623</td>\n",
              "      <td>state govern obama would peopl year world pres...</td>\n",
              "    </tr>\n",
              "    <tr>\n",
              "      <th>1</th>\n",
              "      <td>2bdc29d12605ef9cf3f09f9875040a7113be5d5b</td>\n",
              "      <td>0</td>\n",
              "      <td>reasoning with facts</td>\n",
              "      <td>2016-10-29T08:47:11.259+03:00</td>\n",
              "      <td>Re: Why Did Attorney General Loretta Lynch Ple...</td>\n",
              "      <td>Why Did Attorney General Loretta Lynch Plead T...</td>\n",
              "      <td>english</td>\n",
              "      <td>2016-10-29T08:47:11.259+03:00</td>\n",
              "      <td>100percentfedup.com</td>\n",
              "      <td>US</td>\n",
              "      <td>25689.0</td>\n",
              "      <td>Re: Why Did Attorney General Loretta Lynch Ple...</td>\n",
              "      <td>0.0</td>\n",
              "      <td>http://bb4sp.com/wp-content/uploads/2016/10/Fu...</td>\n",
              "      <td>0</td>\n",
              "      <td>1</td>\n",
              "      <td>0</td>\n",
              "      <td>0</td>\n",
              "      <td>0</td>\n",
              "      <td>bias</td>\n",
              "      <td>attorney gener loretta lynch plead fifth barra...</td>\n",
              "      <td>attorney gener loretta lynch plead fifth</td>\n",
              "      <td>164</td>\n",
              "      <td>0</td>\n",
              "      <td>0</td>\n",
              "      <td>0</td>\n",
              "      <td>1</td>\n",
              "      <td>0</td>\n",
              "      <td>0.971145</td>\n",
              "      <td>clinton email investig state report hillari sa...</td>\n",
              "    </tr>\n",
              "  </tbody>\n",
              "</table>\n",
              "</div>"
            ],
            "text/plain": [
              "                                       uuid  ...                                    topic_top_words\n",
              "0  6a175f46bcd24d39b3e962ad0f29936721db70db  ...  state govern obama would peopl year world pres...\n",
              "1  2bdc29d12605ef9cf3f09f9875040a7113be5d5b  ...  clinton email investig state report hillari sa...\n",
              "\n",
              "[2 rows x 30 columns]"
            ]
          },
          "metadata": {
            "tags": []
          },
          "execution_count": 241
        }
      ]
    },
    {
      "cell_type": "code",
      "metadata": {
        "id": "h69rECwgecRJ",
        "colab_type": "code",
        "outputId": "e062f48a-39d3-42cd-b8c2-daf301aec02f",
        "colab": {
          "base_uri": "https://localhost:8080/",
          "height": 282
        }
      },
      "source": [
        "fake_newss.groupby(['type']).size().plot(kind='barh')"
      ],
      "execution_count": 0,
      "outputs": [
        {
          "output_type": "execute_result",
          "data": {
            "text/plain": [
              "<matplotlib.axes._subplots.AxesSubplot at 0x7f1ac0a04ef0>"
            ]
          },
          "metadata": {
            "tags": []
          },
          "execution_count": 242
        },
        {
          "output_type": "display_data",
          "data": {
            "image/png": "[encoded data removed]",
            "text/plain": [
              "<Figure size 432x288 with 1 Axes>"
            ]
          },
          "metadata": {
            "tags": [],
            "needs_background": "light"
          }
        }
      ]
    },
    {
      "cell_type": "code",
      "metadata": {
        "id": "YZLLr3D6euGq",
        "colab_type": "code",
        "outputId": "56b3bcc9-b291-4cf5-b26d-4baa74cbd731",
        "colab": {
          "base_uri": "https://localhost:8080/",
          "height": 52
        }
      },
      "source": [
        "from nltk.corpus import stopwords\n",
        "import string\n",
        "import nltk\n",
        "nltk.download('punkt')\n",
        "\n",
        "fake_news = fake_newss[fake_newss[\"type\"] == \"fake\"]\n",
        "\n",
        "# Join the title and text\n",
        "all_text = fake_news.title.str.cat(fake_news.text, sep=' ')\n",
        "\n",
        "# Tokenize. The NLTK tokenizer isn't awesome. Spacy has a nice one, but I don't think it is installed\n",
        "words = nltk.word_tokenize(\" \".join(all_text.tolist()))\n",
        "\n",
        "# clearly more cleaning is needed here, but really I should get a better tokenizer\n",
        "stop = stopwords.words('english') \n",
        "cleanwords = [i for i in words if i not in stop and i.isalpha() and len(i) > 2]"
      ],
      "execution_count": 0,
      "outputs": [
        {
          "output_type": "stream",
          "text": [
            "[nltk_data] Downloading package punkt to /root/nltk_data...\n",
            "[nltk_data]   Unzipping tokenizers/punkt.zip.\n"
          ],
          "name": "stdout"
        }
      ]
    },
    {
      "cell_type": "code",
      "metadata": {
        "id": "9gTrVAQWeieS",
        "colab_type": "code",
        "outputId": "08dfdee7-effb-42c4-c49f-fed290b7fe21",
        "colab": {
          "base_uri": "https://localhost:8080/",
          "height": 247
        }
      },
      "source": [
        "from wordcloud import WordCloud, STOPWORDS\n",
        "\n",
        "wordcloud2 = WordCloud(\n",
        "                          stopwords=STOPWORDS,\n",
        "                          background_color='white',\n",
        "                          width=1200,\n",
        "                          height=1000\n",
        "                         ).generate(\" \".join(cleanwords))\n",
        "\n",
        "\n",
        "plt.imshow(wordcloud2)\n",
        "plt.axis('off')\n",
        "plt.show()"
      ],
      "execution_count": 0,
      "outputs": [
        {
          "output_type": "display_data",
          "data": {
            "image/png": "[encoded data removed]",
            "text/plain": [
              "<Figure size 432x288 with 1 Axes>"
            ]
          },
          "metadata": {
            "tags": [],
            "needs_background": "light"
          }
        }
      ]
    },
    {
      "cell_type": "code",
      "metadata": {
        "id": "fGMK2g6IfuS1",
        "colab_type": "code",
        "colab": {}
      },
      "source": [
        "bigrams = nltk.bigrams(cleanwords)"
      ],
      "execution_count": 0,
      "outputs": []
    },
    {
      "cell_type": "code",
      "metadata": {
        "id": "MzCAKzDVfxQH",
        "colab_type": "code",
        "outputId": "6a1750b6-c6b5-4a50-bb24-2a40848735bd",
        "colab": {
          "base_uri": "https://localhost:8080/",
          "height": 54
        }
      },
      "source": [
        "# look at the most common. \n",
        "\n",
        "from collections import Counter\n",
        "counter = Counter(bigrams)\n",
        "print(counter.most_common(10))"
      ],
      "execution_count": 0,
      "outputs": [
        {
          "output_type": "stream",
          "text": [
            "[(('The', 'Adobo'), 20), (('Adobo', 'Chronicles'), 20), (('Donald', 'Trump'), 16), (('White', 'House'), 15), (('Hillary', 'Clinton'), 13), (('electoral', 'college'), 10), (('United', 'States'), 9), (('The', 'Resistance'), 8), (('Rate', 'Comment'), 7), (('adobochron', 'Comment'), 6)]\n"
          ],
          "name": "stdout"
        }
      ]
    },
    {
      "cell_type": "code",
      "metadata": {
        "id": "HoE8WwdYf1U5",
        "colab_type": "code",
        "outputId": "2715b9f1-34c2-4b94-ad35-30e485a48420",
        "colab": {
          "base_uri": "https://localhost:8080/",
          "height": 264
        }
      },
      "source": [
        "num_to_show = 30\n",
        "\n",
        "labels = [\" \".join(e[0]) for e in counter.most_common(num_to_show)]\n",
        "values = [e[1] for e in counter.most_common(num_to_show)]\n",
        "\n",
        "indexes = np.arange(len(labels))\n",
        "width = 1\n",
        "\n",
        "#plt.bar(indexes, values, width)\n",
        "#plt.xticks(indexes + width * 0.5, labels, rotation=90)\n",
        "\n",
        "plt.barh(indexes, values, width)\n",
        "plt.yticks(indexes + width, labels)\n",
        "plt.show()"
      ],
      "execution_count": 0,
      "outputs": [
        {
          "output_type": "display_data",
          "data": {
            "image/png": "[encoded data removed]",
            "text/plain": [
              "<Figure size 432x288 with 1 Axes>"
            ]
          },
          "metadata": {
            "tags": [],
            "needs_background": "light"
          }
        }
      ]
    },
    {
      "cell_type": "code",
      "metadata": {
        "colab_type": "code",
        "id": "uwiwFT8n3wml",
        "colab": {}
      },
      "source": [
        "x = fake_newss['text_lower']\n",
        "y=fake_news['type']"
      ],
      "execution_count": 0,
      "outputs": []
    },
    {
      "cell_type": "code",
      "metadata": {
        "colab_type": "code",
        "id": "-S6flLtP3wmn",
        "colab": {}
      },
      "source": [
        "y= pd.factorize(y)[0]"
      ],
      "execution_count": 0,
      "outputs": []
    },
    {
      "cell_type": "code",
      "metadata": {
        "id": "uoQdQcjQxyJa",
        "colab_type": "code",
        "colab": {}
      },
      "source": [
        "x_train ,x_test,y_train,y_test = train_test_split(x,y,test_size=0.3)"
      ],
      "execution_count": 0,
      "outputs": []
    },
    {
      "cell_type": "markdown",
      "metadata": {
        "id": "iHLyElq50rMB",
        "colab_type": "text"
      },
      "source": [
        "### SVM"
      ]
    },
    {
      "cell_type": "code",
      "metadata": {
        "id": "R6XpG_iivtMs",
        "colab_type": "code",
        "colab": {}
      },
      "source": [
        "def atul_svm(x_train,y_train,x_test,y_test):\n",
        "\n",
        "  pipe = Pipeline([('vect', CountVectorizer()),\n",
        "                 ('tfidf', TfidfTransformer()),\n",
        "                 ('model', LinearSVC())])\n",
        "  model = pipe.fit(x_train, y_train)\n",
        "  prediction = model.predict(x_test)\n",
        "  print(\"accuracy: {}%\".format(round(accuracy_score(y_test, prediction)*100,2)))\n",
        "  f1score = f1_score(y_test, prediction.round(), zero_division=1,average='weighted')\n",
        "  accuracy = accuracy_score(y_test,prediction.round())\n",
        "  # atul_svm=round(accuracy_score(y_test, prediction)*100,2)\n",
        "  return ({'f1score':f1score,'ACCURACY':accuracy})"
      ],
      "execution_count": 0,
      "outputs": []
    },
    {
      "cell_type": "markdown",
      "metadata": {
        "id": "84tmV43m043O",
        "colab_type": "text"
      },
      "source": [
        "### NAIVE BAYES"
      ]
    },
    {
      "cell_type": "code",
      "metadata": {
        "id": "9YaEPQHy02Gu",
        "colab_type": "code",
        "colab": {}
      },
      "source": [
        "def atul_nb(x_train,y_train,x_test,y_test):\n",
        "\n",
        "  pipe = Pipeline([('vect', CountVectorizer()),\n",
        "                 ('tfidf', TfidfTransformer()),\n",
        "                 ('model', MultinomialNB())])\n",
        "  model = pipe.fit(x_train, y_train)\n",
        "  prediction = model.predict(x_test)\n",
        "  print(\"accuracy: {}%\".format(round(accuracy_score(y_test, prediction)*100,2)))\n",
        "  f1score = f1_score(y_test, prediction.round(), zero_division=1,average='weighted')\n",
        "  accuracy = accuracy_score(y_test,prediction.round())\n",
        "  # atul_svm=round(accuracy_score(y_test, prediction)*100,2)\n",
        "  return ({'f1score':f1score,'ACCURACY':accuracy})"
      ],
      "execution_count": 0,
      "outputs": []
    },
    {
      "cell_type": "markdown",
      "metadata": {
        "id": "wq1sxrty1Fk9",
        "colab_type": "text"
      },
      "source": [
        "### XG BOOST"
      ]
    },
    {
      "cell_type": "code",
      "metadata": {
        "id": "gE2TWyGI02zN",
        "colab_type": "code",
        "colab": {}
      },
      "source": [
        "\n",
        "def atul_xgb(x_train,y_train,x_test,y_test):\n",
        "\n",
        "  pipe = Pipeline([('vect', CountVectorizer()),\n",
        "                 ('tfidf', TfidfTransformer()),\n",
        "                 ('model', XGBClassifier(loss = 'deviance',\n",
        "                                                   learning_rate = 0.01,\n",
        "                                                   n_estimators = 10,\n",
        "                                                   max_depth = 5,\n",
        "                                                   random_state=2020))])\n",
        "  model = pipe.fit(x_train, y_train)\n",
        "  prediction = model.predict(x_test)\n",
        "  print(\"accuracy: {}%\".format(round(accuracy_score(y_test, prediction)*100,2)))\n",
        "  f1score = f1_score(y_test, prediction.round(), zero_division=1,average='weighted')\n",
        "  accuracy = accuracy_score(y_test,prediction.round())\n",
        "  # atul_svm=round(accuracy_score(y_test, prediction)*100,2)\n",
        "  return ({'f1score':f1score,'ACCURACY':accuracy})\n"
      ],
      "execution_count": 0,
      "outputs": []
    },
    {
      "cell_type": "markdown",
      "metadata": {
        "id": "9-UEUCBM1iIi",
        "colab_type": "text"
      },
      "source": [
        "### RANDOM FOREST"
      ]
    },
    {
      "cell_type": "code",
      "metadata": {
        "id": "uOWu_Un7025j",
        "colab_type": "code",
        "colab": {}
      },
      "source": [
        "def atul_rf(x_train,y_train,x_test,y_test):\n",
        "\n",
        "  pipe = Pipeline([('vect', CountVectorizer()),\n",
        "                 ('tfidf', TfidfTransformer()),\n",
        "                 ('model', RandomForestClassifier())])\n",
        "  model = pipe.fit(x_train, y_train)\n",
        "  prediction = model.predict(x_test)\n",
        "  print(\"accuracy: {}%\".format(round(accuracy_score(y_test, prediction)*100,2)))\n",
        "  f1score = f1_score(y_test, prediction.round(), zero_division=1,average='weighted')\n",
        "  accuracy = accuracy_score(y_test,prediction.round())\n",
        "  # atul_svm=round(accuracy_score(y_test, prediction)*100,2)\n",
        "  return ({'f1score':f1score,'ACCURACY':accuracy})"
      ],
      "execution_count": 0,
      "outputs": []
    },
    {
      "cell_type": "markdown",
      "metadata": {
        "id": "1E41w1T_1utb",
        "colab_type": "text"
      },
      "source": [
        "### KNN"
      ]
    },
    {
      "cell_type": "code",
      "metadata": {
        "id": "b7vnfASRybwP",
        "colab_type": "code",
        "colab": {}
      },
      "source": [
        "def atul_knn(x_train,y_train,x_test,y_test):\n",
        "\n",
        "  pipe = Pipeline([('vect', CountVectorizer()),\n",
        "                 ('tfidf', TfidfTransformer()),\n",
        "                 ('model', KNeighborsClassifier(n_neighbors = 10,weights = 'distance',algorithm = 'brute'))])\n",
        "  model = pipe.fit(x_train, y_train)\n",
        "  prediction = model.predict(x_test)\n",
        "  print(\"accuracy: {}%\".format(round(accuracy_score(y_test, prediction)*100,2)))\n",
        "  f1score = f1_score(y_test, prediction.round(), zero_division=1,average='weighted')\n",
        "  accuracy = accuracy_score(y_test,prediction.round())\n",
        "  # atul_svm=round(accuracy_score(y_test, prediction)*100,2)\n",
        "  return ({'f1score':f1score,'ACCURACY':accuracy})"
      ],
      "execution_count": 0,
      "outputs": []
    },
    {
      "cell_type": "code",
      "metadata": {
        "id": "QXd9oMmOdoHO",
        "colab_type": "code",
        "outputId": "e0df8429-899e-4ae8-ce56-e98a5d0a3675",
        "colab": {
          "base_uri": "https://localhost:8080/",
          "height": 52
        }
      },
      "source": [
        "atul_svm(x_train,y_train,x_test,y_test)"
      ],
      "execution_count": 0,
      "outputs": [
        {
          "output_type": "stream",
          "text": [
            "accuracy: 90.0%\n"
          ],
          "name": "stdout"
        },
        {
          "output_type": "execute_result",
          "data": {
            "text/plain": [
              "{'ACCURACY': 0.9, 'f1score': 0.8712828702885641}"
            ]
          },
          "metadata": {
            "tags": []
          },
          "execution_count": 234
        }
      ]
    },
    {
      "cell_type": "code",
      "metadata": {
        "id": "OXVGW4jhdpKq",
        "colab_type": "code",
        "outputId": "a03a596d-e323-4d37-c228-a14b0b336fb6",
        "colab": {
          "base_uri": "https://localhost:8080/",
          "height": 52
        }
      },
      "source": [
        "atul_nb(x_train,y_train,x_test,y_test)"
      ],
      "execution_count": 0,
      "outputs": [
        {
          "output_type": "stream",
          "text": [
            "accuracy: 88.05%\n"
          ],
          "name": "stdout"
        },
        {
          "output_type": "execute_result",
          "data": {
            "text/plain": [
              "{'ACCURACY': 0.8805128205128205, 'f1score': 0.8245653192367127}"
            ]
          },
          "metadata": {
            "tags": []
          },
          "execution_count": 235
        }
      ]
    },
    {
      "cell_type": "code",
      "metadata": {
        "id": "42HD0zx1dpSK",
        "colab_type": "code",
        "outputId": "d1402d72-145e-490b-bb14-9cc31cb59526",
        "colab": {
          "base_uri": "https://localhost:8080/",
          "height": 52
        }
      },
      "source": [
        "atul_xgb(x_train,y_train,x_test,y_test)"
      ],
      "execution_count": 0,
      "outputs": [
        {
          "output_type": "stream",
          "text": [
            "accuracy: 90.21%\n"
          ],
          "name": "stdout"
        },
        {
          "output_type": "execute_result",
          "data": {
            "text/plain": [
              "{'ACCURACY': 0.902051282051282, 'f1score': 0.871456927577367}"
            ]
          },
          "metadata": {
            "tags": []
          },
          "execution_count": 236
        }
      ]
    },
    {
      "cell_type": "code",
      "metadata": {
        "id": "kMFv2Yvxdpkq",
        "colab_type": "code",
        "outputId": "2a59284a-1937-4494-ba21-3a62058db765",
        "colab": {
          "base_uri": "https://localhost:8080/",
          "height": 52
        }
      },
      "source": [
        "atul_rf(x_train,y_train,x_test,y_test)"
      ],
      "execution_count": 0,
      "outputs": [
        {
          "output_type": "stream",
          "text": [
            "accuracy: 90.13%\n"
          ],
          "name": "stdout"
        },
        {
          "output_type": "execute_result",
          "data": {
            "text/plain": [
              "{'ACCURACY': 0.9012820512820513, 'f1score': 0.869924297787309}"
            ]
          },
          "metadata": {
            "tags": []
          },
          "execution_count": 237
        }
      ]
    },
    {
      "cell_type": "code",
      "metadata": {
        "id": "M0oFHDVkdptY",
        "colab_type": "code",
        "outputId": "368220a5-500d-4d60-9064-b8a9b7e88c1f",
        "colab": {
          "base_uri": "https://localhost:8080/",
          "height": 52
        }
      },
      "source": [
        "atul_knn(x_train,y_train,x_test,y_test)"
      ],
      "execution_count": 0,
      "outputs": [
        {
          "output_type": "stream",
          "text": [
            "accuracy: 89.0%\n"
          ],
          "name": "stdout"
        },
        {
          "output_type": "execute_result",
          "data": {
            "text/plain": [
              "{'ACCURACY': 0.89, 'f1score': 0.8509191305552327}"
            ]
          },
          "metadata": {
            "tags": []
          },
          "execution_count": 238
        }
      ]
    },
    {
      "cell_type": "code",
      "metadata": {
        "id": "CbmGHUdQnTkD",
        "colab_type": "code",
        "colab": {}
      },
      "source": [
        ""
      ],
      "execution_count": 0,
      "outputs": []
    },
    {
      "cell_type": "markdown",
      "metadata": {
        "id": "ILpxewk6YUSO",
        "colab_type": "text"
      },
      "source": [
        "## **FINAL COMBINED MODEL**"
      ]
    },
    {
      "cell_type": "code",
      "metadata": {
        "id": "ZDdlKYsV1dED",
        "colab_type": "code",
        "colab": {}
      },
      "source": [
        "#def isFakeNews(text,x_train,y_train,x_test,y_test):\n",
        "    # accur = [0.89,0.9012,0.9021,0.88] # using the (normalized) accuracy as weigths\n",
        "    # w = [float(i)/sum(accur) for i in accur]\n",
        "    # print(w)\n",
        "    # sumW = 0\n",
        "    # prob = []\n",
        "    # prob.append(w[0] * atul_xgb(x_train,y_train,x_test,y_test))\n",
        "    # sumW += w[0]\n",
        "    # print(sumW)\n",
        "    # print(prob)\n",
        "    # if ( (headline != \"\") & (party != \"\")):\n",
        "    #     prob.append(w[1] * atul_xgb(x_train,y_train,x_test,y_test))\n",
        "    #     sumW += w[1]\n",
        "    # if (headline != \"\"):\n",
        "    #     prob.append(w[2] * DATAMINERS_getClickbaitScore(headline))\n",
        "    #     sumW += w[2]\n",
        "    # if (headline != \"\"):\n",
        "    #     prob.append(w[3] * DATAMINERS_getSentimentAnalysisScore(headline))\n",
        "    #     sumW += w[3]\n",
        "    # if (headline != \"\"):\n",
        "    #     prob.append(w[4] * DATAMINERS_getLDATopicModellingScore(headline))\n",
        "    #     sumW += w[4]\n",
        "    # if (headline != \"\"):\n",
        "    #     prob.append(w[5] * DATAMINERS_getSensationalismScore(headline))\n",
        "    #     sumW += w[5]\n",
        "    # if (headline != \"\"):\n",
        "    #     prob.append(w[6] * DATAMINERS_getSpamScore(headline))\n",
        "    #     sumW += w[6]\n",
        "    # prob.append(w[7] * DATAMINERS_getBodyLengthScore(len(text)))\n",
        "    # sumW += w[7]\n",
        "    # prob.append(w[8] * DATAMINERS_getWordFrequencyScore(text))\n",
        "    # sumW += w[8]\n",
        "    # if (party != \"\"):\n",
        "    #     prob.append(w[9] * DATAMINERS_getSourceReputationScore(source))\n",
        "    #     sumW += w[9]\n",
        "    \n",
        "#     probTotal = sum(prob[0:len(prob)]) / sumW\n",
        "#     return probTotal\n",
        "    \n",
        "# result = isFakeNews(\"Obama Signs Executive Order Declaring Investigation\")\n",
        "\n",
        "# if result > 0.5:\n",
        "#     print(\"is FAKE NEWS!!!\")\n",
        "# else:\n",
        "#     print(\"it is NOT fake news!!!\")\n",
        "# def fakeness(news):\n",
        "#     sensationalism_factor=Sensationalism(news).predict()\n",
        "#     political_affilication_factor=PoliticalAffilicationDetector(news).predict()\n",
        "#     spam_detection_factor=SpamDetection(news).predict()\n",
        "#     stance_detection_factor=StanceDetection(news).predict()\n",
        "#     spelling_error_factor=SpellChecker(news).predict()\n",
        "#     print('sensationalism_factor:',sensationalism_factor)    \n",
        "#     print('political_affilication_factor:',political_affilication_factor)\n",
        "#     print('spelling_error_factor:',spelling_error_factor)\n",
        "#     print('spam_detection_factor:',spam_detection_factor)\n",
        "#     print('stance_detection_factor:',stance_detection_factor)\n",
        "#     return weighted_percentage(sensationalism_factor,political_affilication_factor,\n",
        "#                        spam_detection_factor,stance_detection_factor,\n",
        "#                        spelling_error_factor)\n",
        "#   def weighted_percentage(,political_affilication_factor,\n",
        "#                        spam_detection_factor,stance_detection_factor,\n",
        "#                        spelling_error_factor):\n",
        "#     sensationalism_weight=.9\n",
        "#     political_affilication_weight=.85\n",
        "#     spam_detection_weight=.65\n",
        "#     stance_detection_weight=.75\n",
        "#     spelling_error_weight=.8\n",
        "#     total_weight=sensationalism_weight+political_affilication_weight+spam_detection_weight+stance_detection_weight+ spelling_error_weight\n",
        "#     return round((((sensationalism_factor*sensationalism_weight)+\n",
        "#             (political_affilication_factor*political_affilication_weight)+\n",
        "#             (spam_detection_factor*spam_detection_weight)+\n",
        "#             (stance_detection_factor*stance_detection_weight)+\n",
        "#             (spelling_error_factor*spelling_error_weight))/total_weight)*100,2)"
      ],
      "execution_count": 0,
      "outputs": []
    },
    {
      "cell_type": "code",
      "metadata": {
        "id": "_r_B9rVh1dBY",
        "colab_type": "code",
        "colab": {}
      },
      "source": [
        ""
      ],
      "execution_count": 0,
      "outputs": []
    },
    {
      "cell_type": "code",
      "metadata": {
        "id": "vHgPjuMs1c_P",
        "colab_type": "code",
        "colab": {}
      },
      "source": [
        ""
      ],
      "execution_count": 0,
      "outputs": []
    },
    {
      "cell_type": "code",
      "metadata": {
        "id": "cVlQ8jXx1c9T",
        "colab_type": "code",
        "colab": {}
      },
      "source": [
        ""
      ],
      "execution_count": 0,
      "outputs": []
    },
    {
      "cell_type": "code",
      "metadata": {
        "id": "O1K1oITB1c6c",
        "colab_type": "code",
        "colab": {}
      },
      "source": [
        ""
      ],
      "execution_count": 0,
      "outputs": []
    },
    {
      "cell_type": "code",
      "metadata": {
        "id": "S12IgFI71c3k",
        "colab_type": "code",
        "colab": {}
      },
      "source": [
        ""
      ],
      "execution_count": 0,
      "outputs": []
    },
    {
      "cell_type": "code",
      "metadata": {
        "id": "58WvxgVd1c0w",
        "colab_type": "code",
        "colab": {}
      },
      "source": [
        ""
      ],
      "execution_count": 0,
      "outputs": []
    },
    {
      "cell_type": "code",
      "metadata": {
        "id": "wvsaMOsN1cyw",
        "colab_type": "code",
        "colab": {}
      },
      "source": [
        ""
      ],
      "execution_count": 0,
      "outputs": []
    },
    {
      "cell_type": "code",
      "metadata": {
        "id": "YcgI9l7J1cvv",
        "colab_type": "code",
        "colab": {}
      },
      "source": [
        ""
      ],
      "execution_count": 0,
      "outputs": []
    },
    {
      "cell_type": "code",
      "metadata": {
        "id": "_7_34SFb1ctd",
        "colab_type": "code",
        "colab": {}
      },
      "source": [
        ""
      ],
      "execution_count": 0,
      "outputs": []
    },
    {
      "cell_type": "code",
      "metadata": {
        "id": "HcWfZoHv1cnK",
        "colab_type": "code",
        "colab": {}
      },
      "source": [
        ""
      ],
      "execution_count": 0,
      "outputs": []
    },
    {
      "cell_type": "code",
      "metadata": {
        "id": "D8TkyOU91clI",
        "colab_type": "code",
        "colab": {}
      },
      "source": [
        ""
      ],
      "execution_count": 0,
      "outputs": []
    },
    {
      "cell_type": "code",
      "metadata": {
        "id": "IA6XpuO11cjG",
        "colab_type": "code",
        "colab": {}
      },
      "source": [
        ""
      ],
      "execution_count": 0,
      "outputs": []
    },
    {
      "cell_type": "code",
      "metadata": {
        "id": "oo-pngUN1chB",
        "colab_type": "code",
        "colab": {}
      },
      "source": [
        ""
      ],
      "execution_count": 0,
      "outputs": []
    },
    {
      "cell_type": "code",
      "metadata": {
        "id": "y5_s1iU31ccc",
        "colab_type": "code",
        "colab": {}
      },
      "source": [
        ""
      ],
      "execution_count": 0,
      "outputs": []
    },
    {
      "cell_type": "code",
      "metadata": {
        "id": "8kknIQt-ybrQ",
        "colab_type": "code",
        "colab": {}
      },
      "source": [
        ""
      ],
      "execution_count": 0,
      "outputs": []
    },
    {
      "cell_type": "code",
      "metadata": {
        "id": "XPus-UE9ybn3",
        "colab_type": "code",
        "colab": {}
      },
      "source": [
        ""
      ],
      "execution_count": 0,
      "outputs": []
    },
    {
      "cell_type": "code",
      "metadata": {
        "id": "uykUHeCFybly",
        "colab_type": "code",
        "colab": {}
      },
      "source": [
        ""
      ],
      "execution_count": 0,
      "outputs": []
    },
    {
      "cell_type": "code",
      "metadata": {
        "id": "kBLCsuGqMLzk",
        "colab_type": "code",
        "colab": {}
      },
      "source": [
        ""
      ],
      "execution_count": 0,
      "outputs": []
    }
  ]
}